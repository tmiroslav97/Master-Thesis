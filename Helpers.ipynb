{
 "cells": [
  {
   "cell_type": "code",
   "execution_count": 1,
   "id": "9fd13d1a-c5a3-487f-8327-598b5bfdeaee",
   "metadata": {},
   "outputs": [],
   "source": [
    "def get_answers_counts(data_subset):\n",
    "    for idx, col in enumerate(data_subset.columns):\n",
    "        print(questions[col]['text'])\n",
    "        print('Count:' + '\\t' + 'Answer:')\n",
    "        val_cnts = data_subset[col].value_counts()\n",
    "        for pos, ind in enumerate(val_cnts.index):\n",
    "            count = val_cnts.values[pos]\n",
    "            if col not in numeric_col:\n",
    "                print(str(count) + '\\t' + questions[col][ind] )\n",
    "            else:\n",
    "                print(str(count) + '\\t' + str(ind))"
   ]
  },
  {
   "cell_type": "code",
   "execution_count": null,
   "id": "a90adfe6-08aa-4e0c-bdf0-7db7df3534e2",
   "metadata": {},
   "outputs": [],
   "source": [
    "def barplot(data, idx, col, title, numeric_cols, questions):\n",
    "    plt.figure(idx)\n",
    "    if col not in numeric_cols:\n",
    "        val_cnts = data[col].value_counts()\n",
    "        text = [questions[col][val] for val in val_cnts.index]\n",
    "        # replace x and y with each other for vertical plot\n",
    "        ax = sns.barplot(y=text, x=val_cnts.values)\n",
    "        ax.set_title(title)\n",
    "        for ind, val in enumerate(val_cnts):\n",
    "            ax.text(val, ind, val, color='black', ha=\"center\")\n",
    "        #for plot vertical plot\n",
    "        #ax.set_xticklabels(ax.get_xticklabels(), rotation=90)\n",
    "    else:\n",
    "        ax = sns.histplot(x=data[col])\n",
    "        ax.set_title(title)\n",
    "        ax.set_xlabel('Age')"
   ]
  },
  {
   "cell_type": "code",
   "execution_count": null,
   "id": "12e5223f-4a7e-4d18-b940-2b85f8b955c3",
   "metadata": {},
   "outputs": [],
   "source": [
    "def perform_mapping(model_data, questions_map):\n",
    "    for index, row in model_data.iterrows():\n",
    "        for col in model_data.columns:\n",
    "            if np.isnan(row[col]) or row[col]==0:\n",
    "                continue\n",
    "            row[col] = questions_map[col][int(row[col])]\n",
    "    return model_data"
   ]
  }
 ],
 "metadata": {
  "kernelspec": {
   "display_name": "Python 3",
   "language": "python",
   "name": "python3"
  },
  "language_info": {
   "codemirror_mode": {
    "name": "ipython",
    "version": 3
   },
   "file_extension": ".py",
   "mimetype": "text/x-python",
   "name": "python",
   "nbconvert_exporter": "python",
   "pygments_lexer": "ipython3",
   "version": "3.7.10"
  }
 },
 "nbformat": 4,
 "nbformat_minor": 5
}
