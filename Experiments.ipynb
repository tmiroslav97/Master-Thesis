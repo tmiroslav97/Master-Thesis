{
 "cells": [
  {
   "cell_type": "markdown",
   "id": "b3fe43c0-6007-46fe-883c-e1fc0a352329",
   "metadata": {
    "tags": []
   },
   "source": [
    "# Dentist Data Aanalysis - Experiments"
   ]
  },
  {
   "cell_type": "code",
   "execution_count": 1,
   "id": "50240ded-a2cd-4a2a-9fd1-6681ee20b90d",
   "metadata": {},
   "outputs": [],
   "source": [
    "# !conda install -y -c anaconda numpy=1.19.2\n",
    "# !conda install -y -c anaconda pandas=1.2.4\n",
    "# !conda install -y -c anaconda openpyxl=3.0.7\n",
    "# !conda install -y -c conda-forge matplotlib=3.4.2\n",
    "# !conda install -y -c anaconda seaborn=0.11.1\n",
    "# !conda install -y -c anaconda scikit-learn=0.24.1\n",
    "# !conda install -y -c conda-forge imbalanced-learn=0.8.0\n",
    "# !conda install -y -c anaconda statsmodels=0.12.2\n",
    "# !conda install -y -c anaconda graphviz=2.40.1\n",
    "# !pip install graphviz\n",
    "\n",
    "import math\n",
    "import numpy as np\n",
    "import pandas as pd\n",
    "import matplotlib.pyplot as plt\n",
    "import seaborn as sns\n",
    "from sklearn.model_selection import train_test_split\n",
    "from sklearn.linear_model import LogisticRegression\n",
    "from sklearn.ensemble import RandomForestClassifier\n",
    "from sklearn.tree import DecisionTreeClassifier\n",
    "from sklearn.preprocessing import StandardScaler, MinMaxScaler\n",
    "from sklearn.pipeline import make_pipeline\n",
    "from sklearn.impute import SimpleImputer\n",
    "from sklearn.metrics import accuracy_score\n",
    "import graphviz\n",
    "from sklearn.tree import export_graphviz\n",
    "from imblearn.over_sampling import RandomOverSampler\n",
    "from imblearn.under_sampling import RandomUnderSampler\n",
    "from imblearn.combine import SMOTEENN\n",
    "from statsmodels.discrete.discrete_model import Logit"
   ]
  },
  {
   "cell_type": "markdown",
   "id": "f8519636-76fa-469b-8f69-55486c1c0920",
   "metadata": {},
   "source": [
    "## Common"
   ]
  },
  {
   "cell_type": "code",
   "execution_count": null,
   "id": "5242074b-822c-4c9c-b536-0b06d6f5c2e5",
   "metadata": {},
   "outputs": [],
   "source": [
    "from google.colab import drive\n",
    "drive.mount('/content/drive')"
   ]
  },
  {
   "cell_type": "code",
   "execution_count": 2,
   "id": "e848776c-0a4d-4756-b7d3-eb50c82d3c78",
   "metadata": {},
   "outputs": [],
   "source": [
    "# DIR = '/content/drive/MyDrive/DentistDataAnalysis/Experiments/'\n",
    "# IMG_DIR = '/content/drive/MyDrive/DentistDataAnalysis/Experiments/images/'\n",
    "DIR = ''\n",
    "IMG_DIR = 'images/'"
   ]
  },
  {
   "cell_type": "code",
   "execution_count": 3,
   "id": "7e4e4b73-10db-4923-8b06-5082c95e829a",
   "metadata": {},
   "outputs": [],
   "source": [
    "%run Mappings.ipynb\n",
    "# %run /content/drive/MyDrive/DentistDataAnalysis/Experiments/Mappings.ipynb"
   ]
  },
  {
   "cell_type": "markdown",
   "id": "7b5e3d50-cfad-41b4-b1a7-21ed219438a6",
   "metadata": {},
   "source": [
    "## Loading dataset"
   ]
  },
  {
   "cell_type": "code",
   "execution_count": 4,
   "id": "ff40a675-3576-44ce-94a6-1daa59395952",
   "metadata": {},
   "outputs": [
    {
     "data": {
      "text/html": [
       "<div>\n",
       "<style scoped>\n",
       "    .dataframe tbody tr th:only-of-type {\n",
       "        vertical-align: middle;\n",
       "    }\n",
       "\n",
       "    .dataframe tbody tr th {\n",
       "        vertical-align: top;\n",
       "    }\n",
       "\n",
       "    .dataframe thead th {\n",
       "        text-align: right;\n",
       "    }\n",
       "</style>\n",
       "<table border=\"1\" class=\"dataframe\">\n",
       "  <thead>\n",
       "    <tr style=\"text-align: right;\">\n",
       "      <th></th>\n",
       "      <th>Que1</th>\n",
       "      <th>Que2</th>\n",
       "      <th>Que3</th>\n",
       "      <th>Que4</th>\n",
       "      <th>Que5</th>\n",
       "      <th>Que6</th>\n",
       "      <th>Que7</th>\n",
       "      <th>Que8</th>\n",
       "      <th>Que9</th>\n",
       "      <th>Que10_a</th>\n",
       "      <th>...</th>\n",
       "      <th>Que27_twin</th>\n",
       "      <th>Que28</th>\n",
       "      <th>Que28_twin</th>\n",
       "      <th>Que29</th>\n",
       "      <th>Que30</th>\n",
       "      <th>Que31</th>\n",
       "      <th>Que32</th>\n",
       "      <th>Que33</th>\n",
       "      <th>Que34</th>\n",
       "      <th>Que35</th>\n",
       "    </tr>\n",
       "  </thead>\n",
       "  <tbody>\n",
       "    <tr>\n",
       "      <th>0</th>\n",
       "      <td>2.0</td>\n",
       "      <td>3.0</td>\n",
       "      <td>2.0</td>\n",
       "      <td>4.0</td>\n",
       "      <td>1.0</td>\n",
       "      <td>NaN</td>\n",
       "      <td>NaN</td>\n",
       "      <td>4.0</td>\n",
       "      <td>6.0</td>\n",
       "      <td>1.0</td>\n",
       "      <td>...</td>\n",
       "      <td>NaN</td>\n",
       "      <td>3.0</td>\n",
       "      <td>NaN</td>\n",
       "      <td>5.0</td>\n",
       "      <td>1.0</td>\n",
       "      <td>1.0</td>\n",
       "      <td>5.0</td>\n",
       "      <td>5.0</td>\n",
       "      <td>6.0</td>\n",
       "      <td>NaN</td>\n",
       "    </tr>\n",
       "    <tr>\n",
       "      <th>1</th>\n",
       "      <td>5.0</td>\n",
       "      <td>5.0</td>\n",
       "      <td>3.0</td>\n",
       "      <td>4.0</td>\n",
       "      <td>3.0</td>\n",
       "      <td>4.0</td>\n",
       "      <td>4.0</td>\n",
       "      <td>2.0</td>\n",
       "      <td>6.0</td>\n",
       "      <td>1.0</td>\n",
       "      <td>...</td>\n",
       "      <td>NaN</td>\n",
       "      <td>3.0</td>\n",
       "      <td>NaN</td>\n",
       "      <td>7.0</td>\n",
       "      <td>4.0</td>\n",
       "      <td>2.0</td>\n",
       "      <td>2.0</td>\n",
       "      <td>5.0</td>\n",
       "      <td>1.0</td>\n",
       "      <td>1.0</td>\n",
       "    </tr>\n",
       "    <tr>\n",
       "      <th>2</th>\n",
       "      <td>4.0</td>\n",
       "      <td>1.0</td>\n",
       "      <td>2.0</td>\n",
       "      <td>6.0</td>\n",
       "      <td>4.0</td>\n",
       "      <td>1.0</td>\n",
       "      <td>NaN</td>\n",
       "      <td>2.0</td>\n",
       "      <td>NaN</td>\n",
       "      <td>NaN</td>\n",
       "      <td>...</td>\n",
       "      <td>NaN</td>\n",
       "      <td>3.0</td>\n",
       "      <td>NaN</td>\n",
       "      <td>7.0</td>\n",
       "      <td>1.0</td>\n",
       "      <td>3.0</td>\n",
       "      <td>3.0</td>\n",
       "      <td>5.0</td>\n",
       "      <td>1.0</td>\n",
       "      <td>3.0</td>\n",
       "    </tr>\n",
       "    <tr>\n",
       "      <th>3</th>\n",
       "      <td>2.0</td>\n",
       "      <td>1.0</td>\n",
       "      <td>2.0</td>\n",
       "      <td>9.0</td>\n",
       "      <td>3.0</td>\n",
       "      <td>1.0</td>\n",
       "      <td>5.0</td>\n",
       "      <td>3.0</td>\n",
       "      <td>4.0</td>\n",
       "      <td>NaN</td>\n",
       "      <td>...</td>\n",
       "      <td>NaN</td>\n",
       "      <td>3.0</td>\n",
       "      <td>NaN</td>\n",
       "      <td>2.0</td>\n",
       "      <td>4.0</td>\n",
       "      <td>NaN</td>\n",
       "      <td>4.0</td>\n",
       "      <td>5.0</td>\n",
       "      <td>4.0</td>\n",
       "      <td>1.0</td>\n",
       "    </tr>\n",
       "    <tr>\n",
       "      <th>4</th>\n",
       "      <td>NaN</td>\n",
       "      <td>3.0</td>\n",
       "      <td>3.0</td>\n",
       "      <td>4.0</td>\n",
       "      <td>NaN</td>\n",
       "      <td>NaN</td>\n",
       "      <td>2.0</td>\n",
       "      <td>2.0</td>\n",
       "      <td>6.0</td>\n",
       "      <td>NaN</td>\n",
       "      <td>...</td>\n",
       "      <td>NaN</td>\n",
       "      <td>3.0</td>\n",
       "      <td>NaN</td>\n",
       "      <td>3.0</td>\n",
       "      <td>1.0</td>\n",
       "      <td>1.0</td>\n",
       "      <td>1.0</td>\n",
       "      <td>1.0</td>\n",
       "      <td>NaN</td>\n",
       "      <td>2.0</td>\n",
       "    </tr>\n",
       "    <tr>\n",
       "      <th>...</th>\n",
       "      <td>...</td>\n",
       "      <td>...</td>\n",
       "      <td>...</td>\n",
       "      <td>...</td>\n",
       "      <td>...</td>\n",
       "      <td>...</td>\n",
       "      <td>...</td>\n",
       "      <td>...</td>\n",
       "      <td>...</td>\n",
       "      <td>...</td>\n",
       "      <td>...</td>\n",
       "      <td>...</td>\n",
       "      <td>...</td>\n",
       "      <td>...</td>\n",
       "      <td>...</td>\n",
       "      <td>...</td>\n",
       "      <td>...</td>\n",
       "      <td>...</td>\n",
       "      <td>...</td>\n",
       "      <td>...</td>\n",
       "      <td>...</td>\n",
       "    </tr>\n",
       "    <tr>\n",
       "      <th>4305</th>\n",
       "      <td>5.0</td>\n",
       "      <td>NaN</td>\n",
       "      <td>1.0</td>\n",
       "      <td>4.0</td>\n",
       "      <td>1.0</td>\n",
       "      <td>6.0</td>\n",
       "      <td>NaN</td>\n",
       "      <td>NaN</td>\n",
       "      <td>NaN</td>\n",
       "      <td>NaN</td>\n",
       "      <td>...</td>\n",
       "      <td>NaN</td>\n",
       "      <td>3.0</td>\n",
       "      <td>NaN</td>\n",
       "      <td>5.0</td>\n",
       "      <td>NaN</td>\n",
       "      <td>NaN</td>\n",
       "      <td>NaN</td>\n",
       "      <td>NaN</td>\n",
       "      <td>2.0</td>\n",
       "      <td>NaN</td>\n",
       "    </tr>\n",
       "    <tr>\n",
       "      <th>4306</th>\n",
       "      <td>4.0</td>\n",
       "      <td>1.0</td>\n",
       "      <td>4.0</td>\n",
       "      <td>9.0</td>\n",
       "      <td>2.0</td>\n",
       "      <td>1.0</td>\n",
       "      <td>2.0</td>\n",
       "      <td>2.0</td>\n",
       "      <td>6.0</td>\n",
       "      <td>1.0</td>\n",
       "      <td>...</td>\n",
       "      <td>NaN</td>\n",
       "      <td>NaN</td>\n",
       "      <td>3.0</td>\n",
       "      <td>6.0</td>\n",
       "      <td>4.0</td>\n",
       "      <td>3.0</td>\n",
       "      <td>5.0</td>\n",
       "      <td>3.0</td>\n",
       "      <td>4.0</td>\n",
       "      <td>1.0</td>\n",
       "    </tr>\n",
       "    <tr>\n",
       "      <th>4307</th>\n",
       "      <td>3.0</td>\n",
       "      <td>5.0</td>\n",
       "      <td>4.0</td>\n",
       "      <td>NaN</td>\n",
       "      <td>1.0</td>\n",
       "      <td>NaN</td>\n",
       "      <td>NaN</td>\n",
       "      <td>2.0</td>\n",
       "      <td>6.0</td>\n",
       "      <td>NaN</td>\n",
       "      <td>...</td>\n",
       "      <td>NaN</td>\n",
       "      <td>3.0</td>\n",
       "      <td>NaN</td>\n",
       "      <td>7.0</td>\n",
       "      <td>3.0</td>\n",
       "      <td>1.0</td>\n",
       "      <td>2.0</td>\n",
       "      <td>NaN</td>\n",
       "      <td>6.0</td>\n",
       "      <td>NaN</td>\n",
       "    </tr>\n",
       "    <tr>\n",
       "      <th>4308</th>\n",
       "      <td>2.0</td>\n",
       "      <td>NaN</td>\n",
       "      <td>NaN</td>\n",
       "      <td>6.0</td>\n",
       "      <td>2.0</td>\n",
       "      <td>NaN</td>\n",
       "      <td>3.0</td>\n",
       "      <td>3.0</td>\n",
       "      <td>2.0</td>\n",
       "      <td>4.0</td>\n",
       "      <td>...</td>\n",
       "      <td>NaN</td>\n",
       "      <td>3.0</td>\n",
       "      <td>NaN</td>\n",
       "      <td>NaN</td>\n",
       "      <td>3.0</td>\n",
       "      <td>3.0</td>\n",
       "      <td>5.0</td>\n",
       "      <td>3.0</td>\n",
       "      <td>1.0</td>\n",
       "      <td>1.0</td>\n",
       "    </tr>\n",
       "    <tr>\n",
       "      <th>4309</th>\n",
       "      <td>2.0</td>\n",
       "      <td>3.0</td>\n",
       "      <td>3.0</td>\n",
       "      <td>4.0</td>\n",
       "      <td>2.0</td>\n",
       "      <td>4.0</td>\n",
       "      <td>2.0</td>\n",
       "      <td>2.0</td>\n",
       "      <td>6.0</td>\n",
       "      <td>3.0</td>\n",
       "      <td>...</td>\n",
       "      <td>NaN</td>\n",
       "      <td>3.0</td>\n",
       "      <td>NaN</td>\n",
       "      <td>5.0</td>\n",
       "      <td>2.0</td>\n",
       "      <td>3.0</td>\n",
       "      <td>3.0</td>\n",
       "      <td>2.0</td>\n",
       "      <td>2.0</td>\n",
       "      <td>3.0</td>\n",
       "    </tr>\n",
       "  </tbody>\n",
       "</table>\n",
       "<p>4310 rows × 43 columns</p>\n",
       "</div>"
      ],
      "text/plain": [
       "      Que1  Que2  Que3  Que4  Que5  Que6  Que7  Que8  Que9  Que10_a  ...  \\\n",
       "0      2.0   3.0   2.0   4.0   1.0   NaN   NaN   4.0   6.0      1.0  ...   \n",
       "1      5.0   5.0   3.0   4.0   3.0   4.0   4.0   2.0   6.0      1.0  ...   \n",
       "2      4.0   1.0   2.0   6.0   4.0   1.0   NaN   2.0   NaN      NaN  ...   \n",
       "3      2.0   1.0   2.0   9.0   3.0   1.0   5.0   3.0   4.0      NaN  ...   \n",
       "4      NaN   3.0   3.0   4.0   NaN   NaN   2.0   2.0   6.0      NaN  ...   \n",
       "...    ...   ...   ...   ...   ...   ...   ...   ...   ...      ...  ...   \n",
       "4305   5.0   NaN   1.0   4.0   1.0   6.0   NaN   NaN   NaN      NaN  ...   \n",
       "4306   4.0   1.0   4.0   9.0   2.0   1.0   2.0   2.0   6.0      1.0  ...   \n",
       "4307   3.0   5.0   4.0   NaN   1.0   NaN   NaN   2.0   6.0      NaN  ...   \n",
       "4308   2.0   NaN   NaN   6.0   2.0   NaN   3.0   3.0   2.0      4.0  ...   \n",
       "4309   2.0   3.0   3.0   4.0   2.0   4.0   2.0   2.0   6.0      3.0  ...   \n",
       "\n",
       "      Que27_twin  Que28  Que28_twin  Que29  Que30  Que31  Que32  Que33  Que34  \\\n",
       "0            NaN    3.0         NaN    5.0    1.0    1.0    5.0    5.0    6.0   \n",
       "1            NaN    3.0         NaN    7.0    4.0    2.0    2.0    5.0    1.0   \n",
       "2            NaN    3.0         NaN    7.0    1.0    3.0    3.0    5.0    1.0   \n",
       "3            NaN    3.0         NaN    2.0    4.0    NaN    4.0    5.0    4.0   \n",
       "4            NaN    3.0         NaN    3.0    1.0    1.0    1.0    1.0    NaN   \n",
       "...          ...    ...         ...    ...    ...    ...    ...    ...    ...   \n",
       "4305         NaN    3.0         NaN    5.0    NaN    NaN    NaN    NaN    2.0   \n",
       "4306         NaN    NaN         3.0    6.0    4.0    3.0    5.0    3.0    4.0   \n",
       "4307         NaN    3.0         NaN    7.0    3.0    1.0    2.0    NaN    6.0   \n",
       "4308         NaN    3.0         NaN    NaN    3.0    3.0    5.0    3.0    1.0   \n",
       "4309         NaN    3.0         NaN    5.0    2.0    3.0    3.0    2.0    2.0   \n",
       "\n",
       "      Que35  \n",
       "0       NaN  \n",
       "1       1.0  \n",
       "2       3.0  \n",
       "3       1.0  \n",
       "4       2.0  \n",
       "...     ...  \n",
       "4305    NaN  \n",
       "4306    1.0  \n",
       "4307    NaN  \n",
       "4308    1.0  \n",
       "4309    3.0  \n",
       "\n",
       "[4310 rows x 43 columns]"
      ]
     },
     "execution_count": 4,
     "metadata": {},
     "output_type": "execute_result"
    }
   ],
   "source": [
    "data = pd.read_excel(DIR+'dataset/TusekI_DataSet_Pregnangcy.xlsx', usecols=source_columns_SR, engine='openpyxl')\n",
    "data.columns = source_columns_EN\n",
    "data"
   ]
  },
  {
   "cell_type": "code",
   "execution_count": 5,
   "id": "bbcb1a32-fa3d-41a4-9f68-05a2828729be",
   "metadata": {},
   "outputs": [
    {
     "name": "stdout",
     "output_type": "stream",
     "text": [
      "<class 'pandas.core.frame.DataFrame'>\n",
      "RangeIndex: 4310 entries, 0 to 4309\n",
      "Data columns (total 43 columns):\n",
      " #   Column      Non-Null Count  Dtype  \n",
      "---  ------      --------------  -----  \n",
      " 0   Que1        3940 non-null   float64\n",
      " 1   Que2        3891 non-null   float64\n",
      " 2   Que3        3778 non-null   float64\n",
      " 3   Que4        3885 non-null   float64\n",
      " 4   Que5        3762 non-null   float64\n",
      " 5   Que6        2462 non-null   float64\n",
      " 6   Que7        2834 non-null   float64\n",
      " 7   Que8        3718 non-null   float64\n",
      " 8   Que9        2979 non-null   float64\n",
      " 9   Que10_a     3874 non-null   float64\n",
      " 10  Que10_b     3783 non-null   float64\n",
      " 11  Que10_c     3708 non-null   float64\n",
      " 12  Que10_d     3678 non-null   float64\n",
      " 13  Que10_e     3821 non-null   float64\n",
      " 14  Que10_f     3776 non-null   float64\n",
      " 15  Que11       3857 non-null   float64\n",
      " 16  Que12       3799 non-null   float64\n",
      " 17  Que13       3843 non-null   float64\n",
      " 18  Que14       3776 non-null   float64\n",
      " 19  Que15       3849 non-null   float64\n",
      " 20  Que16       3845 non-null   float64\n",
      " 21  Que17       3649 non-null   float64\n",
      " 22  Que18_age   3852 non-null   float64\n",
      " 23  Que19       3839 non-null   float64\n",
      " 24  Que20       3695 non-null   float64\n",
      " 25  Que21       3829 non-null   float64\n",
      " 26  Que22       3840 non-null   float64\n",
      " 27  Que23       3789 non-null   float64\n",
      " 28  Que24       3728 non-null   float64\n",
      " 29  Que25       3526 non-null   float64\n",
      " 30  Que25_twin  109 non-null    float64\n",
      " 31  Que26       3684 non-null   float64\n",
      " 32  Que27       2845 non-null   float64\n",
      " 33  Que27_twin  183 non-null    float64\n",
      " 34  Que28       3286 non-null   float64\n",
      " 35  Que28_twin  320 non-null    float64\n",
      " 36  Que29       3821 non-null   float64\n",
      " 37  Que30       3810 non-null   float64\n",
      " 38  Que31       3683 non-null   float64\n",
      " 39  Que32       3765 non-null   float64\n",
      " 40  Que33       3714 non-null   float64\n",
      " 41  Que34       3762 non-null   float64\n",
      " 42  Que35       3683 non-null   float64\n",
      "dtypes: float64(43)\n",
      "memory usage: 1.4 MB\n"
     ]
    }
   ],
   "source": [
    "data.info()"
   ]
  },
  {
   "cell_type": "code",
   "execution_count": 6,
   "id": "ee917105-cdb6-4025-8bad-bc00c3086c6e",
   "metadata": {},
   "outputs": [
    {
     "data": {
      "text/html": [
       "<div>\n",
       "<style scoped>\n",
       "    .dataframe tbody tr th:only-of-type {\n",
       "        vertical-align: middle;\n",
       "    }\n",
       "\n",
       "    .dataframe tbody tr th {\n",
       "        vertical-align: top;\n",
       "    }\n",
       "\n",
       "    .dataframe thead th {\n",
       "        text-align: right;\n",
       "    }\n",
       "</style>\n",
       "<table border=\"1\" class=\"dataframe\">\n",
       "  <thead>\n",
       "    <tr style=\"text-align: right;\">\n",
       "      <th></th>\n",
       "      <th>Que1</th>\n",
       "      <th>Que2</th>\n",
       "      <th>Que3</th>\n",
       "      <th>Que4</th>\n",
       "      <th>Que5</th>\n",
       "      <th>Que6</th>\n",
       "      <th>Que7</th>\n",
       "      <th>Que8</th>\n",
       "      <th>Que9</th>\n",
       "      <th>Que10_a</th>\n",
       "      <th>...</th>\n",
       "      <th>Que27_twin</th>\n",
       "      <th>Que28</th>\n",
       "      <th>Que28_twin</th>\n",
       "      <th>Que29</th>\n",
       "      <th>Que30</th>\n",
       "      <th>Que31</th>\n",
       "      <th>Que32</th>\n",
       "      <th>Que33</th>\n",
       "      <th>Que34</th>\n",
       "      <th>Que35</th>\n",
       "    </tr>\n",
       "  </thead>\n",
       "  <tbody>\n",
       "    <tr>\n",
       "      <th>count</th>\n",
       "      <td>3940.000000</td>\n",
       "      <td>3891.000000</td>\n",
       "      <td>3778.000000</td>\n",
       "      <td>3885.000000</td>\n",
       "      <td>3762.000000</td>\n",
       "      <td>2462.000000</td>\n",
       "      <td>2834.000000</td>\n",
       "      <td>3718.000000</td>\n",
       "      <td>2979.000000</td>\n",
       "      <td>3874.000000</td>\n",
       "      <td>...</td>\n",
       "      <td>183.000000</td>\n",
       "      <td>3286.000000</td>\n",
       "      <td>320.000000</td>\n",
       "      <td>3821.000000</td>\n",
       "      <td>3810.000000</td>\n",
       "      <td>3683.000000</td>\n",
       "      <td>3765.000000</td>\n",
       "      <td>3714.000000</td>\n",
       "      <td>3762.000000</td>\n",
       "      <td>3683.000000</td>\n",
       "    </tr>\n",
       "    <tr>\n",
       "      <th>mean</th>\n",
       "      <td>3.039594</td>\n",
       "      <td>3.245695</td>\n",
       "      <td>2.751191</td>\n",
       "      <td>5.271300</td>\n",
       "      <td>2.293993</td>\n",
       "      <td>2.625914</td>\n",
       "      <td>3.623147</td>\n",
       "      <td>2.136633</td>\n",
       "      <td>5.012085</td>\n",
       "      <td>1.320599</td>\n",
       "      <td>...</td>\n",
       "      <td>1.885246</td>\n",
       "      <td>2.898052</td>\n",
       "      <td>2.784375</td>\n",
       "      <td>4.198377</td>\n",
       "      <td>2.624409</td>\n",
       "      <td>2.269346</td>\n",
       "      <td>3.512085</td>\n",
       "      <td>3.476575</td>\n",
       "      <td>3.348485</td>\n",
       "      <td>1.892207</td>\n",
       "    </tr>\n",
       "    <tr>\n",
       "      <th>std</th>\n",
       "      <td>1.213220</td>\n",
       "      <td>1.510470</td>\n",
       "      <td>0.823940</td>\n",
       "      <td>2.393136</td>\n",
       "      <td>1.161837</td>\n",
       "      <td>1.853258</td>\n",
       "      <td>1.728432</td>\n",
       "      <td>0.646713</td>\n",
       "      <td>1.806782</td>\n",
       "      <td>0.566701</td>\n",
       "      <td>...</td>\n",
       "      <td>0.933474</td>\n",
       "      <td>0.357076</td>\n",
       "      <td>0.525589</td>\n",
       "      <td>1.850543</td>\n",
       "      <td>1.393788</td>\n",
       "      <td>0.747767</td>\n",
       "      <td>1.221563</td>\n",
       "      <td>1.454255</td>\n",
       "      <td>2.042498</td>\n",
       "      <td>0.898760</td>\n",
       "    </tr>\n",
       "    <tr>\n",
       "      <th>min</th>\n",
       "      <td>1.000000</td>\n",
       "      <td>1.000000</td>\n",
       "      <td>1.000000</td>\n",
       "      <td>1.000000</td>\n",
       "      <td>1.000000</td>\n",
       "      <td>1.000000</td>\n",
       "      <td>1.000000</td>\n",
       "      <td>1.000000</td>\n",
       "      <td>1.000000</td>\n",
       "      <td>1.000000</td>\n",
       "      <td>...</td>\n",
       "      <td>1.000000</td>\n",
       "      <td>1.000000</td>\n",
       "      <td>1.000000</td>\n",
       "      <td>1.000000</td>\n",
       "      <td>1.000000</td>\n",
       "      <td>1.000000</td>\n",
       "      <td>1.000000</td>\n",
       "      <td>1.000000</td>\n",
       "      <td>1.000000</td>\n",
       "      <td>1.000000</td>\n",
       "    </tr>\n",
       "    <tr>\n",
       "      <th>25%</th>\n",
       "      <td>2.000000</td>\n",
       "      <td>2.000000</td>\n",
       "      <td>2.000000</td>\n",
       "      <td>4.000000</td>\n",
       "      <td>1.000000</td>\n",
       "      <td>1.000000</td>\n",
       "      <td>2.000000</td>\n",
       "      <td>2.000000</td>\n",
       "      <td>4.000000</td>\n",
       "      <td>1.000000</td>\n",
       "      <td>...</td>\n",
       "      <td>1.000000</td>\n",
       "      <td>3.000000</td>\n",
       "      <td>3.000000</td>\n",
       "      <td>2.000000</td>\n",
       "      <td>1.000000</td>\n",
       "      <td>2.000000</td>\n",
       "      <td>3.000000</td>\n",
       "      <td>2.000000</td>\n",
       "      <td>1.000000</td>\n",
       "      <td>1.000000</td>\n",
       "    </tr>\n",
       "    <tr>\n",
       "      <th>50%</th>\n",
       "      <td>2.000000</td>\n",
       "      <td>3.000000</td>\n",
       "      <td>3.000000</td>\n",
       "      <td>4.000000</td>\n",
       "      <td>2.000000</td>\n",
       "      <td>1.000000</td>\n",
       "      <td>4.000000</td>\n",
       "      <td>2.000000</td>\n",
       "      <td>6.000000</td>\n",
       "      <td>1.000000</td>\n",
       "      <td>...</td>\n",
       "      <td>2.000000</td>\n",
       "      <td>3.000000</td>\n",
       "      <td>3.000000</td>\n",
       "      <td>5.000000</td>\n",
       "      <td>3.000000</td>\n",
       "      <td>2.000000</td>\n",
       "      <td>3.000000</td>\n",
       "      <td>4.000000</td>\n",
       "      <td>4.000000</td>\n",
       "      <td>2.000000</td>\n",
       "    </tr>\n",
       "    <tr>\n",
       "      <th>75%</th>\n",
       "      <td>4.000000</td>\n",
       "      <td>5.000000</td>\n",
       "      <td>3.000000</td>\n",
       "      <td>6.000000</td>\n",
       "      <td>3.000000</td>\n",
       "      <td>4.000000</td>\n",
       "      <td>5.000000</td>\n",
       "      <td>2.000000</td>\n",
       "      <td>6.000000</td>\n",
       "      <td>2.000000</td>\n",
       "      <td>...</td>\n",
       "      <td>2.000000</td>\n",
       "      <td>3.000000</td>\n",
       "      <td>3.000000</td>\n",
       "      <td>6.000000</td>\n",
       "      <td>4.000000</td>\n",
       "      <td>3.000000</td>\n",
       "      <td>5.000000</td>\n",
       "      <td>5.000000</td>\n",
       "      <td>6.000000</td>\n",
       "      <td>3.000000</td>\n",
       "    </tr>\n",
       "    <tr>\n",
       "      <th>max</th>\n",
       "      <td>5.000000</td>\n",
       "      <td>6.000000</td>\n",
       "      <td>4.000000</td>\n",
       "      <td>11.000000</td>\n",
       "      <td>4.000000</td>\n",
       "      <td>6.000000</td>\n",
       "      <td>10.000000</td>\n",
       "      <td>4.000000</td>\n",
       "      <td>8.000000</td>\n",
       "      <td>4.000000</td>\n",
       "      <td>...</td>\n",
       "      <td>5.000000</td>\n",
       "      <td>3.000000</td>\n",
       "      <td>3.000000</td>\n",
       "      <td>7.000000</td>\n",
       "      <td>5.000000</td>\n",
       "      <td>3.000000</td>\n",
       "      <td>5.000000</td>\n",
       "      <td>5.000000</td>\n",
       "      <td>6.000000</td>\n",
       "      <td>3.000000</td>\n",
       "    </tr>\n",
       "  </tbody>\n",
       "</table>\n",
       "<p>8 rows × 43 columns</p>\n",
       "</div>"
      ],
      "text/plain": [
       "              Que1         Que2         Que3         Que4         Que5  \\\n",
       "count  3940.000000  3891.000000  3778.000000  3885.000000  3762.000000   \n",
       "mean      3.039594     3.245695     2.751191     5.271300     2.293993   \n",
       "std       1.213220     1.510470     0.823940     2.393136     1.161837   \n",
       "min       1.000000     1.000000     1.000000     1.000000     1.000000   \n",
       "25%       2.000000     2.000000     2.000000     4.000000     1.000000   \n",
       "50%       2.000000     3.000000     3.000000     4.000000     2.000000   \n",
       "75%       4.000000     5.000000     3.000000     6.000000     3.000000   \n",
       "max       5.000000     6.000000     4.000000    11.000000     4.000000   \n",
       "\n",
       "              Que6         Que7         Que8         Que9      Que10_a  ...  \\\n",
       "count  2462.000000  2834.000000  3718.000000  2979.000000  3874.000000  ...   \n",
       "mean      2.625914     3.623147     2.136633     5.012085     1.320599  ...   \n",
       "std       1.853258     1.728432     0.646713     1.806782     0.566701  ...   \n",
       "min       1.000000     1.000000     1.000000     1.000000     1.000000  ...   \n",
       "25%       1.000000     2.000000     2.000000     4.000000     1.000000  ...   \n",
       "50%       1.000000     4.000000     2.000000     6.000000     1.000000  ...   \n",
       "75%       4.000000     5.000000     2.000000     6.000000     2.000000  ...   \n",
       "max       6.000000    10.000000     4.000000     8.000000     4.000000  ...   \n",
       "\n",
       "       Que27_twin        Que28  Que28_twin        Que29        Que30  \\\n",
       "count  183.000000  3286.000000  320.000000  3821.000000  3810.000000   \n",
       "mean     1.885246     2.898052    2.784375     4.198377     2.624409   \n",
       "std      0.933474     0.357076    0.525589     1.850543     1.393788   \n",
       "min      1.000000     1.000000    1.000000     1.000000     1.000000   \n",
       "25%      1.000000     3.000000    3.000000     2.000000     1.000000   \n",
       "50%      2.000000     3.000000    3.000000     5.000000     3.000000   \n",
       "75%      2.000000     3.000000    3.000000     6.000000     4.000000   \n",
       "max      5.000000     3.000000    3.000000     7.000000     5.000000   \n",
       "\n",
       "             Que31        Que32        Que33        Que34        Que35  \n",
       "count  3683.000000  3765.000000  3714.000000  3762.000000  3683.000000  \n",
       "mean      2.269346     3.512085     3.476575     3.348485     1.892207  \n",
       "std       0.747767     1.221563     1.454255     2.042498     0.898760  \n",
       "min       1.000000     1.000000     1.000000     1.000000     1.000000  \n",
       "25%       2.000000     3.000000     2.000000     1.000000     1.000000  \n",
       "50%       2.000000     3.000000     4.000000     4.000000     2.000000  \n",
       "75%       3.000000     5.000000     5.000000     6.000000     3.000000  \n",
       "max       3.000000     5.000000     5.000000     6.000000     3.000000  \n",
       "\n",
       "[8 rows x 43 columns]"
      ]
     },
     "execution_count": 6,
     "metadata": {},
     "output_type": "execute_result"
    }
   ],
   "source": [
    "data.describe()"
   ]
  },
  {
   "cell_type": "markdown",
   "id": "a17068f4-2a1b-4d4e-8151-5bd82b6eff60",
   "metadata": {},
   "source": [
    "### Getting variables"
   ]
  },
  {
   "cell_type": "code",
   "execution_count": 7,
   "id": "2c2d55c2-96d2-4ed0-b9cb-8422657e1b62",
   "metadata": {},
   "outputs": [],
   "source": [
    "# Execute for SR version\n",
    "# Target question 16\n",
    "def get_var_SR():\n",
    "    cols = ['Pit3', 'Pit6', 'Pit11', 'Pit12', 'Pit13', 'Pit16', 'Pit18_starost', 'Pit19', 'Pit20', 'Pit22']\n",
    "    questions = questions_SR\n",
    "    questions_map = questions_map_SR\n",
    "    numeric_col = ['Pit18_starost']\n",
    "    data_subset = data[cols]\n",
    "    #for col in cols:\n",
    "        #print(questions_SR[col]['text'])\n",
    "    # print('CILJNA PROMJENLJIVA')\n",
    "    # print(questions_SR['Pit16']['text'])\n",
    "    return data_subset, questions, numeric_col, questions_map, cols"
   ]
  },
  {
   "cell_type": "code",
   "execution_count": 8,
   "id": "e6d6e93b-621c-40f8-9741-5933512e4eb4",
   "metadata": {},
   "outputs": [
    {
     "name": "stdout",
     "output_type": "stream",
     "text": [
      "Que3\n",
      "How long did you brush your teeth during pregnancy?\n",
      "Que6\n",
      "What was the most important reason you visited your dentist during your pregnancy?\n",
      "Que11\n",
      "Did you smoke in the first three months of pregnancy (first trimester)?\n",
      "Que12\n",
      "Did you smoke during the three months of pregnancy (second trimester)?\n",
      "Que13\n",
      "Have you smoked in the last three months of pregnancy (third trimester)?\n",
      "Que16\n",
      "How many teeth are you missing?\n",
      "Que18_age\n",
      "How old are you (fill in the box in front of the year)?\n",
      "Que19\n",
      "What is the school with the highest level you have graduated from?\n",
      "Que20\n",
      "What is your marital status?\n",
      "Que22\n",
      "How do you assess your financial situation?\n",
      "TARGET VARIABLE\n",
      "How many teeth are you missing?\n"
     ]
    }
   ],
   "source": [
    "# Execute for EN version (SR version must be executed before)\n",
    "# Target question 16\n",
    "def get_var_EN():\n",
    "    # cols = [column_SR_to_EN[c] for c in cols]\n",
    "    cols = ['Que3', 'Que6', 'Que11', 'Que12', 'Que13', 'Que16', 'Que18_age', 'Que19', 'Que20', 'Que22']\n",
    "    questions = questions_EN\n",
    "    questions_map = questions_map_EN\n",
    "    numeric_col = ['Que18_age']\n",
    "    # original columns were written in Serbian\n",
    "    for col in cols:\n",
    "        print(col)\n",
    "        print(questions_EN[col]['text'])\n",
    "    print('TARGET VARIABLE')\n",
    "    print(questions_EN['Que16']['text'])\n",
    "    data_subset = data[cols]\n",
    "    return data_subset, questions, numeric_col, questions_map, cols\n",
    "\n",
    "data_subset, questions, numeric_col, questions_map, cols = get_var_EN()"
   ]
  },
  {
   "cell_type": "code",
   "execution_count": 9,
   "id": "b6a86bf0-49ab-4e39-8fa4-6dddcec1d260",
   "metadata": {},
   "outputs": [
    {
     "data": {
      "text/html": [
       "<div>\n",
       "<style scoped>\n",
       "    .dataframe tbody tr th:only-of-type {\n",
       "        vertical-align: middle;\n",
       "    }\n",
       "\n",
       "    .dataframe tbody tr th {\n",
       "        vertical-align: top;\n",
       "    }\n",
       "\n",
       "    .dataframe thead th {\n",
       "        text-align: right;\n",
       "    }\n",
       "</style>\n",
       "<table border=\"1\" class=\"dataframe\">\n",
       "  <thead>\n",
       "    <tr style=\"text-align: right;\">\n",
       "      <th></th>\n",
       "      <th>Que3</th>\n",
       "      <th>Que6</th>\n",
       "      <th>Que11</th>\n",
       "      <th>Que12</th>\n",
       "      <th>Que13</th>\n",
       "      <th>Que16</th>\n",
       "      <th>Que18_age</th>\n",
       "      <th>Que19</th>\n",
       "      <th>Que20</th>\n",
       "      <th>Que22</th>\n",
       "    </tr>\n",
       "  </thead>\n",
       "  <tbody>\n",
       "    <tr>\n",
       "      <th>0</th>\n",
       "      <td>2.0</td>\n",
       "      <td>NaN</td>\n",
       "      <td>2.0</td>\n",
       "      <td>2.0</td>\n",
       "      <td>2.0</td>\n",
       "      <td>NaN</td>\n",
       "      <td>NaN</td>\n",
       "      <td>4.0</td>\n",
       "      <td>2.0</td>\n",
       "      <td>NaN</td>\n",
       "    </tr>\n",
       "    <tr>\n",
       "      <th>1</th>\n",
       "      <td>3.0</td>\n",
       "      <td>4.0</td>\n",
       "      <td>1.0</td>\n",
       "      <td>2.0</td>\n",
       "      <td>2.0</td>\n",
       "      <td>2.0</td>\n",
       "      <td>NaN</td>\n",
       "      <td>2.0</td>\n",
       "      <td>2.0</td>\n",
       "      <td>2.0</td>\n",
       "    </tr>\n",
       "    <tr>\n",
       "      <th>2</th>\n",
       "      <td>2.0</td>\n",
       "      <td>1.0</td>\n",
       "      <td>NaN</td>\n",
       "      <td>NaN</td>\n",
       "      <td>NaN</td>\n",
       "      <td>NaN</td>\n",
       "      <td>NaN</td>\n",
       "      <td>NaN</td>\n",
       "      <td>2.0</td>\n",
       "      <td>2.0</td>\n",
       "    </tr>\n",
       "    <tr>\n",
       "      <th>3</th>\n",
       "      <td>2.0</td>\n",
       "      <td>1.0</td>\n",
       "      <td>NaN</td>\n",
       "      <td>NaN</td>\n",
       "      <td>NaN</td>\n",
       "      <td>NaN</td>\n",
       "      <td>NaN</td>\n",
       "      <td>NaN</td>\n",
       "      <td>2.0</td>\n",
       "      <td>5.0</td>\n",
       "    </tr>\n",
       "    <tr>\n",
       "      <th>4</th>\n",
       "      <td>3.0</td>\n",
       "      <td>NaN</td>\n",
       "      <td>3.0</td>\n",
       "      <td>3.0</td>\n",
       "      <td>3.0</td>\n",
       "      <td>1.0</td>\n",
       "      <td>NaN</td>\n",
       "      <td>2.0</td>\n",
       "      <td>2.0</td>\n",
       "      <td>2.0</td>\n",
       "    </tr>\n",
       "    <tr>\n",
       "      <th>...</th>\n",
       "      <td>...</td>\n",
       "      <td>...</td>\n",
       "      <td>...</td>\n",
       "      <td>...</td>\n",
       "      <td>...</td>\n",
       "      <td>...</td>\n",
       "      <td>...</td>\n",
       "      <td>...</td>\n",
       "      <td>...</td>\n",
       "      <td>...</td>\n",
       "    </tr>\n",
       "    <tr>\n",
       "      <th>4305</th>\n",
       "      <td>1.0</td>\n",
       "      <td>6.0</td>\n",
       "      <td>NaN</td>\n",
       "      <td>NaN</td>\n",
       "      <td>NaN</td>\n",
       "      <td>NaN</td>\n",
       "      <td>45.0</td>\n",
       "      <td>NaN</td>\n",
       "      <td>NaN</td>\n",
       "      <td>3.0</td>\n",
       "    </tr>\n",
       "    <tr>\n",
       "      <th>4306</th>\n",
       "      <td>4.0</td>\n",
       "      <td>1.0</td>\n",
       "      <td>3.0</td>\n",
       "      <td>3.0</td>\n",
       "      <td>3.0</td>\n",
       "      <td>4.0</td>\n",
       "      <td>45.0</td>\n",
       "      <td>4.0</td>\n",
       "      <td>2.0</td>\n",
       "      <td>5.0</td>\n",
       "    </tr>\n",
       "    <tr>\n",
       "      <th>4307</th>\n",
       "      <td>4.0</td>\n",
       "      <td>NaN</td>\n",
       "      <td>NaN</td>\n",
       "      <td>NaN</td>\n",
       "      <td>NaN</td>\n",
       "      <td>NaN</td>\n",
       "      <td>46.0</td>\n",
       "      <td>3.0</td>\n",
       "      <td>NaN</td>\n",
       "      <td>NaN</td>\n",
       "    </tr>\n",
       "    <tr>\n",
       "      <th>4308</th>\n",
       "      <td>NaN</td>\n",
       "      <td>NaN</td>\n",
       "      <td>NaN</td>\n",
       "      <td>3.0</td>\n",
       "      <td>3.0</td>\n",
       "      <td>NaN</td>\n",
       "      <td>46.0</td>\n",
       "      <td>NaN</td>\n",
       "      <td>1.0</td>\n",
       "      <td>NaN</td>\n",
       "    </tr>\n",
       "    <tr>\n",
       "      <th>4309</th>\n",
       "      <td>3.0</td>\n",
       "      <td>4.0</td>\n",
       "      <td>3.0</td>\n",
       "      <td>3.0</td>\n",
       "      <td>3.0</td>\n",
       "      <td>4.0</td>\n",
       "      <td>48.0</td>\n",
       "      <td>2.0</td>\n",
       "      <td>2.0</td>\n",
       "      <td>5.0</td>\n",
       "    </tr>\n",
       "  </tbody>\n",
       "</table>\n",
       "<p>4310 rows × 10 columns</p>\n",
       "</div>"
      ],
      "text/plain": [
       "      Que3  Que6  Que11  Que12  Que13  Que16  Que18_age  Que19  Que20  Que22\n",
       "0      2.0   NaN    2.0    2.0    2.0    NaN        NaN    4.0    2.0    NaN\n",
       "1      3.0   4.0    1.0    2.0    2.0    2.0        NaN    2.0    2.0    2.0\n",
       "2      2.0   1.0    NaN    NaN    NaN    NaN        NaN    NaN    2.0    2.0\n",
       "3      2.0   1.0    NaN    NaN    NaN    NaN        NaN    NaN    2.0    5.0\n",
       "4      3.0   NaN    3.0    3.0    3.0    1.0        NaN    2.0    2.0    2.0\n",
       "...    ...   ...    ...    ...    ...    ...        ...    ...    ...    ...\n",
       "4305   1.0   6.0    NaN    NaN    NaN    NaN       45.0    NaN    NaN    3.0\n",
       "4306   4.0   1.0    3.0    3.0    3.0    4.0       45.0    4.0    2.0    5.0\n",
       "4307   4.0   NaN    NaN    NaN    NaN    NaN       46.0    3.0    NaN    NaN\n",
       "4308   NaN   NaN    NaN    3.0    3.0    NaN       46.0    NaN    1.0    NaN\n",
       "4309   3.0   4.0    3.0    3.0    3.0    4.0       48.0    2.0    2.0    5.0\n",
       "\n",
       "[4310 rows x 10 columns]"
      ]
     },
     "execution_count": 9,
     "metadata": {},
     "output_type": "execute_result"
    }
   ],
   "source": [
    "data_subset"
   ]
  },
  {
   "cell_type": "markdown",
   "id": "eb20742f-197f-459f-acfe-d3106747e4c0",
   "metadata": {},
   "source": [
    "## Missing values"
   ]
  },
  {
   "cell_type": "code",
   "execution_count": 10,
   "id": "8c43e1c6-40cd-4ded-94b1-0a021232f4be",
   "metadata": {},
   "outputs": [
    {
     "name": "stdout",
     "output_type": "stream",
     "text": [
      "<class 'pandas.core.frame.DataFrame'>\n",
      "RangeIndex: 4310 entries, 0 to 4309\n",
      "Data columns (total 10 columns):\n",
      " #   Column     Non-Null Count  Dtype  \n",
      "---  ------     --------------  -----  \n",
      " 0   Que3       3778 non-null   float64\n",
      " 1   Que6       2462 non-null   float64\n",
      " 2   Que11      3857 non-null   float64\n",
      " 3   Que12      3799 non-null   float64\n",
      " 4   Que13      3843 non-null   float64\n",
      " 5   Que16      3845 non-null   float64\n",
      " 6   Que18_age  3852 non-null   float64\n",
      " 7   Que19      3839 non-null   float64\n",
      " 8   Que20      3695 non-null   float64\n",
      " 9   Que22      3840 non-null   float64\n",
      "dtypes: float64(10)\n",
      "memory usage: 336.8 KB\n"
     ]
    }
   ],
   "source": [
    "data_subset.info()"
   ]
  },
  {
   "cell_type": "markdown",
   "id": "fdfa3bff-de64-4841-b660-b8547567589a",
   "metadata": {},
   "source": [
    "### Plot"
   ]
  },
  {
   "cell_type": "code",
   "execution_count": 11,
   "id": "d2e59f7d-dbef-4d38-9e8e-f2d9dc2996ad",
   "metadata": {},
   "outputs": [],
   "source": [
    "def get_answers_counts(data_subset):\n",
    "    for idx, col in enumerate(data_subset.columns):\n",
    "        print(questions[col]['text'])\n",
    "        print('Count:' + '\\t' + 'Answer:')\n",
    "        val_cnts = data_subset[col].value_counts()\n",
    "        for pos, ind in enumerate(val_cnts.index):\n",
    "            count = val_cnts.values[pos]\n",
    "            if col not in numeric_col:\n",
    "                print(str(count) + '\\t' + questions[col][ind] )\n",
    "            else:\n",
    "                print(str(count) + '\\t' + str(ind))"
   ]
  },
  {
   "cell_type": "code",
   "execution_count": 12,
   "id": "ca41b63f-f125-4f43-8016-1c3baf2b24bb",
   "metadata": {},
   "outputs": [
    {
     "data": {
      "image/png": "[encoded data removed]",
      "text/plain": [
       "<Figure size 432x288 with 1 Axes>"
      ]
     },
     "metadata": {
      "needs_background": "light"
     },
     "output_type": "display_data"
    },
    {
     "data": {
      "image/png": "[encoded data removed]",
      "text/plain": [
       "<Figure size 432x288 with 1 Axes>"
      ]
     },
     "metadata": {
      "needs_background": "light"
     },
     "output_type": "display_data"
    },
    {
     "data": {
      "image/png": "[encoded data removed]",
      "text/plain": [
       "<Figure size 432x288 with 1 Axes>"
      ]
     },
     "metadata": {
      "needs_background": "light"
     },
     "output_type": "display_data"
    },
    {
     "data": {
      "image/png": "[encoded data removed]",
      "text/plain": [
       "<Figure size 432x288 with 1 Axes>"
      ]
     },
     "metadata": {
      "needs_background": "light"
     },
     "output_type": "display_data"
    },
    {
     "data": {
      "image/png": "[encoded data removed]",
      "text/plain": [
       "<Figure size 432x288 with 1 Axes>"
      ]
     },
     "metadata": {
      "needs_background": "light"
     },
     "output_type": "display_data"
    },
    {
     "data": {
      "image/png": "[encoded data removed]",
      "text/plain": [
       "<Figure size 432x288 with 1 Axes>"
      ]
     },
     "metadata": {
      "needs_background": "light"
     },
     "output_type": "display_data"
    },
    {
     "data": {
      "image/png": "[encoded data removed]",
      "text/plain": [
       "<Figure size 432x288 with 1 Axes>"
      ]
     },
     "metadata": {
      "needs_background": "light"
     },
     "output_type": "display_data"
    },
    {
     "data": {
      "image/png": "[encoded data removed]",
      "text/plain": [
       "<Figure size 432x288 with 1 Axes>"
      ]
     },
     "metadata": {
      "needs_background": "light"
     },
     "output_type": "display_data"
    },
    {
     "data": {
      "image/png": "[encoded data removed]",
      "text/plain": [
       "<Figure size 432x288 with 1 Axes>"
      ]
     },
     "metadata": {
      "needs_background": "light"
     },
     "output_type": "display_data"
    },
    {
     "data": {
      "image/png": "[encoded data removed]",
      "text/plain": [
       "<Figure size 432x288 with 1 Axes>"
      ]
     },
     "metadata": {
      "needs_background": "light"
     },
     "output_type": "display_data"
    }
   ],
   "source": [
    "def barplot(idx, col, title):\n",
    "    plt.figure(idx)\n",
    "    if col not in numeric_col:\n",
    "        val_cnts = data_subset[col].value_counts()\n",
    "        text = [questions[col][val] for val in val_cnts.index]\n",
    "        # replace x and y with each other for vertical plot\n",
    "        ax = sns.barplot(y=text, x=val_cnts.values)\n",
    "        ax.set_title(title)\n",
    "        for ind, val in enumerate(val_cnts):\n",
    "            ax.text(val, ind, val, color='black', ha=\"center\")\n",
    "        #for plot vertical plot\n",
    "        #ax.set_xticklabels(ax.get_xticklabels(), rotation=90)\n",
    "    else:\n",
    "        ax = sns.histplot(x=data_subset[col])\n",
    "        ax.set_title(title)\n",
    "        ax.set_xlabel('Age')\n",
    "        \n",
    "for idx, col in enumerate(data_subset.columns):\n",
    "    title = questions[col]['text'] \n",
    "    barplot(idx, col, title)"
   ]
  },
  {
   "cell_type": "markdown",
   "id": "576a8a87-b254-4b45-ac18-14ed8cd7c00d",
   "metadata": {},
   "source": [
    "### Check balance - for each answer Que16"
   ]
  },
  {
   "cell_type": "code",
   "execution_count": 13,
   "id": "778d580b-c18d-405e-9bbd-80c787a902ce",
   "metadata": {},
   "outputs": [
    {
     "data": {
      "image/png": "[encoded data removed]",
      "text/plain": [
       "<Figure size 432x288 with 1 Axes>"
      ]
     },
     "metadata": {
      "needs_background": "light"
     },
     "output_type": "display_data"
    }
   ],
   "source": [
    "val_cnts = data_subset['Que16'].value_counts()\n",
    "# replace x and y with each other for vertical plot\n",
    "ax = sns.barplot(x=val_cnts.index, y=val_cnts.values)\n",
    "for ind, val in val_cnts.items():\n",
    "    ax.text(ind-1, val, val, color='black', ha=\"center\")"
   ]
  },
  {
   "cell_type": "markdown",
   "id": "855ba765-7729-482e-a4be-4401cf8c388d",
   "metadata": {},
   "source": [
    "### Strategy 1 - remove NaN"
   ]
  },
  {
   "cell_type": "code",
   "execution_count": 14,
   "id": "6b592d98-47ba-4e9e-a77a-2c4bad60a22b",
   "metadata": {},
   "outputs": [],
   "source": [
    "def missing_values_strategy_rem_nan(data):\n",
    "    model_data = data_subset.dropna()\n",
    "    model_data = model_data.reset_index(drop=True)\n",
    "    return model_data"
   ]
  },
  {
   "cell_type": "markdown",
   "id": "9db5de2d-900c-4245-90c5-a5953211aecf",
   "metadata": {},
   "source": [
    "### Strategy 2 - median"
   ]
  },
  {
   "cell_type": "code",
   "execution_count": 15,
   "id": "b004c223-936e-4a91-8a05-9a9d03cbc7ce",
   "metadata": {},
   "outputs": [],
   "source": [
    "def missing_values_strategy_median(data):\n",
    "    imputer = SimpleImputer(missing_values=np.nan, strategy='median')\n",
    "    model_data = pd.DataFrame(imputer.fit_transform(data))\n",
    "    model_data.columns = data.columns\n",
    "    model_data.index = data.index\n",
    "    return model_data"
   ]
  },
  {
   "cell_type": "markdown",
   "id": "c53981f3-d7be-419d-b8f0-f0fc6bda560d",
   "metadata": {},
   "source": [
    "### Strategy 3 - mean"
   ]
  },
  {
   "cell_type": "code",
   "execution_count": 16,
   "id": "46595030-8a10-4fdb-a467-a8d39c4d12f9",
   "metadata": {},
   "outputs": [],
   "source": [
    "def missing_values_strategy_mean(data):\n",
    "    imputer = SimpleImputer(missing_values=np.nan, strategy='mean')\n",
    "    model_data = pd.DataFrame(imputer.fit_transform(data))\n",
    "    model_data.columns = data.columns\n",
    "    model_data.index = data.index\n",
    "    # mean values are not integer numbers so rounding to int was necessary\n",
    "    model_data = model_data.round()\n",
    "    return model_data"
   ]
  },
  {
   "cell_type": "markdown",
   "id": "e0d774d2-545c-49cb-b34c-daeecf9f09d1",
   "metadata": {},
   "source": [
    "### Strategy 4 - most frequent"
   ]
  },
  {
   "cell_type": "code",
   "execution_count": 17,
   "id": "9638b089-155d-4470-af0c-39341525db55",
   "metadata": {},
   "outputs": [],
   "source": [
    "def missing_values_strategy_most_freq(data):\n",
    "    imputer = SimpleImputer(missing_values=np.nan, strategy='most_frequent')\n",
    "    model_data = pd.DataFrame(imputer.fit_transform(data))\n",
    "    model_data.columns = data.columns\n",
    "    model_data.index = data.index\n",
    "    return model_data"
   ]
  },
  {
   "cell_type": "markdown",
   "id": "8c81c0a0-5e54-42c8-887f-26046c2905e2",
   "metadata": {},
   "source": [
    "### Strategy 5 - constant"
   ]
  },
  {
   "cell_type": "code",
   "execution_count": 18,
   "id": "a4cc65f5-6aab-448e-9a1f-50b6a9161536",
   "metadata": {},
   "outputs": [],
   "source": [
    "def missing_values_strategy_const(data, const):\n",
    "    imputer = SimpleImputer(missing_values=np.nan, strategy='constant', fill_value=const)\n",
    "    model_data = pd.DataFrame(imputer.fit_transform(data))\n",
    "    model_data.columns = data.columns\n",
    "    model_data.index = data.index\n",
    "    print(model_data)\n",
    "    return model_data"
   ]
  },
  {
   "cell_type": "markdown",
   "id": "87899a4d-9089-4da1-b5db-e5df8d6cbbbb",
   "metadata": {},
   "source": [
    "### Mapping - 0 or 1"
   ]
  },
  {
   "cell_type": "code",
   "execution_count": 19,
   "id": "bcdeae72-1eb5-4a08-8835-414acae9d255",
   "metadata": {},
   "outputs": [],
   "source": [
    "def perform_mapping(model_data):\n",
    "    for index, row in model_data.iterrows():\n",
    "        for col in model_data.columns:\n",
    "            if np.isnan(row[col]) or row[col]==0:\n",
    "                continue\n",
    "            if col not in numeric_col:\n",
    "                row[col] = questions_map[col][int(row[col])]\n",
    "            else:\n",
    "                if col=='Que18_age':\n",
    "                    if row[col]>=20 and row[col]<=34:\n",
    "                        row[col] = 0\n",
    "                    else:\n",
    "                        row[col] = 1\n",
    "    return model_data"
   ]
  },
  {
   "cell_type": "markdown",
   "id": "f8c3e359-a076-4ce8-8f78-caf5357d8b98",
   "metadata": {},
   "source": [
    "### Check balance - for each class Que16"
   ]
  },
  {
   "cell_type": "code",
   "execution_count": 20,
   "id": "cee305c3-488d-4f41-8a1f-cd13494ad0d6",
   "metadata": {},
   "outputs": [],
   "source": [
    "def check_balance_for_each_class(model_data, idx, title):\n",
    "    plt.figure(idx)\n",
    "    val_cnts = model_data['Que16'].value_counts()\n",
    "    # replace x and y with each other for vertical plot\n",
    "    ax = sns.barplot(x=val_cnts.index, y=val_cnts.values)\n",
    "    ax.set_title(title)\n",
    "    for ind, val in val_cnts.items():\n",
    "        ax.text(ind, val, val, color='black', ha=\"center\")\n",
    "\n",
    "def check_balance(y_values, title):\n",
    "    (unique, counts) = np.unique(y_values, return_counts=True)\n",
    "    ax = sns.barplot(x=unique, y=counts)\n",
    "    ax.set_title(title)\n",
    "    for ind, val in enumerate(counts):\n",
    "        ax.text(ind, val, val, color='black', ha=\"center\")"
   ]
  },
  {
   "cell_type": "markdown",
   "id": "821660f4-8180-4f3c-9725-042bc3d592d8",
   "metadata": {},
   "source": [
    "## Prepare data"
   ]
  },
  {
   "cell_type": "code",
   "execution_count": 21,
   "id": "e5784f55-921b-4954-bd22-aee3a654f2c4",
   "metadata": {},
   "outputs": [
    {
     "data": {
      "image/png": "[encoded data removed]",
      "text/plain": [
       "<Figure size 432x288 with 1 Axes>"
      ]
     },
     "metadata": {
      "needs_background": "light"
     },
     "output_type": "display_data"
    },
    {
     "data": {
      "image/png": "[encoded data removed]",
      "text/plain": [
       "<Figure size 432x288 with 1 Axes>"
      ]
     },
     "metadata": {
      "needs_background": "light"
     },
     "output_type": "display_data"
    },
    {
     "data": {
      "image/png": "[encoded data removed]",
      "text/plain": [
       "<Figure size 432x288 with 1 Axes>"
      ]
     },
     "metadata": {
      "needs_background": "light"
     },
     "output_type": "display_data"
    },
    {
     "data": {
      "image/png": "[encoded data removed]",
      "text/plain": [
       "<Figure size 432x288 with 1 Axes>"
      ]
     },
     "metadata": {
      "needs_background": "light"
     },
     "output_type": "display_data"
    }
   ],
   "source": [
    "model_data = missing_values_strategy_rem_nan(data_subset)\n",
    "model_data = perform_mapping(model_data)\n",
    "check_balance_for_each_class(model_data, 1, 'Strategy 1 - remove NaN')\n",
    "model_data = missing_values_strategy_median(data_subset)\n",
    "model_data = perform_mapping(model_data)\n",
    "check_balance_for_each_class(model_data, 2, 'Strategy 2 - median')\n",
    "model_data = missing_values_strategy_mean(data_subset)\n",
    "model_data = perform_mapping(model_data)\n",
    "check_balance_for_each_class(model_data, 3, 'Strategy 3 - mean')\n",
    "model_data = missing_values_strategy_most_freq(data_subset)\n",
    "model_data = perform_mapping(model_data)\n",
    "check_balance_for_each_class(model_data, 4, 'Strategy 4 - most frequent')"
   ]
  },
  {
   "cell_type": "code",
   "execution_count": 22,
   "id": "811ad7f5-fbf0-4a94-8364-f3132c000504",
   "metadata": {},
   "outputs": [],
   "source": [
    "model_data = missing_values_strategy_rem_nan(data_subset)\n",
    "model_data = perform_mapping(model_data)\n",
    "without_target = model_data.drop(columns=['Que16'])\n",
    "target_var = model_data['Que16']\n",
    "X_train, X_test, y_train, y_test = train_test_split(without_target.values, target_var.values, test_size=0.20, random_state=42)"
   ]
  },
  {
   "cell_type": "code",
   "execution_count": 23,
   "id": "2ffb10b3-adc7-4fbd-acb6-dd40ccd959c8",
   "metadata": {},
   "outputs": [
    {
     "data": {
      "image/png": "[encoded data removed]",
      "text/plain": [
       "<Figure size 432x288 with 1 Axes>"
      ]
     },
     "metadata": {
      "needs_background": "light"
     },
     "output_type": "display_data"
    }
   ],
   "source": [
    "check_balance(y_train, 'Train balance')"
   ]
  },
  {
   "cell_type": "code",
   "execution_count": 24,
   "id": "fa37b8a8-9382-4116-ae68-b8f4f9a5689a",
   "metadata": {},
   "outputs": [
    {
     "data": {
      "image/png": "[encoded data removed]",
      "text/plain": [
       "<Figure size 432x288 with 1 Axes>"
      ]
     },
     "metadata": {
      "needs_background": "light"
     },
     "output_type": "display_data"
    }
   ],
   "source": [
    "check_balance(y_test, 'Test balance')"
   ]
  },
  {
   "cell_type": "markdown",
   "id": "bcce2250-9578-4f35-b9b9-beb69151138b",
   "metadata": {},
   "source": [
    "### Over sampling"
   ]
  },
  {
   "cell_type": "code",
   "execution_count": 25,
   "id": "e43ab9e2-9db2-401f-a982-e002a9c0b0f0",
   "metadata": {},
   "outputs": [
    {
     "data": {
      "image/png": "[encoded data removed]",
      "text/plain": [
       "<Figure size 432x288 with 1 Axes>"
      ]
     },
     "metadata": {
      "needs_background": "light"
     },
     "output_type": "display_data"
    }
   ],
   "source": [
    "ros = RandomOverSampler(random_state=0)\n",
    "X_train_resampled, y_train_resampled = ros.fit_resample(X_train, y_train)\n",
    "check_balance(y_train_resampled, 'Train balance - over sampled')"
   ]
  },
  {
   "cell_type": "markdown",
   "id": "1486c753-2367-4d96-a703-0a3d35592821",
   "metadata": {},
   "source": [
    "### Under sampling"
   ]
  },
  {
   "cell_type": "code",
   "execution_count": 26,
   "id": "9f708da4-d532-4f83-b467-e9e01d39d818",
   "metadata": {},
   "outputs": [
    {
     "data": {
      "image/png": "[encoded data removed]",
      "text/plain": [
       "<Figure size 432x288 with 1 Axes>"
      ]
     },
     "metadata": {
      "needs_background": "light"
     },
     "output_type": "display_data"
    }
   ],
   "source": [
    "rus = RandomUnderSampler(random_state=0)\n",
    "X_train_resampled, y_train_resampled = rus.fit_resample(X_train, y_train)\n",
    "check_balance(y_train_resampled, 'Train balance - under sampled')"
   ]
  },
  {
   "cell_type": "markdown",
   "id": "942dc8c7-f641-4167-9cff-bd7ecf04652d",
   "metadata": {},
   "source": [
    "### Combine - under and over sampling SMOTEENN"
   ]
  },
  {
   "cell_type": "code",
   "execution_count": 27,
   "id": "38ee8da1-898d-4a65-9d40-90570aef9d22",
   "metadata": {},
   "outputs": [
    {
     "data": {
      "image/png": "[encoded data removed]",
      "text/plain": [
       "<Figure size 432x288 with 1 Axes>"
      ]
     },
     "metadata": {
      "needs_background": "light"
     },
     "output_type": "display_data"
    }
   ],
   "source": [
    "smote_enn = SMOTEENN(random_state=0)\n",
    "X_train_resampled, y_train_resampled = smote_enn.fit_resample(X_train, y_train)\n",
    "check_balance(y_train_resampled, 'Train balance - under and over sampled')"
   ]
  },
  {
   "cell_type": "code",
   "execution_count": 28,
   "id": "8870be03-1548-42cc-a595-3c4572cbfcdf",
   "metadata": {},
   "outputs": [],
   "source": [
    "X_train_resampled, y_train_resampled = smote_enn.fit_resample(X_train, y_train)"
   ]
  },
  {
   "cell_type": "markdown",
   "id": "1b8e2df5-4ccb-4987-8d6d-6613a876d82c",
   "metadata": {},
   "source": [
    "## Models"
   ]
  },
  {
   "cell_type": "markdown",
   "id": "f07b81c8-45a3-46a1-9c82-6ba8c7693ea9",
   "metadata": {},
   "source": [
    "### Logistic Regression 1 - remNaN, whole mapped data, oversampling"
   ]
  },
  {
   "cell_type": "code",
   "execution_count": 29,
   "id": "94b46c03-3708-4998-9ecb-147b1975dae4",
   "metadata": {},
   "outputs": [
    {
     "name": "stdout",
     "output_type": "stream",
     "text": [
      "Optimization terminated successfully.\n",
      "         Current function value: 0.611010\n",
      "         Iterations 6\n",
      "                           Logit Regression Results                           \n",
      "==============================================================================\n",
      "Dep. Variable:                  Que16   No. Observations:                 1380\n",
      "Model:                          Logit   Df Residuals:                     1357\n",
      "Method:                           MLE   Df Model:                           22\n",
      "Date:                Mon, 05 Jul 2021   Pseudo R-squ.:                  0.1185\n",
      "Time:                        19:11:35   Log-Likelihood:                -843.19\n",
      "converged:                       True   LL-Null:                       -956.54\n",
      "Covariance Type:            nonrobust   LLR p-value:                 6.268e-36\n",
      "==============================================================================\n",
      "                 coef    std err          z      P>|z|      [0.025      0.975]\n",
      "------------------------------------------------------------------------------\n",
      "Que1           0.7078      0.197      3.587      0.000       0.321       1.095\n",
      "Que2          -0.1665      0.122     -1.364      0.173      -0.406       0.073\n",
      "Que3          -0.0783      0.120     -0.654      0.513      -0.313       0.156\n",
      "Que4          -0.0119      0.163     -0.073      0.942      -0.331       0.307\n",
      "Que5          -0.6829      0.356     -1.918      0.055      -1.380       0.015\n",
      "Que6           0.2770      0.127      2.190      0.029       0.029       0.525\n",
      "Que10_a       -0.2074      0.137     -1.514      0.130      -0.476       0.061\n",
      "Que10_b        0.1122      0.226      0.495      0.620      -0.332       0.556\n",
      "Que10_c       -0.4921      0.124     -3.954      0.000      -0.736      -0.248\n",
      "Que10_d        0.3621      0.132      2.746      0.006       0.104       0.620\n",
      "Que10_e       -1.5830      0.575     -2.751      0.006      -2.711      -0.455\n",
      "Que10_f       -0.1022      0.119     -0.856      0.392      -0.336       0.132\n",
      "Que11         -0.5602      0.284     -1.972      0.049      -1.117      -0.003\n",
      "Que12          1.1719      0.463      2.532      0.011       0.265       2.079\n",
      "Que13         -0.3583      0.412     -0.870      0.384      -1.165       0.449\n",
      "Que14         -0.3881      0.166     -2.339      0.019      -0.713      -0.063\n",
      "Que15          1.2128      0.134      9.023      0.000       0.949       1.476\n",
      "Que17          1.5117      0.413      3.663      0.000       0.703       2.321\n",
      "Que18_age     -0.1581      0.153     -1.033      0.302      -0.458       0.142\n",
      "Que19          0.4151      0.256      1.625      0.104      -0.086       0.916\n",
      "Que20          0.9320      0.369      2.528      0.011       0.209       1.655\n",
      "Que21         -0.0286      0.139     -0.205      0.838      -0.302       0.245\n",
      "Que22         -0.0416      0.118     -0.352      0.725      -0.274       0.190\n",
      "==============================================================================\n",
      "Test accuracy =  0.6608391608391608\n"
     ]
    }
   ],
   "source": [
    "X_cols = ['Que1', 'Que2', 'Que3', 'Que4', 'Que5', 'Que6', 'Que10_a', 'Que10_b', 'Que10_c', 'Que10_d', 'Que10_e', 'Que10_f','Que11', 'Que12', 'Que13', 'Que14', 'Que15', 'Que17', 'Que18_age', 'Que19', 'Que20', 'Que21', 'Que22']\n",
    "y_col = ['Que16']\n",
    "data_subset = data[X_cols+y_col]\n",
    "model_data = missing_values_strategy_rem_nan(data_subset)\n",
    "model_data = perform_mapping(model_data)\n",
    "without_target = model_data.drop(columns=['Que16'])\n",
    "target_var = model_data['Que16']\n",
    "X_train, X_test, y_train, y_test = train_test_split(without_target.values, target_var.values, test_size=0.20, random_state=42)\n",
    "X_train_resampled, y_train_resampled = ros.fit_resample(X_train, y_train)\n",
    "X_train_df = pd.DataFrame(data=X_train_resampled, columns=X_cols)\n",
    "y_train_df = pd.DataFrame(data=y_train_resampled, columns=y_col)\n",
    "logit = Logit(y_train_df, X_train_df)\n",
    "lg = logit.fit()\n",
    "print(lg.summary())\n",
    "yhat = lg.predict(X_test)\n",
    "prediction = list(map(round, yhat))\n",
    "print('Test accuracy = ', accuracy_score(y_test, prediction))"
   ]
  },
  {
   "cell_type": "markdown",
   "id": "c128713e-76c7-4f02-b781-3a12c545127b",
   "metadata": {},
   "source": [
    "Best results for: [Que1, Que6, Que10_c, Que10_d, Que10_e, Que11, Que14, Que15, Que17, Que20]"
   ]
  },
  {
   "cell_type": "markdown",
   "id": "f5ad11b9-6542-4a5d-bf0b-a7d243e729ea",
   "metadata": {},
   "source": [
    "### Logistic Regression 2 - remNaN, recommended mapped data, oversampling"
   ]
  },
  {
   "cell_type": "code",
   "execution_count": 30,
   "id": "d4d1733f-2468-41a1-b2d8-efbfe05c1bb9",
   "metadata": {},
   "outputs": [
    {
     "name": "stdout",
     "output_type": "stream",
     "text": [
      "Optimization terminated successfully.\n",
      "         Current function value: 0.669814\n",
      "         Iterations 5\n",
      "                           Logit Regression Results                           \n",
      "==============================================================================\n",
      "Dep. Variable:                  Que16   No. Observations:                 1872\n",
      "Model:                          Logit   Df Residuals:                     1863\n",
      "Method:                           MLE   Df Model:                            8\n",
      "Date:                Mon, 05 Jul 2021   Pseudo R-squ.:                 0.03366\n",
      "Time:                        19:11:36   Log-Likelihood:                -1253.9\n",
      "converged:                       True   LL-Null:                       -1297.6\n",
      "Covariance Type:            nonrobust   LLR p-value:                 1.596e-15\n",
      "==============================================================================\n",
      "                 coef    std err          z      P>|z|      [0.025      0.975]\n",
      "------------------------------------------------------------------------------\n",
      "Que3          -0.2825      0.082     -3.450      0.001      -0.443      -0.122\n",
      "Que6           0.4674      0.095      4.908      0.000       0.281       0.654\n",
      "Que11         -0.0314      0.225     -0.140      0.889      -0.472       0.409\n",
      "Que12          0.7199      0.317      2.271      0.023       0.099       1.341\n",
      "Que13         -0.4238      0.277     -1.528      0.126      -0.967       0.120\n",
      "Que18_age      0.1237      0.126      0.982      0.326      -0.123       0.370\n",
      "Que19          0.4280      0.175      2.444      0.015       0.085       0.771\n",
      "Que20          0.7805      0.261      2.986      0.003       0.268       1.293\n",
      "Que22          0.0511      0.085      0.602      0.547      -0.115       0.217\n",
      "==============================================================================\n",
      "Test accuracy =  0.5904255319148937\n"
     ]
    }
   ],
   "source": [
    "X_cols = ['Que3', 'Que6', 'Que11', 'Que12', 'Que13', 'Que18_age', 'Que19', 'Que20', 'Que22']\n",
    "y_col = ['Que16']\n",
    "data_subset = data[X_cols+y_col]\n",
    "model_data = missing_values_strategy_rem_nan(data_subset)\n",
    "model_data = perform_mapping(model_data)\n",
    "without_target = model_data.drop(columns=['Que16'])\n",
    "target_var = model_data['Que16']\n",
    "X_train, X_test, y_train, y_test = train_test_split(without_target.values, target_var.values, test_size=0.20, random_state=42)\n",
    "X_train_resampled, y_train_resampled = ros.fit_resample(X_train, y_train)\n",
    "X_train_df = pd.DataFrame(data=X_train_resampled, columns=X_cols)\n",
    "y_train_df = pd.DataFrame(data=y_train_resampled, columns=y_col)\n",
    "logit = Logit(y_train_df, X_train_df)\n",
    "lg = logit.fit()\n",
    "print(lg.summary())\n",
    "yhat = lg.predict(X_test)\n",
    "prediction = list(map(round, yhat))\n",
    "print('Test accuracy = ', accuracy_score(y_test, prediction))"
   ]
  },
  {
   "cell_type": "markdown",
   "id": "b162bbc9-602b-48a0-b08b-fe6e5fb909be",
   "metadata": {},
   "source": [
    "Best results for: [Que3, Que6, Que12, Que19, Que20]"
   ]
  },
  {
   "cell_type": "markdown",
   "id": "b26f6457-f59d-42ad-b2d4-aa341182da8b",
   "metadata": {},
   "source": [
    "### Logistic Regression 3 - median, oversampling, whole mapped data, oversampling"
   ]
  },
  {
   "cell_type": "code",
   "execution_count": null,
   "id": "9c05c816-7914-45ca-8585-75737b1e3abc",
   "metadata": {},
   "outputs": [],
   "source": [
    "X_cols = ['Que1', 'Que2', 'Que3', 'Que4', 'Que5', 'Que6', 'Que10_a', 'Que10_b', 'Que10_c', 'Que10_d', 'Que10_e', 'Que10_f','Que11', 'Que12', 'Que13', 'Que14', 'Que15', 'Que17', 'Que18_age', 'Que19', 'Que20', 'Que21', 'Que22']\n",
    "y_col = ['Que16']\n",
    "data_subset = data[X_cols+y_col]\n",
    "model_data = missing_values_strategy_median(data_subset)\n",
    "model_data = perform_mapping(model_data)\n",
    "without_target = model_data.drop(columns=['Que16'])\n",
    "target_var = model_data['Que16']\n",
    "X_train, X_test, y_train, y_test = train_test_split(without_target.values, target_var.values, test_size=0.20, random_state=42)\n",
    "X_train_resampled, y_train_resampled = ros.fit_resample(X_train, y_train)\n",
    "X_train_df = pd.DataFrame(data=X_train_resampled, columns=X_cols)\n",
    "y_train_df = pd.DataFrame(data=y_train_resampled, columns=y_col)\n",
    "logit = Logit(y_train_df, X_train_df)\n",
    "lg = logit.fit()\n",
    "print(lg.summary())\n",
    "yhat = lg.predict(X_test)\n",
    "prediction = list(map(round, yhat))\n",
    "print('Test accuracy = ', accuracy_score(y_test, prediction))"
   ]
  },
  {
   "cell_type": "markdown",
   "id": "b317c598-43c2-4e5d-a046-957b7a2081a1",
   "metadata": {},
   "source": [
    "Best results for: [Que1, Que4, Que5, Que10_c, Que10_e, Que10_f, Que14, Que15, Que17, Que19, Que22]"
   ]
  },
  {
   "cell_type": "markdown",
   "id": "3991be9c-35cb-4d84-a7b5-b12438abe2a0",
   "metadata": {},
   "source": [
    "### Logistic Regression 4 - median, oversampling, recommended data, oversampling"
   ]
  },
  {
   "cell_type": "code",
   "execution_count": null,
   "id": "0e210046-6c48-41ad-84e9-1252fe01de8c",
   "metadata": {},
   "outputs": [],
   "source": [
    "X_cols = ['Que3', 'Que6', 'Que11', 'Que12', 'Que13', 'Que18_age', 'Que19', 'Que20', 'Que22']\n",
    "y_col = ['Que16']\n",
    "data_subset = data[X_cols+y_col]\n",
    "model_data = missing_values_strategy_median(data_subset)\n",
    "model_data = perform_mapping(model_data)\n",
    "without_target = model_data.drop(columns=['Que16'])\n",
    "target_var = model_data['Que16']\n",
    "X_train, X_test, y_train, y_test = train_test_split(without_target.values, target_var.values, test_size=0.20, random_state=42)\n",
    "X_train_resampled, y_train_resampled = ros.fit_resample(X_train, y_train)\n",
    "X_train_df = pd.DataFrame(data=X_train_resampled, columns=X_cols)\n",
    "y_train_df = pd.DataFrame(data=y_train_resampled, columns=y_col)\n",
    "logit = Logit(y_train_df, X_train_df)\n",
    "lg = logit.fit()\n",
    "print(lg.summary())\n",
    "yhat = lg.predict(X_test)\n",
    "prediction = list(map(round, yhat))\n",
    "print('Test accuracy = ', accuracy_score(y_test, prediction))"
   ]
  },
  {
   "cell_type": "markdown",
   "id": "0583c61d-e507-48db-b8dd-f2ee0a7f1d9f",
   "metadata": {},
   "source": [
    "Best results for: [Que6, Que19]"
   ]
  },
  {
   "cell_type": "markdown",
   "id": "1a810b29-2531-4119-8994-359a82389360",
   "metadata": {},
   "source": [
    "### Random Forest 1 - remNaN, whole mapped data, oversampling"
   ]
  },
  {
   "cell_type": "code",
   "execution_count": null,
   "id": "96c29da5-ea54-44fe-ac00-d19707f1c837",
   "metadata": {},
   "outputs": [],
   "source": [
    "X_cols = ['Que1', 'Que2', 'Que3', 'Que4', 'Que5', 'Que6', 'Que10_a', 'Que10_b', 'Que10_c', 'Que10_d', 'Que10_e', 'Que10_f','Que11', 'Que12', 'Que13', 'Que14', 'Que15', 'Que17', 'Que18_age', 'Que19', 'Que20', 'Que21', 'Que22']\n",
    "y_col = ['Que16']\n",
    "data_subset = data[X_cols+y_col]\n",
    "model_data = missing_values_strategy_rem_nan(data_subset)\n",
    "model_data = perform_mapping(model_data)\n",
    "without_target = model_data.drop(columns=['Que16'])\n",
    "target_var = model_data['Que16']\n",
    "X_train, X_test, y_train, y_test = train_test_split(without_target.values, target_var.values, test_size=0.20, random_state=42)\n",
    "X_train_resampled, y_train_resampled = ros.fit_resample(X_train, y_train)\n",
    "rf = RandomForestClassifier()\n",
    "rf = rf.fit(X_train_resampled, y_train_resampled)\n",
    "prediction = rf.predict(X_test)\n",
    "print('Test accuracy = ', accuracy_score(y_test, prediction))\n",
    "\n",
    "dot_data = export_graphviz(rf.estimators_[0], \n",
    "                           feature_names=X_cols,\n",
    "                           class_names=['0', '1'], \n",
    "                           filled=True, impurity=True, \n",
    "                           rounded=True)\n",
    "\n",
    "graph = graphviz.Source(dot_data, format='png')\n",
    "graph.render(IMG_DIR+'rf1')"
   ]
  },
  {
   "cell_type": "markdown",
   "id": "3b605463-5096-4c86-aeda-58f884b71b51",
   "metadata": {},
   "source": [
    "### Random Forest 2 - remNaN, recommended mapped data, oversampling"
   ]
  },
  {
   "cell_type": "code",
   "execution_count": null,
   "id": "42825b90-0a63-48a6-b7c9-f82d65946a52",
   "metadata": {},
   "outputs": [],
   "source": [
    "X_cols = ['Que3', 'Que6', 'Que11', 'Que12', 'Que13', 'Que18_age', 'Que19', 'Que20', 'Que22']\n",
    "y_col = ['Que16']\n",
    "data_subset = data[X_cols+y_col]\n",
    "model_data = missing_values_strategy_rem_nan(data_subset)\n",
    "model_data = perform_mapping(model_data)\n",
    "without_target = model_data.drop(columns=['Que16'])\n",
    "target_var = model_data['Que16']\n",
    "X_train, X_test, y_train, y_test = train_test_split(without_target.values, target_var.values, test_size=0.20, random_state=42)\n",
    "X_train_resampled, y_train_resampled = ros.fit_resample(X_train, y_train)\n",
    "rf = RandomForestClassifier()\n",
    "rf = rf.fit(X_train_resampled, y_train_resampled)\n",
    "prediction = rf.predict(X_test)\n",
    "print('Test accuracy = ', accuracy_score(y_test, prediction))\n",
    "\n",
    "dot_data = export_graphviz(rf.estimators_[0], \n",
    "                           feature_names=X_cols,\n",
    "                           class_names=['0', '1'], \n",
    "                           filled=True, impurity=True, \n",
    "                           rounded=True)\n",
    "\n",
    "graph = graphviz.Source(dot_data, format='png')\n",
    "graph.render(IMG_DIR+'rf2')"
   ]
  },
  {
   "cell_type": "markdown",
   "id": "f30c62e9-bf35-422e-8803-a564b8a75d08",
   "metadata": {},
   "source": [
    "### Random Forest 3 - median, oversampling, whole mapped data, oversampling"
   ]
  },
  {
   "cell_type": "code",
   "execution_count": null,
   "id": "c4411432-8b9f-446d-be1c-b08933f17d46",
   "metadata": {},
   "outputs": [],
   "source": [
    "X_cols = ['Que1', 'Que2', 'Que3', 'Que4', 'Que5', 'Que6', 'Que10_a', 'Que10_b', 'Que10_c', 'Que10_d', 'Que10_e', 'Que10_f','Que11', 'Que12', 'Que13', 'Que14', 'Que15', 'Que17', 'Que18_age', 'Que19', 'Que20', 'Que21', 'Que22']\n",
    "y_col = ['Que16']\n",
    "data_subset = data[X_cols+y_col]\n",
    "model_data = missing_values_strategy_median(data_subset)\n",
    "model_data = perform_mapping(model_data)\n",
    "without_target = model_data.drop(columns=['Que16'])\n",
    "target_var = model_data['Que16']\n",
    "X_train, X_test, y_train, y_test = train_test_split(without_target.values, target_var.values, test_size=0.20, random_state=42)\n",
    "X_train_resampled, y_train_resampled = ros.fit_resample(X_train, y_train)\n",
    "rf = RandomForestClassifier()\n",
    "rf = rf.fit(X_train_resampled, y_train_resampled)\n",
    "prediction = rf.predict(X_test)\n",
    "print('Test accuracy = ', accuracy_score(y_test, prediction))\n",
    "\n",
    "dot_data = export_graphviz(rf.estimators_[0], \n",
    "                           feature_names=X_cols,\n",
    "                           class_names=['0', '1'], \n",
    "                           filled=True, impurity=True, \n",
    "                           rounded=True)\n",
    "\n",
    "graph = graphviz.Source(dot_data, format='png')\n",
    "graph.render(IMG_DIR+'rf3')"
   ]
  },
  {
   "cell_type": "markdown",
   "id": "835208aa-db8d-43a7-ae0d-eb301c465554",
   "metadata": {},
   "source": [
    "### Random Forest 4 - median, oversampling, recommended data, oversampling"
   ]
  },
  {
   "cell_type": "code",
   "execution_count": null,
   "id": "d467e543-b00e-4a18-9ef0-c9cd3049e6b1",
   "metadata": {},
   "outputs": [],
   "source": [
    "X_cols = ['Que3', 'Que6', 'Que11', 'Que12', 'Que13', 'Que18_age', 'Que19', 'Que20', 'Que22']\n",
    "y_col = ['Que16']\n",
    "data_subset = data[X_cols+y_col]\n",
    "model_data = missing_values_strategy_median(data_subset)\n",
    "model_data = perform_mapping(model_data)\n",
    "without_target = model_data.drop(columns=['Que16'])\n",
    "target_var = model_data['Que16']\n",
    "X_train, X_test, y_train, y_test = train_test_split(without_target.values, target_var.values, test_size=0.20, random_state=42)\n",
    "X_train_resampled, y_train_resampled = ros.fit_resample(X_train, y_train)\n",
    "rf = RandomForestClassifier()\n",
    "rf = rf.fit(X_train_resampled, y_train_resampled)\n",
    "prediction = rf.predict(X_test)\n",
    "print('Test accuracy = ', accuracy_score(y_test, prediction))\n",
    "\n",
    "dot_data = export_graphviz(rf.estimators_[0], \n",
    "                           feature_names=X_cols,\n",
    "                           class_names=['0', '1'], \n",
    "                           filled=True, impurity=True, \n",
    "                           rounded=True)\n",
    "\n",
    "graph = graphviz.Source(dot_data, format='png')\n",
    "graph.render(IMG_DIR+'rf4')"
   ]
  },
  {
   "cell_type": "markdown",
   "id": "13c7cb2b-b53d-41ac-bb18-726bb151fe5f",
   "metadata": {},
   "source": [
    "### Decision Tree 1 - remNaN, whole mapped data, oversampling"
   ]
  },
  {
   "cell_type": "code",
   "execution_count": null,
   "id": "1c5d300c-37a2-4877-852b-0b117e422527",
   "metadata": {},
   "outputs": [],
   "source": [
    "X_cols = ['Que1', 'Que2', 'Que3', 'Que4', 'Que5', 'Que6', 'Que10_a', 'Que10_b', 'Que10_c', 'Que10_d', 'Que10_e', 'Que10_f','Que11', 'Que12', 'Que13', 'Que14', 'Que15', 'Que17', 'Que18_age', 'Que19', 'Que20', 'Que21', 'Que22']\n",
    "y_col = ['Que16']\n",
    "data_subset = data[X_cols+y_col]\n",
    "model_data = missing_values_strategy_rem_nan(data_subset)\n",
    "model_data = perform_mapping(model_data)\n",
    "without_target = model_data.drop(columns=['Que16'])\n",
    "target_var = model_data['Que16']\n",
    "X_train, X_test, y_train, y_test = train_test_split(without_target.values, target_var.values, test_size=0.20, random_state=42)\n",
    "X_train_resampled, y_train_resampled = ros.fit_resample(X_train, y_train)\n",
    "dtc = DecisionTreeClassifier()\n",
    "dtc = dtc.fit(X_train_resampled, y_train_resampled)\n",
    "prediction = dtc.predict(X_test)\n",
    "print('Test accuracy = ', accuracy_score(y_test, prediction))\n",
    "\n",
    "dot_data = export_graphviz(dtc, \n",
    "                           feature_names=X_cols,\n",
    "                           class_names=['0', '1'], \n",
    "                           filled=True, impurity=True, \n",
    "                           rounded=True)\n",
    "\n",
    "graph = graphviz.Source(dot_data, format='png')\n",
    "graph.render(IMG_DIR+'dtc1')"
   ]
  },
  {
   "cell_type": "markdown",
   "id": "4ed40842-de52-464c-8d07-fc0a26993849",
   "metadata": {},
   "source": [
    "### Decision Tree 2 - remNaN, recommended mapped data, oversampling"
   ]
  },
  {
   "cell_type": "code",
   "execution_count": null,
   "id": "964cd6e5-7ac8-46bd-ba92-fa83f06f3c15",
   "metadata": {},
   "outputs": [],
   "source": [
    "X_cols = ['Que3', 'Que6', 'Que11', 'Que12', 'Que13', 'Que18_age', 'Que19', 'Que20', 'Que22']\n",
    "y_col = ['Que16']\n",
    "data_subset = data[X_cols+y_col]\n",
    "model_data = missing_values_strategy_rem_nan(data_subset)\n",
    "model_data = perform_mapping(model_data)\n",
    "without_target = model_data.drop(columns=['Que16'])\n",
    "target_var = model_data['Que16']\n",
    "X_train, X_test, y_train, y_test = train_test_split(without_target.values, target_var.values, test_size=0.20, random_state=42)\n",
    "X_train_resampled, y_train_resampled = ros.fit_resample(X_train, y_train)\n",
    "dtc = DecisionTreeClassifier()\n",
    "dtc = dtc.fit(X_train_resampled, y_train_resampled)\n",
    "prediction = dtc.predict(X_test)\n",
    "print('Test accuracy = ', accuracy_score(y_test, prediction))\n",
    "\n",
    "dot_data = export_graphviz(dtc, \n",
    "                           feature_names=X_cols,\n",
    "                           class_names=['0', '1'], \n",
    "                           filled=True, impurity=True, \n",
    "                           rounded=True)\n",
    "\n",
    "graph = graphviz.Source(dot_data, format='png')\n",
    "graph.render(IMG_DIR+'dtc2')"
   ]
  },
  {
   "cell_type": "markdown",
   "id": "2c3b1baa-c099-4e66-bfc1-872702abdb29",
   "metadata": {},
   "source": [
    "### Decision Tree 3 - median, oversampling, whole mapped data, oversampling"
   ]
  },
  {
   "cell_type": "code",
   "execution_count": null,
   "id": "c2c6a0ae-96dc-4b09-b2be-7676ac4ab991",
   "metadata": {},
   "outputs": [],
   "source": [
    "X_cols = ['Que1', 'Que2', 'Que3', 'Que4', 'Que5', 'Que6', 'Que10_a', 'Que10_b', 'Que10_c', 'Que10_d', 'Que10_e', 'Que10_f','Que11', 'Que12', 'Que13', 'Que14', 'Que15', 'Que17', 'Que18_age', 'Que19', 'Que20', 'Que21', 'Que22']\n",
    "y_col = ['Que16']\n",
    "data_subset = data[X_cols+y_col]\n",
    "model_data = missing_values_strategy_median(data_subset)\n",
    "model_data = perform_mapping(model_data)\n",
    "without_target = model_data.drop(columns=['Que16'])\n",
    "target_var = model_data['Que16']\n",
    "X_train, X_test, y_train, y_test = train_test_split(without_target.values, target_var.values, test_size=0.20, random_state=42)\n",
    "X_train_resampled, y_train_resampled = ros.fit_resample(X_train, y_train)\n",
    "dtc = DecisionTreeClassifier()\n",
    "dtc = dtc.fit(X_train_resampled, y_train_resampled)\n",
    "prediction = dtc.predict(X_test)\n",
    "print('Test accuracy = ', accuracy_score(y_test, prediction))\n",
    "\n",
    "dot_data = export_graphviz(dtc, \n",
    "                           feature_names=X_cols,\n",
    "                           class_names=['0', '1'], \n",
    "                           filled=True, impurity=True, \n",
    "                           rounded=True)\n",
    "\n",
    "graph = graphviz.Source(dot_data, format='png')\n",
    "graph.render(IMG_DIR+'dtc3')"
   ]
  },
  {
   "cell_type": "markdown",
   "id": "8f93d774-fe3e-4875-8afd-63b0c5e0955b",
   "metadata": {},
   "source": [
    "### Decision Tree 4 - median, oversampling, recommended data, oversampling"
   ]
  },
  {
   "cell_type": "code",
   "execution_count": null,
   "id": "fce493cb-76d6-470b-a23b-6f38ad5f8c25",
   "metadata": {},
   "outputs": [],
   "source": [
    "X_cols = ['Que3', 'Que6', 'Que11', 'Que12', 'Que13', 'Que18_age', 'Que19', 'Que20', 'Que22']\n",
    "y_col = ['Que16']\n",
    "data_subset = data[X_cols+y_col]\n",
    "model_data = missing_values_strategy_median(data_subset)\n",
    "model_data = perform_mapping(model_data)\n",
    "without_target = model_data.drop(columns=['Que16'])\n",
    "target_var = model_data['Que16']\n",
    "X_train, X_test, y_train, y_test = train_test_split(without_target.values, target_var.values, test_size=0.20, random_state=42)\n",
    "X_train_resampled, y_train_resampled = ros.fit_resample(X_train, y_train)\n",
    "dtc = DecisionTreeClassifier()\n",
    "dtc = dtc.fit(X_train_resampled, y_train_resampled)\n",
    "prediction = dtc.predict(X_test)\n",
    "print('Test accuracy = ', accuracy_score(y_test, prediction))\n",
    "\n",
    "dot_data = export_graphviz(dtc, \n",
    "                           feature_names=X_cols,\n",
    "                           class_names=['0', '1'], \n",
    "                           filled=True, impurity=True, \n",
    "                           rounded=True)\n",
    "\n",
    "graph = graphviz.Source(dot_data, format='png')\n",
    "graph.render(IMG_DIR+'dtc4')"
   ]
  }
 ],
 "metadata": {
  "kernelspec": {
   "display_name": "Python 3",
   "language": "python",
   "name": "python3"
  },
  "language_info": {
   "codemirror_mode": {
    "name": "ipython",
    "version": 3
   },
   "file_extension": ".py",
   "mimetype": "text/x-python",
   "name": "python",
   "nbconvert_exporter": "python",
   "pygments_lexer": "ipython3",
   "version": "3.7.10"
  }
 },
 "nbformat": 4,
 "nbformat_minor": 5
}
