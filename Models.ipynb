{
 "cells": [
  {
   "cell_type": "markdown",
   "id": "6a10b418-ac80-4187-a54e-f74066bca77a",
   "metadata": {},
   "source": [
    "# Models"
   ]
  },
  {
   "cell_type": "code",
   "execution_count": 1,
   "id": "2d0f059c-90c6-4964-a63d-fd1476a01bac",
   "metadata": {},
   "outputs": [],
   "source": [
    "import time\n",
    "import datetime\n",
    "import numpy as np\n",
    "import pandas as pd\n",
    "from statsmodels.discrete.discrete_model import Logit\n",
    "from sklearn.model_selection import train_test_split\n",
    "from sklearn.impute import SimpleImputer\n",
    "from sklearn.metrics import accuracy_score, precision_score, recall_score, f1_score, confusion_matrix, roc_auc_score\n",
    "from sklearn.ensemble import RandomForestClassifier\n",
    "from sklearn.tree import DecisionTreeClassifier\n",
    "from sklearn.model_selection import GridSearchCV, cross_val_score, cross_val_predict\n",
    "from sklearn.base import BaseEstimator, ClassifierMixin\n",
    "from imblearn.over_sampling import RandomOverSampler\n",
    "from imblearn.under_sampling import RandomUnderSampler\n",
    "from imblearn.combine import SMOTEENN\n",
    "from pprint import pprint\n",
    "import matplotlib.pyplot as plt\n",
    "import statsmodels.api as sm"
   ]
  },
  {
   "cell_type": "code",
   "execution_count": null,
   "id": "d4b806b0-e1e0-4573-b393-9468b1da5d61",
   "metadata": {},
   "outputs": [],
   "source": [
    "from google.colab import drive\n",
    "drive.mount('/content/drive')"
   ]
  },
  {
   "cell_type": "code",
   "execution_count": 2,
   "id": "5efc22b5-9751-4c97-881a-6fb4b94c8954",
   "metadata": {},
   "outputs": [],
   "source": [
    "# %run /content/drive/MyDrive/DentistDataAnalysis/Experiments/Mappings.ipynb\n",
    "%run Mappings.ipynb"
   ]
  },
  {
   "cell_type": "code",
   "execution_count": 3,
   "id": "5aafc249-ed54-400f-8596-509d384c8e3e",
   "metadata": {},
   "outputs": [],
   "source": [
    "# DIR = '/content/drive/MyDrive/DentistDataAnalysis/Experiments/'\n",
    "DIR = ''"
   ]
  },
  {
   "cell_type": "code",
   "execution_count": 4,
   "id": "74c55e76-b922-4d2d-89ee-7ee2f829bd09",
   "metadata": {},
   "outputs": [],
   "source": [
    "data = pd.read_csv(DIR+'dataset/final_data.csv')"
   ]
  },
  {
   "cell_type": "code",
   "execution_count": 5,
   "id": "05ed30dd-55cb-4a2e-b332-ae75e5845d66",
   "metadata": {},
   "outputs": [],
   "source": [
    "X_cols = ['Que1', 'Que2', 'Que3', 'Que4', 'Que5', 'Que6', 'Que10_a', 'Que10_b', 'Que10_c', 'Que10_d', 'Que10_e', 'Que10_f', 'Que14', 'Que15', 'Que17', 'Que18_age', 'Que19', 'Que20', 'Que21', 'Que22', 'Que_smoking']\n",
    "y_col = ['Que16']"
   ]
  },
  {
   "cell_type": "markdown",
   "id": "26e80ddd-743e-41a5-a138-c2b8ea4c3460",
   "metadata": {},
   "source": [
    "## Logit"
   ]
  },
  {
   "cell_type": "code",
   "execution_count": 6,
   "id": "ab5808d7-bbff-460d-82ee-37272b307e83",
   "metadata": {},
   "outputs": [],
   "source": [
    "class SMWrapper(BaseEstimator, ClassifierMixin):\n",
    "    def __init__(self, model_class, fit_intercept=True):\n",
    "        self.model_class = model_class\n",
    "        self.fit_intercept = fit_intercept\n",
    "    def fit(self, X, y):\n",
    "        if self.fit_intercept:\n",
    "            X = sm.add_constant(X)\n",
    "        self.model_ = self.model_class(y, X)\n",
    "        self.results_ = self.model_.fit()\n",
    "        return self\n",
    "    def predict(self, X):\n",
    "        if self.fit_intercept:\n",
    "            X = sm.add_constant(X)\n",
    "        yhat = self.results_.predict(X)\n",
    "        return list(map(round, yhat))"
   ]
  },
  {
   "cell_type": "code",
   "execution_count": 7,
   "id": "c67d1c29-49d9-4d75-ae0b-5dda8a144dd5",
   "metadata": {},
   "outputs": [],
   "source": [
    "def perform_logit(X_train, y_train, X_test, y_test, X_cols, y_col):\n",
    "    X_train_df = pd.DataFrame(data=X_train, columns=X_cols)\n",
    "    y_train_df = pd.DataFrame(data=y_train, columns=y_col)\n",
    "    logit_model = SMWrapper(sm.Logit)\n",
    "    scores = cross_val_score(logit_model, X_train_df, y_train_df, scoring='recall', cv=5, n_jobs=-1)\n",
    "    print('Mean cross-validation score: ')\n",
    "    print(round(np.nanmean(scores), 4))\n",
    "    X_train_df = sm.add_constant(X_train_df)\n",
    "    logit = Logit(y_train_df, X_train_df)\n",
    "    lg = logit.fit()\n",
    "    print(lg.summary())\n",
    "    X_test = sm.add_constant(X_test)\n",
    "    yhat = lg.predict(X_test)\n",
    "    prediction = list(map(round, yhat))\n",
    "    get_metrics(y_test, prediction)   "
   ]
  },
  {
   "cell_type": "markdown",
   "id": "09251b8e-a692-488b-9fbd-d2597fce2c8f",
   "metadata": {},
   "source": [
    "## Random forest"
   ]
  },
  {
   "cell_type": "code",
   "execution_count": 8,
   "id": "44552c2d-a03a-4784-9bbd-a7fafcbc3f25",
   "metadata": {},
   "outputs": [],
   "source": [
    "def perform_random_forest(X_train, y_train, X_test, y_test):\n",
    "    #hyperparameters config\n",
    "    n_estimators = [int(x) for x in np.linspace(start = 5, stop = 150, num = 15)]\n",
    "    criterion = ['gini', 'entropy']\n",
    "    max_features = ['sqrt']\n",
    "    max_depth = [int(x) for x in np.linspace(10, 110, num = 10)]\n",
    "    max_depth.append(None)\n",
    "    min_samples_split = [2, 5, 10]\n",
    "    min_samples_leaf = [1, 2, 4]\n",
    "    bootstrap = [True]\n",
    "    random_grid = {'n_estimators': n_estimators,\n",
    "                   'criterion': criterion,\n",
    "                   'max_features': max_features,\n",
    "                   'max_depth': max_depth,\n",
    "                   'min_samples_split': min_samples_split,\n",
    "                   'min_samples_leaf': min_samples_leaf,\n",
    "                   'bootstrap': bootstrap}\n",
    "    #grid search config\n",
    "    rf_scoring='recall'\n",
    "    rf_cv = 5\n",
    "    rf_verbose=1\n",
    "    rf_n_jobs=-1\n",
    "    rf_return_train_score=True\n",
    "    rf = RandomForestClassifier()\n",
    "    rf_grid = GridSearchCV(estimator=rf, \n",
    "                            param_grid=random_grid,\n",
    "                            scoring=rf_scoring, cv=rf_cv, \n",
    "                            verbose=rf_verbose, n_jobs=rf_n_jobs, \n",
    "                            return_train_score=rf_return_train_score)\n",
    "    start_time = time.time()\n",
    "    rf_grid.fit(X_train, y_train)\n",
    "    end_time = time.time()\n",
    "    conv_time = datetime.timedelta(seconds=end_time-start_time)\n",
    "    print(f\"Grid search time: {conv_time}\")\n",
    "    \n",
    "    print('Mean cross-validation score of best model: ')\n",
    "    print(round(rf_grid.best_score_, 4))\n",
    "    print('Best parameters:')\n",
    "    pprint(rf_grid.best_params_)\n",
    "\n",
    "    rf.set_params(bootstrap = rf_grid.best_params_['bootstrap'], \n",
    "                    criterion = rf_grid.best_params_['criterion'], \n",
    "                    max_depth = rf_grid.best_params_['max_depth'],\n",
    "                    max_features = rf_grid.best_params_['max_features'],\n",
    "                    min_samples_leaf = rf_grid.best_params_['min_samples_leaf'],\n",
    "                    min_samples_split = rf_grid.best_params_['min_samples_split'],\n",
    "                    n_estimators = rf_grid.best_params_['n_estimators'])\n",
    "    rf.fit(X_train, y_train)\n",
    "    prediction = rf.predict(X_test)\n",
    "    pprint(rf.get_params())\n",
    "    get_metrics(y_test, prediction)\n",
    "    \n",
    "    start_time = time.time()\n",
    "    importances = rf_grid.best_estimator_.feature_importances_\n",
    "    std = np.std([rf_grid.best_estimator_.feature_importances_ for tree in rf_grid.best_estimator_.estimators_], axis=0)\n",
    "    elapsed_time = time.time() - start_time\n",
    "    print(f\"Elapsed time to compute the importances: \" \n",
    "          f\"{elapsed_time:.3f} seconds\")\n",
    "    forest_importances = pd.Series(importances, index=X_cols).sort_values(ascending=False)\n",
    "    fig, ax = plt.subplots()\n",
    "    forest_importances.plot.bar(yerr=std, ax=ax)\n",
    "    ax.set_title(\"Feature importances using MDI\")\n",
    "    ax.set_ylabel(\"Mean decrease in impurity\")\n",
    "    fig.tight_layout()"
   ]
  },
  {
   "cell_type": "markdown",
   "id": "313fea68-c90d-4503-b5f4-a5b345acfee8",
   "metadata": {},
   "source": [
    "## Decision trees"
   ]
  },
  {
   "cell_type": "code",
   "execution_count": 9,
   "id": "89deb587-e3e7-411b-ba7b-6753e3a47384",
   "metadata": {},
   "outputs": [],
   "source": [
    "def perform_decision_tree(X_train, y_train, X_test, y_test):\n",
    "    #hyperparameters config\n",
    "    criterion = ['gini', 'entropy']\n",
    "    splitter = ['best', 'random']\n",
    "    max_features = ['sqrt']\n",
    "    max_depth = [int(x) for x in np.linspace(10, 50, num = 6)]\n",
    "    max_depth.append(None)\n",
    "    min_samples_split = [2, 5, 10]\n",
    "    min_samples_leaf = [1, 2, 4]\n",
    "    search_grid = {'criterion': criterion,\n",
    "                   'splitter': splitter,\n",
    "                   'max_features': max_features,\n",
    "                   'max_depth': max_depth,\n",
    "                   'min_samples_split': min_samples_split,\n",
    "                   'min_samples_leaf': min_samples_leaf}\n",
    "    #grid search config\n",
    "    dtc_scoring='recall'\n",
    "    dtc_cv = 5\n",
    "    dtc_verbose=1\n",
    "    dtc_n_jobs=-1\n",
    "    dtc_return_train_score=True\n",
    "    dtc = DecisionTreeClassifier()\n",
    "    dtc_grid = GridSearchCV(estimator=dtc, \n",
    "                            param_grid=search_grid,\n",
    "                            scoring=dtc_scoring, cv=dtc_cv, \n",
    "                            verbose=dtc_verbose, n_jobs=dtc_n_jobs, \n",
    "                            return_train_score=dtc_return_train_score)\n",
    "    start_time = time.time()\n",
    "    dtc_grid.fit(X_train, y_train)\n",
    "    end_time = time.time()\n",
    "    conv_time = datetime.timedelta(seconds=end_time-start_time)\n",
    "    print(f\"Grid search time: {conv_time}\")\n",
    "    \n",
    "    print('Mean cross-validation score of best model: ')\n",
    "    print(round(dtc_grid.best_score_, 4))\n",
    "    print('Best parameters:')\n",
    "    pprint(dtc_grid.best_params_)\n",
    "    \n",
    "    dtc = DecisionTreeClassifier()\n",
    "    dtc.set_params(criterion = dtc_grid.best_params_['criterion'], \n",
    "                   max_depth = dtc_grid.best_params_['max_depth'],\n",
    "                    max_features = dtc_grid.best_params_['max_features'],\n",
    "                    min_samples_leaf = dtc_grid.best_params_['min_samples_leaf'],\n",
    "                    min_samples_split = dtc_grid.best_params_['min_samples_split'],\n",
    "                    splitter = dtc_grid.best_params_['splitter'])\n",
    "    dtc.fit(X_train, y_train)\n",
    "    prediction = dtc.predict(X_test)\n",
    "    pprint(dtc.get_params())\n",
    "    get_metrics(y_test, prediction)"
   ]
  },
  {
   "cell_type": "markdown",
   "id": "fa532ecb-e46c-4cc3-9053-c5fd1a3d2be1",
   "metadata": {},
   "source": [
    "## Metrics"
   ]
  },
  {
   "cell_type": "code",
   "execution_count": 10,
   "id": "8a593144-624e-4ac9-8d06-596489698552",
   "metadata": {},
   "outputs": [],
   "source": [
    "def get_metrics(y_true, prediction):\n",
    "    print(np.unique(y_true, return_counts=True))\n",
    "    print('Test recall:\\t', round(recall_score(y_true, prediction), 4))\n",
    "    print('Test accuracy:\\t', round(accuracy_score(y_true, prediction), 4))\n",
    "    print('Test precision:\\t', round(precision_score(y_true, prediction), 4))\n",
    "    print('Test ROC AUC:\\t', round(roc_auc_score(y_true, prediction), 4))\n",
    "    print('Test F1 score:\\t', round(f1_score(y_true, prediction), 4))\n",
    "    print('Test confusion matrix:\\t')\n",
    "    print(confusion_matrix(y_true, prediction))"
   ]
  },
  {
   "cell_type": "markdown",
   "id": "cfc10cdd-703f-4f4c-a8fd-fc127da6575f",
   "metadata": {},
   "source": [
    "# Strategy 1 - dropping all missing"
   ]
  },
  {
   "cell_type": "code",
   "execution_count": 11,
   "id": "79170683-1efa-4b7e-9881-e7e5925443b8",
   "metadata": {},
   "outputs": [],
   "source": [
    "data_dropped = data.dropna().reset_index(drop=True)\n",
    "data_dropped = perform_mapping(data_dropped, questions_map_EN)\n",
    "model_data = data_dropped.drop(columns=['Que16'])\n",
    "target_data = data_dropped['Que16']\n",
    "X_train, X_test, y_train, y_test = train_test_split(model_data.values, target_data.values, test_size=0.20, random_state=42)\n",
    "# balancing data\n",
    "rus = RandomUnderSampler(random_state=0)\n",
    "X_train_rus, y_train_rus = rus.fit_resample(X_train, y_train)\n",
    "ros = RandomOverSampler(random_state=0)\n",
    "X_train_ros, y_train_ros = ros.fit_resample(X_train, y_train)\n",
    "smote_enn = SMOTEENN(random_state=0)\n",
    "X_train_smote_enn, y_train_smote_enn = smote_enn.fit_resample(X_train, y_train)"
   ]
  },
  {
   "cell_type": "markdown",
   "id": "25e44020-3441-4055-992e-761ee3087697",
   "metadata": {},
   "source": [
    "## Logistic Regression"
   ]
  },
  {
   "cell_type": "markdown",
   "id": "54648229-d551-49d8-ba81-922c8052e766",
   "metadata": {},
   "source": [
    "### No balance"
   ]
  },
  {
   "cell_type": "code",
   "execution_count": 12,
   "id": "c3790728-0cdf-4649-af9b-7e88d4d65d9c",
   "metadata": {},
   "outputs": [
    {
     "name": "stdout",
     "output_type": "stream",
     "text": [
      "Mean cross-validation score: \n",
      "0.8062\n",
      "Optimization terminated successfully.\n",
      "         Current function value: 0.563189\n",
      "         Iterations 7\n",
      "                           Logit Regression Results                           \n",
      "==============================================================================\n",
      "Dep. Variable:                  Que16   No. Observations:                  748\n",
      "Model:                          Logit   Df Residuals:                      726\n",
      "Method:                           MLE   Df Model:                           21\n",
      "Date:                Thu, 02 Sep 2021   Pseudo R-squ.:                  0.1368\n",
      "Time:                        16:36:54   Log-Likelihood:                -421.27\n",
      "converged:                       True   LL-Null:                       -488.02\n",
      "Covariance Type:            nonrobust   LLR p-value:                 2.260e-18\n",
      "===============================================================================\n",
      "                  coef    std err          z      P>|z|      [0.025      0.975]\n",
      "-------------------------------------------------------------------------------\n",
      "const          -0.7646      0.285     -2.679      0.007      -1.324      -0.205\n",
      "Que1            0.3534      0.248      1.428      0.153      -0.132       0.839\n",
      "Que2           -0.2122      0.180     -1.179      0.238      -0.565       0.140\n",
      "Que3            0.2350      0.187      1.254      0.210      -0.132       0.602\n",
      "Que4            0.1303      0.223      0.585      0.558      -0.306       0.567\n",
      "Que5           -0.1324      0.509     -0.260      0.795      -1.131       0.866\n",
      "Que6            0.2937      0.177      1.662      0.097      -0.053       0.640\n",
      "Que10_a        -0.0668      0.191     -0.349      0.727      -0.442       0.308\n",
      "Que10_b         0.3756      0.313      1.198      0.231      -0.239       0.990\n",
      "Que10_c         0.1251      0.194      0.645      0.519      -0.255       0.505\n",
      "Que10_d         0.1728      0.184      0.939      0.348      -0.188       0.533\n",
      "Que10_e        -2.0778      0.767     -2.708      0.007      -3.581      -0.574\n",
      "Que10_f         0.1423      0.178      0.798      0.425      -0.207       0.492\n",
      "Que14          -0.3838      0.244     -1.572      0.116      -0.862       0.095\n",
      "Que15           1.1959      0.188      6.364      0.000       0.828       1.564\n",
      "Que17           1.9613      0.765      2.563      0.010       0.461       3.461\n",
      "Que18_age       0.0682      0.235      0.290      0.772      -0.393       0.530\n",
      "Que19           0.6898      0.345      1.997      0.046       0.013       1.367\n",
      "Que20           1.5694      0.655      2.395      0.017       0.285       2.854\n",
      "Que21          -0.0072      0.188     -0.039      0.969      -0.375       0.361\n",
      "Que22           0.3075      0.179      1.722      0.085      -0.042       0.657\n",
      "Que_smoking     0.2223      0.193      1.150      0.250      -0.157       0.601\n",
      "===============================================================================\n",
      "(array([0., 1.]), array([ 71, 117]))\n",
      "Test recall:\t 0.7607\n",
      "Test accuracy:\t 0.6862\n",
      "Test precision:\t 0.7417\n",
      "Test ROC AUC:\t 0.662\n",
      "Test F1 score:\t 0.7511\n",
      "Test confusion matrix:\t\n",
      "[[40 31]\n",
      " [28 89]]\n"
     ]
    }
   ],
   "source": [
    "perform_logit(X_train, y_train, X_test, y_test, X_cols, y_col)"
   ]
  },
  {
   "cell_type": "markdown",
   "id": "01bd3b09-8206-4c2f-9f3c-080454c01406",
   "metadata": {},
   "source": [
    "### Undersampling"
   ]
  },
  {
   "cell_type": "code",
   "execution_count": 13,
   "id": "b9ad429c-b967-42f9-a4f9-688786d9564a",
   "metadata": {},
   "outputs": [
    {
     "name": "stdout",
     "output_type": "stream",
     "text": [
      "Mean cross-validation score: \n",
      "0.6405\n",
      "Optimization terminated successfully.\n",
      "         Current function value: 0.590972\n",
      "         Iterations 6\n",
      "                           Logit Regression Results                           \n",
      "==============================================================================\n",
      "Dep. Variable:                  Que16   No. Observations:                  536\n",
      "Model:                          Logit   Df Residuals:                      514\n",
      "Method:                           MLE   Df Model:                           21\n",
      "Date:                Thu, 02 Sep 2021   Pseudo R-squ.:                  0.1474\n",
      "Time:                        16:36:55   Log-Likelihood:                -316.76\n",
      "converged:                       True   LL-Null:                       -371.53\n",
      "Covariance Type:            nonrobust   LLR p-value:                 5.726e-14\n",
      "===============================================================================\n",
      "                  coef    std err          z      P>|z|      [0.025      0.975]\n",
      "-------------------------------------------------------------------------------\n",
      "const          -1.5017      0.346     -4.342      0.000      -2.180      -0.824\n",
      "Que1            0.4959      0.280      1.770      0.077      -0.053       1.045\n",
      "Que2           -0.1924      0.211     -0.913      0.361      -0.605       0.221\n",
      "Que3            0.2185      0.218      1.004      0.316      -0.208       0.645\n",
      "Que4            0.0446      0.254      0.175      0.861      -0.454       0.543\n",
      "Que5           -0.2874      0.619     -0.464      0.643      -1.501       0.926\n",
      "Que6            0.3143      0.207      1.518      0.129      -0.091       0.720\n",
      "Que10_a        -0.0215      0.220     -0.098      0.922      -0.452       0.409\n",
      "Que10_b         0.4651      0.346      1.343      0.179      -0.213       1.144\n",
      "Que10_c         0.2281      0.226      1.008      0.313      -0.215       0.672\n",
      "Que10_d         0.2157      0.212      1.019      0.308      -0.199       0.631\n",
      "Que10_e        -3.2170      1.239     -2.597      0.009      -5.645      -0.789\n",
      "Que10_f         0.2320      0.207      1.119      0.263      -0.175       0.639\n",
      "Que14          -0.2314      0.280     -0.825      0.409      -0.781       0.318\n",
      "Que15           1.0884      0.211      5.150      0.000       0.674       1.503\n",
      "Que17           1.7775      0.796      2.234      0.025       0.218       3.337\n",
      "Que18_age       0.0297      0.281      0.106      0.916      -0.520       0.580\n",
      "Que19           1.0340      0.392      2.640      0.008       0.266       1.802\n",
      "Que20           1.4400      0.720      2.001      0.045       0.030       2.850\n",
      "Que21          -0.1031      0.218     -0.474      0.636      -0.530       0.324\n",
      "Que22           0.3785      0.211      1.796      0.073      -0.035       0.792\n",
      "Que_smoking     0.0942      0.225      0.420      0.675      -0.346       0.535\n",
      "===============================================================================\n",
      "(array([0., 1.]), array([ 71, 117]))\n",
      "Test recall:\t 0.6068\n",
      "Test accuracy:\t 0.6489\n",
      "Test precision:\t 0.7802\n",
      "Test ROC AUC:\t 0.6626\n",
      "Test F1 score:\t 0.6827\n",
      "Test confusion matrix:\t\n",
      "[[51 20]\n",
      " [46 71]]\n"
     ]
    }
   ],
   "source": [
    "perform_logit(X_train_rus, y_train_rus, X_test, y_test, X_cols, y_col)"
   ]
  },
  {
   "cell_type": "markdown",
   "id": "079ef4c0-f77b-446c-ae3f-5b75276b6fb0",
   "metadata": {},
   "source": [
    "### Oversampling"
   ]
  },
  {
   "cell_type": "code",
   "execution_count": 14,
   "id": "0d8d8455-2f07-4be6-b441-0aa82ffe0fcf",
   "metadata": {},
   "outputs": [
    {
     "name": "stdout",
     "output_type": "stream",
     "text": [
      "Mean cross-validation score: \n",
      "0.6167\n",
      "Optimization terminated successfully.\n",
      "         Current function value: 0.592887\n",
      "         Iterations 6\n",
      "                           Logit Regression Results                           \n",
      "==============================================================================\n",
      "Dep. Variable:                  Que16   No. Observations:                  960\n",
      "Model:                          Logit   Df Residuals:                      938\n",
      "Method:                           MLE   Df Model:                           21\n",
      "Date:                Thu, 02 Sep 2021   Pseudo R-squ.:                  0.1446\n",
      "Time:                        16:36:55   Log-Likelihood:                -569.17\n",
      "converged:                       True   LL-Null:                       -665.42\n",
      "Covariance Type:            nonrobust   LLR p-value:                 1.076e-29\n",
      "===============================================================================\n",
      "                  coef    std err          z      P>|z|      [0.025      0.975]\n",
      "-------------------------------------------------------------------------------\n",
      "const          -1.4171      0.257     -5.522      0.000      -1.920      -0.914\n",
      "Que1            0.3095      0.208      1.488      0.137      -0.098       0.717\n",
      "Que2           -0.2327      0.156     -1.492      0.136      -0.538       0.073\n",
      "Que3            0.3241      0.163      1.988      0.047       0.005       0.644\n",
      "Que4            0.0570      0.187      0.304      0.761      -0.310       0.424\n",
      "Que5            0.0309      0.460      0.067      0.946      -0.870       0.932\n",
      "Que6            0.2443      0.152      1.612      0.107      -0.053       0.541\n",
      "Que10_a        -0.0098      0.162     -0.060      0.952      -0.328       0.309\n",
      "Que10_b         0.1720      0.257      0.669      0.503      -0.332       0.676\n",
      "Que10_c         0.1647      0.169      0.978      0.328      -0.166       0.495\n",
      "Que10_d         0.1773      0.158      1.121      0.262      -0.133       0.487\n",
      "Que10_e        -1.7456      0.736     -2.371      0.018      -3.188      -0.303\n",
      "Que10_f         0.1650      0.153      1.079      0.281      -0.135       0.465\n",
      "Que14          -0.3669      0.211     -1.736      0.083      -0.781       0.047\n",
      "Que15           1.2481      0.158      7.911      0.000       0.939       1.557\n",
      "Que17           1.5213      0.529      2.875      0.004       0.484       2.558\n",
      "Que18_age       0.0672      0.204      0.329      0.742      -0.333       0.467\n",
      "Que19           0.9668      0.304      3.177      0.001       0.370       1.563\n",
      "Que20           1.4723      0.520      2.832      0.005       0.453       2.491\n",
      "Que21           0.0329      0.160      0.206      0.837      -0.280       0.346\n",
      "Que22           0.2849      0.155      1.840      0.066      -0.019       0.588\n",
      "Que_smoking     0.1519      0.165      0.922      0.356      -0.171       0.475\n",
      "===============================================================================\n",
      "(array([0., 1.]), array([ 71, 117]))\n",
      "Test recall:\t 0.6154\n",
      "Test accuracy:\t 0.6596\n",
      "Test precision:\t 0.7912\n",
      "Test ROC AUC:\t 0.6739\n",
      "Test F1 score:\t 0.6923\n",
      "Test confusion matrix:\t\n",
      "[[52 19]\n",
      " [45 72]]\n"
     ]
    }
   ],
   "source": [
    "perform_logit(X_train_ros, y_train_ros, X_test, y_test, X_cols, y_col)"
   ]
  },
  {
   "cell_type": "markdown",
   "id": "064e793f-c7ad-46d7-997e-3358b75955d0",
   "metadata": {},
   "source": [
    "### SMOTEENN"
   ]
  },
  {
   "cell_type": "code",
   "execution_count": 15,
   "id": "aa4cd6b3-319b-417e-aa99-f72173c41594",
   "metadata": {},
   "outputs": [
    {
     "name": "stdout",
     "output_type": "stream",
     "text": [
      "Mean cross-validation score: \n",
      "0.8035\n",
      "Optimization terminated successfully.\n",
      "         Current function value: 0.324453\n",
      "         Iterations 8\n",
      "                           Logit Regression Results                           \n",
      "==============================================================================\n",
      "Dep. Variable:                  Que16   No. Observations:                  491\n",
      "Model:                          Logit   Df Residuals:                      469\n",
      "Method:                           MLE   Df Model:                           21\n",
      "Date:                Thu, 02 Sep 2021   Pseudo R-squ.:                  0.5054\n",
      "Time:                        16:36:56   Log-Likelihood:                -159.31\n",
      "converged:                       True   LL-Null:                       -322.10\n",
      "Covariance Type:            nonrobust   LLR p-value:                 1.922e-56\n",
      "===============================================================================\n",
      "                  coef    std err          z      P>|z|      [0.025      0.975]\n",
      "-------------------------------------------------------------------------------\n",
      "const          -4.6662      0.720     -6.478      0.000      -6.078      -3.254\n",
      "Que1            1.4190      0.440      3.229      0.001       0.558       2.280\n",
      "Que2            0.1424      0.329      0.433      0.665      -0.502       0.787\n",
      "Que3            0.4535      0.353      1.284      0.199      -0.239       1.145\n",
      "Que4           -0.0294      0.379     -0.077      0.938      -0.773       0.714\n",
      "Que5           -1.8747      0.875     -2.144      0.032      -3.589      -0.161\n",
      "Que6            1.0248      0.322      3.178      0.001       0.393       1.657\n",
      "Que10_a         0.5221      0.365      1.432      0.152      -0.192       1.237\n",
      "Que10_b         0.4877      0.659      0.740      0.459      -0.803       1.779\n",
      "Que10_c         0.2606      0.408      0.638      0.523      -0.540       1.061\n",
      "Que10_d         0.3654      0.328      1.113      0.266      -0.278       1.009\n",
      "Que10_e         1.9422      3.515      0.552      0.581      -4.948       8.832\n",
      "Que10_f         0.4939      0.333      1.482      0.138      -0.159       1.147\n",
      "Que14          -0.7825      0.640     -1.222      0.222      -2.038       0.473\n",
      "Que15           3.3143      0.335      9.890      0.000       2.657       3.971\n",
      "Que17           3.4097      1.276      2.673      0.008       0.910       5.910\n",
      "Que18_age       1.5067      0.461      3.265      0.001       0.602       2.411\n",
      "Que19           1.1038      0.565      1.953      0.051      -0.004       2.211\n",
      "Que20           0.4436      0.754      0.588      0.556      -1.035       1.922\n",
      "Que21           0.1032      0.326      0.316      0.752      -0.536       0.743\n",
      "Que22           0.4445      0.350      1.268      0.205      -0.242       1.131\n",
      "Que_smoking     0.4242      0.348      1.220      0.222      -0.257       1.106\n",
      "===============================================================================\n",
      "(array([0., 1.]), array([ 71, 117]))\n",
      "Test recall:\t 0.6068\n",
      "Test accuracy:\t 0.6968\n",
      "Test precision:\t 0.8659\n",
      "Test ROC AUC:\t 0.726\n",
      "Test F1 score:\t 0.7136\n",
      "Test confusion matrix:\t\n",
      "[[60 11]\n",
      " [46 71]]\n"
     ]
    }
   ],
   "source": [
    "perform_logit(X_train_smote_enn, y_train_smote_enn, X_test, y_test, X_cols, y_col)"
   ]
  },
  {
   "cell_type": "markdown",
   "id": "dd430544-89fe-40ca-806c-19eba28a4eff",
   "metadata": {},
   "source": [
    "## Random Forest"
   ]
  },
  {
   "cell_type": "markdown",
   "id": "34fa51a3-bf8f-40ba-8ea0-bb6da1ccca7e",
   "metadata": {},
   "source": [
    "### No balance"
   ]
  },
  {
   "cell_type": "code",
   "execution_count": 16,
   "id": "a669c507-1808-4abb-9cae-4f13dbbdf7d7",
   "metadata": {},
   "outputs": [
    {
     "name": "stdout",
     "output_type": "stream",
     "text": [
      "Fitting 5 folds for each of 2970 candidates, totalling 14850 fits\n",
      "Best parameters:\n",
      "Grid search time: 0:04:27.119910\n",
      "Mean cross-validation score of best model: \n",
      "0.8854166666666667\n",
      "{'bootstrap': True,\n",
      " 'criterion': 'gini',\n",
      " 'max_depth': 110,\n",
      " 'max_features': 'sqrt',\n",
      " 'min_samples_leaf': 4,\n",
      " 'min_samples_split': 10,\n",
      " 'n_estimators': 15}\n",
      "{'bootstrap': True,\n",
      " 'ccp_alpha': 0.0,\n",
      " 'class_weight': None,\n",
      " 'criterion': 'gini',\n",
      " 'max_depth': 110,\n",
      " 'max_features': 'sqrt',\n",
      " 'max_leaf_nodes': None,\n",
      " 'max_samples': None,\n",
      " 'min_impurity_decrease': 0.0,\n",
      " 'min_impurity_split': None,\n",
      " 'min_samples_leaf': 4,\n",
      " 'min_samples_split': 10,\n",
      " 'min_weight_fraction_leaf': 0.0,\n",
      " 'n_estimators': 15,\n",
      " 'n_jobs': None,\n",
      " 'oob_score': False,\n",
      " 'random_state': None,\n",
      " 'verbose': 0,\n",
      " 'warm_start': False}\n",
      "(array([0., 1.]), array([ 71, 117]))\n",
      "Test recall:\t 0.8547\n",
      "Test accuracy:\t 0.6596\n",
      "Test precision:\t 0.6803\n",
      "Test ROC AUC:\t 0.5964\n",
      "Test F1 score:\t 0.7576\n",
      "Test confusion matrix:\t\n",
      "[[ 24  47]\n",
      " [ 17 100]]\n",
      "Elapsed time to compute the importances: 0.018 seconds\n"
     ]
    },
    {
     "data": {
      "image/png": "[encoded data removed]",
      "text/plain": [
       "<Figure size 432x288 with 1 Axes>"
      ]
     },
     "metadata": {
      "needs_background": "light"
     },
     "output_type": "display_data"
    }
   ],
   "source": [
    "perform_random_forest(X_train, y_train, X_test, y_test)"
   ]
  },
  {
   "cell_type": "markdown",
   "id": "fcf8a7f1-d667-4b31-b11b-9921b775bd5d",
   "metadata": {},
   "source": [
    "### Undersampling"
   ]
  },
  {
   "cell_type": "code",
   "execution_count": 17,
   "id": "f4831808-d502-4979-a2eb-5f709dca9778",
   "metadata": {},
   "outputs": [
    {
     "name": "stdout",
     "output_type": "stream",
     "text": [
      "Fitting 5 folds for each of 2970 candidates, totalling 14850 fits\n",
      "Best parameters:\n",
      "Grid search time: 0:04:19.840685\n",
      "Mean cross-validation score of best model: \n",
      "0.7202655485674354\n",
      "{'bootstrap': True,\n",
      " 'criterion': 'gini',\n",
      " 'max_depth': 65,\n",
      " 'max_features': 'sqrt',\n",
      " 'min_samples_leaf': 1,\n",
      " 'min_samples_split': 2,\n",
      " 'n_estimators': 15}\n",
      "{'bootstrap': True,\n",
      " 'ccp_alpha': 0.0,\n",
      " 'class_weight': None,\n",
      " 'criterion': 'gini',\n",
      " 'max_depth': 65,\n",
      " 'max_features': 'sqrt',\n",
      " 'max_leaf_nodes': None,\n",
      " 'max_samples': None,\n",
      " 'min_impurity_decrease': 0.0,\n",
      " 'min_impurity_split': None,\n",
      " 'min_samples_leaf': 1,\n",
      " 'min_samples_split': 2,\n",
      " 'min_weight_fraction_leaf': 0.0,\n",
      " 'n_estimators': 15,\n",
      " 'n_jobs': None,\n",
      " 'oob_score': False,\n",
      " 'random_state': None,\n",
      " 'verbose': 0,\n",
      " 'warm_start': False}\n",
      "(array([0., 1.]), array([ 71, 117]))\n",
      "Test recall:\t 0.5983\n",
      "Test accuracy:\t 0.5851\n",
      "Test precision:\t 0.6931\n",
      "Test ROC AUC:\t 0.5808\n",
      "Test F1 score:\t 0.6422\n",
      "Test confusion matrix:\t\n",
      "[[40 31]\n",
      " [47 70]]\n",
      "Elapsed time to compute the importances: 0.018 seconds\n"
     ]
    },
    {
     "data": {
      "image/png": "[encoded data removed]",
      "text/plain": [
       "<Figure size 432x288 with 1 Axes>"
      ]
     },
     "metadata": {
      "needs_background": "light"
     },
     "output_type": "display_data"
    }
   ],
   "source": [
    "perform_random_forest(X_train_rus, y_train_rus, X_test, y_test)"
   ]
  },
  {
   "cell_type": "markdown",
   "id": "434be831-c603-4610-9390-b36122112709",
   "metadata": {},
   "source": [
    "### Oversampling"
   ]
  },
  {
   "cell_type": "code",
   "execution_count": 18,
   "id": "eff111a1-f16d-43f9-b8fc-67af75510881",
   "metadata": {},
   "outputs": [
    {
     "name": "stdout",
     "output_type": "stream",
     "text": [
      "Fitting 5 folds for each of 2970 candidates, totalling 14850 fits\n"
     ]
    },
    {
     "ename": "KeyboardInterrupt",
     "evalue": "",
     "output_type": "error",
     "traceback": [
      "\u001b[0;31m---------------------------------------------------------------------------\u001b[0m",
      "\u001b[0;31mKeyboardInterrupt\u001b[0m                         Traceback (most recent call last)",
      "\u001b[0;32m/tmp/ipykernel_20590/851577931.py\u001b[0m in \u001b[0;36m<module>\u001b[0;34m\u001b[0m\n\u001b[0;32m----> 1\u001b[0;31m \u001b[0mperform_random_forest\u001b[0m\u001b[0;34m(\u001b[0m\u001b[0mX_train_ros\u001b[0m\u001b[0;34m,\u001b[0m \u001b[0my_train_ros\u001b[0m\u001b[0;34m,\u001b[0m \u001b[0mX_test\u001b[0m\u001b[0;34m,\u001b[0m \u001b[0my_test\u001b[0m\u001b[0;34m)\u001b[0m\u001b[0;34m\u001b[0m\u001b[0;34m\u001b[0m\u001b[0m\n\u001b[0m",
      "\u001b[0;32m/tmp/ipykernel_20590/1077252474.py\u001b[0m in \u001b[0;36mperform_random_forest\u001b[0;34m(X_train, y_train, X_test, y_test)\u001b[0m\n\u001b[1;32m     29\u001b[0m                             return_train_score=rf_return_train_score)\n\u001b[1;32m     30\u001b[0m     \u001b[0mstart_time\u001b[0m \u001b[0;34m=\u001b[0m \u001b[0mtime\u001b[0m\u001b[0;34m.\u001b[0m\u001b[0mtime\u001b[0m\u001b[0;34m(\u001b[0m\u001b[0;34m)\u001b[0m\u001b[0;34m\u001b[0m\u001b[0;34m\u001b[0m\u001b[0m\n\u001b[0;32m---> 31\u001b[0;31m     \u001b[0mrf_grid\u001b[0m\u001b[0;34m.\u001b[0m\u001b[0mfit\u001b[0m\u001b[0;34m(\u001b[0m\u001b[0mX_train\u001b[0m\u001b[0;34m,\u001b[0m \u001b[0my_train\u001b[0m\u001b[0;34m)\u001b[0m\u001b[0;34m\u001b[0m\u001b[0;34m\u001b[0m\u001b[0m\n\u001b[0m\u001b[1;32m     32\u001b[0m     \u001b[0mend_time\u001b[0m \u001b[0;34m=\u001b[0m \u001b[0mtime\u001b[0m\u001b[0;34m.\u001b[0m\u001b[0mtime\u001b[0m\u001b[0;34m(\u001b[0m\u001b[0;34m)\u001b[0m\u001b[0;34m\u001b[0m\u001b[0;34m\u001b[0m\u001b[0m\n\u001b[1;32m     33\u001b[0m     \u001b[0mconv_time\u001b[0m \u001b[0;34m=\u001b[0m \u001b[0mdatetime\u001b[0m\u001b[0;34m.\u001b[0m\u001b[0mtimedelta\u001b[0m\u001b[0;34m(\u001b[0m\u001b[0mseconds\u001b[0m\u001b[0;34m=\u001b[0m\u001b[0mend_time\u001b[0m\u001b[0;34m-\u001b[0m\u001b[0mstart_time\u001b[0m\u001b[0;34m)\u001b[0m\u001b[0;34m\u001b[0m\u001b[0;34m\u001b[0m\u001b[0m\n",
      "\u001b[0;32m~/anaconda3/envs/master-env/lib/python3.7/site-packages/sklearn/utils/validation.py\u001b[0m in \u001b[0;36minner_f\u001b[0;34m(*args, **kwargs)\u001b[0m\n\u001b[1;32m     61\u001b[0m             \u001b[0mextra_args\u001b[0m \u001b[0;34m=\u001b[0m \u001b[0mlen\u001b[0m\u001b[0;34m(\u001b[0m\u001b[0margs\u001b[0m\u001b[0;34m)\u001b[0m \u001b[0;34m-\u001b[0m \u001b[0mlen\u001b[0m\u001b[0;34m(\u001b[0m\u001b[0mall_args\u001b[0m\u001b[0;34m)\u001b[0m\u001b[0;34m\u001b[0m\u001b[0;34m\u001b[0m\u001b[0m\n\u001b[1;32m     62\u001b[0m             \u001b[0;32mif\u001b[0m \u001b[0mextra_args\u001b[0m \u001b[0;34m<=\u001b[0m \u001b[0;36m0\u001b[0m\u001b[0;34m:\u001b[0m\u001b[0;34m\u001b[0m\u001b[0;34m\u001b[0m\u001b[0m\n\u001b[0;32m---> 63\u001b[0;31m                 \u001b[0;32mreturn\u001b[0m \u001b[0mf\u001b[0m\u001b[0;34m(\u001b[0m\u001b[0;34m*\u001b[0m\u001b[0margs\u001b[0m\u001b[0;34m,\u001b[0m \u001b[0;34m**\u001b[0m\u001b[0mkwargs\u001b[0m\u001b[0;34m)\u001b[0m\u001b[0;34m\u001b[0m\u001b[0;34m\u001b[0m\u001b[0m\n\u001b[0m\u001b[1;32m     64\u001b[0m \u001b[0;34m\u001b[0m\u001b[0m\n\u001b[1;32m     65\u001b[0m             \u001b[0;31m# extra_args > 0\u001b[0m\u001b[0;34m\u001b[0m\u001b[0;34m\u001b[0m\u001b[0;34m\u001b[0m\u001b[0m\n",
      "\u001b[0;32m~/anaconda3/envs/master-env/lib/python3.7/site-packages/sklearn/model_selection/_search.py\u001b[0m in \u001b[0;36mfit\u001b[0;34m(self, X, y, groups, **fit_params)\u001b[0m\n\u001b[1;32m    839\u001b[0m                 \u001b[0;32mreturn\u001b[0m \u001b[0mresults\u001b[0m\u001b[0;34m\u001b[0m\u001b[0;34m\u001b[0m\u001b[0m\n\u001b[1;32m    840\u001b[0m \u001b[0;34m\u001b[0m\u001b[0m\n\u001b[0;32m--> 841\u001b[0;31m             \u001b[0mself\u001b[0m\u001b[0;34m.\u001b[0m\u001b[0m_run_search\u001b[0m\u001b[0;34m(\u001b[0m\u001b[0mevaluate_candidates\u001b[0m\u001b[0;34m)\u001b[0m\u001b[0;34m\u001b[0m\u001b[0;34m\u001b[0m\u001b[0m\n\u001b[0m\u001b[1;32m    842\u001b[0m \u001b[0;34m\u001b[0m\u001b[0m\n\u001b[1;32m    843\u001b[0m             \u001b[0;31m# multimetric is determined here because in the case of a callable\u001b[0m\u001b[0;34m\u001b[0m\u001b[0;34m\u001b[0m\u001b[0;34m\u001b[0m\u001b[0m\n",
      "\u001b[0;32m~/anaconda3/envs/master-env/lib/python3.7/site-packages/sklearn/model_selection/_search.py\u001b[0m in \u001b[0;36m_run_search\u001b[0;34m(self, evaluate_candidates)\u001b[0m\n\u001b[1;32m   1286\u001b[0m     \u001b[0;32mdef\u001b[0m \u001b[0m_run_search\u001b[0m\u001b[0;34m(\u001b[0m\u001b[0mself\u001b[0m\u001b[0;34m,\u001b[0m \u001b[0mevaluate_candidates\u001b[0m\u001b[0;34m)\u001b[0m\u001b[0;34m:\u001b[0m\u001b[0;34m\u001b[0m\u001b[0;34m\u001b[0m\u001b[0m\n\u001b[1;32m   1287\u001b[0m         \u001b[0;34m\"\"\"Search all candidates in param_grid\"\"\"\u001b[0m\u001b[0;34m\u001b[0m\u001b[0;34m\u001b[0m\u001b[0m\n\u001b[0;32m-> 1288\u001b[0;31m         \u001b[0mevaluate_candidates\u001b[0m\u001b[0;34m(\u001b[0m\u001b[0mParameterGrid\u001b[0m\u001b[0;34m(\u001b[0m\u001b[0mself\u001b[0m\u001b[0;34m.\u001b[0m\u001b[0mparam_grid\u001b[0m\u001b[0;34m)\u001b[0m\u001b[0;34m)\u001b[0m\u001b[0;34m\u001b[0m\u001b[0;34m\u001b[0m\u001b[0m\n\u001b[0m\u001b[1;32m   1289\u001b[0m \u001b[0;34m\u001b[0m\u001b[0m\n\u001b[1;32m   1290\u001b[0m \u001b[0;34m\u001b[0m\u001b[0m\n",
      "\u001b[0;32m~/anaconda3/envs/master-env/lib/python3.7/site-packages/sklearn/model_selection/_search.py\u001b[0m in \u001b[0;36mevaluate_candidates\u001b[0;34m(candidate_params, cv, more_results)\u001b[0m\n\u001b[1;32m    807\u001b[0m                                    (split_idx, (train, test)) in product(\n\u001b[1;32m    808\u001b[0m                                    \u001b[0menumerate\u001b[0m\u001b[0;34m(\u001b[0m\u001b[0mcandidate_params\u001b[0m\u001b[0;34m)\u001b[0m\u001b[0;34m,\u001b[0m\u001b[0;34m\u001b[0m\u001b[0;34m\u001b[0m\u001b[0m\n\u001b[0;32m--> 809\u001b[0;31m                                    enumerate(cv.split(X, y, groups))))\n\u001b[0m\u001b[1;32m    810\u001b[0m \u001b[0;34m\u001b[0m\u001b[0m\n\u001b[1;32m    811\u001b[0m                 \u001b[0;32mif\u001b[0m \u001b[0mlen\u001b[0m\u001b[0;34m(\u001b[0m\u001b[0mout\u001b[0m\u001b[0;34m)\u001b[0m \u001b[0;34m<\u001b[0m \u001b[0;36m1\u001b[0m\u001b[0;34m:\u001b[0m\u001b[0;34m\u001b[0m\u001b[0;34m\u001b[0m\u001b[0m\n",
      "\u001b[0;32m~/anaconda3/envs/master-env/lib/python3.7/site-packages/joblib/parallel.py\u001b[0m in \u001b[0;36m__call__\u001b[0;34m(self, iterable)\u001b[0m\n\u001b[1;32m   1059\u001b[0m \u001b[0;34m\u001b[0m\u001b[0m\n\u001b[1;32m   1060\u001b[0m             \u001b[0;32mwith\u001b[0m \u001b[0mself\u001b[0m\u001b[0;34m.\u001b[0m\u001b[0m_backend\u001b[0m\u001b[0;34m.\u001b[0m\u001b[0mretrieval_context\u001b[0m\u001b[0;34m(\u001b[0m\u001b[0;34m)\u001b[0m\u001b[0;34m:\u001b[0m\u001b[0;34m\u001b[0m\u001b[0;34m\u001b[0m\u001b[0m\n\u001b[0;32m-> 1061\u001b[0;31m                 \u001b[0mself\u001b[0m\u001b[0;34m.\u001b[0m\u001b[0mretrieve\u001b[0m\u001b[0;34m(\u001b[0m\u001b[0;34m)\u001b[0m\u001b[0;34m\u001b[0m\u001b[0;34m\u001b[0m\u001b[0m\n\u001b[0m\u001b[1;32m   1062\u001b[0m             \u001b[0;31m# Make sure that we get a last message telling us we are done\u001b[0m\u001b[0;34m\u001b[0m\u001b[0;34m\u001b[0m\u001b[0;34m\u001b[0m\u001b[0m\n\u001b[1;32m   1063\u001b[0m             \u001b[0melapsed_time\u001b[0m \u001b[0;34m=\u001b[0m \u001b[0mtime\u001b[0m\u001b[0;34m.\u001b[0m\u001b[0mtime\u001b[0m\u001b[0;34m(\u001b[0m\u001b[0;34m)\u001b[0m \u001b[0;34m-\u001b[0m \u001b[0mself\u001b[0m\u001b[0;34m.\u001b[0m\u001b[0m_start_time\u001b[0m\u001b[0;34m\u001b[0m\u001b[0;34m\u001b[0m\u001b[0m\n",
      "\u001b[0;32m~/anaconda3/envs/master-env/lib/python3.7/site-packages/joblib/parallel.py\u001b[0m in \u001b[0;36mretrieve\u001b[0;34m(self)\u001b[0m\n\u001b[1;32m    938\u001b[0m             \u001b[0;32mtry\u001b[0m\u001b[0;34m:\u001b[0m\u001b[0;34m\u001b[0m\u001b[0;34m\u001b[0m\u001b[0m\n\u001b[1;32m    939\u001b[0m                 \u001b[0;32mif\u001b[0m \u001b[0mgetattr\u001b[0m\u001b[0;34m(\u001b[0m\u001b[0mself\u001b[0m\u001b[0;34m.\u001b[0m\u001b[0m_backend\u001b[0m\u001b[0;34m,\u001b[0m \u001b[0;34m'supports_timeout'\u001b[0m\u001b[0;34m,\u001b[0m \u001b[0;32mFalse\u001b[0m\u001b[0;34m)\u001b[0m\u001b[0;34m:\u001b[0m\u001b[0;34m\u001b[0m\u001b[0;34m\u001b[0m\u001b[0m\n\u001b[0;32m--> 940\u001b[0;31m                     \u001b[0mself\u001b[0m\u001b[0;34m.\u001b[0m\u001b[0m_output\u001b[0m\u001b[0;34m.\u001b[0m\u001b[0mextend\u001b[0m\u001b[0;34m(\u001b[0m\u001b[0mjob\u001b[0m\u001b[0;34m.\u001b[0m\u001b[0mget\u001b[0m\u001b[0;34m(\u001b[0m\u001b[0mtimeout\u001b[0m\u001b[0;34m=\u001b[0m\u001b[0mself\u001b[0m\u001b[0;34m.\u001b[0m\u001b[0mtimeout\u001b[0m\u001b[0;34m)\u001b[0m\u001b[0;34m)\u001b[0m\u001b[0;34m\u001b[0m\u001b[0;34m\u001b[0m\u001b[0m\n\u001b[0m\u001b[1;32m    941\u001b[0m                 \u001b[0;32melse\u001b[0m\u001b[0;34m:\u001b[0m\u001b[0;34m\u001b[0m\u001b[0;34m\u001b[0m\u001b[0m\n\u001b[1;32m    942\u001b[0m                     \u001b[0mself\u001b[0m\u001b[0;34m.\u001b[0m\u001b[0m_output\u001b[0m\u001b[0;34m.\u001b[0m\u001b[0mextend\u001b[0m\u001b[0;34m(\u001b[0m\u001b[0mjob\u001b[0m\u001b[0;34m.\u001b[0m\u001b[0mget\u001b[0m\u001b[0;34m(\u001b[0m\u001b[0;34m)\u001b[0m\u001b[0;34m)\u001b[0m\u001b[0;34m\u001b[0m\u001b[0;34m\u001b[0m\u001b[0m\n",
      "\u001b[0;32m~/anaconda3/envs/master-env/lib/python3.7/site-packages/joblib/_parallel_backends.py\u001b[0m in \u001b[0;36mwrap_future_result\u001b[0;34m(future, timeout)\u001b[0m\n\u001b[1;32m    540\u001b[0m         AsyncResults.get from multiprocessing.\"\"\"\n\u001b[1;32m    541\u001b[0m         \u001b[0;32mtry\u001b[0m\u001b[0;34m:\u001b[0m\u001b[0;34m\u001b[0m\u001b[0;34m\u001b[0m\u001b[0m\n\u001b[0;32m--> 542\u001b[0;31m             \u001b[0;32mreturn\u001b[0m \u001b[0mfuture\u001b[0m\u001b[0;34m.\u001b[0m\u001b[0mresult\u001b[0m\u001b[0;34m(\u001b[0m\u001b[0mtimeout\u001b[0m\u001b[0;34m=\u001b[0m\u001b[0mtimeout\u001b[0m\u001b[0;34m)\u001b[0m\u001b[0;34m\u001b[0m\u001b[0;34m\u001b[0m\u001b[0m\n\u001b[0m\u001b[1;32m    543\u001b[0m         \u001b[0;32mexcept\u001b[0m \u001b[0mCfTimeoutError\u001b[0m \u001b[0;32mas\u001b[0m \u001b[0me\u001b[0m\u001b[0;34m:\u001b[0m\u001b[0;34m\u001b[0m\u001b[0;34m\u001b[0m\u001b[0m\n\u001b[1;32m    544\u001b[0m             \u001b[0;32mraise\u001b[0m \u001b[0mTimeoutError\u001b[0m \u001b[0;32mfrom\u001b[0m \u001b[0me\u001b[0m\u001b[0;34m\u001b[0m\u001b[0;34m\u001b[0m\u001b[0m\n",
      "\u001b[0;32m~/anaconda3/envs/master-env/lib/python3.7/concurrent/futures/_base.py\u001b[0m in \u001b[0;36mresult\u001b[0;34m(self, timeout)\u001b[0m\n\u001b[1;32m    428\u001b[0m                 \u001b[0;32mreturn\u001b[0m \u001b[0mself\u001b[0m\u001b[0;34m.\u001b[0m\u001b[0m__get_result\u001b[0m\u001b[0;34m(\u001b[0m\u001b[0;34m)\u001b[0m\u001b[0;34m\u001b[0m\u001b[0;34m\u001b[0m\u001b[0m\n\u001b[1;32m    429\u001b[0m \u001b[0;34m\u001b[0m\u001b[0m\n\u001b[0;32m--> 430\u001b[0;31m             \u001b[0mself\u001b[0m\u001b[0;34m.\u001b[0m\u001b[0m_condition\u001b[0m\u001b[0;34m.\u001b[0m\u001b[0mwait\u001b[0m\u001b[0;34m(\u001b[0m\u001b[0mtimeout\u001b[0m\u001b[0;34m)\u001b[0m\u001b[0;34m\u001b[0m\u001b[0;34m\u001b[0m\u001b[0m\n\u001b[0m\u001b[1;32m    431\u001b[0m \u001b[0;34m\u001b[0m\u001b[0m\n\u001b[1;32m    432\u001b[0m             \u001b[0;32mif\u001b[0m \u001b[0mself\u001b[0m\u001b[0;34m.\u001b[0m\u001b[0m_state\u001b[0m \u001b[0;32min\u001b[0m \u001b[0;34m[\u001b[0m\u001b[0mCANCELLED\u001b[0m\u001b[0;34m,\u001b[0m \u001b[0mCANCELLED_AND_NOTIFIED\u001b[0m\u001b[0;34m]\u001b[0m\u001b[0;34m:\u001b[0m\u001b[0;34m\u001b[0m\u001b[0;34m\u001b[0m\u001b[0m\n",
      "\u001b[0;32m~/anaconda3/envs/master-env/lib/python3.7/threading.py\u001b[0m in \u001b[0;36mwait\u001b[0;34m(self, timeout)\u001b[0m\n\u001b[1;32m    294\u001b[0m         \u001b[0;32mtry\u001b[0m\u001b[0;34m:\u001b[0m    \u001b[0;31m# restore state no matter what (e.g., KeyboardInterrupt)\u001b[0m\u001b[0;34m\u001b[0m\u001b[0;34m\u001b[0m\u001b[0m\n\u001b[1;32m    295\u001b[0m             \u001b[0;32mif\u001b[0m \u001b[0mtimeout\u001b[0m \u001b[0;32mis\u001b[0m \u001b[0;32mNone\u001b[0m\u001b[0;34m:\u001b[0m\u001b[0;34m\u001b[0m\u001b[0;34m\u001b[0m\u001b[0m\n\u001b[0;32m--> 296\u001b[0;31m                 \u001b[0mwaiter\u001b[0m\u001b[0;34m.\u001b[0m\u001b[0macquire\u001b[0m\u001b[0;34m(\u001b[0m\u001b[0;34m)\u001b[0m\u001b[0;34m\u001b[0m\u001b[0;34m\u001b[0m\u001b[0m\n\u001b[0m\u001b[1;32m    297\u001b[0m                 \u001b[0mgotit\u001b[0m \u001b[0;34m=\u001b[0m \u001b[0;32mTrue\u001b[0m\u001b[0;34m\u001b[0m\u001b[0;34m\u001b[0m\u001b[0m\n\u001b[1;32m    298\u001b[0m             \u001b[0;32melse\u001b[0m\u001b[0;34m:\u001b[0m\u001b[0;34m\u001b[0m\u001b[0;34m\u001b[0m\u001b[0m\n",
      "\u001b[0;31mKeyboardInterrupt\u001b[0m: "
     ]
    }
   ],
   "source": [
    "perform_random_forest(X_train_ros, y_train_ros, X_test, y_test)"
   ]
  },
  {
   "cell_type": "markdown",
   "id": "39d275a1-63bc-43e1-9142-bca65f5257bb",
   "metadata": {},
   "source": [
    "### SMOTEENN"
   ]
  },
  {
   "cell_type": "code",
   "execution_count": null,
   "id": "d8f9e2a6-7823-4001-a0f5-38101dcb6a0d",
   "metadata": {},
   "outputs": [],
   "source": [
    "perform_random_forest(X_train_smote_enn, y_train_smote_enn, X_test, y_test)"
   ]
  },
  {
   "cell_type": "markdown",
   "id": "968c8b98-3bf9-457b-b4e2-02c9c63a4160",
   "metadata": {},
   "source": [
    "## Decision Tree"
   ]
  },
  {
   "cell_type": "markdown",
   "id": "7c3db033-ac79-4307-bcab-84b3dfdcef79",
   "metadata": {},
   "source": [
    "### No balance"
   ]
  },
  {
   "cell_type": "code",
   "execution_count": null,
   "id": "c46a02eb-47e2-456c-ad6c-d11820393d0f",
   "metadata": {},
   "outputs": [],
   "source": [
    "perform_decision_tree(X_train, y_train, X_test, y_test)"
   ]
  },
  {
   "cell_type": "markdown",
   "id": "6c19520c-3f63-45e1-a7f1-8acec823e985",
   "metadata": {},
   "source": [
    "### Undersampling"
   ]
  },
  {
   "cell_type": "code",
   "execution_count": null,
   "id": "9ee807de-330f-463f-80cf-8ca97c5fa4fd",
   "metadata": {},
   "outputs": [],
   "source": [
    "perform_decision_tree(X_train_rus, y_train_rus, X_test, y_test)"
   ]
  },
  {
   "cell_type": "markdown",
   "id": "6537df7a-7004-4063-a5f2-74bde5bb1682",
   "metadata": {},
   "source": [
    "### Oversampling"
   ]
  },
  {
   "cell_type": "code",
   "execution_count": null,
   "id": "4ec261db-103f-47c5-a553-5a32d94d4f82",
   "metadata": {},
   "outputs": [],
   "source": [
    "perform_decision_tree(X_train_ros, y_train_ros, X_test, y_test)"
   ]
  },
  {
   "cell_type": "markdown",
   "id": "2b0ed88b-5eb8-48fb-b286-96cc466a28a2",
   "metadata": {},
   "source": [
    "### SMOTEENN"
   ]
  },
  {
   "cell_type": "code",
   "execution_count": null,
   "id": "22edb14a-7573-4976-a1a9-4b8a384819cb",
   "metadata": {},
   "outputs": [],
   "source": [
    "perform_decision_tree(X_train_smote_enn, y_train_smote_enn, X_test, y_test)"
   ]
  },
  {
   "cell_type": "markdown",
   "id": "4f46e186-988a-4f2c-b8e1-0583e320ebaf",
   "metadata": {},
   "source": [
    "# Strategy 2 - median"
   ]
  },
  {
   "cell_type": "code",
   "execution_count": null,
   "id": "b7efa626-7516-4558-8a43-34642249fc37",
   "metadata": {},
   "outputs": [],
   "source": [
    "imputer = SimpleImputer(missing_values=np.nan, strategy='median')\n",
    "data_median = pd.DataFrame(imputer.fit_transform(data))\n",
    "data_median.columns = data.columns\n",
    "data_median.index = data.index\n",
    "data_median = perform_mapping(data_median, questions_map_EN)\n",
    "model_data = data_median.drop(columns=['Que16'])\n",
    "target_data = data_median['Que16']\n",
    "X_train, X_test, y_train, y_test = train_test_split(model_data.values, target_data.values, test_size=0.20, random_state=42)\n",
    "# balancing data\n",
    "rus = RandomUnderSampler(random_state=0)\n",
    "X_train_rus, y_train_rus = rus.fit_resample(X_train, y_train)\n",
    "ros = RandomOverSampler(random_state=0)\n",
    "X_train_ros, y_train_ros = ros.fit_resample(X_train, y_train)\n",
    "smote_enn = SMOTEENN(random_state=0)\n",
    "X_train_smote_enn, y_train_smote_enn = smote_enn.fit_resample(X_train, y_train)"
   ]
  },
  {
   "cell_type": "markdown",
   "id": "f3ca317f-96ec-488a-a65a-ab4b9768b013",
   "metadata": {},
   "source": [
    "## Logistic Regression"
   ]
  },
  {
   "cell_type": "markdown",
   "id": "b9e5fd7d-6997-46bf-80d9-ae5fd226d664",
   "metadata": {},
   "source": [
    "### No balance"
   ]
  },
  {
   "cell_type": "code",
   "execution_count": null,
   "id": "68caf9de-6a45-4c53-8b87-b6dacbf5d4cc",
   "metadata": {},
   "outputs": [],
   "source": [
    "perform_logit(X_train, y_train, X_test, y_test, X_cols, y_col)"
   ]
  },
  {
   "cell_type": "markdown",
   "id": "585e0686-9b96-4b65-9435-d60c319e0f72",
   "metadata": {},
   "source": [
    "### Undersampling"
   ]
  },
  {
   "cell_type": "code",
   "execution_count": null,
   "id": "19e58805-3175-41b6-8e34-3bc169d56b8a",
   "metadata": {},
   "outputs": [],
   "source": [
    "perform_logit(X_train_rus, y_train_rus, X_test, y_test, X_cols, y_col)"
   ]
  },
  {
   "cell_type": "markdown",
   "id": "bc7f61ca-6758-4acb-be3e-edd37a5d7a69",
   "metadata": {},
   "source": [
    "### Oversampling"
   ]
  },
  {
   "cell_type": "code",
   "execution_count": null,
   "id": "3003d81a-d5f8-4e4c-ab0e-7e639df492d1",
   "metadata": {},
   "outputs": [],
   "source": [
    "perform_logit(X_train_ros, y_train_ros, X_test, y_test, X_cols, y_col)"
   ]
  },
  {
   "cell_type": "markdown",
   "id": "cd32fee4-ab32-4648-a1dc-b609a9f8f11c",
   "metadata": {},
   "source": [
    "### SMOTEENN"
   ]
  },
  {
   "cell_type": "code",
   "execution_count": null,
   "id": "d78286c0-c367-4686-8e63-ff996b2012b8",
   "metadata": {},
   "outputs": [],
   "source": [
    "perform_logit(X_train_smote_enn, y_train_smote_enn, X_test, y_test, X_cols, y_col)"
   ]
  },
  {
   "cell_type": "markdown",
   "id": "2c259d8c-2f30-444d-84c7-a9f2069d0e30",
   "metadata": {},
   "source": [
    "## Random Forest"
   ]
  },
  {
   "cell_type": "markdown",
   "id": "40dd87a6-6067-4111-bebb-31a792d899a4",
   "metadata": {},
   "source": [
    "### No balance"
   ]
  },
  {
   "cell_type": "code",
   "execution_count": null,
   "id": "268c798b-feb8-4f8b-90fa-9b55dc7a694a",
   "metadata": {},
   "outputs": [],
   "source": [
    "perform_random_forest(X_train, y_train, X_test, y_test)"
   ]
  },
  {
   "cell_type": "markdown",
   "id": "eaddf8f0-9854-4992-a80a-64af6749ffc3",
   "metadata": {},
   "source": [
    "### Undersampling"
   ]
  },
  {
   "cell_type": "code",
   "execution_count": null,
   "id": "3718a0da-f3b0-4287-be34-9e9ba9fcae34",
   "metadata": {},
   "outputs": [],
   "source": [
    "perform_random_forest(X_train_rus, y_train_rus, X_test, y_test)"
   ]
  },
  {
   "cell_type": "markdown",
   "id": "502bf62a-5ed5-4488-bf2e-684b473ec38a",
   "metadata": {},
   "source": [
    "### Oversampling"
   ]
  },
  {
   "cell_type": "code",
   "execution_count": null,
   "id": "01a8acda-280c-4821-b832-708981eec1b9",
   "metadata": {},
   "outputs": [],
   "source": [
    "perform_random_forest(X_train_ros, y_train_ros, X_test, y_test)"
   ]
  },
  {
   "cell_type": "markdown",
   "id": "e8dac8cb-7e56-40b8-80b7-cc5a9d8365e8",
   "metadata": {},
   "source": [
    "### SMOTEENN"
   ]
  },
  {
   "cell_type": "code",
   "execution_count": null,
   "id": "0a3f8e5e-689f-4ca2-919d-2a6568040e30",
   "metadata": {},
   "outputs": [],
   "source": [
    "perform_random_forest(X_train_smote_enn, y_train_smote_enn, X_test, y_test)"
   ]
  },
  {
   "cell_type": "markdown",
   "id": "ba111ec5-b2c8-4cc4-b8c7-a611b08c0aff",
   "metadata": {},
   "source": [
    "## Decision Tree"
   ]
  },
  {
   "cell_type": "markdown",
   "id": "e158766e-602a-4336-b6b6-db41985595f3",
   "metadata": {},
   "source": [
    "### No balance"
   ]
  },
  {
   "cell_type": "code",
   "execution_count": null,
   "id": "ff7be0e4-c066-4905-9867-51b7aa74ac78",
   "metadata": {},
   "outputs": [],
   "source": [
    "perform_decision_tree(X_train, y_train, X_test, y_test)"
   ]
  },
  {
   "cell_type": "markdown",
   "id": "d04d2650-3ad3-447b-bd30-965b229ee8ce",
   "metadata": {},
   "source": [
    "### Undersampling"
   ]
  },
  {
   "cell_type": "code",
   "execution_count": null,
   "id": "ffbf0455-3b17-4c9e-88ba-59df4f2910a9",
   "metadata": {},
   "outputs": [],
   "source": [
    "perform_decision_tree(X_train_rus, y_train_rus, X_test, y_test)"
   ]
  },
  {
   "cell_type": "markdown",
   "id": "7bf929a2-471e-49ee-8590-a569963f2073",
   "metadata": {},
   "source": [
    "### Oversampling"
   ]
  },
  {
   "cell_type": "code",
   "execution_count": null,
   "id": "3e9ebaa0-06a7-47af-a941-227624e8a10f",
   "metadata": {},
   "outputs": [],
   "source": [
    "perform_decision_tree(X_train_ros, y_train_ros, X_test, y_test)"
   ]
  },
  {
   "cell_type": "markdown",
   "id": "3e696ba4-615c-44e6-a7cc-8552d408d038",
   "metadata": {},
   "source": [
    "### SMOTEENN"
   ]
  },
  {
   "cell_type": "code",
   "execution_count": null,
   "id": "3bad3ea7-f9e0-4368-8393-e5854656ea64",
   "metadata": {},
   "outputs": [],
   "source": [
    "perform_decision_tree(X_train_smote_enn, y_train_smote_enn, X_test, y_test)"
   ]
  },
  {
   "cell_type": "markdown",
   "id": "9783b6c2-f210-4bb1-aa80-48805d2fefd1",
   "metadata": {},
   "source": [
    "# Strategy 3 - mean"
   ]
  },
  {
   "cell_type": "code",
   "execution_count": null,
   "id": "394dd854-7993-4130-b0f3-6768908b70b1",
   "metadata": {},
   "outputs": [],
   "source": [
    "imputer = SimpleImputer(missing_values=np.nan, strategy='mean')\n",
    "data_mean = pd.DataFrame(imputer.fit_transform(data))\n",
    "data_mean.columns = data.columns\n",
    "data_mean.index = data.index\n",
    "# mean values are not integer numbers so rounding to int was necessary\n",
    "data_mean = data_mean.round()\n",
    "data_mean = perform_mapping(data_mean, questions_map_EN)\n",
    "model_data = data_mean.drop(columns=['Que16'])\n",
    "target_data = data_mean['Que16']\n",
    "X_train, X_test, y_train, y_test = train_test_split(model_data.values, target_data.values, test_size=0.20, random_state=42)\n",
    "# balancing data\n",
    "rus = RandomUnderSampler(random_state=0)\n",
    "X_train_rus, y_train_rus = rus.fit_resample(X_train, y_train)\n",
    "ros = RandomOverSampler(random_state=0)\n",
    "X_train_ros, y_train_ros = ros.fit_resample(X_train, y_train)\n",
    "smote_enn = SMOTEENN(random_state=0)\n",
    "X_train_smote_enn, y_train_smote_enn = smote_enn.fit_resample(X_train, y_train)"
   ]
  },
  {
   "cell_type": "markdown",
   "id": "c7384f17-de59-4022-89c7-9151256176ea",
   "metadata": {},
   "source": [
    "## Logistic Regression"
   ]
  },
  {
   "cell_type": "markdown",
   "id": "cdd1f622-d4ee-4d45-a8f3-013b36c0a0bb",
   "metadata": {},
   "source": [
    "### No balance"
   ]
  },
  {
   "cell_type": "code",
   "execution_count": null,
   "id": "6a8b6733-ed68-40b9-9f13-7c0b5f6047e1",
   "metadata": {},
   "outputs": [],
   "source": [
    "perform_logit(X_train, y_train, X_test, y_test, X_cols, y_col)"
   ]
  },
  {
   "cell_type": "markdown",
   "id": "e46eb21d-baa3-45b9-8374-4eb04b91587f",
   "metadata": {},
   "source": [
    "### Undersampling"
   ]
  },
  {
   "cell_type": "code",
   "execution_count": null,
   "id": "4b108a15-f6d3-4332-9021-04c56d736800",
   "metadata": {},
   "outputs": [],
   "source": [
    "perform_logit(X_train_rus, y_train_rus, X_test, y_test, X_cols, y_col)"
   ]
  },
  {
   "cell_type": "markdown",
   "id": "5f474efe-6e4d-454f-a517-c45b7ff8eac3",
   "metadata": {},
   "source": [
    "### Oversampling"
   ]
  },
  {
   "cell_type": "code",
   "execution_count": null,
   "id": "e55e2a89-3256-4cb1-a930-d332e544a7b9",
   "metadata": {},
   "outputs": [],
   "source": [
    "perform_logit(X_train_ros, y_train_ros, X_test, y_test, X_cols, y_col)"
   ]
  },
  {
   "cell_type": "markdown",
   "id": "5015c763-4e56-4b7c-aa05-5788d2905985",
   "metadata": {},
   "source": [
    "### SMOTEENN"
   ]
  },
  {
   "cell_type": "code",
   "execution_count": null,
   "id": "2d60c374-6f99-42fe-8e4b-c40c20b431e3",
   "metadata": {},
   "outputs": [],
   "source": [
    "perform_logit(X_train_smote_enn, y_train_smote_enn, X_test, y_test, X_cols, y_col)"
   ]
  },
  {
   "cell_type": "markdown",
   "id": "05c27f53-3594-45a7-986f-a5f923449f85",
   "metadata": {},
   "source": [
    "## Random Forest"
   ]
  },
  {
   "cell_type": "markdown",
   "id": "9ade1045-4022-4107-b799-41edbb663624",
   "metadata": {},
   "source": [
    "### No balance"
   ]
  },
  {
   "cell_type": "code",
   "execution_count": null,
   "id": "0ea84081-abf1-427a-8017-b37c499ce6d2",
   "metadata": {},
   "outputs": [],
   "source": [
    "perform_random_forest(X_train, y_train, X_test, y_test)"
   ]
  },
  {
   "cell_type": "markdown",
   "id": "771dfa69-fe3e-417f-b056-d8054d481242",
   "metadata": {},
   "source": [
    "### Undersampling"
   ]
  },
  {
   "cell_type": "code",
   "execution_count": null,
   "id": "9801863f-1ed9-4112-805f-c6d88615e96c",
   "metadata": {},
   "outputs": [],
   "source": [
    "perform_random_forest(X_train_rus, y_train_rus, X_test, y_test)"
   ]
  },
  {
   "cell_type": "markdown",
   "id": "eee15827-d405-4545-87cb-66d0bfcda305",
   "metadata": {},
   "source": [
    "### Oversampling"
   ]
  },
  {
   "cell_type": "code",
   "execution_count": null,
   "id": "91729c41-fe30-4e2f-bc84-5bf674f861b2",
   "metadata": {},
   "outputs": [],
   "source": [
    "perform_random_forest(X_train_ros, y_train_ros, X_test, y_test)"
   ]
  },
  {
   "cell_type": "markdown",
   "id": "966fdeb6-9522-462f-8344-b5cf8b7747b6",
   "metadata": {},
   "source": [
    "### SMOTEENN"
   ]
  },
  {
   "cell_type": "code",
   "execution_count": null,
   "id": "b7438cf4-cf2e-4b29-ba61-aac89a86321e",
   "metadata": {},
   "outputs": [],
   "source": [
    "perform_random_forest(X_train_smote_enn, y_train_smote_enn, X_test, y_test)"
   ]
  },
  {
   "cell_type": "markdown",
   "id": "b2f48575-c85f-46f4-8046-60cd7825fadd",
   "metadata": {},
   "source": [
    "## Decision Tree"
   ]
  },
  {
   "cell_type": "markdown",
   "id": "4cdea0e0-e821-4189-b0ef-67deead620a4",
   "metadata": {},
   "source": [
    "### No balance"
   ]
  },
  {
   "cell_type": "code",
   "execution_count": null,
   "id": "4cec8aa1-d87d-4a82-8635-9524986bf316",
   "metadata": {},
   "outputs": [],
   "source": [
    "perform_decision_tree(X_train, y_train, X_test, y_test)"
   ]
  },
  {
   "cell_type": "markdown",
   "id": "c199e85f-6254-4276-826a-9ceab00a76f0",
   "metadata": {},
   "source": [
    "### Undersampling"
   ]
  },
  {
   "cell_type": "code",
   "execution_count": null,
   "id": "3787e25c-9a39-4b5d-99f7-973af5b945d3",
   "metadata": {},
   "outputs": [],
   "source": [
    "perform_decision_tree(X_train_rus, y_train_rus, X_test, y_test)"
   ]
  },
  {
   "cell_type": "markdown",
   "id": "f37637f9-78b6-4600-b38f-4e2c81e02d9d",
   "metadata": {},
   "source": [
    "### Oversampling"
   ]
  },
  {
   "cell_type": "code",
   "execution_count": null,
   "id": "447027fb-9421-4dd0-b25a-c32cc173b94f",
   "metadata": {},
   "outputs": [],
   "source": [
    "perform_decision_tree(X_train_ros, y_train_ros, X_test, y_test)"
   ]
  },
  {
   "cell_type": "markdown",
   "id": "13eca072-624a-4c3e-baf3-7057a2a43c56",
   "metadata": {},
   "source": [
    "### SMOTEENN"
   ]
  },
  {
   "cell_type": "code",
   "execution_count": null,
   "id": "c1a0d673-8aff-47e5-8635-3ce88d698845",
   "metadata": {},
   "outputs": [],
   "source": [
    "perform_decision_tree(X_train_smote_enn, y_train_smote_enn, X_test, y_test)"
   ]
  },
  {
   "cell_type": "markdown",
   "id": "36b7787c-8f63-4f3f-9681-5e2f2940c282",
   "metadata": {},
   "source": [
    "# Strategy 4 - most frequent"
   ]
  },
  {
   "cell_type": "code",
   "execution_count": null,
   "id": "ef4e7dcc-0a44-47b0-accc-a4381c1f448e",
   "metadata": {},
   "outputs": [],
   "source": [
    "imputer = SimpleImputer(missing_values=np.nan, strategy='most_frequent')\n",
    "data_most_frequent = pd.DataFrame(imputer.fit_transform(data))\n",
    "data_most_frequent.columns = data.columns\n",
    "data_most_frequent.index = data.index\n",
    "# mean values are not integer numbers so rounding to int was necessary\n",
    "data_most_frequent = perform_mapping(data_most_frequent, questions_map_EN)\n",
    "model_data = data_most_frequent.drop(columns=['Que16'])\n",
    "target_data = data_most_frequent['Que16']\n",
    "X_train, X_test, y_train, y_test = train_test_split(model_data.values, target_data.values, test_size=0.20, random_state=42)\n",
    "# balancing data\n",
    "rus = RandomUnderSampler(random_state=0)\n",
    "X_train_rus, y_train_rus = rus.fit_resample(X_train, y_train)\n",
    "ros = RandomOverSampler(random_state=0)\n",
    "X_train_ros, y_train_ros = ros.fit_resample(X_train, y_train)\n",
    "smote_enn = SMOTEENN(random_state=0)\n",
    "X_train_smote_enn, y_train_smote_enn = smote_enn.fit_resample(X_train, y_train)"
   ]
  },
  {
   "cell_type": "markdown",
   "id": "733c83c7-8a1d-425f-9d89-8d44e5f031c7",
   "metadata": {},
   "source": [
    "## Logistic Regression"
   ]
  },
  {
   "cell_type": "markdown",
   "id": "0bc98938-5a9b-49a5-992e-3048d68deb93",
   "metadata": {},
   "source": [
    "### No balance"
   ]
  },
  {
   "cell_type": "code",
   "execution_count": null,
   "id": "70d4dfd2-4f94-4469-8917-2cc0c0d07182",
   "metadata": {},
   "outputs": [],
   "source": [
    "perform_logit(X_train, y_train, X_test, y_test, X_cols, y_col)"
   ]
  },
  {
   "cell_type": "markdown",
   "id": "1b4a86ba-f3fe-4b4d-aaef-50528ae916a5",
   "metadata": {},
   "source": [
    "### Undersampling"
   ]
  },
  {
   "cell_type": "code",
   "execution_count": null,
   "id": "b2f3cd48-b4c4-4a9d-afbc-4285edaf5039",
   "metadata": {},
   "outputs": [],
   "source": [
    "perform_logit(X_train_rus, y_train_rus, X_test, y_test, X_cols, y_col)"
   ]
  },
  {
   "cell_type": "markdown",
   "id": "c2a82053-b9db-4364-8a1d-58fb6690096e",
   "metadata": {},
   "source": [
    "### Oversampling"
   ]
  },
  {
   "cell_type": "code",
   "execution_count": null,
   "id": "bb88eeed-79bc-48ab-b3ae-166f1a438cc4",
   "metadata": {},
   "outputs": [],
   "source": [
    "perform_logit(X_train_ros, y_train_ros, X_test, y_test, X_cols, y_col)"
   ]
  },
  {
   "cell_type": "markdown",
   "id": "570995c4-4a3f-471b-aff9-97b2157e7062",
   "metadata": {},
   "source": [
    "### SMOTEENN"
   ]
  },
  {
   "cell_type": "code",
   "execution_count": null,
   "id": "2c03217f-361e-4855-976d-17514b83ac58",
   "metadata": {},
   "outputs": [],
   "source": [
    "perform_logit(X_train_smote_enn, y_train_smote_enn, X_test, y_test, X_cols, y_col)"
   ]
  },
  {
   "cell_type": "markdown",
   "id": "52234724-2880-4ac1-bacb-2e0b75328e2e",
   "metadata": {},
   "source": [
    "## Random Forest"
   ]
  },
  {
   "cell_type": "markdown",
   "id": "aaecf051-be3d-40a5-ad97-c5d13bf67f64",
   "metadata": {},
   "source": [
    "### No balance"
   ]
  },
  {
   "cell_type": "code",
   "execution_count": null,
   "id": "f3ee7c00-7302-4581-aff2-1119cffa8e27",
   "metadata": {},
   "outputs": [],
   "source": [
    "perform_random_forest(X_train_smote_enn, y_train_smote_enn, X_test, y_test)"
   ]
  },
  {
   "cell_type": "markdown",
   "id": "e9dd608d-77b2-4c5e-9f78-797abb8cde1f",
   "metadata": {},
   "source": [
    "### Undersampling"
   ]
  },
  {
   "cell_type": "code",
   "execution_count": null,
   "id": "78c8f90c-003c-4688-8a95-5f40cdf6b7d7",
   "metadata": {},
   "outputs": [],
   "source": [
    "perform_random_forest(X_train_rus, y_train_rus, X_test, y_test)"
   ]
  },
  {
   "cell_type": "markdown",
   "id": "98275891-207c-47c4-9d1a-7fb440059f5c",
   "metadata": {},
   "source": [
    "### Oversampling"
   ]
  },
  {
   "cell_type": "code",
   "execution_count": null,
   "id": "91bd31a4-1cf8-4407-84a6-1b8c85efb9e5",
   "metadata": {},
   "outputs": [],
   "source": [
    "perform_random_forest(X_train_ros, y_train_ros, X_test, y_test)"
   ]
  },
  {
   "cell_type": "markdown",
   "id": "fa73defd-d7ce-4ab8-8bc6-b198deaa6182",
   "metadata": {},
   "source": [
    "### SMOTEENN"
   ]
  },
  {
   "cell_type": "code",
   "execution_count": null,
   "id": "3e627729-7734-4b55-9cce-6cf6c61995a9",
   "metadata": {},
   "outputs": [],
   "source": [
    "perform_random_forest(X_train, y_train, X_test, y_test)"
   ]
  },
  {
   "cell_type": "markdown",
   "id": "89ce2c50-9232-4b3f-bd5b-0db4fb9563cf",
   "metadata": {},
   "source": [
    "## Decision Tree"
   ]
  },
  {
   "cell_type": "markdown",
   "id": "2f01c4f5-bc08-405b-8121-8c90df9e987d",
   "metadata": {},
   "source": [
    "### No balance"
   ]
  },
  {
   "cell_type": "code",
   "execution_count": null,
   "id": "e4c269e0-b18c-44ed-95dd-4ab7464d2ab8",
   "metadata": {},
   "outputs": [],
   "source": [
    "perform_decision_tree(X_train, y_train, X_test, y_test)"
   ]
  },
  {
   "cell_type": "markdown",
   "id": "e8a0d235-55d1-4b7f-a07e-7a34f5477aad",
   "metadata": {},
   "source": [
    "### Undersampling"
   ]
  },
  {
   "cell_type": "code",
   "execution_count": null,
   "id": "6701690d-aeb6-484e-b5d8-6fccb5b9a31b",
   "metadata": {},
   "outputs": [],
   "source": [
    "perform_decision_tree(X_train_rus, y_train_rus, X_test, y_test)"
   ]
  },
  {
   "cell_type": "markdown",
   "id": "85f50ee3-1dd3-40a5-bac2-054255e0730c",
   "metadata": {},
   "source": [
    "### Oversampling"
   ]
  },
  {
   "cell_type": "code",
   "execution_count": null,
   "id": "b08bc3b7-9f2a-4572-88c2-c6d2868df1fd",
   "metadata": {},
   "outputs": [],
   "source": [
    "perform_decision_tree(X_train_ros, y_train_ros, X_test, y_test)"
   ]
  },
  {
   "cell_type": "markdown",
   "id": "111d22e7-e234-49b8-851e-f6c1d93d6641",
   "metadata": {},
   "source": [
    "### SMOTEENN"
   ]
  },
  {
   "cell_type": "code",
   "execution_count": null,
   "id": "ebf5ff9e-f129-4b27-a335-32c09e35fb02",
   "metadata": {},
   "outputs": [],
   "source": [
    "perform_decision_tree(X_train_smote_enn, y_train_smote_enn, X_test, y_test)"
   ]
  }
 ],
 "metadata": {
  "kernelspec": {
   "display_name": "Python 3 (ipykernel)",
   "language": "python",
   "name": "python3"
  },
  "language_info": {
   "codemirror_mode": {
    "name": "ipython",
    "version": 3
   },
   "file_extension": ".py",
   "mimetype": "text/x-python",
   "name": "python",
   "nbconvert_exporter": "python",
   "pygments_lexer": "ipython3",
   "version": "3.7.9"
  },
  "toc-autonumbering": false
 },
 "nbformat": 4,
 "nbformat_minor": 5
}
