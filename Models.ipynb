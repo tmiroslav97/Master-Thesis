{
 "cells": [
  {
   "cell_type": "markdown",
   "id": "6a10b418-ac80-4187-a54e-f74066bca77a",
   "metadata": {},
   "source": [
    "# Models"
   ]
  },
  {
   "cell_type": "code",
   "execution_count": 3,
   "id": "2d0f059c-90c6-4964-a63d-fd1476a01bac",
   "metadata": {},
   "outputs": [],
   "source": [
    "import time\n",
    "import datetime\n",
    "import numpy as np\n",
    "import pandas as pd\n",
    "from statsmodels.discrete.discrete_model import Logit\n",
    "from sklearn.model_selection import train_test_split\n",
    "from sklearn.impute import SimpleImputer\n",
    "from sklearn.metrics import accuracy_score, precision_score, recall_score, f1_score, confusion_matrix, roc_auc_score\n",
    "from sklearn.ensemble import RandomForestClassifier\n",
    "from sklearn.tree import DecisionTreeClassifier\n",
    "from sklearn.model_selection import GridSearchCV\n",
    "from imblearn.over_sampling import RandomOverSampler\n",
    "from imblearn.under_sampling import RandomUnderSampler\n",
    "from imblearn.combine import SMOTEENN\n",
    "from pprint import pprint\n",
    "import matplotlib.pyplot as plt"
   ]
  },
  {
   "cell_type": "code",
   "execution_count": null,
   "id": "d4b806b0-e1e0-4573-b393-9468b1da5d61",
   "metadata": {},
   "outputs": [],
   "source": [
    "from google.colab import drive\n",
    "drive.mount('/content/drive')"
   ]
  },
  {
   "cell_type": "code",
   "execution_count": 4,
   "id": "5efc22b5-9751-4c97-881a-6fb4b94c8954",
   "metadata": {},
   "outputs": [],
   "source": [
    "# %run /content/drive/MyDrive/DentistDataAnalysis/Experiments/Mappings.ipynb\n",
    "%run Mappings.ipynb"
   ]
  },
  {
   "cell_type": "code",
   "execution_count": 5,
   "id": "5aafc249-ed54-400f-8596-509d384c8e3e",
   "metadata": {},
   "outputs": [],
   "source": [
    "# DIR = '/content/drive/MyDrive/DentistDataAnalysis/Experiments/'\n",
    "DIR = ''"
   ]
  },
  {
   "cell_type": "code",
   "execution_count": 6,
   "id": "74c55e76-b922-4d2d-89ee-7ee2f829bd09",
   "metadata": {},
   "outputs": [],
   "source": [
    "data = pd.read_csv(DIR+'dataset/final_data.csv')"
   ]
  },
  {
   "cell_type": "code",
   "execution_count": 7,
   "id": "05ed30dd-55cb-4a2e-b332-ae75e5845d66",
   "metadata": {},
   "outputs": [],
   "source": [
    "X_cols = ['Que1', 'Que2', 'Que3', 'Que4', 'Que5', 'Que6', 'Que10_a', 'Que10_b', 'Que10_c', 'Que10_d', 'Que10_e', 'Que10_f', 'Que14', 'Que15', 'Que17', 'Que18_age', 'Que19', 'Que20', 'Que21', 'Que22', 'Que_smoking']\n",
    "y_col = ['Que16']"
   ]
  },
  {
   "cell_type": "markdown",
   "id": "26e80ddd-743e-41a5-a138-c2b8ea4c3460",
   "metadata": {},
   "source": [
    "## Logit"
   ]
  },
  {
   "cell_type": "code",
   "execution_count": 8,
   "id": "c67d1c29-49d9-4d75-ae0b-5dda8a144dd5",
   "metadata": {},
   "outputs": [],
   "source": [
    "def perform_logit(X_train, y_train, X_test, y_test, X_cols, y_col):\n",
    "    X_train_df = pd.DataFrame(data=X_train, columns=X_cols)\n",
    "    y_train_df = pd.DataFrame(data=y_train, columns=y_col)\n",
    "    logit = Logit(y_train_df, X_train_df)\n",
    "    lg = logit.fit()\n",
    "    print(lg.summary())\n",
    "    yhat = lg.predict(X_test)\n",
    "    prediction = list(map(round, yhat))\n",
    "    get_metrics(y_test, prediction)"
   ]
  },
  {
   "cell_type": "markdown",
   "id": "09251b8e-a692-488b-9fbd-d2597fce2c8f",
   "metadata": {},
   "source": [
    "## Random forest"
   ]
  },
  {
   "cell_type": "code",
   "execution_count": 9,
   "id": "44552c2d-a03a-4784-9bbd-a7fafcbc3f25",
   "metadata": {},
   "outputs": [],
   "source": [
    "def perform_random_forest(X_train, y_train, X_test, y_test):\n",
    "    #hyperparameters config\n",
    "    n_estimators = [int(x) for x in np.linspace(start = 5, stop = 150, num = 15)]\n",
    "    criterion = ['gini', 'entropy']\n",
    "    max_features = ['sqrt']\n",
    "    max_depth = [int(x) for x in np.linspace(10, 100, num = 6)]\n",
    "    max_depth.append(None)\n",
    "    min_samples_split = [2, 5, 10]\n",
    "    min_samples_leaf = [1, 2, 4]\n",
    "    bootstrap = [True]\n",
    "    random_grid = {'n_estimators': n_estimators,\n",
    "                   'criterion': criterion,\n",
    "                   'max_features': max_features,\n",
    "                   'max_depth': max_depth,\n",
    "                   'min_samples_split': min_samples_split,\n",
    "                   'min_samples_leaf': min_samples_leaf,\n",
    "                   'bootstrap': bootstrap}\n",
    "    #grid search config\n",
    "    rf_scoring='accuracy'\n",
    "    rf_cv = 5\n",
    "    rf_verbose=1\n",
    "    rf_n_jobs=-1\n",
    "    rf_return_train_score=True\n",
    "    rf = RandomForestClassifier()\n",
    "    rf_grid = GridSearchCV(estimator=rf, \n",
    "                            param_grid=random_grid,\n",
    "                            scoring=rf_scoring, cv=rf_cv, \n",
    "                            verbose=rf_verbose, n_jobs=rf_n_jobs, \n",
    "                            return_train_score=rf_return_train_score)\n",
    "    start_time = time.time()\n",
    "    rf_grid.fit(X_train, y_train)\n",
    "    end_time = time.time()\n",
    "    conv_time = datetime.timedelta(seconds=end_time-start_time)\n",
    "    print(f\"Grid search time: {conv_time}\")\n",
    "    \n",
    "    pprint(rf_grid.best_params_)\n",
    "    prediction = rf_grid.best_estimator_.predict(X_test)\n",
    "    get_metrics(y_test, prediction)\n",
    "    \n",
    "    start_time = time.time()\n",
    "    importances = rf_grid.best_estimator_.feature_importances_\n",
    "    std = np.std([rf_grid.best_estimator_.feature_importances_ for tree in rf_grid.best_estimator_.estimators_], axis=0)\n",
    "    elapsed_time = time.time() - start_time\n",
    "    print(f\"Elapsed time to compute the importances: \" \n",
    "          f\"{elapsed_time:.3f} seconds\")\n",
    "    forest_importances = pd.Series(importances, index=X_cols)\n",
    "    fig, ax = plt.subplots()\n",
    "    forest_importances.plot.bar(yerr=std, ax=ax)\n",
    "    ax.set_title(\"Feature importances using MDI\")\n",
    "    ax.set_ylabel(\"Mean decrease in impurity\")\n",
    "    fig.tight_layout()"
   ]
  },
  {
   "cell_type": "markdown",
   "id": "313fea68-c90d-4503-b5f4-a5b345acfee8",
   "metadata": {},
   "source": [
    "## Decision trees"
   ]
  },
  {
   "cell_type": "code",
   "execution_count": 27,
   "id": "89deb587-e3e7-411b-ba7b-6753e3a47384",
   "metadata": {},
   "outputs": [],
   "source": [
    "def perform_decision_tree(X_train, y_train, X_test, y_test):\n",
    "    #hyperparameters config\n",
    "    criterion = ['gini', 'entropy']\n",
    "    splitter = ['best', 'random']\n",
    "    max_features = ['auto', 'sqrt']\n",
    "    max_depth = [int(x) for x in np.linspace(10, 50, num = 6)]\n",
    "    max_depth.append(None)\n",
    "    min_samples_split = [2, 5, 10]\n",
    "    min_samples_leaf = [1, 2, 4]\n",
    "    random_grid = {'criterion': criterion,\n",
    "                   'splitter': splitter,\n",
    "                   'max_features': max_features,\n",
    "                   'max_depth': max_depth,\n",
    "                   'min_samples_split': min_samples_split,\n",
    "                   'min_samples_leaf': min_samples_leaf}\n",
    "    #decision trees config\n",
    "    dtc_scoring='accuracy'\n",
    "    dtc_cv = 5\n",
    "    dtc_verbose=1\n",
    "    dtc_n_jobs=-1\n",
    "    dtc_return_train_score=True\n",
    "    dtc = DecisionTreeClassifier()\n",
    "    dtc_grid = GridSearchCV(estimator=dtc, \n",
    "                            param_grid=random_grid,\n",
    "                            scoring=dtc_scoring, cv=dtc_cv, \n",
    "                            verbose=dtc_verbose, n_jobs=dtc_n_jobs, \n",
    "                            return_train_score=dtc_return_train_score)\n",
    "    start_time = time.time()\n",
    "    dtc_grid.fit(X_train, y_train)\n",
    "    end_time = time.time()\n",
    "    conv_time = datetime.timedelta(seconds=end_time-start_time)\n",
    "    print(f\"Grid search time: {conv_time}\")\n",
    "    \n",
    "    pprint(dtc_grid.best_params_)\n",
    "    prediction = dtc_grid.best_estimator_.predict(X_test)\n",
    "    get_metrics(y_test, prediction)"
   ]
  },
  {
   "cell_type": "markdown",
   "id": "fa532ecb-e46c-4cc3-9053-c5fd1a3d2be1",
   "metadata": {},
   "source": [
    "## Metrics"
   ]
  },
  {
   "cell_type": "code",
   "execution_count": 32,
   "id": "8a593144-624e-4ac9-8d06-596489698552",
   "metadata": {},
   "outputs": [],
   "source": [
    "def get_metrics(y_true, prediction):\n",
    "    print(np.unique(y_true, return_counts=True))\n",
    "    print('Test ROC AUC:\\t', roc_auc_score(y_true, prediction))\n",
    "    print('Test accuracy:\\t', accuracy_score(y_true, prediction))\n",
    "    print('Test precision:\\t', precision_score(y_true, prediction))\n",
    "    print('Test recall:\\t', recall_score(y_true, prediction))\n",
    "    print('Test F1 score:\\t', f1_score(y_true, prediction))\n",
    "    print('Test confusion matrix:\\t')\n",
    "    print(confusion_matrix(y_true, prediction))"
   ]
  },
  {
   "cell_type": "markdown",
   "id": "cfc10cdd-703f-4f4c-a8fd-fc127da6575f",
   "metadata": {},
   "source": [
    "# Strategy 1 - dropping all missing"
   ]
  },
  {
   "cell_type": "code",
   "execution_count": 33,
   "id": "79170683-1efa-4b7e-9881-e7e5925443b8",
   "metadata": {},
   "outputs": [],
   "source": [
    "data_dropped = data.dropna().reset_index(drop=True)\n",
    "data_dropped = perform_mapping(data_dropped, questions_map_EN)\n",
    "model_data = data_dropped.drop(columns=['Que16'])\n",
    "target_data = data_dropped['Que16']\n",
    "X_train, X_test, y_train, y_test = train_test_split(model_data.values, target_data.values, test_size=0.20, random_state=42)\n",
    "# balancing data\n",
    "rus = RandomUnderSampler(random_state=0)\n",
    "X_train_rus, y_train_rus = rus.fit_resample(X_train, y_train)\n",
    "ros = RandomOverSampler(random_state=0)\n",
    "X_train_ros, y_train_ros = ros.fit_resample(X_train, y_train)\n",
    "smote_enn = SMOTEENN(random_state=0)\n",
    "X_train_smote_enn, y_train_smote_enn = smote_enn.fit_resample(X_train, y_train)"
   ]
  },
  {
   "cell_type": "markdown",
   "id": "25e44020-3441-4055-992e-761ee3087697",
   "metadata": {},
   "source": [
    "## Logistic Regression"
   ]
  },
  {
   "cell_type": "markdown",
   "id": "54648229-d551-49d8-ba81-922c8052e766",
   "metadata": {},
   "source": [
    "### No balance"
   ]
  },
  {
   "cell_type": "code",
   "execution_count": 34,
   "id": "c3790728-0cdf-4649-af9b-7e88d4d65d9c",
   "metadata": {},
   "outputs": [
    {
     "name": "stdout",
     "output_type": "stream",
     "text": [
      "Optimization terminated successfully.\n",
      "         Current function value: 0.568071\n",
      "         Iterations 7\n",
      "                           Logit Regression Results                           \n",
      "==============================================================================\n",
      "Dep. Variable:                  Que16   No. Observations:                  748\n",
      "Model:                          Logit   Df Residuals:                      727\n",
      "Method:                           MLE   Df Model:                           20\n",
      "Date:                Mon, 30 Aug 2021   Pseudo R-squ.:                  0.1293\n",
      "Time:                        15:54:23   Log-Likelihood:                -424.92\n",
      "converged:                       True   LL-Null:                       -488.02\n",
      "Covariance Type:            nonrobust   LLR p-value:                 2.008e-17\n",
      "===============================================================================\n",
      "                  coef    std err          z      P>|z|      [0.025      0.975]\n",
      "-------------------------------------------------------------------------------\n",
      "Que1            0.4411      0.244      1.808      0.071      -0.037       0.919\n",
      "Que2           -0.3173      0.174     -1.820      0.069      -0.659       0.024\n",
      "Que3            0.0401      0.173      0.231      0.817      -0.300       0.380\n",
      "Que4            0.1109      0.221      0.501      0.616      -0.323       0.544\n",
      "Que5           -0.1199      0.506     -0.237      0.813      -1.113       0.873\n",
      "Que6            0.2174      0.174      1.248      0.212      -0.124       0.559\n",
      "Que10_a        -0.1347      0.188     -0.716      0.474      -0.504       0.234\n",
      "Que10_b         0.3066      0.309      0.992      0.321      -0.299       0.912\n",
      "Que10_c        -0.0855      0.178     -0.480      0.632      -0.435       0.264\n",
      "Que10_d         0.1114      0.181      0.615      0.539      -0.244       0.467\n",
      "Que10_e        -1.8709      0.755     -2.477      0.013      -3.351      -0.391\n",
      "Que10_f        -0.0222      0.168     -0.133      0.894      -0.351       0.306\n",
      "Que14          -0.4782      0.240     -1.996      0.046      -0.948      -0.009\n",
      "Que15           1.1974      0.189      6.342      0.000       0.827       1.567\n",
      "Que17           1.9917      0.770      2.587      0.010       0.483       3.500\n",
      "Que18_age      -0.0424      0.230     -0.185      0.853      -0.493       0.408\n",
      "Que19           0.6227      0.340      1.830      0.067      -0.044       1.290\n",
      "Que20           1.5266      0.647      2.359      0.018       0.258       2.795\n",
      "Que21          -0.1256      0.181     -0.693      0.488      -0.481       0.230\n",
      "Que22           0.1244      0.165      0.753      0.451      -0.199       0.448\n",
      "Que_smoking     0.2056      0.192      1.068      0.286      -0.172       0.583\n",
      "===============================================================================\n",
      "(array([0., 1.]), array([ 71, 117]))\n",
      "Test ROC AUC:\t 0.6398820272059709\n",
      "Test accuracy:\t 0.6861702127659575\n",
      "Test precision:\t 0.7132352941176471\n",
      "Test recall:\t 0.8290598290598291\n",
      "Test F1 score:\t 0.766798418972332\n",
      "Test confusion matrix:\t\n",
      "[[32 39]\n",
      " [20 97]]\n"
     ]
    }
   ],
   "source": [
    "perform_logit(X_train, y_train, X_test, y_test, X_cols, y_col)"
   ]
  },
  {
   "cell_type": "markdown",
   "id": "01bd3b09-8206-4c2f-9f3c-080454c01406",
   "metadata": {},
   "source": [
    "### Undersampling"
   ]
  },
  {
   "cell_type": "code",
   "execution_count": 14,
   "id": "b9ad429c-b967-42f9-a4f9-688786d9564a",
   "metadata": {},
   "outputs": [
    {
     "name": "stdout",
     "output_type": "stream",
     "text": [
      "Optimization terminated successfully.\n",
      "         Current function value: 0.609852\n",
      "         Iterations 6\n",
      "                           Logit Regression Results                           \n",
      "==============================================================================\n",
      "Dep. Variable:                  Que16   No. Observations:                  536\n",
      "Model:                          Logit   Df Residuals:                      515\n",
      "Method:                           MLE   Df Model:                           20\n",
      "Date:                Mon, 30 Aug 2021   Pseudo R-squ.:                  0.1202\n",
      "Time:                        15:32:49   Log-Likelihood:                -326.88\n",
      "converged:                       True   LL-Null:                       -371.53\n",
      "Covariance Type:            nonrobust   LLR p-value:                 9.854e-11\n",
      "===============================================================================\n",
      "                  coef    std err          z      P>|z|      [0.025      0.975]\n",
      "-------------------------------------------------------------------------------\n",
      "Que1            0.6981      0.273      2.553      0.011       0.162       1.234\n",
      "Que2           -0.4400      0.199     -2.207      0.027      -0.831      -0.049\n",
      "Que3           -0.1586      0.196     -0.807      0.419      -0.543       0.226\n",
      "Que4            0.0321      0.251      0.128      0.898      -0.460       0.524\n",
      "Que5           -0.3638      0.624     -0.583      0.560      -1.586       0.859\n",
      "Que6            0.1793      0.203      0.885      0.376      -0.218       0.576\n",
      "Que10_a        -0.1687      0.213     -0.792      0.428      -0.586       0.249\n",
      "Que10_b         0.3810      0.339      1.123      0.262      -0.284       1.046\n",
      "Que10_c        -0.1858      0.201     -0.923      0.356      -0.580       0.209\n",
      "Que10_d         0.0965      0.207      0.467      0.640      -0.308       0.501\n",
      "Que10_e        -2.5798      1.243     -2.075      0.038      -5.017      -0.143\n",
      "Que10_f        -0.0891      0.191     -0.466      0.641      -0.464       0.286\n",
      "Que14          -0.4440      0.273     -1.627      0.104      -0.979       0.091\n",
      "Que15           1.0781      0.212      5.090      0.000       0.663       1.493\n",
      "Que17           1.8182      0.810      2.245      0.025       0.231       3.405\n",
      "Que18_age      -0.2093      0.269     -0.778      0.436      -0.736       0.318\n",
      "Que19           0.8298      0.375      2.210      0.027       0.094       1.566\n",
      "Que20           1.4157      0.697      2.031      0.042       0.049       2.782\n",
      "Que21          -0.3093      0.208     -1.485      0.138      -0.718       0.099\n",
      "Que22           0.0103      0.190      0.054      0.957      -0.362       0.383\n",
      "Que_smoking     0.0954      0.221      0.432      0.666      -0.337       0.528\n",
      "===============================================================================\n",
      "(array([0., 1.]), array([ 71, 117]))\n",
      "Test ROC AUC:  0.6670879980739135\n",
      "Test accuracy:  0.6648936170212766\n",
      "Test precision:  0.77\n",
      "Test recall:  0.6581196581196581\n",
      "Test F1 score:  0.7096774193548387\n",
      "Test confusion matrix: \n",
      "[[48 23]\n",
      " [40 77]]\n"
     ]
    }
   ],
   "source": [
    "perform_logit(X_train_rus, y_train_rus, X_test, y_test, X_cols, y_col)"
   ]
  },
  {
   "cell_type": "markdown",
   "id": "079ef4c0-f77b-446c-ae3f-5b75276b6fb0",
   "metadata": {},
   "source": [
    "### Oversampling"
   ]
  },
  {
   "cell_type": "code",
   "execution_count": 15,
   "id": "0d8d8455-2f07-4be6-b441-0aa82ffe0fcf",
   "metadata": {},
   "outputs": [
    {
     "name": "stdout",
     "output_type": "stream",
     "text": [
      "Optimization terminated successfully.\n",
      "         Current function value: 0.609854\n",
      "         Iterations 6\n",
      "                           Logit Regression Results                           \n",
      "==============================================================================\n",
      "Dep. Variable:                  Que16   No. Observations:                  960\n",
      "Model:                          Logit   Df Residuals:                      939\n",
      "Method:                           MLE   Df Model:                           20\n",
      "Date:                Mon, 30 Aug 2021   Pseudo R-squ.:                  0.1202\n",
      "Time:                        15:32:51   Log-Likelihood:                -585.46\n",
      "converged:                       True   LL-Null:                       -665.42\n",
      "Covariance Type:            nonrobust   LLR p-value:                 7.768e-24\n",
      "===============================================================================\n",
      "                  coef    std err          z      P>|z|      [0.025      0.975]\n",
      "-------------------------------------------------------------------------------\n",
      "Que1            0.4833      0.203      2.382      0.017       0.086       0.881\n",
      "Que2           -0.4388      0.149     -2.944      0.003      -0.731      -0.147\n",
      "Que3           -0.0386      0.147     -0.263      0.793      -0.326       0.249\n",
      "Que4            0.0357      0.185      0.193      0.847      -0.327       0.399\n",
      "Que5            0.0470      0.454      0.104      0.918      -0.842       0.936\n",
      "Que6            0.0841      0.148      0.570      0.569      -0.205       0.373\n",
      "Que10_a        -0.1423      0.158     -0.900      0.368      -0.452       0.168\n",
      "Que10_b         0.1129      0.253      0.447      0.655      -0.382       0.608\n",
      "Que10_c        -0.2048      0.152     -1.347      0.178      -0.503       0.093\n",
      "Que10_d         0.0424      0.153      0.277      0.782      -0.258       0.343\n",
      "Que10_e        -1.3676      0.726     -1.884      0.060      -2.791       0.055\n",
      "Que10_f        -0.1398      0.141     -0.992      0.321      -0.416       0.136\n",
      "Que14          -0.5494      0.205     -2.682      0.007      -0.951      -0.148\n",
      "Que15           1.2375      0.159      7.792      0.000       0.926       1.549\n",
      "Que17           1.5810      0.541      2.922      0.003       0.520       2.642\n",
      "Que18_age      -0.1667      0.197     -0.847      0.397      -0.552       0.219\n",
      "Que19           0.8579      0.296      2.902      0.004       0.278       1.437\n",
      "Que20           1.4632      0.514      2.849      0.004       0.457       2.470\n",
      "Que21          -0.2081      0.151     -1.375      0.169      -0.505       0.089\n",
      "Que22          -0.0377      0.142     -0.266      0.790      -0.315       0.240\n",
      "Que_smoking     0.1329      0.162      0.818      0.413      -0.185       0.451\n",
      "===============================================================================\n",
      "(array([0., 1.]), array([ 71, 117]))\n",
      "Test ROC AUC:  0.6781629950644036\n",
      "Test accuracy:  0.6648936170212766\n",
      "Test precision:  0.7934782608695652\n",
      "Test recall:  0.6239316239316239\n",
      "Test F1 score:  0.6985645933014354\n",
      "Test confusion matrix: \n",
      "[[52 19]\n",
      " [44 73]]\n"
     ]
    }
   ],
   "source": [
    "perform_logit(X_train_ros, y_train_ros, X_test, y_test, X_cols, y_col)"
   ]
  },
  {
   "cell_type": "markdown",
   "id": "064e793f-c7ad-46d7-997e-3358b75955d0",
   "metadata": {},
   "source": [
    "### SMOTEENN"
   ]
  },
  {
   "cell_type": "code",
   "execution_count": 16,
   "id": "aa4cd6b3-319b-417e-aa99-f72173c41594",
   "metadata": {},
   "outputs": [
    {
     "name": "stdout",
     "output_type": "stream",
     "text": [
      "Optimization terminated successfully.\n",
      "         Current function value: 0.390417\n",
      "         Iterations 8\n",
      "                           Logit Regression Results                           \n",
      "==============================================================================\n",
      "Dep. Variable:                  Que16   No. Observations:                  491\n",
      "Model:                          Logit   Df Residuals:                      470\n",
      "Method:                           MLE   Df Model:                           20\n",
      "Date:                Mon, 30 Aug 2021   Pseudo R-squ.:                  0.4049\n",
      "Time:                        15:32:52   Log-Likelihood:                -191.69\n",
      "converged:                       True   LL-Null:                       -322.10\n",
      "Covariance Type:            nonrobust   LLR p-value:                 7.522e-44\n",
      "===============================================================================\n",
      "                  coef    std err          z      P>|z|      [0.025      0.975]\n",
      "-------------------------------------------------------------------------------\n",
      "Que1            1.7548      0.410      4.279      0.000       0.951       2.558\n",
      "Que2           -0.6201      0.289     -2.145      0.032      -1.187      -0.054\n",
      "Que3           -0.6116      0.286     -2.137      0.033      -1.173      -0.051\n",
      "Que4            0.0902      0.358      0.252      0.801      -0.612       0.792\n",
      "Que5           -1.2900      0.898     -1.436      0.151      -3.051       0.470\n",
      "Que6            0.3837      0.286      1.343      0.179      -0.176       0.944\n",
      "Que10_a        -0.1074      0.316     -0.340      0.734      -0.727       0.512\n",
      "Que10_b         0.5741      0.584      0.984      0.325      -0.570       1.718\n",
      "Que10_c        -1.1497      0.314     -3.657      0.000      -1.766      -0.534\n",
      "Que10_d        -0.0984      0.296     -0.332      0.740      -0.679       0.482\n",
      "Que10_e         2.3993      3.550      0.676      0.499      -4.558       9.357\n",
      "Que10_f        -0.1914      0.290     -0.660      0.509      -0.760       0.377\n",
      "Que14          -1.4449      0.551     -2.622      0.009      -2.525      -0.365\n",
      "Que15           3.5733      0.345     10.372      0.000       2.898       4.249\n",
      "Que17           4.2696      1.170      3.650      0.000       1.977       6.562\n",
      "Que18_age       0.6560      0.388      1.691      0.091      -0.104       1.416\n",
      "Que19           0.2213      0.501      0.442      0.659      -0.761       1.204\n",
      "Que20           0.3245      0.754      0.430      0.667      -1.153       1.802\n",
      "Que21          -0.6400      0.282     -2.269      0.023      -1.193      -0.087\n",
      "Que22          -0.8216      0.275     -2.984      0.003      -1.361      -0.282\n",
      "Que_smoking     0.6045      0.327      1.848      0.065      -0.036       1.245\n",
      "===============================================================================\n",
      "(array([0., 1.]), array([ 71, 117]))\n",
      "Test ROC AUC:  0.7005537498495246\n",
      "Test accuracy:  0.675531914893617\n",
      "Test precision:  0.8333333333333334\n",
      "Test recall:  0.5982905982905983\n",
      "Test F1 score:  0.6965174129353234\n",
      "Test confusion matrix: \n",
      "[[57 14]\n",
      " [47 70]]\n"
     ]
    }
   ],
   "source": [
    "perform_logit(X_train_smote_enn, y_train_smote_enn, X_test, y_test, X_cols, y_col)"
   ]
  },
  {
   "cell_type": "markdown",
   "id": "dd430544-89fe-40ca-806c-19eba28a4eff",
   "metadata": {},
   "source": [
    "## Random Forest"
   ]
  },
  {
   "cell_type": "markdown",
   "id": "34fa51a3-bf8f-40ba-8ea0-bb6da1ccca7e",
   "metadata": {},
   "source": [
    "### No balance"
   ]
  },
  {
   "cell_type": "code",
   "execution_count": 17,
   "id": "a669c507-1808-4abb-9cae-4f13dbbdf7d7",
   "metadata": {},
   "outputs": [
    {
     "name": "stdout",
     "output_type": "stream",
     "text": [
      "Fitting 5 folds for each of 1890 candidates, totalling 9450 fits\n",
      "Grid search time: 0:03:11.283271\n",
      "{'bootstrap': True,\n",
      " 'criterion': 'entropy',\n",
      " 'max_depth': 46,\n",
      " 'max_features': 'sqrt',\n",
      " 'min_samples_leaf': 1,\n",
      " 'min_samples_split': 2,\n",
      " 'n_estimators': 118}\n",
      "(array([0., 1.]), array([ 71, 117]))\n",
      "Test ROC AUC:  0.6637775370169736\n",
      "Test accuracy:  0.7021276595744681\n",
      "Test precision:  0.732824427480916\n",
      "Test recall:  0.8205128205128205\n",
      "Test F1 score:  0.7741935483870968\n",
      "Test confusion matrix: \n",
      "[[36 35]\n",
      " [21 96]]\n",
      "Elapsed time to compute the importances: 1.070 seconds\n"
     ]
    },
    {
     "data": {
      "image/png": "[encoded data removed]",
      "text/plain": [
       "<Figure size 432x288 with 1 Axes>"
      ]
     },
     "metadata": {
      "needs_background": "light"
     },
     "output_type": "display_data"
    }
   ],
   "source": [
    "perform_random_forest(X_train, y_train, X_test, y_test)"
   ]
  },
  {
   "cell_type": "markdown",
   "id": "fcf8a7f1-d667-4b31-b11b-9921b775bd5d",
   "metadata": {},
   "source": [
    "### Undersampling"
   ]
  },
  {
   "cell_type": "code",
   "execution_count": 18,
   "id": "f4831808-d502-4979-a2eb-5f709dca9778",
   "metadata": {},
   "outputs": [
    {
     "name": "stdout",
     "output_type": "stream",
     "text": [
      "Fitting 5 folds for each of 1890 candidates, totalling 9450 fits\n",
      "Grid search time: 0:02:50.452045\n",
      "{'bootstrap': True,\n",
      " 'criterion': 'gini',\n",
      " 'max_depth': 46,\n",
      " 'max_features': 'sqrt',\n",
      " 'min_samples_leaf': 1,\n",
      " 'min_samples_split': 2,\n",
      " 'n_estimators': 56}\n",
      "(array([0., 1.]), array([ 71, 117]))\n",
      "Test ROC AUC:  0.6276032261947755\n",
      "Test accuracy:  0.6329787234042553\n",
      "Test precision:  0.7307692307692307\n",
      "Test recall:  0.6495726495726496\n",
      "Test F1 score:  0.6877828054298643\n",
      "Test confusion matrix: \n",
      "[[43 28]\n",
      " [41 76]]\n",
      "Elapsed time to compute the importances: 0.213 seconds\n"
     ]
    },
    {
     "data": {
      "image/png": "[encoded data removed]",
      "text/plain": [
       "<Figure size 432x288 with 1 Axes>"
      ]
     },
     "metadata": {
      "needs_background": "light"
     },
     "output_type": "display_data"
    }
   ],
   "source": [
    "perform_random_forest(X_train_rus, y_train_rus, X_test, y_test)"
   ]
  },
  {
   "cell_type": "markdown",
   "id": "434be831-c603-4610-9390-b36122112709",
   "metadata": {},
   "source": [
    "### Oversampling"
   ]
  },
  {
   "cell_type": "code",
   "execution_count": 19,
   "id": "eff111a1-f16d-43f9-b8fc-67af75510881",
   "metadata": {},
   "outputs": [
    {
     "name": "stdout",
     "output_type": "stream",
     "text": [
      "Fitting 5 folds for each of 1890 candidates, totalling 9450 fits\n",
      "Grid search time: 0:02:59.807065\n",
      "{'bootstrap': True,\n",
      " 'criterion': 'gini',\n",
      " 'max_depth': 46,\n",
      " 'max_features': 'sqrt',\n",
      " 'min_samples_leaf': 1,\n",
      " 'min_samples_split': 2,\n",
      " 'n_estimators': 129}\n",
      "(array([0., 1.]), array([ 71, 117]))\n",
      "Test ROC AUC:  0.6479475141446972\n",
      "Test accuracy:  0.675531914893617\n",
      "Test precision:  0.7295081967213115\n",
      "Test recall:  0.7606837606837606\n",
      "Test F1 score:  0.7447698744769875\n",
      "Test confusion matrix: \n",
      "[[38 33]\n",
      " [28 89]]\n",
      "Elapsed time to compute the importances: 1.121 seconds\n"
     ]
    },
    {
     "data": {
      "image/png": "[encoded data removed]",
      "text/plain": [
       "<Figure size 432x288 with 1 Axes>"
      ]
     },
     "metadata": {
      "needs_background": "light"
     },
     "output_type": "display_data"
    }
   ],
   "source": [
    "perform_random_forest(X_train_ros, y_train_ros, X_test, y_test)"
   ]
  },
  {
   "cell_type": "markdown",
   "id": "39d275a1-63bc-43e1-9142-bca65f5257bb",
   "metadata": {},
   "source": [
    "### SMOTEENN"
   ]
  },
  {
   "cell_type": "code",
   "execution_count": 20,
   "id": "d8f9e2a6-7823-4001-a0f5-38101dcb6a0d",
   "metadata": {},
   "outputs": [
    {
     "name": "stdout",
     "output_type": "stream",
     "text": [
      "Fitting 5 folds for each of 1890 candidates, totalling 9450 fits\n",
      "Grid search time: 0:02:37.944196\n",
      "{'bootstrap': True,\n",
      " 'criterion': 'gini',\n",
      " 'max_depth': 28,\n",
      " 'max_features': 'sqrt',\n",
      " 'min_samples_leaf': 1,\n",
      " 'min_samples_split': 2,\n",
      " 'n_estimators': 25}\n",
      "(array([0., 1.]), array([ 71, 117]))\n",
      "Test ROC AUC:  0.6892379920548936\n",
      "Test accuracy:  0.6648936170212766\n",
      "Test precision:  0.8214285714285714\n",
      "Test recall:  0.5897435897435898\n",
      "Test F1 score:  0.6865671641791046\n",
      "Test confusion matrix: \n",
      "[[56 15]\n",
      " [48 69]]\n",
      "Elapsed time to compute the importances: 0.045 seconds\n"
     ]
    },
    {
     "data": {
      "image/png": "[encoded data removed]",
      "text/plain": [
       "<Figure size 432x288 with 1 Axes>"
      ]
     },
     "metadata": {
      "needs_background": "light"
     },
     "output_type": "display_data"
    }
   ],
   "source": [
    "perform_random_forest(X_train_smote_enn, y_train_smote_enn, X_test, y_test)"
   ]
  },
  {
   "cell_type": "markdown",
   "id": "968c8b98-3bf9-457b-b4e2-02c9c63a4160",
   "metadata": {},
   "source": [
    "## Decision Tree"
   ]
  },
  {
   "cell_type": "markdown",
   "id": "7c3db033-ac79-4307-bcab-84b3dfdcef79",
   "metadata": {},
   "source": [
    "### No balance"
   ]
  },
  {
   "cell_type": "code",
   "execution_count": 28,
   "id": "c46a02eb-47e2-456c-ad6c-d11820393d0f",
   "metadata": {},
   "outputs": [
    {
     "name": "stdout",
     "output_type": "stream",
     "text": [
      "Fitting 5 folds for each of 504 candidates, totalling 2520 fits\n",
      "Grid search time: 0:00:01.292302\n",
      "{'criterion': 'entropy',\n",
      " 'max_depth': 50,\n",
      " 'max_features': 'sqrt',\n",
      " 'min_samples_leaf': 1,\n",
      " 'min_samples_split': 2,\n",
      " 'splitter': 'best'}\n",
      "(array([0., 1.]), array([ 71, 117]))\n",
      "Test ROC AUC:  0.6107499699048995\n",
      "Test accuracy:  0.6223404255319149\n",
      "Test precision:  0.7129629629629629\n",
      "Test recall:  0.6581196581196581\n",
      "Test F1 score:  0.6844444444444444\n",
      "Test confusion matrix: \n",
      "[[40 31]\n",
      " [40 77]]\n"
     ]
    }
   ],
   "source": [
    "perform_decision_tree(X_train, y_train, X_test, y_test)"
   ]
  },
  {
   "cell_type": "markdown",
   "id": "6c19520c-3f63-45e1-a7f1-8acec823e985",
   "metadata": {},
   "source": [
    "### Undersampling"
   ]
  },
  {
   "cell_type": "code",
   "execution_count": 29,
   "id": "9ee807de-330f-463f-80cf-8ca97c5fa4fd",
   "metadata": {},
   "outputs": [
    {
     "name": "stdout",
     "output_type": "stream",
     "text": [
      "Fitting 5 folds for each of 504 candidates, totalling 2520 fits\n",
      "Grid search time: 0:00:01.045131\n",
      "{'criterion': 'entropy',\n",
      " 'max_depth': 34,\n",
      " 'max_features': 'sqrt',\n",
      " 'min_samples_leaf': 1,\n",
      " 'min_samples_split': 2,\n",
      " 'splitter': 'random'}\n",
      "(array([0., 1.]), array([ 71, 117]))\n",
      "Test ROC AUC:  0.5805946791862285\n",
      "Test accuracy:  0.574468085106383\n",
      "Test precision:  0.6989247311827957\n",
      "Test recall:  0.5555555555555556\n",
      "Test F1 score:  0.6190476190476191\n",
      "Test confusion matrix: \n",
      "[[43 28]\n",
      " [52 65]]\n"
     ]
    }
   ],
   "source": [
    "perform_decision_tree(X_train_rus, y_train_rus, X_test, y_test)"
   ]
  },
  {
   "cell_type": "markdown",
   "id": "6537df7a-7004-4063-a5f2-74bde5bb1682",
   "metadata": {},
   "source": [
    "### Oversampling"
   ]
  },
  {
   "cell_type": "code",
   "execution_count": 30,
   "id": "4ec261db-103f-47c5-a553-5a32d94d4f82",
   "metadata": {},
   "outputs": [
    {
     "name": "stdout",
     "output_type": "stream",
     "text": [
      "Fitting 5 folds for each of 504 candidates, totalling 2520 fits\n",
      "Grid search time: 0:00:01.140947\n",
      "{'criterion': 'entropy',\n",
      " 'max_depth': None,\n",
      " 'max_features': 'sqrt',\n",
      " 'min_samples_leaf': 1,\n",
      " 'min_samples_split': 2,\n",
      " 'splitter': 'best'}\n",
      "(array([0., 1.]), array([ 71, 117]))\n",
      "Test ROC AUC:  0.5979294570843867\n",
      "Test accuracy:  0.6063829787234043\n",
      "Test precision:  0.7047619047619048\n",
      "Test recall:  0.6324786324786325\n",
      "Test F1 score:  0.6666666666666666\n",
      "Test confusion matrix: \n",
      "[[40 31]\n",
      " [43 74]]\n"
     ]
    }
   ],
   "source": [
    "perform_decision_tree(X_train_ros, y_train_ros, X_test, y_test)"
   ]
  },
  {
   "cell_type": "markdown",
   "id": "2b0ed88b-5eb8-48fb-b286-96cc466a28a2",
   "metadata": {},
   "source": [
    "### SMOTEENN"
   ]
  },
  {
   "cell_type": "code",
   "execution_count": 31,
   "id": "22edb14a-7573-4976-a1a9-4b8a384819cb",
   "metadata": {},
   "outputs": [
    {
     "name": "stdout",
     "output_type": "stream",
     "text": [
      "Fitting 5 folds for each of 504 candidates, totalling 2520 fits\n",
      "Grid search time: 0:00:00.989044\n",
      "{'criterion': 'entropy',\n",
      " 'max_depth': None,\n",
      " 'max_features': 'auto',\n",
      " 'min_samples_leaf': 1,\n",
      " 'min_samples_split': 2,\n",
      " 'splitter': 'best'}\n",
      "(array([0., 1.]), array([ 71, 117]))\n",
      "Test ROC AUC:  0.658300228722764\n",
      "Test accuracy:  0.6436170212765957\n",
      "Test precision:  0.7777777777777778\n",
      "Test recall:  0.5982905982905983\n",
      "Test F1 score:  0.6763285024154589\n",
      "Test confusion matrix: \n",
      "[[51 20]\n",
      " [47 70]]\n"
     ]
    }
   ],
   "source": [
    "perform_decision_tree(X_train_smote_enn, y_train_smote_enn, X_test, y_test)"
   ]
  },
  {
   "cell_type": "markdown",
   "id": "4f46e186-988a-4f2c-b8e1-0583e320ebaf",
   "metadata": {},
   "source": [
    "# Strategy 2 - median"
   ]
  },
  {
   "cell_type": "code",
   "execution_count": null,
   "id": "b7efa626-7516-4558-8a43-34642249fc37",
   "metadata": {},
   "outputs": [],
   "source": [
    "imputer = SimpleImputer(missing_values=np.nan, strategy='median')\n",
    "data_median = pd.DataFrame(imputer.fit_transform(data))\n",
    "data_median.columns = data.columns\n",
    "data_median.index = data.index\n",
    "data_median = perform_mapping(data_median, questions_map_EN)\n",
    "model_data = data_median.drop(columns=['Que16'])\n",
    "target_data = data_median['Que16']\n",
    "X_train, X_test, y_train, y_test = train_test_split(model_data.values, target_data.values, test_size=0.20, random_state=42)\n",
    "# balancing data\n",
    "rus = RandomUnderSampler(random_state=0)\n",
    "X_train_rus, y_train_rus = rus.fit_resample(X_train, y_train)\n",
    "ros = RandomOverSampler(random_state=0)\n",
    "X_train_ros, y_train_ros = ros.fit_resample(X_train, y_train)\n",
    "smote_enn = SMOTEENN(random_state=0)\n",
    "X_train_smote_enn, y_train_smote_enn = smote_enn.fit_resample(X_train, y_train)"
   ]
  },
  {
   "cell_type": "markdown",
   "id": "f3ca317f-96ec-488a-a65a-ab4b9768b013",
   "metadata": {},
   "source": [
    "## Logistic Regression"
   ]
  },
  {
   "cell_type": "markdown",
   "id": "b9e5fd7d-6997-46bf-80d9-ae5fd226d664",
   "metadata": {},
   "source": [
    "### No balance"
   ]
  },
  {
   "cell_type": "code",
   "execution_count": null,
   "id": "68caf9de-6a45-4c53-8b87-b6dacbf5d4cc",
   "metadata": {},
   "outputs": [],
   "source": [
    "perform_logit(X_train, y_train, X_test, y_test, X_cols, y_col)"
   ]
  },
  {
   "cell_type": "markdown",
   "id": "585e0686-9b96-4b65-9435-d60c319e0f72",
   "metadata": {},
   "source": [
    "### Undersampling"
   ]
  },
  {
   "cell_type": "code",
   "execution_count": null,
   "id": "19e58805-3175-41b6-8e34-3bc169d56b8a",
   "metadata": {},
   "outputs": [],
   "source": [
    "perform_logit(X_train_rus, y_train_rus, X_test, y_test, X_cols, y_col)"
   ]
  },
  {
   "cell_type": "markdown",
   "id": "bc7f61ca-6758-4acb-be3e-edd37a5d7a69",
   "metadata": {},
   "source": [
    "### Oversampling"
   ]
  },
  {
   "cell_type": "code",
   "execution_count": null,
   "id": "3003d81a-d5f8-4e4c-ab0e-7e639df492d1",
   "metadata": {},
   "outputs": [],
   "source": [
    "perform_logit(X_train_ros, y_train_ros, X_test, y_test, X_cols, y_col)"
   ]
  },
  {
   "cell_type": "markdown",
   "id": "cd32fee4-ab32-4648-a1dc-b609a9f8f11c",
   "metadata": {},
   "source": [
    "### SMOTEENN"
   ]
  },
  {
   "cell_type": "code",
   "execution_count": null,
   "id": "d78286c0-c367-4686-8e63-ff996b2012b8",
   "metadata": {},
   "outputs": [],
   "source": [
    "perform_logit(X_train_smote_enn, y_train_smote_enn, X_test, y_test, X_cols, y_col)"
   ]
  },
  {
   "cell_type": "markdown",
   "id": "2c259d8c-2f30-444d-84c7-a9f2069d0e30",
   "metadata": {},
   "source": [
    "## Random Forest"
   ]
  },
  {
   "cell_type": "markdown",
   "id": "40dd87a6-6067-4111-bebb-31a792d899a4",
   "metadata": {},
   "source": [
    "### No balance"
   ]
  },
  {
   "cell_type": "code",
   "execution_count": null,
   "id": "268c798b-feb8-4f8b-90fa-9b55dc7a694a",
   "metadata": {},
   "outputs": [],
   "source": [
    "perform_random_forest(X_train, y_train, X_test, y_test)"
   ]
  },
  {
   "cell_type": "markdown",
   "id": "eaddf8f0-9854-4992-a80a-64af6749ffc3",
   "metadata": {},
   "source": [
    "### Undersampling"
   ]
  },
  {
   "cell_type": "code",
   "execution_count": null,
   "id": "3718a0da-f3b0-4287-be34-9e9ba9fcae34",
   "metadata": {},
   "outputs": [],
   "source": [
    "perform_random_forest(X_train_rus, y_train_rus, X_test, y_test)"
   ]
  },
  {
   "cell_type": "markdown",
   "id": "502bf62a-5ed5-4488-bf2e-684b473ec38a",
   "metadata": {},
   "source": [
    "### Oversampling"
   ]
  },
  {
   "cell_type": "code",
   "execution_count": null,
   "id": "01a8acda-280c-4821-b832-708981eec1b9",
   "metadata": {},
   "outputs": [],
   "source": [
    "perform_random_forest(X_train_ros, y_train_ros, X_test, y_test)"
   ]
  },
  {
   "cell_type": "markdown",
   "id": "e8dac8cb-7e56-40b8-80b7-cc5a9d8365e8",
   "metadata": {},
   "source": [
    "### SMOTEENN"
   ]
  },
  {
   "cell_type": "code",
   "execution_count": null,
   "id": "0a3f8e5e-689f-4ca2-919d-2a6568040e30",
   "metadata": {},
   "outputs": [],
   "source": [
    "perform_random_forest(X_train_smote_enn, y_train_smote_enn, X_test, y_test)"
   ]
  },
  {
   "cell_type": "markdown",
   "id": "ba111ec5-b2c8-4cc4-b8c7-a611b08c0aff",
   "metadata": {},
   "source": [
    "## Decision Tree"
   ]
  },
  {
   "cell_type": "markdown",
   "id": "e158766e-602a-4336-b6b6-db41985595f3",
   "metadata": {},
   "source": [
    "### No balance"
   ]
  },
  {
   "cell_type": "code",
   "execution_count": null,
   "id": "ff7be0e4-c066-4905-9867-51b7aa74ac78",
   "metadata": {},
   "outputs": [],
   "source": [
    "perform_decision_tree(X_train, X_test, y_train, y_test)"
   ]
  },
  {
   "cell_type": "markdown",
   "id": "d04d2650-3ad3-447b-bd30-965b229ee8ce",
   "metadata": {},
   "source": [
    "### Undersampling"
   ]
  },
  {
   "cell_type": "code",
   "execution_count": null,
   "id": "ffbf0455-3b17-4c9e-88ba-59df4f2910a9",
   "metadata": {},
   "outputs": [],
   "source": [
    "perform_decision_tree(X_train_rus, y_train_rus, X_test, y_test)"
   ]
  },
  {
   "cell_type": "markdown",
   "id": "7bf929a2-471e-49ee-8590-a569963f2073",
   "metadata": {},
   "source": [
    "### Oversampling"
   ]
  },
  {
   "cell_type": "code",
   "execution_count": null,
   "id": "3e9ebaa0-06a7-47af-a941-227624e8a10f",
   "metadata": {},
   "outputs": [],
   "source": [
    "perform_decision_tree(X_train_ros, y_train_ros, X_test, y_test)"
   ]
  },
  {
   "cell_type": "markdown",
   "id": "3e696ba4-615c-44e6-a7cc-8552d408d038",
   "metadata": {},
   "source": [
    "### SMOTEENN"
   ]
  },
  {
   "cell_type": "code",
   "execution_count": null,
   "id": "3bad3ea7-f9e0-4368-8393-e5854656ea64",
   "metadata": {},
   "outputs": [],
   "source": [
    "perform_decision_tree(X_train_smote_enn, y_train_smote_enn, X_test, y_test)"
   ]
  },
  {
   "cell_type": "markdown",
   "id": "9783b6c2-f210-4bb1-aa80-48805d2fefd1",
   "metadata": {},
   "source": [
    "# Strategy 3 - mean"
   ]
  },
  {
   "cell_type": "code",
   "execution_count": null,
   "id": "394dd854-7993-4130-b0f3-6768908b70b1",
   "metadata": {},
   "outputs": [],
   "source": [
    "imputer = SimpleImputer(missing_values=np.nan, strategy='mean')\n",
    "data_mean = pd.DataFrame(imputer.fit_transform(data))\n",
    "data_mean.columns = data.columns\n",
    "data_mean.index = data.index\n",
    "# mean values are not integer numbers so rounding to int was necessary\n",
    "data_mean = data_mean.round()\n",
    "data_mean = perform_mapping(data_mean, questions_map_EN)\n",
    "model_data = data_mean.drop(columns=['Que16'])\n",
    "target_data = data_mean['Que16']\n",
    "X_train, X_test, y_train, y_test = train_test_split(model_data.values, target_data.values, test_size=0.20, random_state=42)\n",
    "# balancing data\n",
    "rus = RandomUnderSampler(random_state=0)\n",
    "X_train_rus, y_train_rus = rus.fit_resample(X_train, y_train)\n",
    "ros = RandomOverSampler(random_state=0)\n",
    "X_train_ros, y_train_ros = ros.fit_resample(X_train, y_train)\n",
    "smote_enn = SMOTEENN(random_state=0)\n",
    "X_train_smote_enn, y_train_smote_enn = smote_enn.fit_resample(X_train, y_train)"
   ]
  },
  {
   "cell_type": "markdown",
   "id": "c7384f17-de59-4022-89c7-9151256176ea",
   "metadata": {},
   "source": [
    "## Logistic Regression"
   ]
  },
  {
   "cell_type": "markdown",
   "id": "cdd1f622-d4ee-4d45-a8f3-013b36c0a0bb",
   "metadata": {},
   "source": [
    "### No balance"
   ]
  },
  {
   "cell_type": "code",
   "execution_count": null,
   "id": "6a8b6733-ed68-40b9-9f13-7c0b5f6047e1",
   "metadata": {},
   "outputs": [],
   "source": [
    "perform_logit(X_train, y_train, X_test, y_test, X_cols, y_col)"
   ]
  },
  {
   "cell_type": "markdown",
   "id": "e46eb21d-baa3-45b9-8374-4eb04b91587f",
   "metadata": {},
   "source": [
    "### Undersampling"
   ]
  },
  {
   "cell_type": "code",
   "execution_count": null,
   "id": "4b108a15-f6d3-4332-9021-04c56d736800",
   "metadata": {},
   "outputs": [],
   "source": [
    "perform_logit(X_train_rus, y_train_rus, X_test, y_test, X_cols, y_col)"
   ]
  },
  {
   "cell_type": "markdown",
   "id": "5f474efe-6e4d-454f-a517-c45b7ff8eac3",
   "metadata": {},
   "source": [
    "### Oversampling"
   ]
  },
  {
   "cell_type": "code",
   "execution_count": null,
   "id": "e55e2a89-3256-4cb1-a930-d332e544a7b9",
   "metadata": {},
   "outputs": [],
   "source": [
    "perform_logit(X_train_ros, y_train_ros, X_test, y_test, X_cols, y_col)"
   ]
  },
  {
   "cell_type": "markdown",
   "id": "5015c763-4e56-4b7c-aa05-5788d2905985",
   "metadata": {},
   "source": [
    "### SMOTEENN"
   ]
  },
  {
   "cell_type": "code",
   "execution_count": null,
   "id": "2d60c374-6f99-42fe-8e4b-c40c20b431e3",
   "metadata": {},
   "outputs": [],
   "source": [
    "perform_logit(X_train, X_test, y_train, y_test, X_cols, y_col, balance='smoteen')"
   ]
  },
  {
   "cell_type": "markdown",
   "id": "05c27f53-3594-45a7-986f-a5f923449f85",
   "metadata": {},
   "source": [
    "## Random Forest"
   ]
  },
  {
   "cell_type": "markdown",
   "id": "9ade1045-4022-4107-b799-41edbb663624",
   "metadata": {},
   "source": [
    "### No balance"
   ]
  },
  {
   "cell_type": "code",
   "execution_count": null,
   "id": "0ea84081-abf1-427a-8017-b37c499ce6d2",
   "metadata": {},
   "outputs": [],
   "source": [
    "perform_random_forest(X_train, y_train, X_test, y_test)"
   ]
  },
  {
   "cell_type": "markdown",
   "id": "771dfa69-fe3e-417f-b056-d8054d481242",
   "metadata": {},
   "source": [
    "### Undersampling"
   ]
  },
  {
   "cell_type": "code",
   "execution_count": null,
   "id": "9801863f-1ed9-4112-805f-c6d88615e96c",
   "metadata": {},
   "outputs": [],
   "source": [
    "perform_random_forest(X_train_rus, y_train_rus, X_test, y_test)"
   ]
  },
  {
   "cell_type": "markdown",
   "id": "eee15827-d405-4545-87cb-66d0bfcda305",
   "metadata": {},
   "source": [
    "### Oversampling"
   ]
  },
  {
   "cell_type": "code",
   "execution_count": null,
   "id": "91729c41-fe30-4e2f-bc84-5bf674f861b2",
   "metadata": {},
   "outputs": [],
   "source": [
    "perform_random_forest(X_train_ros, y_train_ros, X_test, y_test)"
   ]
  },
  {
   "cell_type": "markdown",
   "id": "966fdeb6-9522-462f-8344-b5cf8b7747b6",
   "metadata": {},
   "source": [
    "### SMOTEENN"
   ]
  },
  {
   "cell_type": "code",
   "execution_count": null,
   "id": "b7438cf4-cf2e-4b29-ba61-aac89a86321e",
   "metadata": {},
   "outputs": [],
   "source": [
    "perform_random_forest(X_train_smote_enn, y_train_smote_enn, X_test, y_test)"
   ]
  },
  {
   "cell_type": "markdown",
   "id": "b2f48575-c85f-46f4-8046-60cd7825fadd",
   "metadata": {},
   "source": [
    "## Decision Tree"
   ]
  },
  {
   "cell_type": "markdown",
   "id": "4cdea0e0-e821-4189-b0ef-67deead620a4",
   "metadata": {},
   "source": [
    "### No balance"
   ]
  },
  {
   "cell_type": "code",
   "execution_count": null,
   "id": "4cec8aa1-d87d-4a82-8635-9524986bf316",
   "metadata": {},
   "outputs": [],
   "source": [
    "perform_decision_tree(X_train, X_test, y_train, y_test)"
   ]
  },
  {
   "cell_type": "markdown",
   "id": "c199e85f-6254-4276-826a-9ceab00a76f0",
   "metadata": {},
   "source": [
    "### Undersampling"
   ]
  },
  {
   "cell_type": "code",
   "execution_count": null,
   "id": "3787e25c-9a39-4b5d-99f7-973af5b945d3",
   "metadata": {},
   "outputs": [],
   "source": [
    "perform_decision_tree(X_train_rus, y_train_rus, X_test, y_test)"
   ]
  },
  {
   "cell_type": "markdown",
   "id": "f37637f9-78b6-4600-b38f-4e2c81e02d9d",
   "metadata": {},
   "source": [
    "### Oversampling"
   ]
  },
  {
   "cell_type": "code",
   "execution_count": null,
   "id": "447027fb-9421-4dd0-b25a-c32cc173b94f",
   "metadata": {},
   "outputs": [],
   "source": [
    "perform_decision_tree(X_train_ros, y_train_ros, X_test, y_test)"
   ]
  },
  {
   "cell_type": "markdown",
   "id": "13eca072-624a-4c3e-baf3-7057a2a43c56",
   "metadata": {},
   "source": [
    "### SMOTEENN"
   ]
  },
  {
   "cell_type": "code",
   "execution_count": null,
   "id": "c1a0d673-8aff-47e5-8635-3ce88d698845",
   "metadata": {},
   "outputs": [],
   "source": [
    "perform_decision_tree(X_train_smote_enn, y_train_smote_enn, X_test, y_test)"
   ]
  },
  {
   "cell_type": "markdown",
   "id": "36b7787c-8f63-4f3f-9681-5e2f2940c282",
   "metadata": {},
   "source": [
    "# Strategy 4 - most frequent"
   ]
  },
  {
   "cell_type": "code",
   "execution_count": null,
   "id": "ef4e7dcc-0a44-47b0-accc-a4381c1f448e",
   "metadata": {},
   "outputs": [],
   "source": [
    "imputer = SimpleImputer(missing_values=np.nan, strategy='most_frequent')\n",
    "data_most_frequent = pd.DataFrame(imputer.fit_transform(data))\n",
    "data_most_frequent.columns = data.columns\n",
    "data_most_frequent.index = data.index\n",
    "# mean values are not integer numbers so rounding to int was necessary\n",
    "data_most_frequent = perform_mapping(data_most_frequent, questions_map_EN)\n",
    "model_data = data_most_frequent.drop(columns=['Que16'])\n",
    "target_data = data_most_frequent['Que16']\n",
    "X_train, X_test, y_train, y_test = train_test_split(model_data.values, target_data.values, test_size=0.20, random_state=42)\n",
    "# balancing data\n",
    "rus = RandomUnderSampler(random_state=0)\n",
    "X_train_rus, y_train_rus = rus.fit_resample(X_train, y_train)\n",
    "ros = RandomOverSampler(random_state=0)\n",
    "X_train_ros, y_train_ros = ros.fit_resample(X_train, y_train)\n",
    "smote_enn = SMOTEENN(random_state=0)\n",
    "X_train_smote_enn, y_train_smote_enn = smote_enn.fit_resample(X_train, y_train)"
   ]
  },
  {
   "cell_type": "markdown",
   "id": "733c83c7-8a1d-425f-9d89-8d44e5f031c7",
   "metadata": {},
   "source": [
    "## Logistic Regression"
   ]
  },
  {
   "cell_type": "markdown",
   "id": "0bc98938-5a9b-49a5-992e-3048d68deb93",
   "metadata": {},
   "source": [
    "### No balance"
   ]
  },
  {
   "cell_type": "code",
   "execution_count": null,
   "id": "70d4dfd2-4f94-4469-8917-2cc0c0d07182",
   "metadata": {},
   "outputs": [],
   "source": [
    "perform_logit(X_train, y_train, X_test, y_test, X_cols, y_col)"
   ]
  },
  {
   "cell_type": "markdown",
   "id": "1b4a86ba-f3fe-4b4d-aaef-50528ae916a5",
   "metadata": {},
   "source": [
    "### Undersampling"
   ]
  },
  {
   "cell_type": "code",
   "execution_count": null,
   "id": "b2f3cd48-b4c4-4a9d-afbc-4285edaf5039",
   "metadata": {},
   "outputs": [],
   "source": [
    "perform_logit(X_train_rus, y_train_rus, X_test, y_test, X_cols, y_col)"
   ]
  },
  {
   "cell_type": "markdown",
   "id": "c2a82053-b9db-4364-8a1d-58fb6690096e",
   "metadata": {},
   "source": [
    "### Oversampling"
   ]
  },
  {
   "cell_type": "code",
   "execution_count": null,
   "id": "bb88eeed-79bc-48ab-b3ae-166f1a438cc4",
   "metadata": {},
   "outputs": [],
   "source": [
    "perform_logit(X_train_ros, y_train_ros, X_test, y_test, X_cols, y_col)"
   ]
  },
  {
   "cell_type": "markdown",
   "id": "570995c4-4a3f-471b-aff9-97b2157e7062",
   "metadata": {},
   "source": [
    "### SMOTEENN"
   ]
  },
  {
   "cell_type": "code",
   "execution_count": null,
   "id": "2c03217f-361e-4855-976d-17514b83ac58",
   "metadata": {},
   "outputs": [],
   "source": [
    "perform_logit(X_train_smote_enn, y_train_smote_enn, X_test, y_test, X_cols, y_col)"
   ]
  },
  {
   "cell_type": "markdown",
   "id": "52234724-2880-4ac1-bacb-2e0b75328e2e",
   "metadata": {},
   "source": [
    "## Random Forest"
   ]
  },
  {
   "cell_type": "markdown",
   "id": "aaecf051-be3d-40a5-ad97-c5d13bf67f64",
   "metadata": {},
   "source": [
    "### No balance"
   ]
  },
  {
   "cell_type": "code",
   "execution_count": null,
   "id": "f3ee7c00-7302-4581-aff2-1119cffa8e27",
   "metadata": {},
   "outputs": [],
   "source": [
    "perform_random_forest(X_train_smote_enn, y_train_smote_enn, X_test, y_test)"
   ]
  },
  {
   "cell_type": "markdown",
   "id": "e9dd608d-77b2-4c5e-9f78-797abb8cde1f",
   "metadata": {},
   "source": [
    "### Undersampling"
   ]
  },
  {
   "cell_type": "code",
   "execution_count": null,
   "id": "78c8f90c-003c-4688-8a95-5f40cdf6b7d7",
   "metadata": {},
   "outputs": [],
   "source": [
    "perform_random_forest(X_train_rus, y_train_rus, X_test, y_test)"
   ]
  },
  {
   "cell_type": "markdown",
   "id": "98275891-207c-47c4-9d1a-7fb440059f5c",
   "metadata": {},
   "source": [
    "### Oversampling"
   ]
  },
  {
   "cell_type": "code",
   "execution_count": null,
   "id": "91bd31a4-1cf8-4407-84a6-1b8c85efb9e5",
   "metadata": {},
   "outputs": [],
   "source": [
    "perform_random_forest(X_train_ros, y_train_ros, X_test, y_test)"
   ]
  },
  {
   "cell_type": "markdown",
   "id": "fa73defd-d7ce-4ab8-8bc6-b198deaa6182",
   "metadata": {},
   "source": [
    "### SMOTEENN"
   ]
  },
  {
   "cell_type": "code",
   "execution_count": null,
   "id": "3e627729-7734-4b55-9cce-6cf6c61995a9",
   "metadata": {},
   "outputs": [],
   "source": [
    "perform_random_forest(X_train, X_test, y_train, y_test, balance='smoteen')"
   ]
  },
  {
   "cell_type": "markdown",
   "id": "89ce2c50-9232-4b3f-bd5b-0db4fb9563cf",
   "metadata": {},
   "source": [
    "## Decision Tree"
   ]
  },
  {
   "cell_type": "markdown",
   "id": "2f01c4f5-bc08-405b-8121-8c90df9e987d",
   "metadata": {},
   "source": [
    "### No balance"
   ]
  },
  {
   "cell_type": "code",
   "execution_count": null,
   "id": "e4c269e0-b18c-44ed-95dd-4ab7464d2ab8",
   "metadata": {},
   "outputs": [],
   "source": [
    "perform_decision_tree(X_train, X_test, y_train, y_test)"
   ]
  },
  {
   "cell_type": "markdown",
   "id": "e8a0d235-55d1-4b7f-a07e-7a34f5477aad",
   "metadata": {},
   "source": [
    "### Undersampling"
   ]
  },
  {
   "cell_type": "code",
   "execution_count": null,
   "id": "6701690d-aeb6-484e-b5d8-6fccb5b9a31b",
   "metadata": {},
   "outputs": [],
   "source": [
    "perform_decision_tree(X_train_rus, y_train_rus, X_test, y_test)"
   ]
  },
  {
   "cell_type": "markdown",
   "id": "85f50ee3-1dd3-40a5-bac2-054255e0730c",
   "metadata": {},
   "source": [
    "### Oversampling"
   ]
  },
  {
   "cell_type": "code",
   "execution_count": null,
   "id": "b08bc3b7-9f2a-4572-88c2-c6d2868df1fd",
   "metadata": {},
   "outputs": [],
   "source": [
    "perform_decision_tree(X_train_ros, y_train_ros, X_test, y_test)"
   ]
  },
  {
   "cell_type": "markdown",
   "id": "111d22e7-e234-49b8-851e-f6c1d93d6641",
   "metadata": {},
   "source": [
    "### SMOTEENN"
   ]
  },
  {
   "cell_type": "code",
   "execution_count": null,
   "id": "ebf5ff9e-f129-4b27-a335-32c09e35fb02",
   "metadata": {},
   "outputs": [],
   "source": [
    "perform_decision_tree(X_train_smote_enn, y_train_smote_enn, X_test, y_test)"
   ]
  }
 ],
 "metadata": {
  "kernelspec": {
   "display_name": "Python 3 (ipykernel)",
   "language": "python",
   "name": "python3"
  },
  "language_info": {
   "codemirror_mode": {
    "name": "ipython",
    "version": 3
   },
   "file_extension": ".py",
   "mimetype": "text/x-python",
   "name": "python",
   "nbconvert_exporter": "python",
   "pygments_lexer": "ipython3",
   "version": "3.7.9"
  },
  "toc-autonumbering": false
 },
 "nbformat": 4,
 "nbformat_minor": 5
}
