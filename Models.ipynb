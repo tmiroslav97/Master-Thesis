{
 "cells": [
  {
   "cell_type": "markdown",
   "id": "6a10b418-ac80-4187-a54e-f74066bca77a",
   "metadata": {},
   "source": [
    "# Models"
   ]
  },
  {
   "cell_type": "code",
   "execution_count": 71,
   "id": "2d0f059c-90c6-4964-a63d-fd1476a01bac",
   "metadata": {},
   "outputs": [],
   "source": [
    "import time\n",
    "import datetime\n",
    "import numpy as np\n",
    "import pandas as pd\n",
    "from statsmodels.discrete.discrete_model import Logit\n",
    "from sklearn.model_selection import train_test_split\n",
    "from sklearn.impute import SimpleImputer\n",
    "from sklearn.metrics import accuracy_score, precision_score, recall_score, f1_score, confusion_matrix, roc_auc_score\n",
    "from sklearn.ensemble import RandomForestClassifier\n",
    "from sklearn.tree import DecisionTreeClassifier\n",
    "from sklearn.model_selection import GridSearchCV, cross_val_score, cross_val_predict\n",
    "from sklearn.base import BaseEstimator, ClassifierMixin\n",
    "from imblearn.over_sampling import RandomOverSampler\n",
    "from imblearn.under_sampling import RandomUnderSampler\n",
    "from imblearn.combine import SMOTEENN\n",
    "from pprint import pprint\n",
    "import matplotlib.pyplot as plt\n",
    "import statsmodels.api as sm"
   ]
  },
  {
   "cell_type": "code",
   "execution_count": null,
   "id": "d4b806b0-e1e0-4573-b393-9468b1da5d61",
   "metadata": {},
   "outputs": [],
   "source": [
    "from google.colab import drive\n",
    "drive.mount('/content/drive')"
   ]
  },
  {
   "cell_type": "code",
   "execution_count": 72,
   "id": "5efc22b5-9751-4c97-881a-6fb4b94c8954",
   "metadata": {},
   "outputs": [],
   "source": [
    "# %run /content/drive/MyDrive/DentistDataAnalysis/Experiments/Mappings.ipynb\n",
    "%run Mappings.ipynb"
   ]
  },
  {
   "cell_type": "code",
   "execution_count": 73,
   "id": "5aafc249-ed54-400f-8596-509d384c8e3e",
   "metadata": {},
   "outputs": [],
   "source": [
    "# DIR = '/content/drive/MyDrive/DentistDataAnalysis/Experiments/'\n",
    "DIR = ''"
   ]
  },
  {
   "cell_type": "code",
   "execution_count": 74,
   "id": "74c55e76-b922-4d2d-89ee-7ee2f829bd09",
   "metadata": {},
   "outputs": [],
   "source": [
    "data = pd.read_csv(DIR+'dataset/final_data.csv')"
   ]
  },
  {
   "cell_type": "code",
   "execution_count": 75,
   "id": "05ed30dd-55cb-4a2e-b332-ae75e5845d66",
   "metadata": {},
   "outputs": [],
   "source": [
    "X_cols = ['Que1', 'Que2', 'Que3', 'Que4', 'Que5', 'Que6', 'Que10_a', 'Que10_b', 'Que10_c', 'Que10_d', 'Que10_e', 'Que10_f', 'Que14', 'Que15', 'Que17', 'Que18_age', 'Que19', 'Que20', 'Que21', 'Que22', 'Que_smoking']\n",
    "y_col = ['Que16']"
   ]
  },
  {
   "cell_type": "markdown",
   "id": "26e80ddd-743e-41a5-a138-c2b8ea4c3460",
   "metadata": {},
   "source": [
    "## Logit"
   ]
  },
  {
   "cell_type": "code",
   "execution_count": 76,
   "id": "ab5808d7-bbff-460d-82ee-37272b307e83",
   "metadata": {},
   "outputs": [],
   "source": [
    "class SMWrapper(BaseEstimator, ClassifierMixin):\n",
    "    def __init__(self, model_class, fit_intercept=True):\n",
    "        self.model_class = model_class\n",
    "        self.fit_intercept = fit_intercept\n",
    "    def fit(self, X, y):\n",
    "        if self.fit_intercept:\n",
    "            X = sm.add_constant(X)\n",
    "        self.model_ = self.model_class(y, X)\n",
    "        self.results_ = self.model_.fit()\n",
    "        return self\n",
    "    def predict(self, X):\n",
    "        if self.fit_intercept:\n",
    "            X = sm.add_constant(X)\n",
    "        yhat = self.results_.predict(X)\n",
    "        return list(map(round, yhat))"
   ]
  },
  {
   "cell_type": "code",
   "execution_count": 77,
   "id": "c67d1c29-49d9-4d75-ae0b-5dda8a144dd5",
   "metadata": {},
   "outputs": [],
   "source": [
    "def perform_logit(X_train, y_train, X_test, y_test, X_cols, y_col):\n",
    "    X_train_df = pd.DataFrame(data=X_train, columns=X_cols)\n",
    "    y_train_df = pd.DataFrame(data=y_train, columns=y_col)\n",
    "    logit_model = SMWrapper(sm.Logit)\n",
    "    scores = cross_val_score(logit_model, X_train_df, y_train_df, cv=5, n_jobs=-1)\n",
    "    print('Mean cross-validation score: ')\n",
    "    print(scores.mean())\n",
    "    X_train_df = sm.add_constant(X_train_df)\n",
    "    logit = Logit(y_train_df, X_train_df)\n",
    "    lg = logit.fit()\n",
    "    print(lg.summary())\n",
    "    X_test = sm.add_constant(X_test)\n",
    "    yhat = lg.predict(X_test)\n",
    "    prediction = list(map(round, yhat))\n",
    "    get_metrics(y_test, prediction)   "
   ]
  },
  {
   "cell_type": "markdown",
   "id": "09251b8e-a692-488b-9fbd-d2597fce2c8f",
   "metadata": {},
   "source": [
    "## Random forest"
   ]
  },
  {
   "cell_type": "code",
   "execution_count": 78,
   "id": "44552c2d-a03a-4784-9bbd-a7fafcbc3f25",
   "metadata": {},
   "outputs": [],
   "source": [
    "def perform_random_forest(X_train, y_train, X_test, y_test):\n",
    "    #hyperparameters config\n",
    "    n_estimators = [int(x) for x in np.linspace(start = 5, stop = 150, num = 15)]\n",
    "    criterion = ['gini', 'entropy']\n",
    "    max_features = ['sqrt']\n",
    "    max_depth = [int(x) for x in np.linspace(10, 100, num = 6)]\n",
    "    max_depth.append(None)\n",
    "    min_samples_split = [2, 5, 10]\n",
    "    min_samples_leaf = [1, 2, 4]\n",
    "    bootstrap = [True]\n",
    "    random_grid = {'n_estimators': n_estimators,\n",
    "                   'criterion': criterion,\n",
    "                   'max_features': max_features,\n",
    "                   'max_depth': max_depth,\n",
    "                   'min_samples_split': min_samples_split,\n",
    "                   'min_samples_leaf': min_samples_leaf,\n",
    "                   'bootstrap': bootstrap}\n",
    "    #grid search config\n",
    "    rf_scoring='accuracy'\n",
    "    rf_cv = 5\n",
    "    rf_verbose=1\n",
    "    rf_n_jobs=-1\n",
    "    rf_return_train_score=True\n",
    "    rf = RandomForestClassifier()\n",
    "    rf_grid = GridSearchCV(estimator=rf, \n",
    "                            param_grid=random_grid,\n",
    "                            scoring=rf_scoring, cv=rf_cv, \n",
    "                            verbose=rf_verbose, n_jobs=rf_n_jobs, \n",
    "                            return_train_score=rf_return_train_score)\n",
    "    start_time = time.time()\n",
    "    rf_grid.fit(X_train, y_train)\n",
    "    end_time = time.time()\n",
    "    conv_time = datetime.timedelta(seconds=end_time-start_time)\n",
    "    print(f\"Grid search time: {conv_time}\")\n",
    "    \n",
    "    pprint(rf_grid.best_params_)\n",
    "    prediction = rf_grid.best_estimator_.predict(X_test)\n",
    "    get_metrics(y_test, prediction)\n",
    "    \n",
    "    start_time = time.time()\n",
    "    importances = rf_grid.best_estimator_.feature_importances_\n",
    "    std = np.std([rf_grid.best_estimator_.feature_importances_ for tree in rf_grid.best_estimator_.estimators_], axis=0)\n",
    "    elapsed_time = time.time() - start_time\n",
    "    print(f\"Elapsed time to compute the importances: \" \n",
    "          f\"{elapsed_time:.3f} seconds\")\n",
    "    forest_importances = pd.Series(importances, index=X_cols)\n",
    "    fig, ax = plt.subplots()\n",
    "    forest_importances.plot.bar(yerr=std, ax=ax)\n",
    "    ax.set_title(\"Feature importances using MDI\")\n",
    "    ax.set_ylabel(\"Mean decrease in impurity\")\n",
    "    fig.tight_layout()"
   ]
  },
  {
   "cell_type": "markdown",
   "id": "313fea68-c90d-4503-b5f4-a5b345acfee8",
   "metadata": {},
   "source": [
    "## Decision trees"
   ]
  },
  {
   "cell_type": "code",
   "execution_count": 79,
   "id": "89deb587-e3e7-411b-ba7b-6753e3a47384",
   "metadata": {},
   "outputs": [],
   "source": [
    "def perform_decision_tree(X_train, y_train, X_test, y_test):\n",
    "    #hyperparameters config\n",
    "    criterion = ['gini', 'entropy']\n",
    "    splitter = ['best', 'random']\n",
    "    max_features = ['auto', 'sqrt']\n",
    "    max_depth = [int(x) for x in np.linspace(10, 50, num = 6)]\n",
    "    max_depth.append(None)\n",
    "    min_samples_split = [2, 5, 10]\n",
    "    min_samples_leaf = [1, 2, 4]\n",
    "    random_grid = {'criterion': criterion,\n",
    "                   'splitter': splitter,\n",
    "                   'max_features': max_features,\n",
    "                   'max_depth': max_depth,\n",
    "                   'min_samples_split': min_samples_split,\n",
    "                   'min_samples_leaf': min_samples_leaf}\n",
    "    #decision trees config\n",
    "    dtc_scoring='accuracy'\n",
    "    dtc_cv = 5\n",
    "    dtc_verbose=1\n",
    "    dtc_n_jobs=-1\n",
    "    dtc_return_train_score=True\n",
    "    dtc = DecisionTreeClassifier()\n",
    "    dtc_grid = GridSearchCV(estimator=dtc, \n",
    "                            param_grid=random_grid,\n",
    "                            scoring=dtc_scoring, cv=dtc_cv, \n",
    "                            verbose=dtc_verbose, n_jobs=dtc_n_jobs, \n",
    "                            return_train_score=dtc_return_train_score)\n",
    "    start_time = time.time()\n",
    "    dtc_grid.fit(X_train, y_train)\n",
    "    end_time = time.time()\n",
    "    conv_time = datetime.timedelta(seconds=end_time-start_time)\n",
    "    print(f\"Grid search time: {conv_time}\")\n",
    "    \n",
    "    pprint(dtc_grid.best_params_)\n",
    "    prediction = dtc_grid.best_estimator_.predict(X_test)\n",
    "    get_metrics(y_test, prediction)"
   ]
  },
  {
   "cell_type": "markdown",
   "id": "fa532ecb-e46c-4cc3-9053-c5fd1a3d2be1",
   "metadata": {},
   "source": [
    "## Metrics"
   ]
  },
  {
   "cell_type": "code",
   "execution_count": 80,
   "id": "8a593144-624e-4ac9-8d06-596489698552",
   "metadata": {},
   "outputs": [],
   "source": [
    "def get_metrics(y_true, prediction):\n",
    "    print(np.unique(y_true, return_counts=True))\n",
    "    print('Test ROC AUC:\\t', roc_auc_score(y_true, prediction))\n",
    "    print('Test accuracy:\\t', accuracy_score(y_true, prediction))\n",
    "    print('Test precision:\\t', precision_score(y_true, prediction))\n",
    "    print('Test recall:\\t', recall_score(y_true, prediction))\n",
    "    print('Test F1 score:\\t', f1_score(y_true, prediction))\n",
    "    print('Test confusion matrix:\\t')\n",
    "    print(confusion_matrix(y_true, prediction))"
   ]
  },
  {
   "cell_type": "markdown",
   "id": "cfc10cdd-703f-4f4c-a8fd-fc127da6575f",
   "metadata": {},
   "source": [
    "# Strategy 1 - dropping all missing"
   ]
  },
  {
   "cell_type": "code",
   "execution_count": 81,
   "id": "79170683-1efa-4b7e-9881-e7e5925443b8",
   "metadata": {},
   "outputs": [],
   "source": [
    "data_dropped = data.dropna().reset_index(drop=True)\n",
    "data_dropped = perform_mapping(data_dropped, questions_map_EN)\n",
    "model_data = data_dropped.drop(columns=['Que16'])\n",
    "target_data = data_dropped['Que16']\n",
    "X_train, X_test, y_train, y_test = train_test_split(model_data.values, target_data.values, test_size=0.20, random_state=42)\n",
    "# balancing data\n",
    "rus = RandomUnderSampler(random_state=0)\n",
    "X_train_rus, y_train_rus = rus.fit_resample(X_train, y_train)\n",
    "ros = RandomOverSampler(random_state=0)\n",
    "X_train_ros, y_train_ros = ros.fit_resample(X_train, y_train)\n",
    "smote_enn = SMOTEENN(random_state=0)\n",
    "X_train_smote_enn, y_train_smote_enn = smote_enn.fit_resample(X_train, y_train)"
   ]
  },
  {
   "cell_type": "markdown",
   "id": "25e44020-3441-4055-992e-761ee3087697",
   "metadata": {},
   "source": [
    "## Logistic Regression"
   ]
  },
  {
   "cell_type": "markdown",
   "id": "54648229-d551-49d8-ba81-922c8052e766",
   "metadata": {},
   "source": [
    "### No balance"
   ]
  },
  {
   "cell_type": "code",
   "execution_count": 82,
   "id": "c3790728-0cdf-4649-af9b-7e88d4d65d9c",
   "metadata": {},
   "outputs": [
    {
     "name": "stdout",
     "output_type": "stream",
     "text": [
      "Mean cross-validation score: \n",
      "0.684572706935123\n",
      "Optimization terminated successfully.\n",
      "         Current function value: 0.563189\n",
      "         Iterations 7\n",
      "                           Logit Regression Results                           \n",
      "==============================================================================\n",
      "Dep. Variable:                  Que16   No. Observations:                  748\n",
      "Model:                          Logit   Df Residuals:                      726\n",
      "Method:                           MLE   Df Model:                           21\n",
      "Date:                Wed, 01 Sep 2021   Pseudo R-squ.:                  0.1368\n",
      "Time:                        17:51:45   Log-Likelihood:                -421.27\n",
      "converged:                       True   LL-Null:                       -488.02\n",
      "Covariance Type:            nonrobust   LLR p-value:                 2.260e-18\n",
      "===============================================================================\n",
      "                  coef    std err          z      P>|z|      [0.025      0.975]\n",
      "-------------------------------------------------------------------------------\n",
      "const          -0.7646      0.285     -2.679      0.007      -1.324      -0.205\n",
      "Que1            0.3534      0.248      1.428      0.153      -0.132       0.839\n",
      "Que2           -0.2122      0.180     -1.179      0.238      -0.565       0.140\n",
      "Que3            0.2350      0.187      1.254      0.210      -0.132       0.602\n",
      "Que4            0.1303      0.223      0.585      0.558      -0.306       0.567\n",
      "Que5           -0.1324      0.509     -0.260      0.795      -1.131       0.866\n",
      "Que6            0.2937      0.177      1.662      0.097      -0.053       0.640\n",
      "Que10_a        -0.0668      0.191     -0.349      0.727      -0.442       0.308\n",
      "Que10_b         0.3756      0.313      1.198      0.231      -0.239       0.990\n",
      "Que10_c         0.1251      0.194      0.645      0.519      -0.255       0.505\n",
      "Que10_d         0.1728      0.184      0.939      0.348      -0.188       0.533\n",
      "Que10_e        -2.0778      0.767     -2.708      0.007      -3.581      -0.574\n",
      "Que10_f         0.1423      0.178      0.798      0.425      -0.207       0.492\n",
      "Que14          -0.3838      0.244     -1.572      0.116      -0.862       0.095\n",
      "Que15           1.1959      0.188      6.364      0.000       0.828       1.564\n",
      "Que17           1.9613      0.765      2.563      0.010       0.461       3.461\n",
      "Que18_age       0.0682      0.235      0.290      0.772      -0.393       0.530\n",
      "Que19           0.6898      0.345      1.997      0.046       0.013       1.367\n",
      "Que20           1.5694      0.655      2.395      0.017       0.285       2.854\n",
      "Que21          -0.0072      0.188     -0.039      0.969      -0.375       0.361\n",
      "Que22           0.3075      0.179      1.722      0.085      -0.042       0.657\n",
      "Que_smoking     0.2223      0.193      1.150      0.250      -0.157       0.601\n",
      "===============================================================================\n",
      "(array([0., 1.]), array([ 71, 117]))\n",
      "Test ROC AUC:\t 0.6620320211869508\n",
      "Test accuracy:\t 0.6861702127659575\n",
      "Test precision:\t 0.7416666666666667\n",
      "Test recall:\t 0.7606837606837606\n",
      "Test F1 score:\t 0.751054852320675\n",
      "Test confusion matrix:\t\n",
      "[[40 31]\n",
      " [28 89]]\n"
     ]
    }
   ],
   "source": [
    "perform_logit(X_train, y_train, X_test, y_test, X_cols, y_col)"
   ]
  },
  {
   "cell_type": "markdown",
   "id": "01bd3b09-8206-4c2f-9f3c-080454c01406",
   "metadata": {},
   "source": [
    "### Undersampling"
   ]
  },
  {
   "cell_type": "code",
   "execution_count": 83,
   "id": "b9ad429c-b967-42f9-a4f9-688786d9564a",
   "metadata": {},
   "outputs": [
    {
     "name": "stdout",
     "output_type": "stream",
     "text": [
      "Mean cross-validation score: \n",
      "nan\n",
      "Optimization terminated successfully.\n",
      "         Current function value: 0.590972\n",
      "         Iterations 6\n",
      "                           Logit Regression Results                           \n",
      "==============================================================================\n",
      "Dep. Variable:                  Que16   No. Observations:                  536\n",
      "Model:                          Logit   Df Residuals:                      514\n",
      "Method:                           MLE   Df Model:                           21\n",
      "Date:                Wed, 01 Sep 2021   Pseudo R-squ.:                  0.1474\n",
      "Time:                        17:51:46   Log-Likelihood:                -316.76\n",
      "converged:                       True   LL-Null:                       -371.53\n",
      "Covariance Type:            nonrobust   LLR p-value:                 5.726e-14\n",
      "===============================================================================\n",
      "                  coef    std err          z      P>|z|      [0.025      0.975]\n",
      "-------------------------------------------------------------------------------\n",
      "const          -1.5017      0.346     -4.342      0.000      -2.180      -0.824\n",
      "Que1            0.4959      0.280      1.770      0.077      -0.053       1.045\n",
      "Que2           -0.1924      0.211     -0.913      0.361      -0.605       0.221\n",
      "Que3            0.2185      0.218      1.004      0.316      -0.208       0.645\n",
      "Que4            0.0446      0.254      0.175      0.861      -0.454       0.543\n",
      "Que5           -0.2874      0.619     -0.464      0.643      -1.501       0.926\n",
      "Que6            0.3143      0.207      1.518      0.129      -0.091       0.720\n",
      "Que10_a        -0.0215      0.220     -0.098      0.922      -0.452       0.409\n",
      "Que10_b         0.4651      0.346      1.343      0.179      -0.213       1.144\n",
      "Que10_c         0.2281      0.226      1.008      0.313      -0.215       0.672\n",
      "Que10_d         0.2157      0.212      1.019      0.308      -0.199       0.631\n",
      "Que10_e        -3.2170      1.239     -2.597      0.009      -5.645      -0.789\n",
      "Que10_f         0.2320      0.207      1.119      0.263      -0.175       0.639\n",
      "Que14          -0.2314      0.280     -0.825      0.409      -0.781       0.318\n",
      "Que15           1.0884      0.211      5.150      0.000       0.674       1.503\n",
      "Que17           1.7775      0.796      2.234      0.025       0.218       3.337\n",
      "Que18_age       0.0297      0.281      0.106      0.916      -0.520       0.580\n",
      "Que19           1.0340      0.392      2.640      0.008       0.266       1.802\n",
      "Que20           1.4400      0.720      2.001      0.045       0.030       2.850\n",
      "Que21          -0.1031      0.218     -0.474      0.636      -0.530       0.324\n",
      "Que22           0.3785      0.211      1.796      0.073      -0.035       0.792\n",
      "Que_smoking     0.0942      0.225      0.420      0.675      -0.346       0.535\n",
      "===============================================================================\n",
      "(array([0., 1.]), array([ 71, 117]))\n",
      "Test ROC AUC:\t 0.6625737329962682\n",
      "Test accuracy:\t 0.648936170212766\n",
      "Test precision:\t 0.7802197802197802\n",
      "Test recall:\t 0.6068376068376068\n",
      "Test F1 score:\t 0.6826923076923076\n",
      "Test confusion matrix:\t\n",
      "[[51 20]\n",
      " [46 71]]\n"
     ]
    }
   ],
   "source": [
    "perform_logit(X_train_rus, y_train_rus, X_test, y_test, X_cols, y_col)"
   ]
  },
  {
   "cell_type": "markdown",
   "id": "079ef4c0-f77b-446c-ae3f-5b75276b6fb0",
   "metadata": {},
   "source": [
    "### Oversampling"
   ]
  },
  {
   "cell_type": "code",
   "execution_count": 84,
   "id": "0d8d8455-2f07-4be6-b441-0aa82ffe0fcf",
   "metadata": {},
   "outputs": [
    {
     "name": "stdout",
     "output_type": "stream",
     "text": [
      "Mean cross-validation score: \n",
      "0.6864583333333334\n",
      "Optimization terminated successfully.\n",
      "         Current function value: 0.592887\n",
      "         Iterations 6\n",
      "                           Logit Regression Results                           \n",
      "==============================================================================\n",
      "Dep. Variable:                  Que16   No. Observations:                  960\n",
      "Model:                          Logit   Df Residuals:                      938\n",
      "Method:                           MLE   Df Model:                           21\n",
      "Date:                Wed, 01 Sep 2021   Pseudo R-squ.:                  0.1446\n",
      "Time:                        17:51:49   Log-Likelihood:                -569.17\n",
      "converged:                       True   LL-Null:                       -665.42\n",
      "Covariance Type:            nonrobust   LLR p-value:                 1.076e-29\n",
      "===============================================================================\n",
      "                  coef    std err          z      P>|z|      [0.025      0.975]\n",
      "-------------------------------------------------------------------------------\n",
      "const          -1.4171      0.257     -5.522      0.000      -1.920      -0.914\n",
      "Que1            0.3095      0.208      1.488      0.137      -0.098       0.717\n",
      "Que2           -0.2327      0.156     -1.492      0.136      -0.538       0.073\n",
      "Que3            0.3241      0.163      1.988      0.047       0.005       0.644\n",
      "Que4            0.0570      0.187      0.304      0.761      -0.310       0.424\n",
      "Que5            0.0309      0.460      0.067      0.946      -0.870       0.932\n",
      "Que6            0.2443      0.152      1.612      0.107      -0.053       0.541\n",
      "Que10_a        -0.0098      0.162     -0.060      0.952      -0.328       0.309\n",
      "Que10_b         0.1720      0.257      0.669      0.503      -0.332       0.676\n",
      "Que10_c         0.1647      0.169      0.978      0.328      -0.166       0.495\n",
      "Que10_d         0.1773      0.158      1.121      0.262      -0.133       0.487\n",
      "Que10_e        -1.7456      0.736     -2.371      0.018      -3.188      -0.303\n",
      "Que10_f         0.1650      0.153      1.079      0.281      -0.135       0.465\n",
      "Que14          -0.3669      0.211     -1.736      0.083      -0.781       0.047\n",
      "Que15           1.2481      0.158      7.911      0.000       0.939       1.557\n",
      "Que17           1.5213      0.529      2.875      0.004       0.484       2.558\n",
      "Que18_age       0.0672      0.204      0.329      0.742      -0.333       0.467\n",
      "Que19           0.9668      0.304      3.177      0.001       0.370       1.563\n",
      "Que20           1.4723      0.520      2.832      0.005       0.453       2.491\n",
      "Que21           0.0329      0.160      0.206      0.837      -0.280       0.346\n",
      "Que22           0.2849      0.155      1.840      0.066      -0.019       0.588\n",
      "Que_smoking     0.1519      0.165      0.922      0.356      -0.171       0.475\n",
      "===============================================================================\n",
      "(array([0., 1.]), array([ 71, 117]))\n",
      "Test ROC AUC:\t 0.6738894907908992\n",
      "Test accuracy:\t 0.6595744680851063\n",
      "Test precision:\t 0.7912087912087912\n",
      "Test recall:\t 0.6153846153846154\n",
      "Test F1 score:\t 0.6923076923076924\n",
      "Test confusion matrix:\t\n",
      "[[52 19]\n",
      " [45 72]]\n"
     ]
    }
   ],
   "source": [
    "perform_logit(X_train_ros, y_train_ros, X_test, y_test, X_cols, y_col)"
   ]
  },
  {
   "cell_type": "markdown",
   "id": "064e793f-c7ad-46d7-997e-3358b75955d0",
   "metadata": {},
   "source": [
    "### SMOTEENN"
   ]
  },
  {
   "cell_type": "code",
   "execution_count": 85,
   "id": "aa4cd6b3-319b-417e-aa99-f72173c41594",
   "metadata": {},
   "outputs": [
    {
     "name": "stdout",
     "output_type": "stream",
     "text": [
      "Mean cross-validation score: \n",
      "0.8635539064110492\n",
      "Optimization terminated successfully.\n",
      "         Current function value: 0.324453\n",
      "         Iterations 8\n",
      "                           Logit Regression Results                           \n",
      "==============================================================================\n",
      "Dep. Variable:                  Que16   No. Observations:                  491\n",
      "Model:                          Logit   Df Residuals:                      469\n",
      "Method:                           MLE   Df Model:                           21\n",
      "Date:                Wed, 01 Sep 2021   Pseudo R-squ.:                  0.5054\n",
      "Time:                        17:51:50   Log-Likelihood:                -159.31\n",
      "converged:                       True   LL-Null:                       -322.10\n",
      "Covariance Type:            nonrobust   LLR p-value:                 1.922e-56\n",
      "===============================================================================\n",
      "                  coef    std err          z      P>|z|      [0.025      0.975]\n",
      "-------------------------------------------------------------------------------\n",
      "const          -4.6662      0.720     -6.478      0.000      -6.078      -3.254\n",
      "Que1            1.4190      0.440      3.229      0.001       0.558       2.280\n",
      "Que2            0.1424      0.329      0.433      0.665      -0.502       0.787\n",
      "Que3            0.4535      0.353      1.284      0.199      -0.239       1.145\n",
      "Que4           -0.0294      0.379     -0.077      0.938      -0.773       0.714\n",
      "Que5           -1.8747      0.875     -2.144      0.032      -3.589      -0.161\n",
      "Que6            1.0248      0.322      3.178      0.001       0.393       1.657\n",
      "Que10_a         0.5221      0.365      1.432      0.152      -0.192       1.237\n",
      "Que10_b         0.4877      0.659      0.740      0.459      -0.803       1.779\n",
      "Que10_c         0.2606      0.408      0.638      0.523      -0.540       1.061\n",
      "Que10_d         0.3654      0.328      1.113      0.266      -0.278       1.009\n",
      "Que10_e         1.9422      3.515      0.552      0.581      -4.948       8.832\n",
      "Que10_f         0.4939      0.333      1.482      0.138      -0.159       1.147\n",
      "Que14          -0.7825      0.640     -1.222      0.222      -2.038       0.473\n",
      "Que15           3.3143      0.335      9.890      0.000       2.657       3.971\n",
      "Que17           3.4097      1.276      2.673      0.008       0.910       5.910\n",
      "Que18_age       1.5067      0.461      3.265      0.001       0.602       2.411\n",
      "Que19           1.1038      0.565      1.953      0.051      -0.004       2.211\n",
      "Que20           0.4436      0.754      0.588      0.556      -1.035       1.922\n",
      "Que21           0.1032      0.326      0.316      0.752      -0.536       0.743\n",
      "Que22           0.4445      0.350      1.268      0.205      -0.242       1.131\n",
      "Que_smoking     0.4242      0.348      1.220      0.222      -0.257       1.106\n",
      "===============================================================================\n",
      "(array([0., 1.]), array([ 71, 117]))\n",
      "Test ROC AUC:\t 0.725954014686409\n",
      "Test accuracy:\t 0.6968085106382979\n",
      "Test precision:\t 0.8658536585365854\n",
      "Test recall:\t 0.6068376068376068\n",
      "Test F1 score:\t 0.7135678391959799\n",
      "Test confusion matrix:\t\n",
      "[[60 11]\n",
      " [46 71]]\n"
     ]
    }
   ],
   "source": [
    "perform_logit(X_train_smote_enn, y_train_smote_enn, X_test, y_test, X_cols, y_col)"
   ]
  },
  {
   "cell_type": "markdown",
   "id": "dd430544-89fe-40ca-806c-19eba28a4eff",
   "metadata": {},
   "source": [
    "## Random Forest"
   ]
  },
  {
   "cell_type": "markdown",
   "id": "34fa51a3-bf8f-40ba-8ea0-bb6da1ccca7e",
   "metadata": {},
   "source": [
    "### No balance"
   ]
  },
  {
   "cell_type": "code",
   "execution_count": 63,
   "id": "a669c507-1808-4abb-9cae-4f13dbbdf7d7",
   "metadata": {},
   "outputs": [
    {
     "name": "stdout",
     "output_type": "stream",
     "text": [
      "Fitting 5 folds for each of 1890 candidates, totalling 9450 fits\n",
      "Grid search time: 0:02:52.326870\n",
      "{'bootstrap': True,\n",
      " 'criterion': 'entropy',\n",
      " 'max_depth': 10,\n",
      " 'max_features': 'sqrt',\n",
      " 'min_samples_leaf': 1,\n",
      " 'min_samples_split': 2,\n",
      " 'n_estimators': 56}\n",
      "(array([0., 1.]), array([ 71, 117]))\n",
      "Test ROC AUC:\t 0.7004935596484894\n",
      "Test accuracy:\t 0.7340425531914894\n",
      "Test precision:\t 0.7596899224806202\n",
      "Test recall:\t 0.8376068376068376\n",
      "Test F1 score:\t 0.7967479674796747\n",
      "Test confusion matrix:\t\n",
      "[[40 31]\n",
      " [19 98]]\n",
      "Elapsed time to compute the importances: 0.219 seconds\n"
     ]
    },
    {
     "data": {
      "image/png": "[encoded data removed]",
      "text/plain": [
       "<Figure size 432x288 with 1 Axes>"
      ]
     },
     "metadata": {
      "needs_background": "light"
     },
     "output_type": "display_data"
    }
   ],
   "source": [
    "perform_random_forest(X_train, y_train, X_test, y_test)"
   ]
  },
  {
   "cell_type": "markdown",
   "id": "fcf8a7f1-d667-4b31-b11b-9921b775bd5d",
   "metadata": {},
   "source": [
    "### Undersampling"
   ]
  },
  {
   "cell_type": "code",
   "execution_count": 64,
   "id": "f4831808-d502-4979-a2eb-5f709dca9778",
   "metadata": {},
   "outputs": [
    {
     "name": "stdout",
     "output_type": "stream",
     "text": [
      "Fitting 5 folds for each of 1890 candidates, totalling 9450 fits\n",
      "Grid search time: 0:02:40.307966\n",
      "{'bootstrap': True,\n",
      " 'criterion': 'entropy',\n",
      " 'max_depth': 10,\n",
      " 'max_features': 'sqrt',\n",
      " 'min_samples_leaf': 2,\n",
      " 'min_samples_split': 5,\n",
      " 'n_estimators': 67}\n",
      "(array([0., 1.]), array([ 71, 117]))\n",
      "Test ROC AUC:\t 0.6824364993379077\n",
      "Test accuracy:\t 0.6702127659574468\n",
      "Test precision:\t 0.7956989247311828\n",
      "Test recall:\t 0.6324786324786325\n",
      "Test F1 score:\t 0.7047619047619047\n",
      "Test confusion matrix:\t\n",
      "[[52 19]\n",
      " [43 74]]\n",
      "Elapsed time to compute the importances: 0.297 seconds\n"
     ]
    },
    {
     "data": {
      "image/png": "[encoded data removed]",
      "text/plain": [
       "<Figure size 432x288 with 1 Axes>"
      ]
     },
     "metadata": {
      "needs_background": "light"
     },
     "output_type": "display_data"
    }
   ],
   "source": [
    "perform_random_forest(X_train_rus, y_train_rus, X_test, y_test)"
   ]
  },
  {
   "cell_type": "markdown",
   "id": "434be831-c603-4610-9390-b36122112709",
   "metadata": {},
   "source": [
    "### Oversampling"
   ]
  },
  {
   "cell_type": "code",
   "execution_count": 65,
   "id": "eff111a1-f16d-43f9-b8fc-67af75510881",
   "metadata": {},
   "outputs": [
    {
     "name": "stdout",
     "output_type": "stream",
     "text": [
      "Fitting 5 folds for each of 1890 candidates, totalling 9450 fits\n",
      "Grid search time: 0:02:56.211140\n",
      "{'bootstrap': True,\n",
      " 'criterion': 'gini',\n",
      " 'max_depth': 28,\n",
      " 'max_features': 'sqrt',\n",
      " 'min_samples_leaf': 1,\n",
      " 'min_samples_split': 2,\n",
      " 'n_estimators': 25}\n",
      "(array([0., 1.]), array([ 71, 117]))\n",
      "Test ROC AUC:\t 0.6394005055976887\n",
      "Test accuracy:\t 0.6648936170212766\n",
      "Test precision:\t 0.725\n",
      "Test recall:\t 0.7435897435897436\n",
      "Test F1 score:\t 0.7341772151898733\n",
      "Test confusion matrix:\t\n",
      "[[38 33]\n",
      " [30 87]]\n",
      "Elapsed time to compute the importances: 0.046 seconds\n"
     ]
    },
    {
     "data": {
      "image/png": "[encoded data removed]",
      "text/plain": [
       "<Figure size 432x288 with 1 Axes>"
      ]
     },
     "metadata": {
      "needs_background": "light"
     },
     "output_type": "display_data"
    }
   ],
   "source": [
    "perform_random_forest(X_train_ros, y_train_ros, X_test, y_test)"
   ]
  },
  {
   "cell_type": "markdown",
   "id": "39d275a1-63bc-43e1-9142-bca65f5257bb",
   "metadata": {},
   "source": [
    "### SMOTEENN"
   ]
  },
  {
   "cell_type": "code",
   "execution_count": 66,
   "id": "d8f9e2a6-7823-4001-a0f5-38101dcb6a0d",
   "metadata": {},
   "outputs": [
    {
     "name": "stdout",
     "output_type": "stream",
     "text": [
      "Fitting 5 folds for each of 1890 candidates, totalling 9450 fits\n",
      "Grid search time: 0:02:35.174726\n",
      "{'bootstrap': True,\n",
      " 'criterion': 'gini',\n",
      " 'max_depth': 100,\n",
      " 'max_features': 'sqrt',\n",
      " 'min_samples_leaf': 1,\n",
      " 'min_samples_split': 2,\n",
      " 'n_estimators': 25}\n",
      "(array([0., 1.]), array([ 71, 117]))\n",
      "Test ROC AUC:\t 0.7007945106536656\n",
      "Test accuracy:\t 0.6861702127659575\n",
      "Test precision:\t 0.8152173913043478\n",
      "Test recall:\t 0.6410256410256411\n",
      "Test F1 score:\t 0.7177033492822967\n",
      "Test confusion matrix:\t\n",
      "[[54 17]\n",
      " [42 75]]\n",
      "Elapsed time to compute the importances: 0.045 seconds\n"
     ]
    },
    {
     "data": {
      "image/png": "[encoded data removed]",
      "text/plain": [
       "<Figure size 432x288 with 1 Axes>"
      ]
     },
     "metadata": {
      "needs_background": "light"
     },
     "output_type": "display_data"
    }
   ],
   "source": [
    "perform_random_forest(X_train_smote_enn, y_train_smote_enn, X_test, y_test)"
   ]
  },
  {
   "cell_type": "markdown",
   "id": "968c8b98-3bf9-457b-b4e2-02c9c63a4160",
   "metadata": {},
   "source": [
    "## Decision Tree"
   ]
  },
  {
   "cell_type": "markdown",
   "id": "7c3db033-ac79-4307-bcab-84b3dfdcef79",
   "metadata": {},
   "source": [
    "### No balance"
   ]
  },
  {
   "cell_type": "code",
   "execution_count": 67,
   "id": "c46a02eb-47e2-456c-ad6c-d11820393d0f",
   "metadata": {},
   "outputs": [
    {
     "name": "stdout",
     "output_type": "stream",
     "text": [
      "Fitting 5 folds for each of 504 candidates, totalling 2520 fits\n",
      "Grid search time: 0:00:01.021222\n",
      "{'criterion': 'gini',\n",
      " 'max_depth': 26,\n",
      " 'max_features': 'auto',\n",
      " 'min_samples_leaf': 1,\n",
      " 'min_samples_split': 2,\n",
      " 'splitter': 'random'}\n",
      "(array([0., 1.]), array([ 71, 117]))\n",
      "Test ROC AUC:\t 0.6378957505718068\n",
      "Test accuracy:\t 0.6595744680851063\n",
      "Test precision:\t 0.7264957264957265\n",
      "Test recall:\t 0.7264957264957265\n",
      "Test F1 score:\t 0.7264957264957265\n",
      "Test confusion matrix:\t\n",
      "[[39 32]\n",
      " [32 85]]\n"
     ]
    }
   ],
   "source": [
    "perform_decision_tree(X_train, y_train, X_test, y_test)"
   ]
  },
  {
   "cell_type": "markdown",
   "id": "6c19520c-3f63-45e1-a7f1-8acec823e985",
   "metadata": {},
   "source": [
    "### Undersampling"
   ]
  },
  {
   "cell_type": "code",
   "execution_count": 68,
   "id": "9ee807de-330f-463f-80cf-8ca97c5fa4fd",
   "metadata": {},
   "outputs": [
    {
     "name": "stdout",
     "output_type": "stream",
     "text": [
      "Fitting 5 folds for each of 504 candidates, totalling 2520 fits\n",
      "Grid search time: 0:00:00.963314\n",
      "{'criterion': 'gini',\n",
      " 'max_depth': 50,\n",
      " 'max_features': 'auto',\n",
      " 'min_samples_leaf': 1,\n",
      " 'min_samples_split': 2,\n",
      " 'splitter': 'best'}\n",
      "(array([0., 1.]), array([ 71, 117]))\n",
      "Test ROC AUC:\t 0.613277958348381\n",
      "Test accuracy:\t 0.6117021276595744\n",
      "Test precision:\t 0.7244897959183674\n",
      "Test recall:\t 0.6068376068376068\n",
      "Test F1 score:\t 0.6604651162790697\n",
      "Test confusion matrix:\t\n",
      "[[44 27]\n",
      " [46 71]]\n"
     ]
    }
   ],
   "source": [
    "perform_decision_tree(X_train_rus, y_train_rus, X_test, y_test)"
   ]
  },
  {
   "cell_type": "markdown",
   "id": "6537df7a-7004-4063-a5f2-74bde5bb1682",
   "metadata": {},
   "source": [
    "### Oversampling"
   ]
  },
  {
   "cell_type": "code",
   "execution_count": 69,
   "id": "4ec261db-103f-47c5-a553-5a32d94d4f82",
   "metadata": {},
   "outputs": [
    {
     "name": "stdout",
     "output_type": "stream",
     "text": [
      "Fitting 5 folds for each of 504 candidates, totalling 2520 fits\n",
      "Grid search time: 0:00:01.064523\n",
      "{'criterion': 'gini',\n",
      " 'max_depth': 34,\n",
      " 'max_features': 'sqrt',\n",
      " 'min_samples_leaf': 1,\n",
      " 'min_samples_split': 2,\n",
      " 'splitter': 'random'}\n",
      "(array([0., 1.]), array([ 71, 117]))\n",
      "Test ROC AUC:\t 0.5956422294450464\n",
      "Test accuracy:\t 0.6276595744680851\n",
      "Test precision:\t 0.6910569105691057\n",
      "Test recall:\t 0.7264957264957265\n",
      "Test F1 score:\t 0.7083333333333334\n",
      "Test confusion matrix:\t\n",
      "[[33 38]\n",
      " [32 85]]\n"
     ]
    }
   ],
   "source": [
    "perform_decision_tree(X_train_ros, y_train_ros, X_test, y_test)"
   ]
  },
  {
   "cell_type": "markdown",
   "id": "2b0ed88b-5eb8-48fb-b286-96cc466a28a2",
   "metadata": {},
   "source": [
    "### SMOTEENN"
   ]
  },
  {
   "cell_type": "code",
   "execution_count": 70,
   "id": "22edb14a-7573-4976-a1a9-4b8a384819cb",
   "metadata": {},
   "outputs": [
    {
     "name": "stdout",
     "output_type": "stream",
     "text": [
      "Fitting 5 folds for each of 504 candidates, totalling 2520 fits\n",
      "Grid search time: 0:00:00.984859\n",
      "{'criterion': 'entropy',\n",
      " 'max_depth': None,\n",
      " 'max_features': 'auto',\n",
      " 'min_samples_leaf': 1,\n",
      " 'min_samples_split': 2,\n",
      " 'splitter': 'random'}\n",
      "(array([0., 1.]), array([ 71, 117]))\n",
      "Test ROC AUC:\t 0.6155651859877211\n",
      "Test accuracy:\t 0.5904255319148937\n",
      "Test precision:\t 0.75\n",
      "Test recall:\t 0.5128205128205128\n",
      "Test F1 score:\t 0.6091370558375634\n",
      "Test confusion matrix:\t\n",
      "[[51 20]\n",
      " [57 60]]\n",
      "Optimization terminated successfully.\n",
      "         Current function value: 0.566430\n",
      "         Iterations 7\n",
      "Optimization terminated successfully.\n",
      "         Current function value: 0.583155\n",
      "         Iterations 6\n",
      "Optimization terminated successfully.\n",
      "         Current function value: 0.285674\n",
      "         Iterations 8\n",
      "Optimization terminated successfully.\n",
      "         Current function value: 0.562971\n",
      "         Iterations 7\n",
      "Optimization terminated successfully.\n",
      "         Current function value: 0.339525\n",
      "         Iterations 8\n",
      "Optimization terminated successfully.\n",
      "         Current function value: 0.557525\n",
      "         Iterations 7\n",
      "Optimization terminated successfully.\n",
      "         Current function value: 0.590079\n",
      "         Iterations 6\n",
      "Optimization terminated successfully.\n",
      "         Current function value: 0.585403\n",
      "         Iterations 6\n",
      "Optimization terminated successfully.\n",
      "         Current function value: 0.561058\n",
      "         Iterations 7\n",
      "Warning: Maximum number of iterations has been exceeded.\n",
      "         Current function value: 0.592141\n",
      "         Iterations: 35\n",
      "Optimization terminated successfully.\n",
      "         Current function value: 0.594862\n",
      "         Iterations 6\n",
      "Optimization terminated successfully.\n",
      "         Current function value: 0.310462\n",
      "         Iterations 8\n",
      "Optimization terminated successfully.\n",
      "         Current function value: 0.552867\n",
      "         Iterations 7\n",
      "Optimization terminated successfully.\n",
      "         Current function value: 0.594721\n",
      "         Iterations 6\n",
      "Optimization terminated successfully.\n",
      "         Current function value: 0.594782\n",
      "         Iterations 6\n",
      "Optimization terminated successfully.\n",
      "         Current function value: 0.340062\n",
      "         Iterations 7\n",
      "Optimization terminated successfully.\n",
      "         Current function value: 0.562348\n",
      "         Iterations 7\n",
      "Optimization terminated successfully.\n",
      "         Current function value: 0.593311\n",
      "         Iterations 7\n",
      "Optimization terminated successfully.\n",
      "         Current function value: 0.590595\n",
      "         Iterations 6\n",
      "Warning: Maximum number of iterations has been exceeded.\n",
      "         Current function value: 0.317394\n",
      "         Iterations: 35\n"
     ]
    },
    {
     "name": "stderr",
     "output_type": "stream",
     "text": [
      "/home/miroslav/anaconda3/envs/master-env/lib/python3.7/site-packages/statsmodels/discrete/discrete_model.py:1810: RuntimeWarning: overflow encountered in exp\n",
      "  return 1/(1+np.exp(-X))\n",
      "/home/miroslav/anaconda3/envs/master-env/lib/python3.7/site-packages/sklearn/model_selection/_validation.py:614: FitFailedWarning: Estimator fit failed. The score on this train-test partition for these parameters will be set to nan. Details: \n",
      "Traceback (most recent call last):\n",
      "  File \"/home/miroslav/anaconda3/envs/master-env/lib/python3.7/site-packages/sklearn/model_selection/_validation.py\", line 593, in _fit_and_score\n",
      "    estimator.fit(X_train, y_train, **fit_params)\n",
      "  File \"/tmp/ipykernel_19047/1181320327.py\", line 10, in fit\n",
      "  File \"/home/miroslav/anaconda3/envs/master-env/lib/python3.7/site-packages/statsmodels/discrete/discrete_model.py\", line 1980, in fit\n",
      "    **kwargs)\n",
      "  File \"/home/miroslav/anaconda3/envs/master-env/lib/python3.7/site-packages/statsmodels/discrete/discrete_model.py\", line 233, in fit\n",
      "    **kwargs)\n",
      "  File \"/home/miroslav/anaconda3/envs/master-env/lib/python3.7/site-packages/statsmodels/base/model.py\", line 534, in fit\n",
      "    Hinv = np.linalg.inv(-retvals['Hessian']) / nobs\n",
      "  File \"<__array_function__ internals>\", line 6, in inv\n",
      "  File \"/home/miroslav/anaconda3/envs/master-env/lib/python3.7/site-packages/numpy/linalg/linalg.py\", line 546, in inv\n",
      "    ainv = _umath_linalg.inv(a, signature=signature, extobj=extobj)\n",
      "  File \"/home/miroslav/anaconda3/envs/master-env/lib/python3.7/site-packages/numpy/linalg/linalg.py\", line 88, in _raise_linalgerror_singular\n",
      "    raise LinAlgError(\"Singular matrix\")\n",
      "numpy.linalg.LinAlgError: Singular matrix\n",
      "\n",
      "  FitFailedWarning)\n",
      "/home/miroslav/anaconda3/envs/master-env/lib/python3.7/site-packages/statsmodels/base/model.py:568: ConvergenceWarning: Maximum Likelihood optimization failed to converge. Check mle_retvals\n",
      "  ConvergenceWarning)\n"
     ]
    }
   ],
   "source": [
    "perform_decision_tree(X_train_smote_enn, y_train_smote_enn, X_test, y_test)"
   ]
  },
  {
   "cell_type": "markdown",
   "id": "4f46e186-988a-4f2c-b8e1-0583e320ebaf",
   "metadata": {},
   "source": [
    "# Strategy 2 - median"
   ]
  },
  {
   "cell_type": "code",
   "execution_count": 86,
   "id": "b7efa626-7516-4558-8a43-34642249fc37",
   "metadata": {},
   "outputs": [],
   "source": [
    "imputer = SimpleImputer(missing_values=np.nan, strategy='median')\n",
    "data_median = pd.DataFrame(imputer.fit_transform(data))\n",
    "data_median.columns = data.columns\n",
    "data_median.index = data.index\n",
    "data_median = perform_mapping(data_median, questions_map_EN)\n",
    "model_data = data_median.drop(columns=['Que16'])\n",
    "target_data = data_median['Que16']\n",
    "X_train, X_test, y_train, y_test = train_test_split(model_data.values, target_data.values, test_size=0.20, random_state=42)\n",
    "# balancing data\n",
    "rus = RandomUnderSampler(random_state=0)\n",
    "X_train_rus, y_train_rus = rus.fit_resample(X_train, y_train)\n",
    "ros = RandomOverSampler(random_state=0)\n",
    "X_train_ros, y_train_ros = ros.fit_resample(X_train, y_train)\n",
    "smote_enn = SMOTEENN(random_state=0)\n",
    "X_train_smote_enn, y_train_smote_enn = smote_enn.fit_resample(X_train, y_train)"
   ]
  },
  {
   "cell_type": "markdown",
   "id": "f3ca317f-96ec-488a-a65a-ab4b9768b013",
   "metadata": {},
   "source": [
    "## Logistic Regression"
   ]
  },
  {
   "cell_type": "markdown",
   "id": "b9e5fd7d-6997-46bf-80d9-ae5fd226d664",
   "metadata": {},
   "source": [
    "### No balance"
   ]
  },
  {
   "cell_type": "code",
   "execution_count": 87,
   "id": "68caf9de-6a45-4c53-8b87-b6dacbf5d4cc",
   "metadata": {},
   "outputs": [
    {
     "name": "stdout",
     "output_type": "stream",
     "text": [
      "Mean cross-validation score: \n",
      "0.6876435077091353\n",
      "Optimization terminated successfully.\n",
      "         Current function value: 0.549078\n",
      "         Iterations 6\n",
      "                           Logit Regression Results                           \n",
      "==============================================================================\n",
      "Dep. Variable:                  Que16   No. Observations:                 3448\n",
      "Model:                          Logit   Df Residuals:                     3426\n",
      "Method:                           MLE   Df Model:                           21\n",
      "Date:                Wed, 01 Sep 2021   Pseudo R-squ.:                  0.1164\n",
      "Time:                        17:51:58   Log-Likelihood:                -1893.2\n",
      "converged:                       True   LL-Null:                       -2142.7\n",
      "Covariance Type:            nonrobust   LLR p-value:                 2.465e-92\n",
      "===============================================================================\n",
      "                  coef    std err          z      P>|z|      [0.025      0.975]\n",
      "-------------------------------------------------------------------------------\n",
      "const          -0.4036      0.134     -3.003      0.003      -0.667      -0.140\n",
      "Que1            0.0553      0.120      0.461      0.645      -0.180       0.291\n",
      "Que2            0.0470      0.086      0.545      0.586      -0.122       0.216\n",
      "Que3            0.2392      0.088      2.708      0.007       0.066       0.412\n",
      "Que4           -0.1117      0.114     -0.978      0.328      -0.335       0.112\n",
      "Que5           -0.0276      0.093     -0.298      0.766      -0.209       0.154\n",
      "Que6            0.1850      0.102      1.810      0.070      -0.015       0.385\n",
      "Que10_a        -0.0081      0.095     -0.085      0.932      -0.195       0.179\n",
      "Que10_b         0.0330      0.145      0.228      0.820      -0.251       0.317\n",
      "Que10_c         0.2056      0.093      2.203      0.028       0.023       0.388\n",
      "Que10_d        -0.0026      0.087     -0.031      0.976      -0.173       0.167\n",
      "Que10_e        -1.0577      0.349     -3.034      0.002      -1.741      -0.374\n",
      "Que10_f         0.0887      0.085      1.045      0.296      -0.078       0.255\n",
      "Que14          -0.4134      0.118     -3.509      0.000      -0.644      -0.182\n",
      "Que15           1.4589      0.086     16.972      0.000       1.290       1.627\n",
      "Que17           1.3361      0.305      4.384      0.000       0.739       1.933\n",
      "Que18_age       0.0646      0.111      0.582      0.561      -0.153       0.282\n",
      "Que19           0.4442      0.157      2.830      0.005       0.137       0.752\n",
      "Que20           0.2297      0.228      1.006      0.314      -0.218       0.677\n",
      "Que21          -0.0841      0.092     -0.909      0.363      -0.265       0.097\n",
      "Que22           0.1018      0.086      1.180      0.238      -0.067       0.271\n",
      "Que_smoking     0.1958      0.094      2.083      0.037       0.012       0.380\n",
      "===============================================================================\n",
      "(array([0., 1.]), array([281, 581]))\n",
      "Test ROC AUC:\t 0.5795260349991731\n",
      "Test accuracy:\t 0.6821345707656613\n",
      "Test precision:\t 0.7165021156558533\n",
      "Test recall:\t 0.8743545611015491\n",
      "Test F1 score:\t 0.7875968992248062\n",
      "Test confusion matrix:\t\n",
      "[[ 80 201]\n",
      " [ 73 508]]\n"
     ]
    }
   ],
   "source": [
    "perform_logit(X_train, y_train, X_test, y_test, X_cols, y_col)"
   ]
  },
  {
   "cell_type": "markdown",
   "id": "585e0686-9b96-4b65-9435-d60c319e0f72",
   "metadata": {},
   "source": [
    "### Undersampling"
   ]
  },
  {
   "cell_type": "code",
   "execution_count": 88,
   "id": "19e58805-3175-41b6-8e34-3bc169d56b8a",
   "metadata": {},
   "outputs": [
    {
     "name": "stdout",
     "output_type": "stream",
     "text": [
      "Mean cross-validation score: \n",
      "0.684424679900318\n",
      "Optimization terminated successfully.\n",
      "         Current function value: 0.608064\n",
      "         Iterations 6\n",
      "                           Logit Regression Results                           \n",
      "==============================================================================\n",
      "Dep. Variable:                  Que16   No. Observations:                 2158\n",
      "Model:                          Logit   Df Residuals:                     2136\n",
      "Method:                           MLE   Df Model:                           21\n",
      "Date:                Wed, 01 Sep 2021   Pseudo R-squ.:                  0.1227\n",
      "Time:                        17:51:58   Log-Likelihood:                -1312.2\n",
      "converged:                       True   LL-Null:                       -1495.8\n",
      "Covariance Type:            nonrobust   LLR p-value:                 5.432e-65\n",
      "===============================================================================\n",
      "                  coef    std err          z      P>|z|      [0.025      0.975]\n",
      "-------------------------------------------------------------------------------\n",
      "const          -1.1492      0.166     -6.940      0.000      -1.474      -0.825\n",
      "Que1            0.0733      0.141      0.519      0.604      -0.203       0.350\n",
      "Que2            0.0322      0.103      0.314      0.753      -0.169       0.233\n",
      "Que3            0.2131      0.106      2.004      0.045       0.005       0.422\n",
      "Que4           -0.1250      0.136     -0.920      0.358      -0.391       0.141\n",
      "Que5           -0.0780      0.110     -0.712      0.477      -0.293       0.137\n",
      "Que6            0.1462      0.120      1.214      0.225      -0.090       0.382\n",
      "Que10_a        -0.0197      0.113     -0.175      0.861      -0.241       0.201\n",
      "Que10_b         0.0084      0.172      0.049      0.961      -0.329       0.346\n",
      "Que10_c         0.1881      0.112      1.679      0.093      -0.031       0.408\n",
      "Que10_d         0.0320      0.103      0.311      0.756      -0.170       0.234\n",
      "Que10_e        -1.0471      0.453     -2.313      0.021      -1.934      -0.160\n",
      "Que10_f         0.1543      0.102      1.520      0.128      -0.045       0.353\n",
      "Que14          -0.5340      0.146     -3.648      0.000      -0.821      -0.247\n",
      "Que15           1.4636      0.099     14.737      0.000       1.269       1.658\n",
      "Que17           1.3958      0.327      4.271      0.000       0.755       2.036\n",
      "Que18_age      -0.0564      0.135     -0.418      0.676      -0.321       0.208\n",
      "Que19           0.2636      0.186      1.417      0.156      -0.101       0.628\n",
      "Que20           0.2909      0.264      1.103      0.270      -0.226       0.808\n",
      "Que21          -0.1378      0.111     -1.243      0.214      -0.355       0.079\n",
      "Que22           0.1230      0.104      1.185      0.236      -0.080       0.326\n",
      "Que_smoking     0.2654      0.110      2.414      0.016       0.050       0.481\n",
      "===============================================================================\n",
      "(array([0., 1.]), array([281, 581]))\n",
      "Test ROC AUC:\t 0.6825451271277279\n",
      "Test accuracy:\t 0.679814385150812\n",
      "Test precision:\t 0.8183716075156576\n",
      "Test recall:\t 0.6746987951807228\n",
      "Test F1 score:\t 0.7396226415094339\n",
      "Test confusion matrix:\t\n",
      "[[194  87]\n",
      " [189 392]]\n"
     ]
    }
   ],
   "source": [
    "perform_logit(X_train_rus, y_train_rus, X_test, y_test, X_cols, y_col)"
   ]
  },
  {
   "cell_type": "markdown",
   "id": "bc7f61ca-6758-4acb-be3e-edd37a5d7a69",
   "metadata": {},
   "source": [
    "### Oversampling"
   ]
  },
  {
   "cell_type": "code",
   "execution_count": 89,
   "id": "3003d81a-d5f8-4e4c-ab0e-7e639df492d1",
   "metadata": {},
   "outputs": [
    {
     "name": "stdout",
     "output_type": "stream",
     "text": [
      "Mean cross-validation score: \n",
      "0.6901679298161193\n",
      "Optimization terminated successfully.\n",
      "         Current function value: 0.603794\n",
      "         Iterations 6\n",
      "                           Logit Regression Results                           \n",
      "==============================================================================\n",
      "Dep. Variable:                  Que16   No. Observations:                 4738\n",
      "Model:                          Logit   Df Residuals:                     4716\n",
      "Method:                           MLE   Df Model:                           21\n",
      "Date:                Wed, 01 Sep 2021   Pseudo R-squ.:                  0.1289\n",
      "Time:                        17:51:58   Log-Likelihood:                -2860.8\n",
      "converged:                       True   LL-Null:                       -3284.1\n",
      "Covariance Type:            nonrobust   LLR p-value:                1.116e-165\n",
      "===============================================================================\n",
      "                  coef    std err          z      P>|z|      [0.025      0.975]\n",
      "-------------------------------------------------------------------------------\n",
      "const          -1.2002      0.111    -10.815      0.000      -1.418      -0.983\n",
      "Que1            0.0670      0.096      0.699      0.485      -0.121       0.255\n",
      "Que2            0.0311      0.070      0.446      0.655      -0.105       0.168\n",
      "Que3            0.3077      0.072      4.293      0.000       0.167       0.448\n",
      "Que4           -0.1133      0.092     -1.235      0.217      -0.293       0.066\n",
      "Que5           -0.1006      0.074     -1.356      0.175      -0.246       0.045\n",
      "Que6            0.2376      0.082      2.899      0.004       0.077       0.398\n",
      "Que10_a        -0.0613      0.077     -0.799      0.424      -0.212       0.089\n",
      "Que10_b         0.0305      0.117      0.261      0.794      -0.198       0.259\n",
      "Que10_c         0.2145      0.076      2.817      0.005       0.065       0.364\n",
      "Que10_d        -0.0087      0.070     -0.124      0.901      -0.146       0.129\n",
      "Que10_e        -0.8495      0.294     -2.893      0.004      -1.425      -0.274\n",
      "Que10_f         0.1032      0.069      1.499      0.134      -0.032       0.238\n",
      "Que14          -0.4778      0.096     -4.971      0.000      -0.666      -0.289\n",
      "Que15           1.4894      0.067     22.077      0.000       1.357       1.622\n",
      "Que17           1.3624      0.227      6.011      0.000       0.918       1.807\n",
      "Que18_age       0.0936      0.090      1.036      0.300      -0.084       0.271\n",
      "Que19           0.4319      0.124      3.481      0.000       0.189       0.675\n",
      "Que20           0.2508      0.180      1.395      0.163      -0.101       0.603\n",
      "Que21          -0.0820      0.075     -1.099      0.272      -0.228       0.064\n",
      "Que22           0.0618      0.070      0.878      0.380      -0.076       0.200\n",
      "Que_smoking     0.2044      0.075      2.722      0.006       0.057       0.352\n",
      "===============================================================================\n",
      "(array([0., 1.]), array([281, 581]))\n",
      "Test ROC AUC:\t 0.683289334256191\n",
      "Test accuracy:\t 0.6832946635730859\n",
      "Test precision:\t 0.8168724279835391\n",
      "Test recall:\t 0.6833046471600689\n",
      "Test F1 score:\t 0.7441424554826617\n",
      "Test confusion matrix:\t\n",
      "[[192  89]\n",
      " [184 397]]\n"
     ]
    }
   ],
   "source": [
    "perform_logit(X_train_ros, y_train_ros, X_test, y_test, X_cols, y_col)"
   ]
  },
  {
   "cell_type": "markdown",
   "id": "cd32fee4-ab32-4648-a1dc-b609a9f8f11c",
   "metadata": {},
   "source": [
    "### SMOTEENN"
   ]
  },
  {
   "cell_type": "code",
   "execution_count": 90,
   "id": "d78286c0-c367-4686-8e63-ff996b2012b8",
   "metadata": {},
   "outputs": [
    {
     "name": "stdout",
     "output_type": "stream",
     "text": [
      "Mean cross-validation score: \n",
      "0.8293762575452716\n",
      "Optimization terminated successfully.\n",
      "         Current function value: 0.392888\n",
      "         Iterations 7\n",
      "                           Logit Regression Results                           \n",
      "==============================================================================\n",
      "Dep. Variable:                  Que16   No. Observations:                 2485\n",
      "Model:                          Logit   Df Residuals:                     2463\n",
      "Method:                           MLE   Df Model:                           21\n",
      "Date:                Wed, 01 Sep 2021   Pseudo R-squ.:                  0.4229\n",
      "Time:                        17:51:59   Log-Likelihood:                -976.33\n",
      "converged:                       True   LL-Null:                       -1691.9\n",
      "Covariance Type:            nonrobust   LLR p-value:                2.005e-290\n",
      "===============================================================================\n",
      "                  coef    std err          z      P>|z|      [0.025      0.975]\n",
      "-------------------------------------------------------------------------------\n",
      "const          -3.0744      0.235    -13.085      0.000      -3.535      -2.614\n",
      "Que1            0.3572      0.178      2.005      0.045       0.008       0.706\n",
      "Que2            0.0695      0.135      0.514      0.607      -0.195       0.334\n",
      "Que3            0.4321      0.139      3.103      0.002       0.159       0.705\n",
      "Que4           -0.0548      0.176     -0.310      0.756      -0.401       0.291\n",
      "Que5           -0.3311      0.137     -2.408      0.016      -0.601      -0.062\n",
      "Que6            0.6159      0.144      4.270      0.000       0.333       0.899\n",
      "Que10_a        -0.8567      0.146     -5.853      0.000      -1.144      -0.570\n",
      "Que10_b        -0.3296      0.227     -1.453      0.146      -0.774       0.115\n",
      "Que10_c         0.9251      0.151      6.122      0.000       0.629       1.221\n",
      "Que10_d        -0.1845      0.130     -1.416      0.157      -0.440       0.071\n",
      "Que10_e        -1.6424      0.633     -2.596      0.009      -2.882      -0.403\n",
      "Que10_f         0.1501      0.130      1.151      0.250      -0.106       0.406\n",
      "Que14          -1.4354      0.198     -7.251      0.000      -1.823      -1.047\n",
      "Que15           3.2474      0.135     24.016      0.000       2.982       3.512\n",
      "Que17           1.1143      0.364      3.058      0.002       0.400       1.828\n",
      "Que18_age       0.8301      0.181      4.597      0.000       0.476       1.184\n",
      "Que19           2.1022      0.241      8.732      0.000       1.630       2.574\n",
      "Que20           1.6791      0.387      4.343      0.000       0.921       2.437\n",
      "Que21          -0.7686      0.137     -5.602      0.000      -1.038      -0.500\n",
      "Que22           0.1304      0.133      0.978      0.328      -0.131       0.392\n",
      "Que_smoking     0.2926      0.141      2.079      0.038       0.017       0.568\n",
      "===============================================================================\n",
      "(array([0., 1.]), array([281, 581]))\n",
      "Test ROC AUC:\t 0.6878372667079095\n",
      "Test accuracy:\t 0.665893271461717\n",
      "Test precision:\t 0.8383371824480369\n",
      "Test recall:\t 0.6247848537005164\n",
      "Test F1 score:\t 0.7159763313609467\n",
      "Test confusion matrix:\t\n",
      "[[211  70]\n",
      " [218 363]]\n"
     ]
    }
   ],
   "source": [
    "perform_logit(X_train_smote_enn, y_train_smote_enn, X_test, y_test, X_cols, y_col)"
   ]
  },
  {
   "cell_type": "markdown",
   "id": "2c259d8c-2f30-444d-84c7-a9f2069d0e30",
   "metadata": {},
   "source": [
    "## Random Forest"
   ]
  },
  {
   "cell_type": "markdown",
   "id": "40dd87a6-6067-4111-bebb-31a792d899a4",
   "metadata": {},
   "source": [
    "### No balance"
   ]
  },
  {
   "cell_type": "code",
   "execution_count": 29,
   "id": "268c798b-feb8-4f8b-90fa-9b55dc7a694a",
   "metadata": {},
   "outputs": [
    {
     "name": "stdout",
     "output_type": "stream",
     "text": [
      "Fitting 5 folds for each of 1890 candidates, totalling 9450 fits\n",
      "Grid search time: 0:05:01.978440\n",
      "{'bootstrap': True,\n",
      " 'criterion': 'gini',\n",
      " 'max_depth': 100,\n",
      " 'max_features': 'sqrt',\n",
      " 'min_samples_leaf': 1,\n",
      " 'min_samples_split': 2,\n",
      " 'n_estimators': 98}\n",
      "(array([0., 1.]), array([281, 581]))\n",
      "Test ROC AUC:\t 0.6475490166053129\n",
      "Test accuracy:\t 0.7180974477958236\n",
      "Test precision:\t 0.76\n",
      "Test recall:\t 0.8502581755593803\n",
      "Test F1 score:\t 0.8025995125913891\n",
      "Test confusion matrix:\t\n",
      "[[125 156]\n",
      " [ 87 494]]\n",
      "Elapsed time to compute the importances: 0.787 seconds\n"
     ]
    },
    {
     "data": {
      "image/png": "[encoded data removed]",
      "text/plain": [
       "<Figure size 432x288 with 1 Axes>"
      ]
     },
     "metadata": {
      "needs_background": "light"
     },
     "output_type": "display_data"
    }
   ],
   "source": [
    "perform_random_forest(X_train, y_train, X_test, y_test)"
   ]
  },
  {
   "cell_type": "markdown",
   "id": "eaddf8f0-9854-4992-a80a-64af6749ffc3",
   "metadata": {},
   "source": [
    "### Undersampling"
   ]
  },
  {
   "cell_type": "code",
   "execution_count": 30,
   "id": "3718a0da-f3b0-4287-be34-9e9ba9fcae34",
   "metadata": {},
   "outputs": [
    {
     "name": "stdout",
     "output_type": "stream",
     "text": [
      "Fitting 5 folds for each of 1890 candidates, totalling 9450 fits\n",
      "Grid search time: 0:03:57.960450\n",
      "{'bootstrap': True,\n",
      " 'criterion': 'gini',\n",
      " 'max_depth': 10,\n",
      " 'max_features': 'sqrt',\n",
      " 'min_samples_leaf': 1,\n",
      " 'min_samples_split': 2,\n",
      " 'n_estimators': 118}\n",
      "(array([0., 1.]), array([281, 581]))\n",
      "Test ROC AUC:\t 0.6825451271277279\n",
      "Test accuracy:\t 0.679814385150812\n",
      "Test precision:\t 0.8183716075156576\n",
      "Test recall:\t 0.6746987951807228\n",
      "Test F1 score:\t 0.7396226415094339\n",
      "Test confusion matrix:\t\n",
      "[[194  87]\n",
      " [189 392]]\n",
      "Elapsed time to compute the importances: 0.979 seconds\n"
     ]
    },
    {
     "data": {
      "image/png": "[encoded data removed]",
      "text/plain": [
       "<Figure size 432x288 with 1 Axes>"
      ]
     },
     "metadata": {
      "needs_background": "light"
     },
     "output_type": "display_data"
    }
   ],
   "source": [
    "perform_random_forest(X_train_rus, y_train_rus, X_test, y_test)"
   ]
  },
  {
   "cell_type": "markdown",
   "id": "502bf62a-5ed5-4488-bf2e-684b473ec38a",
   "metadata": {},
   "source": [
    "### Oversampling"
   ]
  },
  {
   "cell_type": "code",
   "execution_count": 31,
   "id": "01a8acda-280c-4821-b832-708981eec1b9",
   "metadata": {},
   "outputs": [
    {
     "name": "stdout",
     "output_type": "stream",
     "text": [
      "Fitting 5 folds for each of 1890 candidates, totalling 9450 fits\n",
      "Grid search time: 0:06:01.116521\n",
      "{'bootstrap': True,\n",
      " 'criterion': 'entropy',\n",
      " 'max_depth': 64,\n",
      " 'max_features': 'sqrt',\n",
      " 'min_samples_leaf': 1,\n",
      " 'min_samples_split': 2,\n",
      " 'n_estimators': 87}\n",
      "(array([0., 1.]), array([281, 581]))\n",
      "Test ROC AUC:\t 0.6749376764812172\n",
      "Test accuracy:\t 0.7215777262180975\n",
      "Test precision:\t 0.7846410684474123\n",
      "Test recall:\t 0.8089500860585198\n",
      "Test F1 score:\t 0.7966101694915254\n",
      "Test confusion matrix:\t\n",
      "[[152 129]\n",
      " [111 470]]\n",
      "Elapsed time to compute the importances: 0.629 seconds\n"
     ]
    },
    {
     "data": {
      "image/png": "[encoded data removed]",
      "text/plain": [
       "<Figure size 432x288 with 1 Axes>"
      ]
     },
     "metadata": {
      "needs_background": "light"
     },
     "output_type": "display_data"
    }
   ],
   "source": [
    "perform_random_forest(X_train_ros, y_train_ros, X_test, y_test)"
   ]
  },
  {
   "cell_type": "markdown",
   "id": "e8dac8cb-7e56-40b8-80b7-cc5a9d8365e8",
   "metadata": {},
   "source": [
    "### SMOTEENN"
   ]
  },
  {
   "cell_type": "code",
   "execution_count": 32,
   "id": "0a3f8e5e-689f-4ca2-919d-2a6568040e30",
   "metadata": {},
   "outputs": [
    {
     "name": "stdout",
     "output_type": "stream",
     "text": [
      "Fitting 5 folds for each of 1890 candidates, totalling 9450 fits\n",
      "Grid search time: 0:04:04.231588\n",
      "{'bootstrap': True,\n",
      " 'criterion': 'gini',\n",
      " 'max_depth': 28,\n",
      " 'max_features': 'sqrt',\n",
      " 'min_samples_leaf': 1,\n",
      " 'min_samples_split': 2,\n",
      " 'n_estimators': 56}\n",
      "(array([0., 1.]), array([281, 581]))\n",
      "Test ROC AUC:\t 0.6804748225234442\n",
      "Test accuracy:\t 0.6844547563805105\n",
      "Test precision:\t 0.8121212121212121\n",
      "Test recall:\t 0.6919104991394148\n",
      "Test F1 score:\t 0.7472118959107806\n",
      "Test confusion matrix:\t\n",
      "[[188  93]\n",
      " [179 402]]\n",
      "Elapsed time to compute the importances: 0.215 seconds\n"
     ]
    },
    {
     "data": {
      "image/png": "[encoded data removed]",
      "text/plain": [
       "<Figure size 432x288 with 1 Axes>"
      ]
     },
     "metadata": {
      "needs_background": "light"
     },
     "output_type": "display_data"
    }
   ],
   "source": [
    "perform_random_forest(X_train_smote_enn, y_train_smote_enn, X_test, y_test)"
   ]
  },
  {
   "cell_type": "markdown",
   "id": "ba111ec5-b2c8-4cc4-b8c7-a611b08c0aff",
   "metadata": {},
   "source": [
    "## Decision Tree"
   ]
  },
  {
   "cell_type": "markdown",
   "id": "e158766e-602a-4336-b6b6-db41985595f3",
   "metadata": {},
   "source": [
    "### No balance"
   ]
  },
  {
   "cell_type": "code",
   "execution_count": 35,
   "id": "ff7be0e4-c066-4905-9867-51b7aa74ac78",
   "metadata": {},
   "outputs": [
    {
     "name": "stdout",
     "output_type": "stream",
     "text": [
      "Fitting 5 folds for each of 504 candidates, totalling 2520 fits\n",
      "Grid search time: 0:00:02.179880\n",
      "{'criterion': 'gini',\n",
      " 'max_depth': 34,\n",
      " 'max_features': 'auto',\n",
      " 'min_samples_leaf': 1,\n",
      " 'min_samples_split': 2,\n",
      " 'splitter': 'random'}\n",
      "(array([0., 1.]), array([281, 581]))\n",
      "Test ROC AUC:\t 0.6567490092551191\n",
      "Test accuracy:\t 0.6995359628770301\n",
      "Test precision:\t 0.7756849315068494\n",
      "Test recall:\t 0.7796901893287436\n",
      "Test F1 score:\t 0.7776824034334765\n",
      "Test confusion matrix:\t\n",
      "[[150 131]\n",
      " [128 453]]\n"
     ]
    }
   ],
   "source": [
    "perform_decision_tree(X_train, y_train, X_test, y_test)"
   ]
  },
  {
   "cell_type": "markdown",
   "id": "d04d2650-3ad3-447b-bd30-965b229ee8ce",
   "metadata": {},
   "source": [
    "### Undersampling"
   ]
  },
  {
   "cell_type": "code",
   "execution_count": 36,
   "id": "ffbf0455-3b17-4c9e-88ba-59df4f2910a9",
   "metadata": {},
   "outputs": [
    {
     "name": "stdout",
     "output_type": "stream",
     "text": [
      "Fitting 5 folds for each of 504 candidates, totalling 2520 fits\n",
      "Grid search time: 0:00:01.480160\n",
      "{'criterion': 'entropy',\n",
      " 'max_depth': 10,\n",
      " 'max_features': 'sqrt',\n",
      " 'min_samples_leaf': 4,\n",
      " 'min_samples_split': 5,\n",
      " 'splitter': 'random'}\n",
      "(array([0., 1.]), array([281, 581]))\n",
      "Test ROC AUC:\t 0.6584487415855593\n",
      "Test accuracy:\t 0.6473317865429234\n",
      "Test precision:\t 0.8070953436807096\n",
      "Test recall:\t 0.6265060240963856\n",
      "Test F1 score:\t 0.7054263565891473\n",
      "Test confusion matrix:\t\n",
      "[[194  87]\n",
      " [217 364]]\n"
     ]
    }
   ],
   "source": [
    "perform_decision_tree(X_train_rus, y_train_rus, X_test, y_test)"
   ]
  },
  {
   "cell_type": "markdown",
   "id": "7bf929a2-471e-49ee-8590-a569963f2073",
   "metadata": {},
   "source": [
    "### Oversampling"
   ]
  },
  {
   "cell_type": "code",
   "execution_count": 37,
   "id": "3e9ebaa0-06a7-47af-a941-227624e8a10f",
   "metadata": {},
   "outputs": [
    {
     "name": "stdout",
     "output_type": "stream",
     "text": [
      "Fitting 5 folds for each of 504 candidates, totalling 2520 fits\n",
      "Grid search time: 0:00:02.724675\n",
      "{'criterion': 'gini',\n",
      " 'max_depth': 50,\n",
      " 'max_features': 'auto',\n",
      " 'min_samples_leaf': 1,\n",
      " 'min_samples_split': 2,\n",
      " 'splitter': 'random'}\n",
      "(array([0., 1.]), array([281, 581]))\n",
      "Test ROC AUC:\t 0.660598673290008\n",
      "Test accuracy:\t 0.6960556844547564\n",
      "Test precision:\t 0.781305114638448\n",
      "Test recall:\t 0.7624784853700516\n",
      "Test F1 score:\t 0.7717770034843204\n",
      "Test confusion matrix:\t\n",
      "[[157 124]\n",
      " [138 443]]\n"
     ]
    }
   ],
   "source": [
    "perform_decision_tree(X_train_ros, y_train_ros, X_test, y_test)"
   ]
  },
  {
   "cell_type": "markdown",
   "id": "3e696ba4-615c-44e6-a7cc-8552d408d038",
   "metadata": {},
   "source": [
    "### SMOTEENN"
   ]
  },
  {
   "cell_type": "code",
   "execution_count": 38,
   "id": "3bad3ea7-f9e0-4368-8393-e5854656ea64",
   "metadata": {},
   "outputs": [
    {
     "name": "stdout",
     "output_type": "stream",
     "text": [
      "Fitting 5 folds for each of 504 candidates, totalling 2520 fits\n",
      "Grid search time: 0:00:01.596812\n",
      "{'criterion': 'entropy',\n",
      " 'max_depth': 42,\n",
      " 'max_features': 'auto',\n",
      " 'min_samples_leaf': 1,\n",
      " 'min_samples_split': 2,\n",
      " 'splitter': 'random'}\n",
      "(array([0., 1.]), array([281, 581]))\n",
      "Test ROC AUC:\t 0.6456440913629098\n",
      "Test accuracy:\t 0.6461716937354989\n",
      "Test precision:\t 0.7899159663865546\n",
      "Test recall:\t 0.6471600688468159\n",
      "Test F1 score:\t 0.7114474929044465\n",
      "Test confusion matrix:\t\n",
      "[[181 100]\n",
      " [205 376]]\n",
      "Optimization terminated successfully.\n",
      "         Current function value: 0.552867\n",
      "         Iterations 7\n",
      "Optimization terminated successfully.\n",
      "         Current function value: 0.593311\n",
      "         Iterations 7\n",
      "Optimization terminated successfully.\n",
      "         Current function value: 0.585403\n",
      "         Iterations 6\n",
      "Optimization terminated successfully.\n",
      "         Current function value: 0.340062\n",
      "         Iterations 7\n",
      "Optimization terminated successfully.\n",
      "         Current function value: 0.545428\n",
      "         Iterations 6\n",
      "Optimization terminated successfully.\n",
      "         Current function value: 0.606982\n",
      "         Iterations 6\n",
      "Optimization terminated successfully.\n",
      "         Current function value: 0.389608\n",
      "         Iterations 7\n",
      "Optimization terminated successfully.\n",
      "         Current function value: 0.397388\n",
      "         Iterations 7\n",
      "Optimization terminated successfully.\n",
      "         Current function value: 0.566430\n",
      "         Iterations 7\n",
      "Optimization terminated successfully.\n",
      "         Current function value: 0.590079\n",
      "         Iterations 6\n",
      "Optimization terminated successfully.\n",
      "         Current function value: 0.594862\n",
      "         Iterations 6\n",
      "Warning: Maximum number of iterations has been exceeded.\n",
      "         Current function value: 0.317394\n",
      "         Iterations: 35\n",
      "Optimization terminated successfully.\n",
      "         Current function value: 0.547419\n",
      "         Iterations 6\n",
      "Optimization terminated successfully.\n",
      "         Current function value: 0.603829\n",
      "         Iterations 6\n",
      "Optimization terminated successfully.\n",
      "         Current function value: 0.604675\n",
      "         Iterations 6\n",
      "Optimization terminated successfully.\n",
      "         Current function value: 0.562348\n",
      "         Iterations 7\n",
      "Warning: Maximum number of iterations has been exceeded.\n",
      "         Current function value: 0.592141\n",
      "         Iterations: 35\n",
      "Optimization terminated successfully.\n",
      "         Current function value: 0.590595\n",
      "         Iterations 6\n",
      "Optimization terminated successfully.\n",
      "         Current function value: 0.546341\n",
      "         Iterations 7\n",
      "Optimization terminated successfully.\n",
      "         Current function value: 0.599489\n",
      "         Iterations 6\n",
      "Optimization terminated successfully.\n",
      "         Current function value: 0.389778\n",
      "         Iterations 7\n"
     ]
    },
    {
     "name": "stderr",
     "output_type": "stream",
     "text": [
      "/home/miroslav/anaconda3/envs/master-env/lib/python3.7/site-packages/statsmodels/base/model.py:568: ConvergenceWarning: Maximum Likelihood optimization failed to converge. Check mle_retvals\n",
      "  ConvergenceWarning)\n",
      "/home/miroslav/anaconda3/envs/master-env/lib/python3.7/site-packages/statsmodels/discrete/discrete_model.py:1810: RuntimeWarning: overflow encountered in exp\n",
      "  return 1/(1+np.exp(-X))\n",
      "/home/miroslav/anaconda3/envs/master-env/lib/python3.7/site-packages/sklearn/model_selection/_validation.py:614: FitFailedWarning: Estimator fit failed. The score on this train-test partition for these parameters will be set to nan. Details: \n",
      "Traceback (most recent call last):\n",
      "  File \"/home/miroslav/anaconda3/envs/master-env/lib/python3.7/site-packages/sklearn/model_selection/_validation.py\", line 593, in _fit_and_score\n",
      "    estimator.fit(X_train, y_train, **fit_params)\n",
      "  File \"/tmp/ipykernel_19047/1181320327.py\", line 10, in fit\n",
      "  File \"/home/miroslav/anaconda3/envs/master-env/lib/python3.7/site-packages/statsmodels/discrete/discrete_model.py\", line 1980, in fit\n",
      "    **kwargs)\n",
      "  File \"/home/miroslav/anaconda3/envs/master-env/lib/python3.7/site-packages/statsmodels/discrete/discrete_model.py\", line 233, in fit\n",
      "    **kwargs)\n",
      "  File \"/home/miroslav/anaconda3/envs/master-env/lib/python3.7/site-packages/statsmodels/base/model.py\", line 534, in fit\n",
      "    Hinv = np.linalg.inv(-retvals['Hessian']) / nobs\n",
      "  File \"<__array_function__ internals>\", line 6, in inv\n",
      "  File \"/home/miroslav/anaconda3/envs/master-env/lib/python3.7/site-packages/numpy/linalg/linalg.py\", line 546, in inv\n",
      "    ainv = _umath_linalg.inv(a, signature=signature, extobj=extobj)\n",
      "  File \"/home/miroslav/anaconda3/envs/master-env/lib/python3.7/site-packages/numpy/linalg/linalg.py\", line 88, in _raise_linalgerror_singular\n",
      "    raise LinAlgError(\"Singular matrix\")\n",
      "numpy.linalg.LinAlgError: Singular matrix\n",
      "\n",
      "  FitFailedWarning)\n"
     ]
    },
    {
     "name": "stdout",
     "output_type": "stream",
     "text": [
      "Optimization terminated successfully.\n",
      "         Current function value: 0.557525\n",
      "         Iterations 7\n",
      "Optimization terminated successfully.\n",
      "         Current function value: 0.583155\n",
      "         Iterations 6\n",
      "Optimization terminated successfully.\n",
      "         Current function value: 0.310462\n",
      "         Iterations 8\n",
      "Optimization terminated successfully.\n",
      "         Current function value: 0.555514\n",
      "         Iterations 6\n",
      "Optimization terminated successfully.\n",
      "         Current function value: 0.607132\n",
      "         Iterations 6\n",
      "Optimization terminated successfully.\n",
      "         Current function value: 0.599050\n",
      "         Iterations 6\n",
      "Optimization terminated successfully.\n",
      "         Current function value: 0.396740\n",
      "         Iterations 7\n",
      "Optimization terminated successfully.\n",
      "         Current function value: 0.562971\n",
      "         Iterations 7\n",
      "Optimization terminated successfully.\n",
      "         Current function value: 0.339525\n",
      "         Iterations 8\n",
      "Optimization terminated successfully.\n",
      "         Current function value: 0.607990\n",
      "         Iterations 6\n",
      "Optimization terminated successfully.\n",
      "         Current function value: 0.386090\n",
      "         Iterations 7\n",
      "Optimization terminated successfully.\n",
      "         Current function value: 0.561058\n",
      "         Iterations 7\n",
      "Optimization terminated successfully.\n",
      "         Current function value: 0.594721\n",
      "         Iterations 6\n",
      "Optimization terminated successfully.\n",
      "         Current function value: 0.594782\n",
      "         Iterations 6\n",
      "Optimization terminated successfully.\n",
      "         Current function value: 0.285674\n",
      "         Iterations 8\n",
      "Optimization terminated successfully.\n",
      "         Current function value: 0.547087\n",
      "         Iterations 6\n",
      "Optimization terminated successfully.\n",
      "         Current function value: 0.606126\n",
      "         Iterations 6\n",
      "Optimization terminated successfully.\n",
      "         Current function value: 0.609072\n",
      "         Iterations 5\n",
      "Optimization terminated successfully.\n",
      "         Current function value: 0.606529\n",
      "         Iterations 6\n"
     ]
    }
   ],
   "source": [
    "perform_decision_tree(X_train_smote_enn, y_train_smote_enn, X_test, y_test)"
   ]
  },
  {
   "cell_type": "markdown",
   "id": "9783b6c2-f210-4bb1-aa80-48805d2fefd1",
   "metadata": {},
   "source": [
    "# Strategy 3 - mean"
   ]
  },
  {
   "cell_type": "code",
   "execution_count": 91,
   "id": "394dd854-7993-4130-b0f3-6768908b70b1",
   "metadata": {},
   "outputs": [],
   "source": [
    "imputer = SimpleImputer(missing_values=np.nan, strategy='mean')\n",
    "data_mean = pd.DataFrame(imputer.fit_transform(data))\n",
    "data_mean.columns = data.columns\n",
    "data_mean.index = data.index\n",
    "# mean values are not integer numbers so rounding to int was necessary\n",
    "data_mean = data_mean.round()\n",
    "data_mean = perform_mapping(data_mean, questions_map_EN)\n",
    "model_data = data_mean.drop(columns=['Que16'])\n",
    "target_data = data_mean['Que16']\n",
    "X_train, X_test, y_train, y_test = train_test_split(model_data.values, target_data.values, test_size=0.20, random_state=42)\n",
    "# balancing data\n",
    "rus = RandomUnderSampler(random_state=0)\n",
    "X_train_rus, y_train_rus = rus.fit_resample(X_train, y_train)\n",
    "ros = RandomOverSampler(random_state=0)\n",
    "X_train_ros, y_train_ros = ros.fit_resample(X_train, y_train)\n",
    "smote_enn = SMOTEENN(random_state=0)\n",
    "X_train_smote_enn, y_train_smote_enn = smote_enn.fit_resample(X_train, y_train)"
   ]
  },
  {
   "cell_type": "markdown",
   "id": "c7384f17-de59-4022-89c7-9151256176ea",
   "metadata": {},
   "source": [
    "## Logistic Regression"
   ]
  },
  {
   "cell_type": "markdown",
   "id": "cdd1f622-d4ee-4d45-a8f3-013b36c0a0bb",
   "metadata": {},
   "source": [
    "### No balance"
   ]
  },
  {
   "cell_type": "code",
   "execution_count": 92,
   "id": "6a8b6733-ed68-40b9-9f13-7c0b5f6047e1",
   "metadata": {},
   "outputs": [
    {
     "name": "stdout",
     "output_type": "stream",
     "text": [
      "Mean cross-validation score: \n",
      "0.689674175974422\n",
      "Optimization terminated successfully.\n",
      "         Current function value: 0.543996\n",
      "         Iterations 6\n",
      "                           Logit Regression Results                           \n",
      "==============================================================================\n",
      "Dep. Variable:                  Que16   No. Observations:                 3448\n",
      "Model:                          Logit   Df Residuals:                     3426\n",
      "Method:                           MLE   Df Model:                           21\n",
      "Date:                Wed, 01 Sep 2021   Pseudo R-squ.:                  0.1246\n",
      "Time:                        17:52:22   Log-Likelihood:                -1875.7\n",
      "converged:                       True   LL-Null:                       -2142.7\n",
      "Covariance Type:            nonrobust   LLR p-value:                 1.150e-99\n",
      "===============================================================================\n",
      "                  coef    std err          z      P>|z|      [0.025      0.975]\n",
      "-------------------------------------------------------------------------------\n",
      "const          -0.3738      0.133     -2.812      0.005      -0.634      -0.113\n",
      "Que1            0.2475      0.106      2.341      0.019       0.040       0.455\n",
      "Que2            0.0405      0.084      0.482      0.630      -0.124       0.205\n",
      "Que3            0.1785      0.089      2.005      0.045       0.004       0.353\n",
      "Que4           -0.1309      0.115     -1.141      0.254      -0.356       0.094\n",
      "Que5           -0.0029      0.092     -0.031      0.975      -0.183       0.177\n",
      "Que6            0.2074      0.102      2.031      0.042       0.007       0.407\n",
      "Que10_a        -0.0025      0.095     -0.026      0.979      -0.189       0.184\n",
      "Que10_b         0.0374      0.145      0.258      0.796      -0.246       0.321\n",
      "Que10_c         0.1879      0.093      2.015      0.044       0.005       0.371\n",
      "Que10_d         0.0414      0.087      0.477      0.634      -0.129       0.212\n",
      "Que10_e        -1.1222      0.348     -3.223      0.001      -1.805      -0.440\n",
      "Que10_f         0.0362      0.085      0.425      0.671      -0.131       0.203\n",
      "Que14          -0.3647      0.118     -3.090      0.002      -0.596      -0.133\n",
      "Que15           1.3660      0.087     15.730      0.000       1.196       1.536\n",
      "Que17           1.3256      0.304      4.355      0.000       0.729       1.922\n",
      "Que18_age       0.0525      0.111      0.475      0.635      -0.164       0.269\n",
      "Que19           0.6401      0.130      4.916      0.000       0.385       0.895\n",
      "Que20           0.1611      0.228      0.708      0.479      -0.285       0.607\n",
      "Que21           0.0484      0.089      0.543      0.587      -0.126       0.223\n",
      "Que22          -0.0192      0.084     -0.227      0.820      -0.184       0.146\n",
      "Que_smoking     0.1754      0.093      1.883      0.060      -0.007       0.358\n",
      "===============================================================================\n",
      "(array([0., 1.]), array([281, 581]))\n",
      "Test ROC AUC:\t 0.5769442794053693\n",
      "Test accuracy:\t 0.6786542923433875\n",
      "Test precision:\t 0.7152974504249292\n",
      "Test recall:\t 0.8691910499139415\n",
      "Test F1 score:\t 0.7847707847707848\n",
      "Test confusion matrix:\t\n",
      "[[ 80 201]\n",
      " [ 76 505]]\n"
     ]
    }
   ],
   "source": [
    "perform_logit(X_train, y_train, X_test, y_test, X_cols, y_col)"
   ]
  },
  {
   "cell_type": "markdown",
   "id": "e46eb21d-baa3-45b9-8374-4eb04b91587f",
   "metadata": {},
   "source": [
    "### Undersampling"
   ]
  },
  {
   "cell_type": "code",
   "execution_count": 93,
   "id": "4b108a15-f6d3-4332-9021-04c56d736800",
   "metadata": {},
   "outputs": [
    {
     "name": "stdout",
     "output_type": "stream",
     "text": [
      "Mean cross-validation score: \n",
      "0.6844268282203316\n",
      "Optimization terminated successfully.\n",
      "         Current function value: 0.603247\n",
      "         Iterations 6\n",
      "                           Logit Regression Results                           \n",
      "==============================================================================\n",
      "Dep. Variable:                  Que16   No. Observations:                 2158\n",
      "Model:                          Logit   Df Residuals:                     2136\n",
      "Method:                           MLE   Df Model:                           21\n",
      "Date:                Wed, 01 Sep 2021   Pseudo R-squ.:                  0.1297\n",
      "Time:                        17:52:22   Log-Likelihood:                -1301.8\n",
      "converged:                       True   LL-Null:                       -1495.8\n",
      "Covariance Type:            nonrobust   LLR p-value:                 2.794e-69\n",
      "===============================================================================\n",
      "                  coef    std err          z      P>|z|      [0.025      0.975]\n",
      "-------------------------------------------------------------------------------\n",
      "const          -1.0942      0.164     -6.692      0.000      -1.415      -0.774\n",
      "Que1            0.2475      0.123      2.015      0.044       0.007       0.488\n",
      "Que2            0.0233      0.100      0.233      0.816      -0.173       0.220\n",
      "Que3            0.1495      0.107      1.391      0.164      -0.061       0.360\n",
      "Que4           -0.1398      0.137     -1.022      0.307      -0.408       0.128\n",
      "Que5           -0.0707      0.109     -0.651      0.515      -0.284       0.142\n",
      "Que6            0.1412      0.120      1.175      0.240      -0.094       0.377\n",
      "Que10_a        -0.0067      0.113     -0.059      0.953      -0.228       0.214\n",
      "Que10_b        -0.0061      0.172     -0.036      0.972      -0.344       0.332\n",
      "Que10_c         0.1757      0.112      1.570      0.116      -0.044       0.395\n",
      "Que10_d         0.0774      0.103      0.748      0.454      -0.125       0.280\n",
      "Que10_e        -1.1617      0.452     -2.573      0.010      -2.047      -0.277\n",
      "Que10_f         0.1136      0.102      1.117      0.264      -0.086       0.313\n",
      "Que14          -0.4805      0.147     -3.270      0.001      -0.769      -0.193\n",
      "Que15           1.3981      0.100     13.972      0.000       1.202       1.594\n",
      "Que17           1.3595      0.326      4.171      0.000       0.721       1.998\n",
      "Que18_age      -0.0916      0.134     -0.682      0.495      -0.355       0.172\n",
      "Que19           0.5289      0.149      3.541      0.000       0.236       0.822\n",
      "Que20           0.2370      0.263      0.903      0.367      -0.278       0.752\n",
      "Que21           0.0274      0.106      0.258      0.797      -0.181       0.236\n",
      "Que22          -0.0436      0.101     -0.433      0.665      -0.241       0.154\n",
      "Que_smoking     0.2376      0.109      2.176      0.030       0.024       0.452\n",
      "===============================================================================\n",
      "(array([0., 1.]), array([281, 581]))\n",
      "Test ROC AUC:\t 0.677951255964376\n",
      "Test accuracy:\t 0.679814385150812\n",
      "Test precision:\t 0.8118609406952966\n",
      "Test recall:\t 0.6833046471600689\n",
      "Test F1 score:\t 0.7420560747663552\n",
      "Test confusion matrix:\t\n",
      "[[189  92]\n",
      " [184 397]]\n"
     ]
    }
   ],
   "source": [
    "perform_logit(X_train_rus, y_train_rus, X_test, y_test, X_cols, y_col)"
   ]
  },
  {
   "cell_type": "markdown",
   "id": "5f474efe-6e4d-454f-a517-c45b7ff8eac3",
   "metadata": {},
   "source": [
    "### Oversampling"
   ]
  },
  {
   "cell_type": "code",
   "execution_count": 94,
   "id": "e55e2a89-3256-4cb1-a930-d332e544a7b9",
   "metadata": {},
   "outputs": [
    {
     "name": "stdout",
     "output_type": "stream",
     "text": [
      "Mean cross-validation score: \n",
      "0.6903780091695293\n",
      "Optimization terminated successfully.\n",
      "         Current function value: 0.596761\n",
      "         Iterations 6\n",
      "                           Logit Regression Results                           \n",
      "==============================================================================\n",
      "Dep. Variable:                  Que16   No. Observations:                 4738\n",
      "Model:                          Logit   Df Residuals:                     4716\n",
      "Method:                           MLE   Df Model:                           21\n",
      "Date:                Wed, 01 Sep 2021   Pseudo R-squ.:                  0.1391\n",
      "Time:                        17:52:22   Log-Likelihood:                -2827.5\n",
      "converged:                       True   LL-Null:                       -3284.1\n",
      "Covariance Type:            nonrobust   LLR p-value:                7.740e-180\n",
      "===============================================================================\n",
      "                  coef    std err          z      P>|z|      [0.025      0.975]\n",
      "-------------------------------------------------------------------------------\n",
      "const          -1.1757      0.110    -10.721      0.000      -1.391      -0.961\n",
      "Que1            0.2785      0.083      3.338      0.001       0.115       0.442\n",
      "Que2            0.0251      0.068      0.369      0.712      -0.108       0.158\n",
      "Que3            0.2348      0.072      3.238      0.001       0.093       0.377\n",
      "Que4           -0.1323      0.092     -1.434      0.152      -0.313       0.049\n",
      "Que5           -0.0708      0.074     -0.956      0.339      -0.216       0.074\n",
      "Que6            0.2605      0.082      3.172      0.002       0.100       0.421\n",
      "Que10_a        -0.0489      0.077     -0.638      0.523      -0.199       0.101\n",
      "Que10_b         0.0280      0.117      0.239      0.811      -0.201       0.257\n",
      "Que10_c         0.1978      0.076      2.597      0.009       0.049       0.347\n",
      "Que10_d         0.0397      0.070      0.564      0.573      -0.098       0.178\n",
      "Que10_e        -0.9175      0.295     -3.109      0.002      -1.496      -0.339\n",
      "Que10_f         0.0492      0.069      0.712      0.476      -0.086       0.185\n",
      "Que14          -0.4167      0.097     -4.317      0.000      -0.606      -0.228\n",
      "Que15           1.3934      0.068     20.414      0.000       1.260       1.527\n",
      "Que17           1.3649      0.226      6.036      0.000       0.922       1.808\n",
      "Que18_age       0.0706      0.090      0.785      0.432      -0.106       0.247\n",
      "Que19           0.6517      0.100      6.523      0.000       0.456       0.848\n",
      "Que20           0.1863      0.179      1.040      0.299      -0.165       0.538\n",
      "Que21           0.0454      0.072      0.633      0.527      -0.095       0.186\n",
      "Que22          -0.0544      0.068     -0.797      0.425      -0.188       0.079\n",
      "Que_smoking     0.1829      0.075      2.450      0.014       0.037       0.329\n",
      "===============================================================================\n",
      "(array([0., 1.]), array([281, 581]))\n",
      "Test ROC AUC:\t 0.6813935967561144\n",
      "Test accuracy:\t 0.6844547563805105\n",
      "Test precision:\t 0.8133874239350912\n",
      "Test recall:\t 0.6901893287435457\n",
      "Test F1 score:\t 0.7467411545623837\n",
      "Test confusion matrix:\t\n",
      "[[189  92]\n",
      " [180 401]]\n"
     ]
    }
   ],
   "source": [
    "perform_logit(X_train_ros, y_train_ros, X_test, y_test, X_cols, y_col)"
   ]
  },
  {
   "cell_type": "markdown",
   "id": "5015c763-4e56-4b7c-aa05-5788d2905985",
   "metadata": {},
   "source": [
    "### SMOTEENN"
   ]
  },
  {
   "cell_type": "code",
   "execution_count": 95,
   "id": "2d60c374-6f99-42fe-8e4b-c40c20b431e3",
   "metadata": {},
   "outputs": [
    {
     "name": "stdout",
     "output_type": "stream",
     "text": [
      "Mean cross-validation score: \n",
      "0.8225409836065574\n",
      "Optimization terminated successfully.\n",
      "         Current function value: 0.412749\n",
      "         Iterations 6\n",
      "                           Logit Regression Results                           \n",
      "==============================================================================\n",
      "Dep. Variable:                  Que16   No. Observations:                 2440\n",
      "Model:                          Logit   Df Residuals:                     2418\n",
      "Method:                           MLE   Df Model:                           21\n",
      "Date:                Wed, 01 Sep 2021   Pseudo R-squ.:                  0.3939\n",
      "Time:                        17:52:22   Log-Likelihood:                -1007.1\n",
      "converged:                       True   LL-Null:                       -1661.6\n",
      "Covariance Type:            nonrobust   LLR p-value:                2.980e-264\n",
      "===============================================================================\n",
      "                  coef    std err          z      P>|z|      [0.025      0.975]\n",
      "-------------------------------------------------------------------------------\n",
      "const          -2.9994      0.226    -13.282      0.000      -3.442      -2.557\n",
      "Que1            0.5064      0.142      3.578      0.000       0.229       0.784\n",
      "Que2            0.2051      0.126      1.623      0.105      -0.043       0.453\n",
      "Que3            0.3064      0.138      2.225      0.026       0.037       0.576\n",
      "Que4            0.0005      0.171      0.003      0.997      -0.334       0.335\n",
      "Que5           -0.1940      0.132     -1.472      0.141      -0.452       0.064\n",
      "Que6            0.6347      0.140      4.519      0.000       0.359       0.910\n",
      "Que10_a        -0.6622      0.139     -4.773      0.000      -0.934      -0.390\n",
      "Que10_b        -0.2724      0.214     -1.273      0.203      -0.692       0.147\n",
      "Que10_c         0.6020      0.147      4.093      0.000       0.314       0.890\n",
      "Que10_d         0.1898      0.126      1.508      0.132      -0.057       0.437\n",
      "Que10_e        -0.9866      0.533     -1.852      0.064      -2.031       0.057\n",
      "Que10_f         0.0412      0.128      0.322      0.747      -0.209       0.292\n",
      "Que14          -0.9979      0.188     -5.312      0.000      -1.366      -0.630\n",
      "Que15           2.7395      0.125     21.958      0.000       2.495       2.984\n",
      "Que17           1.3340      0.346      3.857      0.000       0.656       2.012\n",
      "Que18_age       0.7167      0.165      4.346      0.000       0.393       1.040\n",
      "Que19           1.4195      0.169      8.390      0.000       1.088       1.751\n",
      "Que20           1.6830      0.390      4.316      0.000       0.919       2.447\n",
      "Que21          -0.1589      0.127     -1.254      0.210      -0.407       0.089\n",
      "Que22          -0.0442      0.127     -0.349      0.727      -0.292       0.204\n",
      "Que_smoking     0.2515      0.132      1.900      0.057      -0.008       0.511\n",
      "===============================================================================\n",
      "(array([0., 1.]), array([281, 581]))\n",
      "Test ROC AUC:\t 0.6799174328222908\n",
      "Test accuracy:\t 0.6589327146171694\n",
      "Test precision:\t 0.8314087759815243\n",
      "Test recall:\t 0.6196213425129088\n",
      "Test F1 score:\t 0.7100591715976331\n",
      "Test confusion matrix:\t\n",
      "[[208  73]\n",
      " [221 360]]\n"
     ]
    }
   ],
   "source": [
    "perform_logit(X_train_smote_enn, y_train_smote_enn, X_test, y_test, X_cols, y_col)"
   ]
  },
  {
   "cell_type": "markdown",
   "id": "05c27f53-3594-45a7-986f-a5f923449f85",
   "metadata": {},
   "source": [
    "## Random Forest"
   ]
  },
  {
   "cell_type": "markdown",
   "id": "9ade1045-4022-4107-b799-41edbb663624",
   "metadata": {},
   "source": [
    "### No balance"
   ]
  },
  {
   "cell_type": "code",
   "execution_count": null,
   "id": "0ea84081-abf1-427a-8017-b37c499ce6d2",
   "metadata": {},
   "outputs": [],
   "source": [
    "perform_random_forest(X_train, y_train, X_test, y_test)"
   ]
  },
  {
   "cell_type": "markdown",
   "id": "771dfa69-fe3e-417f-b056-d8054d481242",
   "metadata": {},
   "source": [
    "### Undersampling"
   ]
  },
  {
   "cell_type": "code",
   "execution_count": null,
   "id": "9801863f-1ed9-4112-805f-c6d88615e96c",
   "metadata": {},
   "outputs": [],
   "source": [
    "perform_random_forest(X_train_rus, y_train_rus, X_test, y_test)"
   ]
  },
  {
   "cell_type": "markdown",
   "id": "eee15827-d405-4545-87cb-66d0bfcda305",
   "metadata": {},
   "source": [
    "### Oversampling"
   ]
  },
  {
   "cell_type": "code",
   "execution_count": null,
   "id": "91729c41-fe30-4e2f-bc84-5bf674f861b2",
   "metadata": {},
   "outputs": [],
   "source": [
    "perform_random_forest(X_train_ros, y_train_ros, X_test, y_test)"
   ]
  },
  {
   "cell_type": "markdown",
   "id": "966fdeb6-9522-462f-8344-b5cf8b7747b6",
   "metadata": {},
   "source": [
    "### SMOTEENN"
   ]
  },
  {
   "cell_type": "code",
   "execution_count": null,
   "id": "b7438cf4-cf2e-4b29-ba61-aac89a86321e",
   "metadata": {},
   "outputs": [],
   "source": [
    "perform_random_forest(X_train_smote_enn, y_train_smote_enn, X_test, y_test)"
   ]
  },
  {
   "cell_type": "markdown",
   "id": "b2f48575-c85f-46f4-8046-60cd7825fadd",
   "metadata": {},
   "source": [
    "## Decision Tree"
   ]
  },
  {
   "cell_type": "markdown",
   "id": "4cdea0e0-e821-4189-b0ef-67deead620a4",
   "metadata": {},
   "source": [
    "### No balance"
   ]
  },
  {
   "cell_type": "code",
   "execution_count": null,
   "id": "4cec8aa1-d87d-4a82-8635-9524986bf316",
   "metadata": {},
   "outputs": [],
   "source": [
    "perform_decision_tree(X_train, X_test, y_train, y_test)"
   ]
  },
  {
   "cell_type": "markdown",
   "id": "c199e85f-6254-4276-826a-9ceab00a76f0",
   "metadata": {},
   "source": [
    "### Undersampling"
   ]
  },
  {
   "cell_type": "code",
   "execution_count": null,
   "id": "3787e25c-9a39-4b5d-99f7-973af5b945d3",
   "metadata": {},
   "outputs": [],
   "source": [
    "perform_decision_tree(X_train_rus, y_train_rus, X_test, y_test)"
   ]
  },
  {
   "cell_type": "markdown",
   "id": "f37637f9-78b6-4600-b38f-4e2c81e02d9d",
   "metadata": {},
   "source": [
    "### Oversampling"
   ]
  },
  {
   "cell_type": "code",
   "execution_count": null,
   "id": "447027fb-9421-4dd0-b25a-c32cc173b94f",
   "metadata": {},
   "outputs": [],
   "source": [
    "perform_decision_tree(X_train_ros, y_train_ros, X_test, y_test)"
   ]
  },
  {
   "cell_type": "markdown",
   "id": "13eca072-624a-4c3e-baf3-7057a2a43c56",
   "metadata": {},
   "source": [
    "### SMOTEENN"
   ]
  },
  {
   "cell_type": "code",
   "execution_count": null,
   "id": "c1a0d673-8aff-47e5-8635-3ce88d698845",
   "metadata": {},
   "outputs": [],
   "source": [
    "perform_decision_tree(X_train_smote_enn, y_train_smote_enn, X_test, y_test)"
   ]
  },
  {
   "cell_type": "markdown",
   "id": "36b7787c-8f63-4f3f-9681-5e2f2940c282",
   "metadata": {},
   "source": [
    "# Strategy 4 - most frequent"
   ]
  },
  {
   "cell_type": "code",
   "execution_count": 96,
   "id": "ef4e7dcc-0a44-47b0-accc-a4381c1f448e",
   "metadata": {},
   "outputs": [],
   "source": [
    "imputer = SimpleImputer(missing_values=np.nan, strategy='most_frequent')\n",
    "data_most_frequent = pd.DataFrame(imputer.fit_transform(data))\n",
    "data_most_frequent.columns = data.columns\n",
    "data_most_frequent.index = data.index\n",
    "# mean values are not integer numbers so rounding to int was necessary\n",
    "data_most_frequent = perform_mapping(data_most_frequent, questions_map_EN)\n",
    "model_data = data_most_frequent.drop(columns=['Que16'])\n",
    "target_data = data_most_frequent['Que16']\n",
    "X_train, X_test, y_train, y_test = train_test_split(model_data.values, target_data.values, test_size=0.20, random_state=42)\n",
    "# balancing data\n",
    "rus = RandomUnderSampler(random_state=0)\n",
    "X_train_rus, y_train_rus = rus.fit_resample(X_train, y_train)\n",
    "ros = RandomOverSampler(random_state=0)\n",
    "X_train_ros, y_train_ros = ros.fit_resample(X_train, y_train)\n",
    "smote_enn = SMOTEENN(random_state=0)\n",
    "X_train_smote_enn, y_train_smote_enn = smote_enn.fit_resample(X_train, y_train)"
   ]
  },
  {
   "cell_type": "markdown",
   "id": "733c83c7-8a1d-425f-9d89-8d44e5f031c7",
   "metadata": {},
   "source": [
    "## Logistic Regression"
   ]
  },
  {
   "cell_type": "markdown",
   "id": "0bc98938-5a9b-49a5-992e-3048d68deb93",
   "metadata": {},
   "source": [
    "### No balance"
   ]
  },
  {
   "cell_type": "code",
   "execution_count": 97,
   "id": "70d4dfd2-4f94-4469-8917-2cc0c0d07182",
   "metadata": {},
   "outputs": [
    {
     "name": "stdout",
     "output_type": "stream",
     "text": [
      "Mean cross-validation score: \n",
      "0.6940232641299089\n",
      "Optimization terminated successfully.\n",
      "         Current function value: 0.572859\n",
      "         Iterations 6\n",
      "                           Logit Regression Results                           \n",
      "==============================================================================\n",
      "Dep. Variable:                  Que16   No. Observations:                 3448\n",
      "Model:                          Logit   Df Residuals:                     3426\n",
      "Method:                           MLE   Df Model:                           21\n",
      "Date:                Wed, 01 Sep 2021   Pseudo R-squ.:                 0.07816\n",
      "Time:                        17:52:29   Log-Likelihood:                -1975.2\n",
      "converged:                       True   LL-Null:                       -2142.7\n",
      "Covariance Type:            nonrobust   LLR p-value:                 2.327e-58\n",
      "===============================================================================\n",
      "                  coef    std err          z      P>|z|      [0.025      0.975]\n",
      "-------------------------------------------------------------------------------\n",
      "const          -0.4589      0.133     -3.445      0.001      -0.720      -0.198\n",
      "Que1            0.0910      0.116      0.783      0.434      -0.137       0.319\n",
      "Que2            0.0025      0.084      0.030      0.976      -0.163       0.168\n",
      "Que3            0.3004      0.087      3.472      0.001       0.131       0.470\n",
      "Que4           -0.1189      0.111     -1.070      0.285      -0.337       0.099\n",
      "Que5            0.4519      0.087      5.222      0.000       0.282       0.621\n",
      "Que6            0.3995      0.102      3.919      0.000       0.200       0.599\n",
      "Que10_a        -0.0786      0.094     -0.839      0.401      -0.262       0.105\n",
      "Que10_b         0.0228      0.143      0.160      0.873      -0.257       0.302\n",
      "Que10_c         0.2668      0.091      2.917      0.004       0.088       0.446\n",
      "Que10_d        -0.1094      0.085     -1.292      0.196      -0.275       0.057\n",
      "Que10_e        -0.9568      0.334     -2.867      0.004      -1.611      -0.303\n",
      "Que10_f         0.1871      0.083      2.252      0.024       0.024       0.350\n",
      "Que14          -0.4955      0.115     -4.304      0.000      -0.721      -0.270\n",
      "Que15           0.9374      0.089     10.545      0.000       0.763       1.112\n",
      "Que17           1.3870      0.303      4.584      0.000       0.794       1.980\n",
      "Que18_age       0.0183      0.109      0.167      0.867      -0.196       0.232\n",
      "Que19           0.4838      0.154      3.140      0.002       0.182       0.786\n",
      "Que20           0.2184      0.223      0.981      0.326      -0.218       0.654\n",
      "Que21          -0.0889      0.090     -0.988      0.323      -0.265       0.087\n",
      "Que22           0.2036      0.084      2.422      0.015       0.039       0.368\n",
      "Que_smoking     0.1334      0.092      1.445      0.148      -0.047       0.314\n",
      "===============================================================================\n",
      "(array([0., 1.]), array([281, 581]))\n",
      "Test ROC AUC:\t 0.553858545519138\n",
      "Test accuracy:\t 0.6809744779582366\n",
      "Test precision:\t 0.7007874015748031\n",
      "Test recall:\t 0.919104991394148\n",
      "Test F1 score:\t 0.7952345495160088\n",
      "Test confusion matrix:\t\n",
      "[[ 53 228]\n",
      " [ 47 534]]\n"
     ]
    }
   ],
   "source": [
    "perform_logit(X_train, y_train, X_test, y_test, X_cols, y_col)"
   ]
  },
  {
   "cell_type": "markdown",
   "id": "1b4a86ba-f3fe-4b4d-aaef-50528ae916a5",
   "metadata": {},
   "source": [
    "### Undersampling"
   ]
  },
  {
   "cell_type": "code",
   "execution_count": 98,
   "id": "b2f3cd48-b4c4-4a9d-afbc-4285edaf5039",
   "metadata": {},
   "outputs": [
    {
     "name": "stdout",
     "output_type": "stream",
     "text": [
      "Mean cross-validation score: \n",
      "0.6408696399415656\n",
      "Optimization terminated successfully.\n",
      "         Current function value: 0.634626\n",
      "         Iterations 6\n",
      "                           Logit Regression Results                           \n",
      "==============================================================================\n",
      "Dep. Variable:                  Que16   No. Observations:                 2158\n",
      "Model:                          Logit   Df Residuals:                     2136\n",
      "Method:                           MLE   Df Model:                           21\n",
      "Date:                Wed, 01 Sep 2021   Pseudo R-squ.:                 0.08443\n",
      "Time:                        17:52:29   Log-Likelihood:                -1369.5\n",
      "converged:                       True   LL-Null:                       -1495.8\n",
      "Covariance Type:            nonrobust   LLR p-value:                 1.247e-41\n",
      "===============================================================================\n",
      "                  coef    std err          z      P>|z|      [0.025      0.975]\n",
      "-------------------------------------------------------------------------------\n",
      "const          -1.1962      0.163     -7.337      0.000      -1.516      -0.877\n",
      "Que1            0.0770      0.137      0.564      0.573      -0.191       0.345\n",
      "Que2           -0.0212      0.100     -0.213      0.831      -0.216       0.174\n",
      "Que3            0.2925      0.104      2.824      0.005       0.089       0.495\n",
      "Que4           -0.1270      0.132     -0.962      0.336      -0.386       0.132\n",
      "Que5            0.3856      0.102      3.788      0.000       0.186       0.585\n",
      "Que6            0.3334      0.120      2.790      0.005       0.099       0.568\n",
      "Que10_a        -0.0763      0.110     -0.693      0.488      -0.292       0.140\n",
      "Que10_b         0.0027      0.169      0.016      0.987      -0.328       0.333\n",
      "Que10_c         0.2511      0.109      2.297      0.022       0.037       0.465\n",
      "Que10_d        -0.0753      0.100     -0.754      0.451      -0.271       0.120\n",
      "Que10_e        -0.9434      0.431     -2.190      0.028      -1.788      -0.099\n",
      "Que10_f         0.2383      0.099      2.413      0.016       0.045       0.432\n",
      "Que14          -0.5985      0.143     -4.194      0.000      -0.878      -0.319\n",
      "Que15           0.9919      0.101      9.810      0.000       0.794       1.190\n",
      "Que17           1.4761      0.324      4.561      0.000       0.842       2.110\n",
      "Que18_age      -0.0684      0.132     -0.519      0.604      -0.327       0.190\n",
      "Que19           0.3166      0.182      1.742      0.082      -0.040       0.673\n",
      "Que20           0.2668      0.255      1.046      0.295      -0.233       0.767\n",
      "Que21          -0.1385      0.107     -1.291      0.197      -0.349       0.072\n",
      "Que22           0.1996      0.101      1.978      0.048       0.002       0.397\n",
      "Que_smoking     0.1912      0.107      1.782      0.075      -0.019       0.402\n",
      "===============================================================================\n",
      "(array([0., 1.]), array([281, 581]))\n",
      "Test ROC AUC:\t 0.6500052063873185\n",
      "Test accuracy:\t 0.6508120649651972\n",
      "Test precision:\t 0.7928870292887029\n",
      "Test recall:\t 0.6523235800344234\n",
      "Test F1 score:\t 0.7157695939565628\n",
      "Test confusion matrix:\t\n",
      "[[182  99]\n",
      " [202 379]]\n"
     ]
    }
   ],
   "source": [
    "perform_logit(X_train_rus, y_train_rus, X_test, y_test, X_cols, y_col)"
   ]
  },
  {
   "cell_type": "markdown",
   "id": "c2a82053-b9db-4364-8a1d-58fb6690096e",
   "metadata": {},
   "source": [
    "### Oversampling"
   ]
  },
  {
   "cell_type": "code",
   "execution_count": 99,
   "id": "bb88eeed-79bc-48ab-b3ae-166f1a438cc4",
   "metadata": {},
   "outputs": [
    {
     "name": "stdout",
     "output_type": "stream",
     "text": [
      "Mean cross-validation score: \n",
      "0.6494354813557359\n",
      "Optimization terminated successfully.\n",
      "         Current function value: 0.634111\n",
      "         Iterations 6\n",
      "                           Logit Regression Results                           \n",
      "==============================================================================\n",
      "Dep. Variable:                  Que16   No. Observations:                 4738\n",
      "Model:                          Logit   Df Residuals:                     4716\n",
      "Method:                           MLE   Df Model:                           21\n",
      "Date:                Wed, 01 Sep 2021   Pseudo R-squ.:                 0.08517\n",
      "Time:                        17:52:29   Log-Likelihood:                -3004.4\n",
      "converged:                       True   LL-Null:                       -3284.1\n",
      "Covariance Type:            nonrobust   LLR p-value:                5.332e-105\n",
      "===============================================================================\n",
      "                  coef    std err          z      P>|z|      [0.025      0.975]\n",
      "-------------------------------------------------------------------------------\n",
      "const          -1.2481      0.109    -11.435      0.000      -1.462      -1.034\n",
      "Que1            0.0931      0.092      1.010      0.312      -0.088       0.274\n",
      "Que2           -0.0029      0.068     -0.042      0.966      -0.135       0.130\n",
      "Que3            0.3746      0.070      5.381      0.000       0.238       0.511\n",
      "Que4           -0.1145      0.089     -1.290      0.197      -0.288       0.059\n",
      "Que5            0.4114      0.069      5.962      0.000       0.276       0.547\n",
      "Que6            0.4415      0.081      5.421      0.000       0.282       0.601\n",
      "Que10_a        -0.1356      0.074     -1.820      0.069      -0.282       0.010\n",
      "Que10_b         0.0378      0.114      0.331      0.740      -0.186       0.262\n",
      "Que10_c         0.2763      0.074      3.729      0.000       0.131       0.422\n",
      "Que10_d        -0.1098      0.068     -1.622      0.105      -0.243       0.023\n",
      "Que10_e        -0.8340      0.279     -2.985      0.003      -1.382      -0.286\n",
      "Que10_f         0.1935      0.067      2.903      0.004       0.063       0.324\n",
      "Que14          -0.5443      0.093     -5.840      0.000      -0.727      -0.362\n",
      "Que15           0.9304      0.069     13.495      0.000       0.795       1.066\n",
      "Que17           1.3990      0.224      6.255      0.000       0.961       1.837\n",
      "Que18_age       0.0559      0.088      0.635      0.526      -0.117       0.228\n",
      "Que19           0.4846      0.121      4.017      0.000       0.248       0.721\n",
      "Que20           0.2391      0.173      1.379      0.168      -0.101       0.579\n",
      "Que21          -0.0784      0.072     -1.090      0.276      -0.219       0.063\n",
      "Que22           0.1502      0.068      2.201      0.028       0.016       0.284\n",
      "Que_smoking     0.1402      0.073      1.924      0.054      -0.003       0.283\n",
      "===============================================================================\n",
      "(array([0., 1.]), array([281, 581]))\n",
      "Test ROC AUC:\t 0.645294957154495\n",
      "Test accuracy:\t 0.6531322505800464\n",
      "Test precision:\t 0.7854251012145749\n",
      "Test recall:\t 0.6678141135972461\n",
      "Test F1 score:\t 0.721860465116279\n",
      "Test confusion matrix:\t\n",
      "[[175 106]\n",
      " [193 388]]\n"
     ]
    }
   ],
   "source": [
    "perform_logit(X_train_ros, y_train_ros, X_test, y_test, X_cols, y_col)"
   ]
  },
  {
   "cell_type": "markdown",
   "id": "570995c4-4a3f-471b-aff9-97b2157e7062",
   "metadata": {},
   "source": [
    "### SMOTEENN"
   ]
  },
  {
   "cell_type": "code",
   "execution_count": 100,
   "id": "2c03217f-361e-4855-976d-17514b83ac58",
   "metadata": {},
   "outputs": [
    {
     "name": "stdout",
     "output_type": "stream",
     "text": [
      "Mean cross-validation score: \n",
      "0.7744215795328142\n",
      "Optimization terminated successfully.\n",
      "         Current function value: 0.492600\n",
      "         Iterations 6\n",
      "                           Logit Regression Results                           \n",
      "==============================================================================\n",
      "Dep. Variable:                  Que16   No. Observations:                 2323\n",
      "Model:                          Logit   Df Residuals:                     2301\n",
      "Method:                           MLE   Df Model:                           21\n",
      "Date:                Wed, 01 Sep 2021   Pseudo R-squ.:                  0.2744\n",
      "Time:                        17:52:29   Log-Likelihood:                -1144.3\n",
      "converged:                       True   LL-Null:                       -1577.1\n",
      "Covariance Type:            nonrobust   LLR p-value:                1.082e-169\n",
      "===============================================================================\n",
      "                  coef    std err          z      P>|z|      [0.025      0.975]\n",
      "-------------------------------------------------------------------------------\n",
      "const          -3.1103      0.223    -13.934      0.000      -3.548      -2.673\n",
      "Que1            0.2006      0.162      1.235      0.217      -0.118       0.519\n",
      "Que2           -0.2364      0.121     -1.947      0.051      -0.474       0.002\n",
      "Que3            0.7168      0.128      5.592      0.000       0.466       0.968\n",
      "Que4           -0.1205      0.160     -0.754      0.451      -0.434       0.193\n",
      "Que5            0.8897      0.122      7.282      0.000       0.650       1.129\n",
      "Que6            0.7549      0.143      5.278      0.000       0.475       1.035\n",
      "Que10_a        -0.7733      0.131     -5.890      0.000      -1.031      -0.516\n",
      "Que10_b        -0.2611      0.211     -1.236      0.216      -0.675       0.153\n",
      "Que10_c         0.7700      0.141      5.477      0.000       0.494       1.046\n",
      "Que10_d        -0.5406      0.114     -4.725      0.000      -0.765      -0.316\n",
      "Que10_e        -2.5572      0.683     -3.742      0.000      -3.897      -1.218\n",
      "Que10_f         0.6838      0.119      5.730      0.000       0.450       0.918\n",
      "Que14          -1.3152      0.178     -7.379      0.000      -1.665      -0.966\n",
      "Que15           1.8595      0.120     15.490      0.000       1.624       2.095\n",
      "Que17           1.2805      0.340      3.770      0.000       0.615       1.946\n",
      "Que18_age       0.4101      0.158      2.596      0.009       0.100       0.720\n",
      "Que19           1.7720      0.220      8.065      0.000       1.341       2.203\n",
      "Que20           1.4083      0.355      3.966      0.000       0.712       2.104\n",
      "Que21          -0.4175      0.120     -3.469      0.001      -0.653      -0.182\n",
      "Que22           0.4751      0.120      3.948      0.000       0.239       0.711\n",
      "Que_smoking     0.1300      0.127      1.020      0.308      -0.120       0.380\n",
      "===============================================================================\n",
      "(array([0., 1.]), array([281, 581]))\n",
      "Test ROC AUC:\t 0.6357366425539474\n",
      "Test accuracy:\t 0.605568445475638\n",
      "Test precision:\t 0.8035264483627204\n",
      "Test recall:\t 0.5490533562822719\n",
      "Test F1 score:\t 0.6523517382413088\n",
      "Test confusion matrix:\t\n",
      "[[203  78]\n",
      " [262 319]]\n",
      "Optimization terminated successfully.\n",
      "         Current function value: 0.566430\n",
      "         Iterations 7\n",
      "Optimization terminated successfully.\n",
      "         Current function value: 0.583155\n",
      "         Iterations 6\n",
      "Optimization terminated successfully.\n",
      "         Current function value: 0.285674\n",
      "         Iterations 8\n",
      "Optimization terminated successfully.\n",
      "         Current function value: 0.545428\n",
      "         Iterations 6\n",
      "Optimization terminated successfully.\n",
      "         Current function value: 0.606126\n",
      "         Iterations 6\n",
      "Optimization terminated successfully.\n",
      "         Current function value: 0.606982\n",
      "         Iterations 6\n",
      "Optimization terminated successfully.\n",
      "         Current function value: 0.397388\n",
      "         Iterations 7\n",
      "Optimization terminated successfully.\n",
      "         Current function value: 0.602035\n",
      "         Iterations 6\n",
      "Optimization terminated successfully.\n",
      "         Current function value: 0.591408\n",
      "         Iterations 6\n",
      "Optimization terminated successfully.\n",
      "         Current function value: 0.408530\n",
      "         Iterations 6\n",
      "Optimization terminated successfully.\n",
      "         Current function value: 0.635793\n",
      "         Iterations 6\n",
      "Optimization terminated successfully.\n",
      "         Current function value: 0.488488\n",
      "         Iterations 6\n",
      "Optimization terminated successfully.\n",
      "         Current function value: 0.552867\n",
      "         Iterations 7\n",
      "Optimization terminated successfully.\n",
      "         Current function value: 0.590079\n",
      "         Iterations 6\n",
      "Optimization terminated successfully.\n",
      "         Current function value: 0.585403\n",
      "         Iterations 6\n",
      "Optimization terminated successfully.\n",
      "         Current function value: 0.340062\n",
      "         Iterations 7\n",
      "Optimization terminated successfully.\n",
      "         Current function value: 0.555514\n",
      "         Iterations 6\n",
      "Optimization terminated successfully.\n",
      "         Current function value: 0.603829\n",
      "         Iterations 6\n",
      "Optimization terminated successfully.\n",
      "         Current function value: 0.386090\n",
      "         Iterations 7\n",
      "Optimization terminated successfully.\n",
      "         Current function value: 0.542473\n",
      "         Iterations 6\n",
      "Optimization terminated successfully.\n",
      "         Current function value: 0.601704\n",
      "         Iterations 6\n",
      "Optimization terminated successfully.\n",
      "         Current function value: 0.599978\n",
      "         Iterations 6\n",
      "Optimization terminated successfully.\n",
      "         Current function value: 0.413615\n",
      "         Iterations 6\n",
      "Optimization terminated successfully.\n",
      "         Current function value: 0.576761\n",
      "         Iterations 6\n",
      "Optimization terminated successfully.\n",
      "         Current function value: 0.630964\n",
      "         Iterations 6\n",
      "Optimization terminated successfully.\n",
      "         Current function value: 0.496817\n",
      "         Iterations 7\n",
      "Optimization terminated successfully.\n",
      "         Current function value: 0.562971\n",
      "         Iterations 7\n",
      "Optimization terminated successfully.\n",
      "         Current function value: 0.339525\n",
      "         Iterations 8\n",
      "Optimization terminated successfully.\n",
      "         Current function value: 0.607990\n",
      "         Iterations 6\n",
      "Optimization terminated successfully.\n",
      "         Current function value: 0.604675\n",
      "         Iterations 6\n",
      "Optimization terminated successfully.\n",
      "         Current function value: 0.396740\n",
      "         Iterations 7\n",
      "Optimization terminated successfully.\n",
      "         Current function value: 0.540931\n",
      "         Iterations 7\n",
      "Optimization terminated successfully.\n",
      "         Current function value: 0.592074\n",
      "         Iterations 6\n",
      "Optimization terminated successfully.\n",
      "         Current function value: 0.412913\n",
      "         Iterations 7\n",
      "Optimization terminated successfully.\n",
      "         Current function value: 0.570349\n",
      "         Iterations 6\n",
      "Optimization terminated successfully.\n",
      "         Current function value: 0.632623\n",
      "         Iterations 6\n",
      "Optimization terminated successfully.\n",
      "         Current function value: 0.628172\n",
      "         Iterations 6\n",
      "Optimization terminated successfully.\n",
      "         Current function value: 0.494310\n",
      "         Iterations 6\n",
      "Optimization terminated successfully.\n",
      "         Current function value: 0.561058\n",
      "         Iterations 7\n",
      "Optimization terminated successfully.\n",
      "         Current function value: 0.594721\n",
      "         Iterations 6\n",
      "Optimization terminated successfully.\n",
      "         Current function value: 0.594782\n",
      "         Iterations 6\n",
      "Warning: Maximum number of iterations has been exceeded.\n",
      "         Current function value: 0.317394\n",
      "         Iterations: 35\n",
      "Optimization terminated successfully.\n",
      "         Current function value: 0.546341\n",
      "         Iterations 7\n",
      "Optimization terminated successfully.\n",
      "         Current function value: 0.599489\n",
      "         Iterations 6\n",
      "Optimization terminated successfully.\n",
      "         Current function value: 0.389778\n",
      "         Iterations 7\n",
      "Optimization terminated successfully.\n",
      "         Current function value: 0.542083\n",
      "         Iterations 6\n",
      "Optimization terminated successfully.\n",
      "         Current function value: 0.605042\n",
      "         Iterations 5\n",
      "Optimization terminated successfully.\n",
      "         Current function value: 0.599574\n",
      "         Iterations 6\n",
      "Optimization terminated successfully.\n",
      "         Current function value: 0.570365\n",
      "         Iterations 6\n",
      "Optimization terminated successfully.\n",
      "         Current function value: 0.629837\n",
      "         Iterations 6\n",
      "Optimization terminated successfully.\n",
      "         Current function value: 0.636842\n",
      "         Iterations 5\n",
      "Optimization terminated successfully.\n",
      "         Current function value: 0.485512\n",
      "         Iterations 7\n",
      "Optimization terminated successfully.\n",
      "         Current function value: 0.557525\n",
      "         Iterations 7\n",
      "Optimization terminated successfully.\n",
      "         Current function value: 0.593311\n",
      "         Iterations 7\n",
      "Optimization terminated successfully.\n",
      "         Current function value: 0.594862\n",
      "         Iterations 6\n",
      "Optimization terminated successfully.\n",
      "         Current function value: 0.310462\n",
      "         Iterations 8\n",
      "Optimization terminated successfully.\n",
      "         Current function value: 0.547419\n",
      "         Iterations 6\n",
      "Optimization terminated successfully.\n",
      "         Current function value: 0.607132\n",
      "         Iterations 6\n",
      "Optimization terminated successfully.\n",
      "         Current function value: 0.599050\n",
      "         Iterations 6\n",
      "Optimization terminated successfully.\n",
      "         Current function value: 0.389608\n",
      "         Iterations 7\n",
      "Optimization terminated successfully.\n",
      "         Current function value: 0.550936\n",
      "         Iterations 6\n",
      "Optimization terminated successfully.\n",
      "         Current function value: 0.598717\n",
      "         Iterations 6\n",
      "Optimization terminated successfully.\n",
      "         Current function value: 0.401859\n",
      "         Iterations 7\n",
      "Optimization terminated successfully.\n",
      "         Current function value: 0.572026\n",
      "         Iterations 6\n",
      "Optimization terminated successfully.\n",
      "         Current function value: 0.633571\n",
      "         Iterations 6\n",
      "Optimization terminated successfully.\n",
      "         Current function value: 0.636163\n",
      "         Iterations 6\n"
     ]
    },
    {
     "name": "stderr",
     "output_type": "stream",
     "text": [
      "/home/miroslav/anaconda3/envs/master-env/lib/python3.7/site-packages/statsmodels/base/model.py:568: ConvergenceWarning: Maximum Likelihood optimization failed to converge. Check mle_retvals\n",
      "  ConvergenceWarning)\n",
      "/home/miroslav/anaconda3/envs/master-env/lib/python3.7/site-packages/statsmodels/discrete/discrete_model.py:1810: RuntimeWarning: overflow encountered in exp\n",
      "  return 1/(1+np.exp(-X))\n",
      "/home/miroslav/anaconda3/envs/master-env/lib/python3.7/site-packages/sklearn/model_selection/_validation.py:614: FitFailedWarning: Estimator fit failed. The score on this train-test partition for these parameters will be set to nan. Details: \n",
      "Traceback (most recent call last):\n",
      "  File \"/home/miroslav/anaconda3/envs/master-env/lib/python3.7/site-packages/sklearn/model_selection/_validation.py\", line 593, in _fit_and_score\n",
      "    estimator.fit(X_train, y_train, **fit_params)\n",
      "  File \"/tmp/ipykernel_19047/3596550944.py\", line 9, in fit\n",
      "  File \"/home/miroslav/anaconda3/envs/master-env/lib/python3.7/site-packages/statsmodels/discrete/discrete_model.py\", line 1980, in fit\n",
      "    **kwargs)\n",
      "  File \"/home/miroslav/anaconda3/envs/master-env/lib/python3.7/site-packages/statsmodels/discrete/discrete_model.py\", line 233, in fit\n",
      "    **kwargs)\n",
      "  File \"/home/miroslav/anaconda3/envs/master-env/lib/python3.7/site-packages/statsmodels/base/model.py\", line 534, in fit\n",
      "    Hinv = np.linalg.inv(-retvals['Hessian']) / nobs\n",
      "  File \"<__array_function__ internals>\", line 6, in inv\n",
      "  File \"/home/miroslav/anaconda3/envs/master-env/lib/python3.7/site-packages/numpy/linalg/linalg.py\", line 546, in inv\n",
      "    ainv = _umath_linalg.inv(a, signature=signature, extobj=extobj)\n",
      "  File \"/home/miroslav/anaconda3/envs/master-env/lib/python3.7/site-packages/numpy/linalg/linalg.py\", line 88, in _raise_linalgerror_singular\n",
      "    raise LinAlgError(\"Singular matrix\")\n",
      "numpy.linalg.LinAlgError: Singular matrix\n",
      "\n",
      "  FitFailedWarning)\n"
     ]
    },
    {
     "name": "stdout",
     "output_type": "stream",
     "text": [
      "Optimization terminated successfully.\n",
      "         Current function value: 0.562348\n",
      "         Iterations 7\n",
      "Warning: Maximum number of iterations has been exceeded.\n",
      "         Current function value: 0.592141\n",
      "         Iterations: 35\n",
      "Optimization terminated successfully.\n",
      "         Current function value: 0.590595\n",
      "         Iterations 6\n",
      "Optimization terminated successfully.\n",
      "         Current function value: 0.547087\n",
      "         Iterations 6\n",
      "Optimization terminated successfully.\n",
      "         Current function value: 0.609072\n",
      "         Iterations 5\n",
      "Optimization terminated successfully.\n",
      "         Current function value: 0.606529\n",
      "         Iterations 6\n",
      "Optimization terminated successfully.\n",
      "         Current function value: 0.539767\n",
      "         Iterations 6\n",
      "Optimization terminated successfully.\n",
      "         Current function value: 0.602560\n",
      "         Iterations 6\n",
      "Optimization terminated successfully.\n",
      "         Current function value: 0.598443\n",
      "         Iterations 6\n",
      "Optimization terminated successfully.\n",
      "         Current function value: 0.420418\n",
      "         Iterations 6\n",
      "Optimization terminated successfully.\n",
      "         Current function value: 0.571223\n",
      "         Iterations 7\n",
      "Optimization terminated successfully.\n",
      "         Current function value: 0.635428\n",
      "         Iterations 5\n",
      "Optimization terminated successfully.\n",
      "         Current function value: 0.635987\n",
      "         Iterations 5\n",
      "Optimization terminated successfully.\n",
      "         Current function value: 0.491431\n",
      "         Iterations 6\n"
     ]
    }
   ],
   "source": [
    "perform_logit(X_train_smote_enn, y_train_smote_enn, X_test, y_test, X_cols, y_col)"
   ]
  },
  {
   "cell_type": "markdown",
   "id": "52234724-2880-4ac1-bacb-2e0b75328e2e",
   "metadata": {},
   "source": [
    "## Random Forest"
   ]
  },
  {
   "cell_type": "markdown",
   "id": "aaecf051-be3d-40a5-ad97-c5d13bf67f64",
   "metadata": {},
   "source": [
    "### No balance"
   ]
  },
  {
   "cell_type": "code",
   "execution_count": null,
   "id": "f3ee7c00-7302-4581-aff2-1119cffa8e27",
   "metadata": {},
   "outputs": [],
   "source": [
    "perform_random_forest(X_train_smote_enn, y_train_smote_enn, X_test, y_test)"
   ]
  },
  {
   "cell_type": "markdown",
   "id": "e9dd608d-77b2-4c5e-9f78-797abb8cde1f",
   "metadata": {},
   "source": [
    "### Undersampling"
   ]
  },
  {
   "cell_type": "code",
   "execution_count": null,
   "id": "78c8f90c-003c-4688-8a95-5f40cdf6b7d7",
   "metadata": {},
   "outputs": [],
   "source": [
    "perform_random_forest(X_train_rus, y_train_rus, X_test, y_test)"
   ]
  },
  {
   "cell_type": "markdown",
   "id": "98275891-207c-47c4-9d1a-7fb440059f5c",
   "metadata": {},
   "source": [
    "### Oversampling"
   ]
  },
  {
   "cell_type": "code",
   "execution_count": null,
   "id": "91bd31a4-1cf8-4407-84a6-1b8c85efb9e5",
   "metadata": {},
   "outputs": [],
   "source": [
    "perform_random_forest(X_train_ros, y_train_ros, X_test, y_test)"
   ]
  },
  {
   "cell_type": "markdown",
   "id": "fa73defd-d7ce-4ab8-8bc6-b198deaa6182",
   "metadata": {},
   "source": [
    "### SMOTEENN"
   ]
  },
  {
   "cell_type": "code",
   "execution_count": null,
   "id": "3e627729-7734-4b55-9cce-6cf6c61995a9",
   "metadata": {},
   "outputs": [],
   "source": [
    "perform_random_forest(X_train, X_test, y_train, y_test, balance='smoteen')"
   ]
  },
  {
   "cell_type": "markdown",
   "id": "89ce2c50-9232-4b3f-bd5b-0db4fb9563cf",
   "metadata": {},
   "source": [
    "## Decision Tree"
   ]
  },
  {
   "cell_type": "markdown",
   "id": "2f01c4f5-bc08-405b-8121-8c90df9e987d",
   "metadata": {},
   "source": [
    "### No balance"
   ]
  },
  {
   "cell_type": "code",
   "execution_count": null,
   "id": "e4c269e0-b18c-44ed-95dd-4ab7464d2ab8",
   "metadata": {},
   "outputs": [],
   "source": [
    "perform_decision_tree(X_train, X_test, y_train, y_test)"
   ]
  },
  {
   "cell_type": "markdown",
   "id": "e8a0d235-55d1-4b7f-a07e-7a34f5477aad",
   "metadata": {},
   "source": [
    "### Undersampling"
   ]
  },
  {
   "cell_type": "code",
   "execution_count": null,
   "id": "6701690d-aeb6-484e-b5d8-6fccb5b9a31b",
   "metadata": {},
   "outputs": [],
   "source": [
    "perform_decision_tree(X_train_rus, y_train_rus, X_test, y_test)"
   ]
  },
  {
   "cell_type": "markdown",
   "id": "85f50ee3-1dd3-40a5-bac2-054255e0730c",
   "metadata": {},
   "source": [
    "### Oversampling"
   ]
  },
  {
   "cell_type": "code",
   "execution_count": null,
   "id": "b08bc3b7-9f2a-4572-88c2-c6d2868df1fd",
   "metadata": {},
   "outputs": [],
   "source": [
    "perform_decision_tree(X_train_ros, y_train_ros, X_test, y_test)"
   ]
  },
  {
   "cell_type": "markdown",
   "id": "111d22e7-e234-49b8-851e-f6c1d93d6641",
   "metadata": {},
   "source": [
    "### SMOTEENN"
   ]
  },
  {
   "cell_type": "code",
   "execution_count": null,
   "id": "ebf5ff9e-f129-4b27-a335-32c09e35fb02",
   "metadata": {},
   "outputs": [],
   "source": [
    "perform_decision_tree(X_train_smote_enn, y_train_smote_enn, X_test, y_test)"
   ]
  }
 ],
 "metadata": {
  "kernelspec": {
   "display_name": "Python 3 (ipykernel)",
   "language": "python",
   "name": "python3"
  },
  "language_info": {
   "codemirror_mode": {
    "name": "ipython",
    "version": 3
   },
   "file_extension": ".py",
   "mimetype": "text/x-python",
   "name": "python",
   "nbconvert_exporter": "python",
   "pygments_lexer": "ipython3",
   "version": "3.7.9"
  },
  "toc-autonumbering": false
 },
 "nbformat": 4,
 "nbformat_minor": 5
}
