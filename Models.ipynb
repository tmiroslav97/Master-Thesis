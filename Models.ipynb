{
 "cells": [
  {
   "cell_type": "markdown",
   "id": "6a10b418-ac80-4187-a54e-f74066bca77a",
   "metadata": {},
   "source": [
    "# Models"
   ]
  },
  {
   "cell_type": "code",
   "execution_count": 1,
   "id": "2d0f059c-90c6-4964-a63d-fd1476a01bac",
   "metadata": {},
   "outputs": [],
   "source": [
    "import time\n",
    "import datetime\n",
    "import numpy as np\n",
    "import pandas as pd\n",
    "from statsmodels.discrete.discrete_model import Logit\n",
    "from sklearn.model_selection import train_test_split\n",
    "from sklearn.impute import SimpleImputer\n",
    "from sklearn.metrics import accuracy_score, precision_score, recall_score, f1_score, confusion_matrix, roc_auc_score\n",
    "from sklearn.ensemble import RandomForestClassifier\n",
    "from sklearn.tree import DecisionTreeClassifier\n",
    "from sklearn.model_selection import GridSearchCV, cross_val_score, cross_val_predict\n",
    "from sklearn.base import BaseEstimator, ClassifierMixin\n",
    "from imblearn.over_sampling import RandomOverSampler\n",
    "from imblearn.under_sampling import RandomUnderSampler\n",
    "from imblearn.combine import SMOTEENN\n",
    "from pprint import pprint\n",
    "import matplotlib.pyplot as plt\n",
    "import statsmodels.api as sm"
   ]
  },
  {
   "cell_type": "code",
   "execution_count": null,
   "id": "d4b806b0-e1e0-4573-b393-9468b1da5d61",
   "metadata": {},
   "outputs": [],
   "source": [
    "from google.colab import drive\n",
    "drive.mount('/content/drive')"
   ]
  },
  {
   "cell_type": "code",
   "execution_count": 2,
   "id": "5efc22b5-9751-4c97-881a-6fb4b94c8954",
   "metadata": {},
   "outputs": [],
   "source": [
    "# %run /content/drive/MyDrive/DentistDataAnalysis/Experiments/Mappings.ipynb\n",
    "%run Mappings.ipynb"
   ]
  },
  {
   "cell_type": "code",
   "execution_count": 3,
   "id": "5aafc249-ed54-400f-8596-509d384c8e3e",
   "metadata": {},
   "outputs": [],
   "source": [
    "# DIR = '/content/drive/MyDrive/DentistDataAnalysis/Experiments/'\n",
    "DIR = ''"
   ]
  },
  {
   "cell_type": "code",
   "execution_count": 4,
   "id": "74c55e76-b922-4d2d-89ee-7ee2f829bd09",
   "metadata": {},
   "outputs": [],
   "source": [
    "data = pd.read_csv(DIR+'dataset/final_data.csv')"
   ]
  },
  {
   "cell_type": "code",
   "execution_count": 5,
   "id": "05ed30dd-55cb-4a2e-b332-ae75e5845d66",
   "metadata": {},
   "outputs": [],
   "source": [
    "X_cols = ['Que1', 'Que2', 'Que3', 'Que4', 'Que5', 'Que6', 'Que10_a', 'Que10_b', 'Que10_c', 'Que10_d', 'Que10_e', 'Que10_f', 'Que14', 'Que15', 'Que17', 'Que18_age', 'Que19', 'Que20', 'Que21', 'Que22', 'Que_smoking']\n",
    "y_col = ['Que16']"
   ]
  },
  {
   "cell_type": "markdown",
   "id": "fa532ecb-e46c-4cc3-9053-c5fd1a3d2be1",
   "metadata": {},
   "source": [
    "## Metrics"
   ]
  },
  {
   "cell_type": "code",
   "execution_count": 6,
   "id": "8a593144-624e-4ac9-8d06-596489698552",
   "metadata": {},
   "outputs": [],
   "source": [
    "def get_metrics(y_true, prediction):\n",
    "    recall = round(recall_score(y_true, prediction), 4)\n",
    "    accuracy = round(accuracy_score(y_true, prediction), 4)\n",
    "    precision = round(precision_score(y_true, prediction), 4)\n",
    "    roc_auc = round(roc_auc_score(y_true, prediction), 4) \n",
    "    f1 = round(f1_score(y_true, prediction), 4)\n",
    "    conf_matrix = confusion_matrix(y_true, prediction).flatten()\n",
    "    \n",
    "    '''\n",
    "    print('Test recall:\\t', str(recall))\n",
    "    print('Test accuracy:\\t', str(accuracy))\n",
    "    print('Test precision:\\t', str(precision))\n",
    "    print('Test ROC AUC:\\t', str(roc_auc))\n",
    "    print('Test F1 score:\\t', str(f1))\n",
    "    print('Test confusion matrix:\\t'+ str(conf_matrix))\n",
    "    '''\n",
    "    return recall, accuracy, precision, roc_auc, f1, conf_matrix"
   ]
  },
  {
   "cell_type": "markdown",
   "id": "26e80ddd-743e-41a5-a138-c2b8ea4c3460",
   "metadata": {},
   "source": [
    "## Logit"
   ]
  },
  {
   "cell_type": "code",
   "execution_count": 7,
   "id": "ab5808d7-bbff-460d-82ee-37272b307e83",
   "metadata": {},
   "outputs": [],
   "source": [
    "class SMWrapper(BaseEstimator, ClassifierMixin):\n",
    "    def __init__(self, model_class, fit_intercept=True):\n",
    "        self.model_class = model_class\n",
    "        self.fit_intercept = fit_intercept\n",
    "    def fit(self, X, y):\n",
    "        if self.fit_intercept:\n",
    "            X = sm.add_constant(X)\n",
    "        self.model_ = self.model_class(y, X)\n",
    "        self.results_ = self.model_.fit()\n",
    "        return self\n",
    "    def predict(self, X):\n",
    "        if self.fit_intercept:\n",
    "            X = sm.add_constant(X)\n",
    "        yhat = self.results_.predict(X)\n",
    "        return list(map(round, yhat))"
   ]
  },
  {
   "cell_type": "code",
   "execution_count": 8,
   "id": "c67d1c29-49d9-4d75-ae0b-5dda8a144dd5",
   "metadata": {},
   "outputs": [],
   "source": [
    "def perform_logit(X_train, y_train, X_test, y_test, X_cols, y_col):\n",
    "    X_train_df = pd.DataFrame(data=X_train, columns=X_cols)\n",
    "    y_train_df = pd.DataFrame(data=y_train, columns=y_col)\n",
    "    logit_model = SMWrapper(sm.Logit)\n",
    "    scores = cross_val_score(logit_model, X_train_df, y_train_df, scoring='recall', cv=5, n_jobs=-1)\n",
    "    val_score = round(np.nanmean(scores), 4)\n",
    "    print('Mean cross-validation score: ')\n",
    "    print(val_score)\n",
    "    X_train_df = sm.add_constant(X_train_df)\n",
    "    logit = Logit(y_train_df, X_train_df)\n",
    "    lg = logit.fit()\n",
    "    #print(lg.summary())\n",
    "    X_test = sm.add_constant(X_test)\n",
    "    yhat = lg.predict(X_test)\n",
    "    prediction = list(map(round, yhat))\n",
    "    return val_score, get_metrics(y_test, prediction)"
   ]
  },
  {
   "cell_type": "markdown",
   "id": "09251b8e-a692-488b-9fbd-d2597fce2c8f",
   "metadata": {},
   "source": [
    "## Random forest"
   ]
  },
  {
   "cell_type": "code",
   "execution_count": 9,
   "id": "44552c2d-a03a-4784-9bbd-a7fafcbc3f25",
   "metadata": {},
   "outputs": [],
   "source": [
    "def perform_random_forest(X_train, y_train, X_test, y_test):\n",
    "    #hyperparameters config\n",
    "    n_estimators = [int(x) for x in np.linspace(start = 5, stop = 150, num = 15)]\n",
    "    criterion = ['gini', 'entropy']\n",
    "    max_features = ['sqrt']\n",
    "    max_depth = [int(x) for x in np.linspace(10, 110, num = 10)]\n",
    "    max_depth.append(None)\n",
    "    min_samples_split = [2, 5, 10]\n",
    "    min_samples_leaf = [1, 2, 4]\n",
    "    bootstrap = [True]\n",
    "    random_grid = {'n_estimators': n_estimators,\n",
    "                   'criterion': criterion,\n",
    "                   'max_features': max_features,\n",
    "                   'max_depth': max_depth,\n",
    "                   'min_samples_split': min_samples_split,\n",
    "                   'min_samples_leaf': min_samples_leaf,\n",
    "                   'bootstrap': bootstrap}\n",
    "    #grid search config\n",
    "    rf_scoring='recall'\n",
    "    rf_cv = 5\n",
    "    rf_verbose=1\n",
    "    rf_n_jobs=-1\n",
    "    rf_return_train_score=True\n",
    "    rf = RandomForestClassifier()\n",
    "    rf_grid = GridSearchCV(estimator=rf, \n",
    "                            param_grid=random_grid,\n",
    "                            scoring=rf_scoring, cv=rf_cv, \n",
    "                            verbose=rf_verbose, n_jobs=rf_n_jobs, \n",
    "                            return_train_score=rf_return_train_score)\n",
    "    start_time = time.time()\n",
    "    rf_grid.fit(X_train, y_train)\n",
    "    end_time = time.time()\n",
    "    conv_time = datetime.timedelta(seconds=end_time-start_time)\n",
    "    print(f\"Grid search time: {conv_time}\")\n",
    "    \n",
    "    print('Mean cross-validation score of best model: ')\n",
    "    val_score = round(rf_grid.best_score_, 4)\n",
    "    print(val_score)\n",
    "    print('Best parameters:')\n",
    "    pprint(rf_grid.best_params_)\n",
    "\n",
    "    rf.set_params(bootstrap = rf_grid.best_params_['bootstrap'], \n",
    "                    criterion = rf_grid.best_params_['criterion'], \n",
    "                    max_depth = rf_grid.best_params_['max_depth'],\n",
    "                    max_features = rf_grid.best_params_['max_features'],\n",
    "                    min_samples_leaf = rf_grid.best_params_['min_samples_leaf'],\n",
    "                    min_samples_split = rf_grid.best_params_['min_samples_split'],\n",
    "                    n_estimators = rf_grid.best_params_['n_estimators'])\n",
    "    rf.fit(X_train, y_train)\n",
    "    prediction = rf.predict(X_test)\n",
    "    pprint(rf.get_params())\n",
    "    metrics = get_metrics(y_test, prediction)\n",
    "    \n",
    "    start_time = time.time()\n",
    "    importances = rf_grid.best_estimator_.feature_importances_\n",
    "    std = np.std([rf_grid.best_estimator_.feature_importances_ for tree in rf_grid.best_estimator_.estimators_], axis=0)\n",
    "    elapsed_time = time.time() - start_time\n",
    "    print(f\"Elapsed time to compute the importances: \" \n",
    "          f\"{elapsed_time:.3f} seconds\")\n",
    "    forest_importances = pd.Series(importances, index=X_cols).sort_values(ascending=False)\n",
    "    fig, ax = plt.subplots()\n",
    "    forest_importances.plot.bar(yerr=std, ax=ax)\n",
    "    ax.set_title(\"Feature importances using MDI\")\n",
    "    ax.set_ylabel(\"Mean decrease in impurity\")\n",
    "    fig.tight_layout()\n",
    "    return val_score, metrics"
   ]
  },
  {
   "cell_type": "markdown",
   "id": "313fea68-c90d-4503-b5f4-a5b345acfee8",
   "metadata": {},
   "source": [
    "## Decision trees"
   ]
  },
  {
   "cell_type": "code",
   "execution_count": 10,
   "id": "89deb587-e3e7-411b-ba7b-6753e3a47384",
   "metadata": {},
   "outputs": [],
   "source": [
    "def perform_decision_tree(X_train, y_train, X_test, y_test):\n",
    "    #hyperparameters config\n",
    "    criterion = ['gini', 'entropy']\n",
    "    splitter = ['best', 'random']\n",
    "    max_features = ['sqrt']\n",
    "    max_depth = [int(x) for x in np.linspace(10, 50, num = 6)]\n",
    "    max_depth.append(None)\n",
    "    min_samples_split = [2, 5, 10]\n",
    "    min_samples_leaf = [1, 2, 4]\n",
    "    search_grid = {'criterion': criterion,\n",
    "                   'splitter': splitter,\n",
    "                   'max_features': max_features,\n",
    "                   'max_depth': max_depth,\n",
    "                   'min_samples_split': min_samples_split,\n",
    "                   'min_samples_leaf': min_samples_leaf}\n",
    "    #grid search config\n",
    "    dtc_scoring='recall'\n",
    "    dtc_cv = 5\n",
    "    dtc_verbose=1\n",
    "    dtc_n_jobs=-1\n",
    "    dtc_return_train_score=True\n",
    "    dtc = DecisionTreeClassifier()\n",
    "    dtc_grid = GridSearchCV(estimator=dtc, \n",
    "                            param_grid=search_grid,\n",
    "                            scoring=dtc_scoring, cv=dtc_cv, \n",
    "                            verbose=dtc_verbose, n_jobs=dtc_n_jobs, \n",
    "                            return_train_score=dtc_return_train_score)\n",
    "    start_time = time.time()\n",
    "    dtc_grid.fit(X_train, y_train)\n",
    "    end_time = time.time()\n",
    "    conv_time = datetime.timedelta(seconds=end_time-start_time)\n",
    "    print(f\"Grid search time: {conv_time}\")\n",
    "    \n",
    "    print('Mean cross-validation score of best model: ')\n",
    "    val_score = round(dtc_grid.best_score_, 4)\n",
    "    print(val_score)\n",
    "    print('Best parameters:')\n",
    "    pprint(dtc_grid.best_params_)\n",
    "    \n",
    "    dtc = DecisionTreeClassifier()\n",
    "    dtc.set_params(criterion = dtc_grid.best_params_['criterion'], \n",
    "                   max_depth = dtc_grid.best_params_['max_depth'],\n",
    "                    max_features = dtc_grid.best_params_['max_features'],\n",
    "                    min_samples_leaf = dtc_grid.best_params_['min_samples_leaf'],\n",
    "                    min_samples_split = dtc_grid.best_params_['min_samples_split'],\n",
    "                    splitter = dtc_grid.best_params_['splitter'])\n",
    "    dtc.fit(X_train, y_train)\n",
    "    prediction = dtc.predict(X_test)\n",
    "    pprint(dtc.get_params())\n",
    "    return val_score, get_metrics(y_test, prediction)"
   ]
  },
  {
   "cell_type": "markdown",
   "id": "50fe6cfa-18d6-450a-83ab-8792e4a8ae97",
   "metadata": {},
   "source": [
    "# Data preparation "
   ]
  },
  {
   "cell_type": "code",
   "execution_count": 16,
   "id": "a129d04f-fc3f-4fe3-884f-178a73506dab",
   "metadata": {},
   "outputs": [
    {
     "name": "stdout",
     "output_type": "stream",
     "text": [
      "4310\n",
      "936\n",
      "536\n",
      "400\n",
      "(array([0., 1.]), array([138, 262]))\n"
     ]
    }
   ],
   "source": [
    "print(data.shape[0])\n",
    "data_dropped = data.dropna()\n",
    "print(data_dropped.shape[0])\n",
    "data_train, data_test = train_test_split(data_dropped, test_size=400, random_state=42)\n",
    "print(data_train.shape[0])\n",
    "print(data_test.shape[0])\n",
    "data_test_mapped = perform_mapping(data_test, questions_map_EN)\n",
    "X_test = data_test.drop(columns=['Que16']).to_numpy()\n",
    "y_test = data_test['Que16'].to_numpy()\n",
    "print(np.unique(y_test, return_counts=True))\n",
    "index_to_remove = data_test.index.to_numpy()\n",
    "data_remain = data.drop(index_to_remove)\n",
    "#strategy 1\n",
    "data_dropped = data_remain.dropna().reset_index(drop=True)\n",
    "data_dropped = perform_mapping(data_dropped, questions_map_EN)\n",
    "#strategy 2\n",
    "imputer = SimpleImputer(missing_values=np.nan, strategy='median')\n",
    "data_median = pd.DataFrame(imputer.fit_transform(data_remain))\n",
    "data_median.columns = data_remain.columns\n",
    "data_median.index = data_remain.index\n",
    "data_median = perform_mapping(data_median, questions_map_EN)\n",
    "#strategy 3\n",
    "imputer = SimpleImputer(missing_values=np.nan, strategy='mean')\n",
    "data_mean = pd.DataFrame(imputer.fit_transform(data_remain))\n",
    "data_mean.columns = data_remain.columns\n",
    "data_mean.index = data_remain.index\n",
    "# mean values are not integer numbers so rounding to int was necessary\n",
    "data_mean = data_mean.round()\n",
    "data_mean = perform_mapping(data_mean, questions_map_EN)\n",
    "#strategy 4\n",
    "imputer = SimpleImputer(missing_values=np.nan, strategy='most_frequent')\n",
    "data_most_frequent = pd.DataFrame(imputer.fit_transform(data_remain))\n",
    "data_most_frequent.columns = data_remain.columns\n",
    "data_most_frequent.index = data_remain.index\n",
    "data_most_frequent = perform_mapping(data_most_frequent, questions_map_EN)"
   ]
  },
  {
   "cell_type": "code",
   "execution_count": 17,
   "id": "61c5c46f-f845-4a0b-af4c-429d84aeb7e1",
   "metadata": {},
   "outputs": [],
   "source": [
    "def get_strategy_data(strategy=None):\n",
    "    if strategy=='strategy1':\n",
    "        X_train = data_dropped.drop(columns=['Que16']).to_numpy()\n",
    "        y_train = data_dropped['Que16'].to_numpy()\n",
    "    elif strategy=='strategy2':\n",
    "        X_train = data_median.drop(columns=['Que16']).to_numpy()\n",
    "        y_train = data_median['Que16'].to_numpy()\n",
    "    elif strategy=='strategy3':\n",
    "        X_train = data_mean.drop(columns=['Que16']).to_numpy()\n",
    "        y_train = data_mean['Que16'].to_numpy()\n",
    "    elif strategy=='strategy4':\n",
    "        X_train = data_most_frequent.drop(columns=['Que16']).to_numpy()\n",
    "        y_train = data_most_frequent['Que16'].to_numpy()\n",
    "    else:\n",
    "        X_train = None\n",
    "        y_train = None\n",
    "    return X_train, y_train\n",
    "\n",
    "def get_balanced_data(X_train, y_train, balance=None):\n",
    "    if balance=='no_balance':\n",
    "        X_balanced = X_train\n",
    "        y_balanced = y_train\n",
    "    elif balance=='under':\n",
    "        rus = RandomUnderSampler(random_state=0)\n",
    "        X_balanced, y_balanced = rus.fit_resample(X_train, y_train)\n",
    "    elif balance=='over':\n",
    "        ros = RandomOverSampler(random_state=0)\n",
    "        X_balanced, y_balanced = ros.fit_resample(X_train, y_train)\n",
    "    elif balance=='smoteenn':\n",
    "        smote_enn = SMOTEENN(random_state=0)\n",
    "        X_balanced, y_balanced = smote_enn.fit_resample(X_train, y_train)\n",
    "    else:\n",
    "        X_balanced = None\n",
    "        y_balanced = None\n",
    "    return X_balanced, y_balanced"
   ]
  },
  {
   "cell_type": "code",
   "execution_count": 20,
   "id": "ab65fa0f-507d-4d6f-90a9-7fd1826ae007",
   "metadata": {},
   "outputs": [
    {
     "name": "stdout",
     "output_type": "stream",
     "text": [
      "Mean cross-validation score: \n",
      "0.6985\n",
      "Optimization terminated successfully.\n",
      "         Current function value: 0.561771\n",
      "         Iterations 7\n",
      "Mean cross-validation score: \n",
      "0.622\n",
      "Optimization terminated successfully.\n",
      "         Current function value: 0.582424\n",
      "         Iterations 7\n",
      "Mean cross-validation score: \n",
      "0.5284\n",
      "Optimization terminated successfully.\n",
      "         Current function value: 0.572383\n",
      "         Iterations 6\n"
     ]
    },
    {
     "name": "stderr",
     "output_type": "stream",
     "text": [
      "/home/miroslav/anaconda3/envs/master-env/lib/python3.7/site-packages/ipykernel_launcher.py:6: RuntimeWarning: Mean of empty slice\n",
      "  \n"
     ]
    },
    {
     "name": "stdout",
     "output_type": "stream",
     "text": [
      "Mean cross-validation score: \n",
      "nan\n",
      "Warning: Maximum number of iterations has been exceeded.\n",
      "         Current function value: 0.274152\n",
      "         Iterations: 35\n",
      "Mean cross-validation score: \n",
      "0.8046\n",
      "Optimization terminated successfully.\n",
      "         Current function value: 0.548002\n",
      "         Iterations 6\n",
      "Mean cross-validation score: \n",
      "0.6629\n",
      "Optimization terminated successfully.\n",
      "         Current function value: 0.606006\n",
      "         Iterations 6\n",
      "Mean cross-validation score: \n",
      "0.5694\n",
      "Optimization terminated successfully.\n",
      "         Current function value: 0.603337\n",
      "         Iterations 6\n",
      "Mean cross-validation score: \n",
      "0.7205\n",
      "Optimization terminated successfully.\n",
      "         Current function value: 0.426507\n",
      "         Iterations 6\n",
      "Mean cross-validation score: \n",
      "0.7827\n",
      "Optimization terminated successfully.\n",
      "         Current function value: 0.543508\n",
      "         Iterations 6\n",
      "Mean cross-validation score: \n",
      "0.6637\n",
      "Optimization terminated successfully.\n",
      "         Current function value: 0.599465\n",
      "         Iterations 6\n",
      "Mean cross-validation score: \n",
      "0.5661\n",
      "Optimization terminated successfully.\n",
      "         Current function value: 0.599159\n",
      "         Iterations 6\n",
      "Mean cross-validation score: \n",
      "0.6791\n",
      "Optimization terminated successfully.\n",
      "         Current function value: 0.408428\n",
      "         Iterations 6\n",
      "Mean cross-validation score: \n",
      "0.8496\n",
      "Optimization terminated successfully.\n",
      "         Current function value: 0.574917\n",
      "         Iterations 6\n",
      "Mean cross-validation score: \n",
      "0.6285\n",
      "Optimization terminated successfully.\n",
      "         Current function value: 0.640034\n",
      "         Iterations 6\n",
      "Mean cross-validation score: \n",
      "0.4229\n",
      "Optimization terminated successfully.\n",
      "         Current function value: 0.637117\n",
      "         Iterations 6\n",
      "Mean cross-validation score: \n",
      "0.4038\n",
      "Optimization terminated successfully.\n",
      "         Current function value: 0.482752\n",
      "         Iterations 6\n"
     ]
    },
    {
     "data": {
      "text/html": [
       "<div>\n",
       "<style scoped>\n",
       "    .dataframe tbody tr th:only-of-type {\n",
       "        vertical-align: middle;\n",
       "    }\n",
       "\n",
       "    .dataframe tbody tr th {\n",
       "        vertical-align: top;\n",
       "    }\n",
       "\n",
       "    .dataframe thead th {\n",
       "        text-align: right;\n",
       "    }\n",
       "</style>\n",
       "<table border=\"1\" class=\"dataframe\">\n",
       "  <thead>\n",
       "    <tr style=\"text-align: right;\">\n",
       "      <th></th>\n",
       "      <th>model</th>\n",
       "      <th>strategy</th>\n",
       "      <th>balance</th>\n",
       "      <th>val_score</th>\n",
       "      <th>recall</th>\n",
       "      <th>accuracy</th>\n",
       "      <th>precision</th>\n",
       "      <th>roc_auc</th>\n",
       "      <th>f1-score</th>\n",
       "      <th>conf matrix</th>\n",
       "    </tr>\n",
       "  </thead>\n",
       "  <tbody>\n",
       "    <tr>\n",
       "      <th>0</th>\n",
       "      <td>log_reg</td>\n",
       "      <td>strategy1</td>\n",
       "      <td>no_balance</td>\n",
       "      <td>0.6985</td>\n",
       "      <td>0.7595</td>\n",
       "      <td>0.6850</td>\n",
       "      <td>0.7595</td>\n",
       "      <td>0.6515</td>\n",
       "      <td>0.7595</td>\n",
       "      <td>[75, 63, 63, 199]</td>\n",
       "    </tr>\n",
       "    <tr>\n",
       "      <th>1</th>\n",
       "      <td>log_reg</td>\n",
       "      <td>strategy1</td>\n",
       "      <td>under</td>\n",
       "      <td>0.6220</td>\n",
       "      <td>0.6260</td>\n",
       "      <td>0.6350</td>\n",
       "      <td>0.7736</td>\n",
       "      <td>0.6391</td>\n",
       "      <td>0.6920</td>\n",
       "      <td>[90, 48, 98, 164]</td>\n",
       "    </tr>\n",
       "    <tr>\n",
       "      <th>2</th>\n",
       "      <td>log_reg</td>\n",
       "      <td>strategy1</td>\n",
       "      <td>over</td>\n",
       "      <td>0.5284</td>\n",
       "      <td>0.6374</td>\n",
       "      <td>0.6600</td>\n",
       "      <td>0.8029</td>\n",
       "      <td>0.6702</td>\n",
       "      <td>0.7106</td>\n",
       "      <td>[97, 41, 95, 167]</td>\n",
       "    </tr>\n",
       "    <tr>\n",
       "      <th>3</th>\n",
       "      <td>log_reg</td>\n",
       "      <td>strategy1</td>\n",
       "      <td>smoteenn</td>\n",
       "      <td>NaN</td>\n",
       "      <td>NaN</td>\n",
       "      <td>NaN</td>\n",
       "      <td>NaN</td>\n",
       "      <td>NaN</td>\n",
       "      <td>NaN</td>\n",
       "      <td>NaN</td>\n",
       "    </tr>\n",
       "    <tr>\n",
       "      <th>4</th>\n",
       "      <td>log_reg</td>\n",
       "      <td>strategy2</td>\n",
       "      <td>no_balance</td>\n",
       "      <td>0.8046</td>\n",
       "      <td>0.8550</td>\n",
       "      <td>0.6725</td>\n",
       "      <td>0.7066</td>\n",
       "      <td>0.5905</td>\n",
       "      <td>0.7737</td>\n",
       "      <td>[45, 93, 38, 224]</td>\n",
       "    </tr>\n",
       "    <tr>\n",
       "      <th>5</th>\n",
       "      <td>log_reg</td>\n",
       "      <td>strategy2</td>\n",
       "      <td>under</td>\n",
       "      <td>0.6629</td>\n",
       "      <td>0.5840</td>\n",
       "      <td>0.6425</td>\n",
       "      <td>0.8182</td>\n",
       "      <td>0.6688</td>\n",
       "      <td>0.6815</td>\n",
       "      <td>[104, 34, 109, 153]</td>\n",
       "    </tr>\n",
       "    <tr>\n",
       "      <th>6</th>\n",
       "      <td>log_reg</td>\n",
       "      <td>strategy2</td>\n",
       "      <td>over</td>\n",
       "      <td>0.5694</td>\n",
       "      <td>0.5878</td>\n",
       "      <td>0.6450</td>\n",
       "      <td>0.8191</td>\n",
       "      <td>0.6707</td>\n",
       "      <td>0.6844</td>\n",
       "      <td>[104, 34, 108, 154]</td>\n",
       "    </tr>\n",
       "    <tr>\n",
       "      <th>7</th>\n",
       "      <td>log_reg</td>\n",
       "      <td>strategy2</td>\n",
       "      <td>smoteenn</td>\n",
       "      <td>0.7205</td>\n",
       "      <td>0.5153</td>\n",
       "      <td>0.6125</td>\n",
       "      <td>0.8282</td>\n",
       "      <td>0.6562</td>\n",
       "      <td>0.6353</td>\n",
       "      <td>[110, 28, 127, 135]</td>\n",
       "    </tr>\n",
       "    <tr>\n",
       "      <th>8</th>\n",
       "      <td>log_reg</td>\n",
       "      <td>strategy3</td>\n",
       "      <td>no_balance</td>\n",
       "      <td>0.7827</td>\n",
       "      <td>0.8435</td>\n",
       "      <td>0.6700</td>\n",
       "      <td>0.7083</td>\n",
       "      <td>0.5920</td>\n",
       "      <td>0.7700</td>\n",
       "      <td>[47, 91, 41, 221]</td>\n",
       "    </tr>\n",
       "    <tr>\n",
       "      <th>9</th>\n",
       "      <td>log_reg</td>\n",
       "      <td>strategy3</td>\n",
       "      <td>under</td>\n",
       "      <td>0.6637</td>\n",
       "      <td>0.5878</td>\n",
       "      <td>0.6425</td>\n",
       "      <td>0.8148</td>\n",
       "      <td>0.6671</td>\n",
       "      <td>0.6829</td>\n",
       "      <td>[103, 35, 108, 154]</td>\n",
       "    </tr>\n",
       "    <tr>\n",
       "      <th>10</th>\n",
       "      <td>log_reg</td>\n",
       "      <td>strategy3</td>\n",
       "      <td>over</td>\n",
       "      <td>0.5661</td>\n",
       "      <td>0.5916</td>\n",
       "      <td>0.6425</td>\n",
       "      <td>0.8115</td>\n",
       "      <td>0.6654</td>\n",
       "      <td>0.6843</td>\n",
       "      <td>[102, 36, 107, 155]</td>\n",
       "    </tr>\n",
       "    <tr>\n",
       "      <th>11</th>\n",
       "      <td>log_reg</td>\n",
       "      <td>strategy3</td>\n",
       "      <td>smoteenn</td>\n",
       "      <td>0.6791</td>\n",
       "      <td>0.4962</td>\n",
       "      <td>0.6125</td>\n",
       "      <td>0.8497</td>\n",
       "      <td>0.6648</td>\n",
       "      <td>0.6265</td>\n",
       "      <td>[115, 23, 132, 130]</td>\n",
       "    </tr>\n",
       "    <tr>\n",
       "      <th>12</th>\n",
       "      <td>log_reg</td>\n",
       "      <td>strategy4</td>\n",
       "      <td>no_balance</td>\n",
       "      <td>0.8496</td>\n",
       "      <td>0.8817</td>\n",
       "      <td>0.6750</td>\n",
       "      <td>0.7000</td>\n",
       "      <td>0.5821</td>\n",
       "      <td>0.7804</td>\n",
       "      <td>[39, 99, 31, 231]</td>\n",
       "    </tr>\n",
       "    <tr>\n",
       "      <th>13</th>\n",
       "      <td>log_reg</td>\n",
       "      <td>strategy4</td>\n",
       "      <td>under</td>\n",
       "      <td>0.6285</td>\n",
       "      <td>0.5802</td>\n",
       "      <td>0.6200</td>\n",
       "      <td>0.7835</td>\n",
       "      <td>0.6379</td>\n",
       "      <td>0.6667</td>\n",
       "      <td>[96, 42, 110, 152]</td>\n",
       "    </tr>\n",
       "    <tr>\n",
       "      <th>14</th>\n",
       "      <td>log_reg</td>\n",
       "      <td>strategy4</td>\n",
       "      <td>over</td>\n",
       "      <td>0.4229</td>\n",
       "      <td>0.5840</td>\n",
       "      <td>0.6225</td>\n",
       "      <td>0.7846</td>\n",
       "      <td>0.6398</td>\n",
       "      <td>0.6696</td>\n",
       "      <td>[96, 42, 109, 153]</td>\n",
       "    </tr>\n",
       "    <tr>\n",
       "      <th>15</th>\n",
       "      <td>log_reg</td>\n",
       "      <td>strategy4</td>\n",
       "      <td>smoteenn</td>\n",
       "      <td>0.4038</td>\n",
       "      <td>0.4733</td>\n",
       "      <td>0.5850</td>\n",
       "      <td>0.8158</td>\n",
       "      <td>0.6352</td>\n",
       "      <td>0.5990</td>\n",
       "      <td>[110, 28, 138, 124]</td>\n",
       "    </tr>\n",
       "  </tbody>\n",
       "</table>\n",
       "</div>"
      ],
      "text/plain": [
       "      model   strategy     balance  val_score  recall  accuracy  precision  \\\n",
       "0   log_reg  strategy1  no_balance     0.6985  0.7595    0.6850     0.7595   \n",
       "1   log_reg  strategy1       under     0.6220  0.6260    0.6350     0.7736   \n",
       "2   log_reg  strategy1        over     0.5284  0.6374    0.6600     0.8029   \n",
       "3   log_reg  strategy1    smoteenn        NaN     NaN       NaN        NaN   \n",
       "4   log_reg  strategy2  no_balance     0.8046  0.8550    0.6725     0.7066   \n",
       "5   log_reg  strategy2       under     0.6629  0.5840    0.6425     0.8182   \n",
       "6   log_reg  strategy2        over     0.5694  0.5878    0.6450     0.8191   \n",
       "7   log_reg  strategy2    smoteenn     0.7205  0.5153    0.6125     0.8282   \n",
       "8   log_reg  strategy3  no_balance     0.7827  0.8435    0.6700     0.7083   \n",
       "9   log_reg  strategy3       under     0.6637  0.5878    0.6425     0.8148   \n",
       "10  log_reg  strategy3        over     0.5661  0.5916    0.6425     0.8115   \n",
       "11  log_reg  strategy3    smoteenn     0.6791  0.4962    0.6125     0.8497   \n",
       "12  log_reg  strategy4  no_balance     0.8496  0.8817    0.6750     0.7000   \n",
       "13  log_reg  strategy4       under     0.6285  0.5802    0.6200     0.7835   \n",
       "14  log_reg  strategy4        over     0.4229  0.5840    0.6225     0.7846   \n",
       "15  log_reg  strategy4    smoteenn     0.4038  0.4733    0.5850     0.8158   \n",
       "\n",
       "    roc_auc  f1-score          conf matrix  \n",
       "0    0.6515    0.7595    [75, 63, 63, 199]  \n",
       "1    0.6391    0.6920    [90, 48, 98, 164]  \n",
       "2    0.6702    0.7106    [97, 41, 95, 167]  \n",
       "3       NaN       NaN                  NaN  \n",
       "4    0.5905    0.7737    [45, 93, 38, 224]  \n",
       "5    0.6688    0.6815  [104, 34, 109, 153]  \n",
       "6    0.6707    0.6844  [104, 34, 108, 154]  \n",
       "7    0.6562    0.6353  [110, 28, 127, 135]  \n",
       "8    0.5920    0.7700    [47, 91, 41, 221]  \n",
       "9    0.6671    0.6829  [103, 35, 108, 154]  \n",
       "10   0.6654    0.6843  [102, 36, 107, 155]  \n",
       "11   0.6648    0.6265  [115, 23, 132, 130]  \n",
       "12   0.5821    0.7804    [39, 99, 31, 231]  \n",
       "13   0.6379    0.6667   [96, 42, 110, 152]  \n",
       "14   0.6398    0.6696   [96, 42, 109, 153]  \n",
       "15   0.6352    0.5990  [110, 28, 138, 124]  "
      ]
     },
     "execution_count": 20,
     "metadata": {},
     "output_type": "execute_result"
    }
   ],
   "source": [
    "cols = ['model', 'strategy', 'balance', 'val_score', 'recall', 'accuracy', 'precision', 'roc_auc', 'f1-score', 'conf matrix']\n",
    "key = 0\n",
    "dict_metric = {}\n",
    "for model in ['log_reg']:\n",
    "    for strategy in ['strategy1', 'strategy2', 'strategy3', 'strategy4']:\n",
    "        for balance in ['no_balance', 'under', 'over', 'smoteenn']:\n",
    "            dict_metric[key] = []\n",
    "            dict_metric[key].extend([model, strategy, balance])\n",
    "            X_train, y_train = get_strategy_data(strategy)\n",
    "            X_train, y_train = get_balanced_data(X_train, y_train, balance)\n",
    "            \n",
    "            try:\n",
    "                if model=='log_reg':\n",
    "                    metrics = perform_logit(X_train, y_train, X_test, y_test, X_cols, y_col)\n",
    "                    dict_metric[key].extend([metrics[0], metrics[1][0], metrics[1][1], metrics[1][2], metrics[1][3], metrics[1][4], metrics[1][5]])\n",
    "                elif model=='dec_tree':\n",
    "                    metrics = perform_decision_tree(X_train, y_train, X_test, y_test)\n",
    "                    dict_metric[key].extend([metrics[0], metrics[1][0], metrics[1][1], metrics[1][2], metrics[1][3], metrics[1][4], metrics[1][5]])\n",
    "                elif model=='rand_for':\n",
    "                    metrics = perform_random_forest(X_train, y_train, X_test, y_test)\n",
    "                    dict_metric[key].extend([metrics[0], metrics[1][0], metrics[1][1], metrics[1][2], metrics[1][3], metrics[1][4], metrics[1][5]])\n",
    "                else:\n",
    "                    print('Not existing model!')\n",
    "                key+=1\n",
    "            except:\n",
    "                dict_metric[key].extend([np.nan, np.nan, np.nan, np.nan, np.nan, np.nan, np.nan])\n",
    "                key+=1\n",
    "                continue\n",
    "pd.DataFrame.from_dict(dict_metric, orient='index', columns=cols)"
   ]
  },
  {
   "cell_type": "markdown",
   "id": "cfc10cdd-703f-4f4c-a8fd-fc127da6575f",
   "metadata": {},
   "source": [
    "# Strategy 1 - dropping all missing"
   ]
  },
  {
   "cell_type": "code",
   "execution_count": 12,
   "id": "79170683-1efa-4b7e-9881-e7e5925443b8",
   "metadata": {},
   "outputs": [],
   "source": [
    "X_train = data_dropped.drop(columns=['Que16']).to_numpy()\n",
    "y_train = data_dropped['Que16'].to_numpy()\n",
    "# balancing data\n",
    "rus = RandomUnderSampler(random_state=0)\n",
    "X_train_rus, y_train_rus = rus.fit_resample(X_train, y_train)\n",
    "ros = RandomOverSampler(random_state=0)\n",
    "X_train_ros, y_train_ros = ros.fit_resample(X_train, y_train)\n",
    "smote_enn = SMOTEENN(random_state=0)\n",
    "X_train_smote_enn, y_train_smote_enn = smote_enn.fit_resample(X_train, y_train)"
   ]
  },
  {
   "cell_type": "markdown",
   "id": "25e44020-3441-4055-992e-761ee3087697",
   "metadata": {},
   "source": [
    "## Logistic Regression"
   ]
  },
  {
   "cell_type": "markdown",
   "id": "54648229-d551-49d8-ba81-922c8052e766",
   "metadata": {},
   "source": [
    "### No balance"
   ]
  },
  {
   "cell_type": "code",
   "execution_count": 13,
   "id": "c3790728-0cdf-4649-af9b-7e88d4d65d9c",
   "metadata": {},
   "outputs": [
    {
     "name": "stdout",
     "output_type": "stream",
     "text": [
      "Mean cross-validation score: \n",
      "0.6985\n",
      "Optimization terminated successfully.\n",
      "         Current function value: 0.561771\n",
      "         Iterations 7\n",
      "                           Logit Regression Results                           \n",
      "==============================================================================\n",
      "Dep. Variable:                  Que16   No. Observations:                  536\n",
      "Model:                          Logit   Df Residuals:                      514\n",
      "Method:                           MLE   Df Model:                           21\n",
      "Date:                Thu, 02 Sep 2021   Pseudo R-squ.:                  0.1508\n",
      "Time:                        23:48:59   Log-Likelihood:                -301.11\n",
      "converged:                       True   LL-Null:                       -354.60\n",
      "Covariance Type:            nonrobust   LLR p-value:                 1.649e-13\n",
      "===============================================================================\n",
      "                  coef    std err          z      P>|z|      [0.025      0.975]\n",
      "-------------------------------------------------------------------------------\n",
      "const          -0.9645      0.339     -2.847      0.004      -1.628      -0.300\n",
      "Que1            0.2181      0.297      0.734      0.463      -0.365       0.801\n",
      "Que2           -0.2189      0.215     -1.017      0.309      -0.641       0.203\n",
      "Que3            0.2896      0.224      1.292      0.196      -0.150       0.729\n",
      "Que4           -0.0312      0.261     -0.120      0.905      -0.542       0.480\n",
      "Que5           -0.5785      0.562     -1.030      0.303      -1.680       0.523\n",
      "Que6            0.5001      0.211      2.369      0.018       0.086       0.914\n",
      "Que10_a        -0.2038      0.228     -0.895      0.371      -0.650       0.242\n",
      "Que10_b         0.3921      0.402      0.975      0.330      -0.396       1.181\n",
      "Que10_c         0.0330      0.229      0.144      0.886      -0.417       0.483\n",
      "Que10_d         0.2443      0.217      1.126      0.260      -0.181       0.670\n",
      "Que10_e        -1.7202      0.890     -1.932      0.053      -3.465       0.025\n",
      "Que10_f         0.2694      0.211      1.274      0.203      -0.145       0.684\n",
      "Que14          -0.3867      0.287     -1.346      0.178      -0.950       0.176\n",
      "Que15           1.3400      0.227      5.897      0.000       0.895       1.785\n",
      "Que17           2.1021      1.058      1.986      0.047       0.028       4.176\n",
      "Que18_age       0.2247      0.279      0.804      0.421      -0.323       0.772\n",
      "Que19           0.7460      0.415      1.795      0.073      -0.068       1.560\n",
      "Que20           0.5794      0.687      0.843      0.399      -0.767       1.926\n",
      "Que21           0.0755      0.228      0.331      0.741      -0.372       0.523\n",
      "Que22           0.3743      0.213      1.754      0.079      -0.044       0.792\n",
      "Que_smoking     0.1066      0.230      0.464      0.643      -0.344       0.558\n",
      "===============================================================================\n",
      "(array([0., 1.]), array([138, 262]))\n",
      "Test recall:\t 0.7595\n",
      "Test accuracy:\t 0.685\n",
      "Test precision:\t 0.7595\n",
      "Test ROC AUC:\t 0.6515\n",
      "Test F1 score:\t 0.7595\n",
      "Test confusion matrix:\t\n",
      "[[ 75  63]\n",
      " [ 63 199]]\n"
     ]
    }
   ],
   "source": [
    "dict_metric[key] = []\n",
    "perform_logit(X_train, y_train, X_test, y_test, X_cols, y_col)"
   ]
  },
  {
   "cell_type": "markdown",
   "id": "01bd3b09-8206-4c2f-9f3c-080454c01406",
   "metadata": {},
   "source": [
    "### Undersampling"
   ]
  },
  {
   "cell_type": "code",
   "execution_count": 14,
   "id": "b9ad429c-b967-42f9-a4f9-688786d9564a",
   "metadata": {},
   "outputs": [
    {
     "name": "stdout",
     "output_type": "stream",
     "text": [
      "Mean cross-validation score: \n",
      "0.622\n",
      "Optimization terminated successfully.\n",
      "         Current function value: 0.582424\n",
      "         Iterations 7\n",
      "                           Logit Regression Results                           \n",
      "==============================================================================\n",
      "Dep. Variable:                  Que16   No. Observations:                  402\n",
      "Model:                          Logit   Df Residuals:                      380\n",
      "Method:                           MLE   Df Model:                           21\n",
      "Date:                Thu, 02 Sep 2021   Pseudo R-squ.:                  0.1597\n",
      "Time:                        23:49:00   Log-Likelihood:                -234.13\n",
      "converged:                       True   LL-Null:                       -278.65\n",
      "Covariance Type:            nonrobust   LLR p-value:                 2.380e-10\n",
      "===============================================================================\n",
      "                  coef    std err          z      P>|z|      [0.025      0.975]\n",
      "-------------------------------------------------------------------------------\n",
      "const          -1.4574      0.394     -3.697      0.000      -2.230      -0.685\n",
      "Que1            0.2741      0.335      0.819      0.413      -0.382       0.930\n",
      "Que2           -0.1997      0.246     -0.812      0.417      -0.682       0.283\n",
      "Que3            0.4334      0.261      1.660      0.097      -0.078       0.945\n",
      "Que4            0.1650      0.290      0.569      0.569      -0.403       0.733\n",
      "Que5           -0.5930      0.640     -0.927      0.354      -1.847       0.661\n",
      "Que6            0.4156      0.239      1.741      0.082      -0.052       0.883\n",
      "Que10_a        -0.2974      0.262     -1.136      0.256      -0.810       0.216\n",
      "Que10_b         0.6460      0.438      1.476      0.140      -0.212       1.504\n",
      "Que10_c        -0.0134      0.265     -0.050      0.960      -0.533       0.507\n",
      "Que10_d         0.2230      0.250      0.893      0.372      -0.266       0.712\n",
      "Que10_e        -1.5857      1.022     -1.551      0.121      -3.589       0.418\n",
      "Que10_f         0.3473      0.244      1.425      0.154      -0.130       0.825\n",
      "Que14          -0.6032      0.351     -1.721      0.085      -1.290       0.084\n",
      "Que15           1.3438      0.255      5.278      0.000       0.845       1.843\n",
      "Que17           2.1012      1.081      1.944      0.052      -0.017       4.219\n",
      "Que18_age       0.0377      0.325      0.116      0.907      -0.599       0.674\n",
      "Que19           0.7953      0.460      1.729      0.084      -0.106       1.697\n",
      "Que20           0.4402      0.741      0.594      0.552      -1.012       1.892\n",
      "Que21           0.1131      0.258      0.439      0.661      -0.392       0.618\n",
      "Que22           0.2132      0.243      0.877      0.381      -0.263       0.690\n",
      "Que_smoking     0.0816      0.262      0.311      0.756      -0.433       0.596\n",
      "===============================================================================\n",
      "(array([0., 1.]), array([138, 262]))\n",
      "Test recall:\t 0.626\n",
      "Test accuracy:\t 0.635\n",
      "Test precision:\t 0.7736\n",
      "Test ROC AUC:\t 0.6391\n",
      "Test F1 score:\t 0.692\n",
      "Test confusion matrix:\t\n",
      "[[ 90  48]\n",
      " [ 98 164]]\n"
     ]
    }
   ],
   "source": [
    "perform_logit(X_train_rus, y_train_rus, X_test, y_test, X_cols, y_col)"
   ]
  },
  {
   "cell_type": "markdown",
   "id": "079ef4c0-f77b-446c-ae3f-5b75276b6fb0",
   "metadata": {},
   "source": [
    "### Oversampling"
   ]
  },
  {
   "cell_type": "code",
   "execution_count": 15,
   "id": "0d8d8455-2f07-4be6-b441-0aa82ffe0fcf",
   "metadata": {},
   "outputs": [
    {
     "name": "stdout",
     "output_type": "stream",
     "text": [
      "Mean cross-validation score: \n",
      "0.5284\n",
      "Optimization terminated successfully.\n",
      "         Current function value: 0.572383\n",
      "         Iterations 6\n",
      "                           Logit Regression Results                           \n",
      "==============================================================================\n",
      "Dep. Variable:                  Que16   No. Observations:                  670\n",
      "Model:                          Logit   Df Residuals:                      648\n",
      "Method:                           MLE   Df Model:                           21\n",
      "Date:                Thu, 02 Sep 2021   Pseudo R-squ.:                  0.1742\n",
      "Time:                        23:49:00   Log-Likelihood:                -383.50\n",
      "converged:                       True   LL-Null:                       -464.41\n",
      "Covariance Type:            nonrobust   LLR p-value:                 9.676e-24\n",
      "===============================================================================\n",
      "                  coef    std err          z      P>|z|      [0.025      0.975]\n",
      "-------------------------------------------------------------------------------\n",
      "const          -1.5508      0.311     -4.991      0.000      -2.160      -0.942\n",
      "Que1            0.1441      0.262      0.549      0.583      -0.370       0.658\n",
      "Que2           -0.1831      0.194     -0.944      0.345      -0.563       0.197\n",
      "Que3            0.2481      0.204      1.217      0.224      -0.152       0.648\n",
      "Que4           -0.1580      0.225     -0.703      0.482      -0.599       0.283\n",
      "Que5           -0.2987      0.534     -0.560      0.576      -1.345       0.747\n",
      "Que6            0.4489      0.188      2.385      0.017       0.080       0.818\n",
      "Que10_a        -0.2193      0.201     -1.091      0.275      -0.613       0.175\n",
      "Que10_b         0.3259      0.349      0.934      0.350      -0.358       1.010\n",
      "Que10_c         0.1637      0.205      0.798      0.425      -0.239       0.566\n",
      "Que10_d         0.2454      0.192      1.279      0.201      -0.131       0.621\n",
      "Que10_e        -1.8335      0.830     -2.208      0.027      -3.461      -0.206\n",
      "Que10_f         0.2147      0.188      1.144      0.253      -0.153       0.583\n",
      "Que14          -0.6431      0.255     -2.525      0.012      -1.142      -0.144\n",
      "Que15           1.4949      0.200      7.475      0.000       1.103       1.887\n",
      "Que17           1.7994      0.786      2.290      0.022       0.259       3.340\n",
      "Que18_age       0.1309      0.246      0.532      0.594      -0.351       0.613\n",
      "Que19           1.0200      0.383      2.666      0.008       0.270       1.770\n",
      "Que20           0.6708      0.619      1.084      0.278      -0.542       1.884\n",
      "Que21           0.0721      0.200      0.360      0.719      -0.321       0.465\n",
      "Que22           0.5322      0.190      2.796      0.005       0.159       0.905\n",
      "Que_smoking     0.0948      0.205      0.463      0.643      -0.306       0.496\n",
      "===============================================================================\n",
      "(array([0., 1.]), array([138, 262]))\n",
      "Test recall:\t 0.6374\n",
      "Test accuracy:\t 0.66\n",
      "Test precision:\t 0.8029\n",
      "Test ROC AUC:\t 0.6702\n",
      "Test F1 score:\t 0.7106\n",
      "Test confusion matrix:\t\n",
      "[[ 97  41]\n",
      " [ 95 167]]\n"
     ]
    }
   ],
   "source": [
    "perform_logit(X_train_ros, y_train_ros, X_test, y_test, X_cols, y_col)"
   ]
  },
  {
   "cell_type": "markdown",
   "id": "064e793f-c7ad-46d7-997e-3358b75955d0",
   "metadata": {},
   "source": [
    "### SMOTEENN"
   ]
  },
  {
   "cell_type": "code",
   "execution_count": 16,
   "id": "aa4cd6b3-319b-417e-aa99-f72173c41594",
   "metadata": {},
   "outputs": [
    {
     "name": "stdout",
     "output_type": "stream",
     "text": [
      "Mean cross-validation score: \n",
      "nan\n",
      "Warning: Maximum number of iterations has been exceeded.\n",
      "         Current function value: 0.274152\n",
      "         Iterations: 35\n"
     ]
    },
    {
     "name": "stderr",
     "output_type": "stream",
     "text": [
      "/home/miroslav/anaconda3/envs/master-env/lib/python3.7/site-packages/ipykernel_launcher.py:7: RuntimeWarning: Mean of empty slice\n",
      "  import sys\n"
     ]
    },
    {
     "ename": "LinAlgError",
     "evalue": "Singular matrix",
     "output_type": "error",
     "traceback": [
      "\u001b[0;31m---------------------------------------------------------------------------\u001b[0m",
      "\u001b[0;31mLinAlgError\u001b[0m                               Traceback (most recent call last)",
      "\u001b[0;32m<ipython-input-16-338ab953be62>\u001b[0m in \u001b[0;36m<module>\u001b[0;34m\u001b[0m\n\u001b[0;32m----> 1\u001b[0;31m \u001b[0mperform_logit\u001b[0m\u001b[0;34m(\u001b[0m\u001b[0mX_train_smote_enn\u001b[0m\u001b[0;34m,\u001b[0m \u001b[0my_train_smote_enn\u001b[0m\u001b[0;34m,\u001b[0m \u001b[0mX_test\u001b[0m\u001b[0;34m,\u001b[0m \u001b[0my_test\u001b[0m\u001b[0;34m,\u001b[0m \u001b[0mX_cols\u001b[0m\u001b[0;34m,\u001b[0m \u001b[0my_col\u001b[0m\u001b[0;34m)\u001b[0m\u001b[0;34m\u001b[0m\u001b[0;34m\u001b[0m\u001b[0m\n\u001b[0m",
      "\u001b[0;32m<ipython-input-7-ad760a03e6b4>\u001b[0m in \u001b[0;36mperform_logit\u001b[0;34m(X_train, y_train, X_test, y_test, X_cols, y_col)\u001b[0m\n\u001b[1;32m      8\u001b[0m     \u001b[0mX_train_df\u001b[0m \u001b[0;34m=\u001b[0m \u001b[0msm\u001b[0m\u001b[0;34m.\u001b[0m\u001b[0madd_constant\u001b[0m\u001b[0;34m(\u001b[0m\u001b[0mX_train_df\u001b[0m\u001b[0;34m)\u001b[0m\u001b[0;34m\u001b[0m\u001b[0;34m\u001b[0m\u001b[0m\n\u001b[1;32m      9\u001b[0m     \u001b[0mlogit\u001b[0m \u001b[0;34m=\u001b[0m \u001b[0mLogit\u001b[0m\u001b[0;34m(\u001b[0m\u001b[0my_train_df\u001b[0m\u001b[0;34m,\u001b[0m \u001b[0mX_train_df\u001b[0m\u001b[0;34m)\u001b[0m\u001b[0;34m\u001b[0m\u001b[0;34m\u001b[0m\u001b[0m\n\u001b[0;32m---> 10\u001b[0;31m     \u001b[0mlg\u001b[0m \u001b[0;34m=\u001b[0m \u001b[0mlogit\u001b[0m\u001b[0;34m.\u001b[0m\u001b[0mfit\u001b[0m\u001b[0;34m(\u001b[0m\u001b[0;34m)\u001b[0m\u001b[0;34m\u001b[0m\u001b[0;34m\u001b[0m\u001b[0m\n\u001b[0m\u001b[1;32m     11\u001b[0m     \u001b[0mprint\u001b[0m\u001b[0;34m(\u001b[0m\u001b[0mlg\u001b[0m\u001b[0;34m.\u001b[0m\u001b[0msummary\u001b[0m\u001b[0;34m(\u001b[0m\u001b[0;34m)\u001b[0m\u001b[0;34m)\u001b[0m\u001b[0;34m\u001b[0m\u001b[0;34m\u001b[0m\u001b[0m\n\u001b[1;32m     12\u001b[0m     \u001b[0mX_test\u001b[0m \u001b[0;34m=\u001b[0m \u001b[0msm\u001b[0m\u001b[0;34m.\u001b[0m\u001b[0madd_constant\u001b[0m\u001b[0;34m(\u001b[0m\u001b[0mX_test\u001b[0m\u001b[0;34m)\u001b[0m\u001b[0;34m\u001b[0m\u001b[0;34m\u001b[0m\u001b[0m\n",
      "\u001b[0;32m~/anaconda3/envs/master-env/lib/python3.7/site-packages/statsmodels/discrete/discrete_model.py\u001b[0m in \u001b[0;36mfit\u001b[0;34m(self, start_params, method, maxiter, full_output, disp, callback, **kwargs)\u001b[0m\n\u001b[1;32m   1978\u001b[0m                               \u001b[0mdisp\u001b[0m\u001b[0;34m=\u001b[0m\u001b[0mdisp\u001b[0m\u001b[0;34m,\u001b[0m\u001b[0;34m\u001b[0m\u001b[0;34m\u001b[0m\u001b[0m\n\u001b[1;32m   1979\u001b[0m                               \u001b[0mcallback\u001b[0m\u001b[0;34m=\u001b[0m\u001b[0mcallback\u001b[0m\u001b[0;34m,\u001b[0m\u001b[0;34m\u001b[0m\u001b[0;34m\u001b[0m\u001b[0m\n\u001b[0;32m-> 1980\u001b[0;31m                               **kwargs)\n\u001b[0m\u001b[1;32m   1981\u001b[0m \u001b[0;34m\u001b[0m\u001b[0m\n\u001b[1;32m   1982\u001b[0m         \u001b[0mdiscretefit\u001b[0m \u001b[0;34m=\u001b[0m \u001b[0mLogitResults\u001b[0m\u001b[0;34m(\u001b[0m\u001b[0mself\u001b[0m\u001b[0;34m,\u001b[0m \u001b[0mbnryfit\u001b[0m\u001b[0;34m)\u001b[0m\u001b[0;34m\u001b[0m\u001b[0;34m\u001b[0m\u001b[0m\n",
      "\u001b[0;32m~/anaconda3/envs/master-env/lib/python3.7/site-packages/statsmodels/discrete/discrete_model.py\u001b[0m in \u001b[0;36mfit\u001b[0;34m(self, start_params, method, maxiter, full_output, disp, callback, **kwargs)\u001b[0m\n\u001b[1;32m    231\u001b[0m                              \u001b[0mdisp\u001b[0m\u001b[0;34m=\u001b[0m\u001b[0mdisp\u001b[0m\u001b[0;34m,\u001b[0m\u001b[0;34m\u001b[0m\u001b[0;34m\u001b[0m\u001b[0m\n\u001b[1;32m    232\u001b[0m                              \u001b[0mcallback\u001b[0m\u001b[0;34m=\u001b[0m\u001b[0mcallback\u001b[0m\u001b[0;34m,\u001b[0m\u001b[0;34m\u001b[0m\u001b[0;34m\u001b[0m\u001b[0m\n\u001b[0;32m--> 233\u001b[0;31m                              **kwargs)\n\u001b[0m\u001b[1;32m    234\u001b[0m \u001b[0;34m\u001b[0m\u001b[0m\n\u001b[1;32m    235\u001b[0m         \u001b[0;32mreturn\u001b[0m \u001b[0mmlefit\u001b[0m  \u001b[0;31m# It is up to subclasses to wrap results\u001b[0m\u001b[0;34m\u001b[0m\u001b[0;34m\u001b[0m\u001b[0m\n",
      "\u001b[0;32m~/anaconda3/envs/master-env/lib/python3.7/site-packages/statsmodels/base/model.py\u001b[0m in \u001b[0;36mfit\u001b[0;34m(self, start_params, method, maxiter, full_output, disp, fargs, callback, retall, skip_hessian, **kwargs)\u001b[0m\n\u001b[1;32m    532\u001b[0m             \u001b[0mHinv\u001b[0m \u001b[0;34m=\u001b[0m \u001b[0mcov_params_func\u001b[0m\u001b[0;34m(\u001b[0m\u001b[0mself\u001b[0m\u001b[0;34m,\u001b[0m \u001b[0mxopt\u001b[0m\u001b[0;34m,\u001b[0m \u001b[0mretvals\u001b[0m\u001b[0;34m)\u001b[0m\u001b[0;34m\u001b[0m\u001b[0;34m\u001b[0m\u001b[0m\n\u001b[1;32m    533\u001b[0m         \u001b[0;32melif\u001b[0m \u001b[0mmethod\u001b[0m \u001b[0;34m==\u001b[0m \u001b[0;34m'newton'\u001b[0m \u001b[0;32mand\u001b[0m \u001b[0mfull_output\u001b[0m\u001b[0;34m:\u001b[0m\u001b[0;34m\u001b[0m\u001b[0;34m\u001b[0m\u001b[0m\n\u001b[0;32m--> 534\u001b[0;31m             \u001b[0mHinv\u001b[0m \u001b[0;34m=\u001b[0m \u001b[0mnp\u001b[0m\u001b[0;34m.\u001b[0m\u001b[0mlinalg\u001b[0m\u001b[0;34m.\u001b[0m\u001b[0minv\u001b[0m\u001b[0;34m(\u001b[0m\u001b[0;34m-\u001b[0m\u001b[0mretvals\u001b[0m\u001b[0;34m[\u001b[0m\u001b[0;34m'Hessian'\u001b[0m\u001b[0;34m]\u001b[0m\u001b[0;34m)\u001b[0m \u001b[0;34m/\u001b[0m \u001b[0mnobs\u001b[0m\u001b[0;34m\u001b[0m\u001b[0;34m\u001b[0m\u001b[0m\n\u001b[0m\u001b[1;32m    535\u001b[0m         \u001b[0;32melif\u001b[0m \u001b[0;32mnot\u001b[0m \u001b[0mskip_hessian\u001b[0m\u001b[0;34m:\u001b[0m\u001b[0;34m\u001b[0m\u001b[0;34m\u001b[0m\u001b[0m\n\u001b[1;32m    536\u001b[0m             \u001b[0mH\u001b[0m \u001b[0;34m=\u001b[0m \u001b[0;34m-\u001b[0m\u001b[0;36m1\u001b[0m \u001b[0;34m*\u001b[0m \u001b[0mself\u001b[0m\u001b[0;34m.\u001b[0m\u001b[0mhessian\u001b[0m\u001b[0;34m(\u001b[0m\u001b[0mxopt\u001b[0m\u001b[0;34m)\u001b[0m\u001b[0;34m\u001b[0m\u001b[0;34m\u001b[0m\u001b[0m\n",
      "\u001b[0;32m<__array_function__ internals>\u001b[0m in \u001b[0;36minv\u001b[0;34m(*args, **kwargs)\u001b[0m\n",
      "\u001b[0;32m~/anaconda3/envs/master-env/lib/python3.7/site-packages/numpy/linalg/linalg.py\u001b[0m in \u001b[0;36minv\u001b[0;34m(a)\u001b[0m\n\u001b[1;32m    544\u001b[0m     \u001b[0msignature\u001b[0m \u001b[0;34m=\u001b[0m \u001b[0;34m'D->D'\u001b[0m \u001b[0;32mif\u001b[0m \u001b[0misComplexType\u001b[0m\u001b[0;34m(\u001b[0m\u001b[0mt\u001b[0m\u001b[0;34m)\u001b[0m \u001b[0;32melse\u001b[0m \u001b[0;34m'd->d'\u001b[0m\u001b[0;34m\u001b[0m\u001b[0;34m\u001b[0m\u001b[0m\n\u001b[1;32m    545\u001b[0m     \u001b[0mextobj\u001b[0m \u001b[0;34m=\u001b[0m \u001b[0mget_linalg_error_extobj\u001b[0m\u001b[0;34m(\u001b[0m\u001b[0m_raise_linalgerror_singular\u001b[0m\u001b[0;34m)\u001b[0m\u001b[0;34m\u001b[0m\u001b[0;34m\u001b[0m\u001b[0m\n\u001b[0;32m--> 546\u001b[0;31m     \u001b[0mainv\u001b[0m \u001b[0;34m=\u001b[0m \u001b[0m_umath_linalg\u001b[0m\u001b[0;34m.\u001b[0m\u001b[0minv\u001b[0m\u001b[0;34m(\u001b[0m\u001b[0ma\u001b[0m\u001b[0;34m,\u001b[0m \u001b[0msignature\u001b[0m\u001b[0;34m=\u001b[0m\u001b[0msignature\u001b[0m\u001b[0;34m,\u001b[0m \u001b[0mextobj\u001b[0m\u001b[0;34m=\u001b[0m\u001b[0mextobj\u001b[0m\u001b[0;34m)\u001b[0m\u001b[0;34m\u001b[0m\u001b[0;34m\u001b[0m\u001b[0m\n\u001b[0m\u001b[1;32m    547\u001b[0m     \u001b[0;32mreturn\u001b[0m \u001b[0mwrap\u001b[0m\u001b[0;34m(\u001b[0m\u001b[0mainv\u001b[0m\u001b[0;34m.\u001b[0m\u001b[0mastype\u001b[0m\u001b[0;34m(\u001b[0m\u001b[0mresult_t\u001b[0m\u001b[0;34m,\u001b[0m \u001b[0mcopy\u001b[0m\u001b[0;34m=\u001b[0m\u001b[0;32mFalse\u001b[0m\u001b[0;34m)\u001b[0m\u001b[0;34m)\u001b[0m\u001b[0;34m\u001b[0m\u001b[0;34m\u001b[0m\u001b[0m\n\u001b[1;32m    548\u001b[0m \u001b[0;34m\u001b[0m\u001b[0m\n",
      "\u001b[0;32m~/anaconda3/envs/master-env/lib/python3.7/site-packages/numpy/linalg/linalg.py\u001b[0m in \u001b[0;36m_raise_linalgerror_singular\u001b[0;34m(err, flag)\u001b[0m\n\u001b[1;32m     86\u001b[0m \u001b[0;34m\u001b[0m\u001b[0m\n\u001b[1;32m     87\u001b[0m \u001b[0;32mdef\u001b[0m \u001b[0m_raise_linalgerror_singular\u001b[0m\u001b[0;34m(\u001b[0m\u001b[0merr\u001b[0m\u001b[0;34m,\u001b[0m \u001b[0mflag\u001b[0m\u001b[0;34m)\u001b[0m\u001b[0;34m:\u001b[0m\u001b[0;34m\u001b[0m\u001b[0;34m\u001b[0m\u001b[0m\n\u001b[0;32m---> 88\u001b[0;31m     \u001b[0;32mraise\u001b[0m \u001b[0mLinAlgError\u001b[0m\u001b[0;34m(\u001b[0m\u001b[0;34m\"Singular matrix\"\u001b[0m\u001b[0;34m)\u001b[0m\u001b[0;34m\u001b[0m\u001b[0;34m\u001b[0m\u001b[0m\n\u001b[0m\u001b[1;32m     89\u001b[0m \u001b[0;34m\u001b[0m\u001b[0m\n\u001b[1;32m     90\u001b[0m \u001b[0;32mdef\u001b[0m \u001b[0m_raise_linalgerror_nonposdef\u001b[0m\u001b[0;34m(\u001b[0m\u001b[0merr\u001b[0m\u001b[0;34m,\u001b[0m \u001b[0mflag\u001b[0m\u001b[0;34m)\u001b[0m\u001b[0;34m:\u001b[0m\u001b[0;34m\u001b[0m\u001b[0;34m\u001b[0m\u001b[0m\n",
      "\u001b[0;31mLinAlgError\u001b[0m: Singular matrix"
     ]
    }
   ],
   "source": [
    "perform_logit(X_train_smote_enn, y_train_smote_enn, X_test, y_test, X_cols, y_col)"
   ]
  },
  {
   "cell_type": "markdown",
   "id": "dd430544-89fe-40ca-806c-19eba28a4eff",
   "metadata": {},
   "source": [
    "## Random Forest"
   ]
  },
  {
   "cell_type": "markdown",
   "id": "34fa51a3-bf8f-40ba-8ea0-bb6da1ccca7e",
   "metadata": {},
   "source": [
    "### No balance"
   ]
  },
  {
   "cell_type": "code",
   "execution_count": 18,
   "id": "a669c507-1808-4abb-9cae-4f13dbbdf7d7",
   "metadata": {},
   "outputs": [
    {
     "name": "stdout",
     "output_type": "stream",
     "text": [
      "Fitting 5 folds for each of 2970 candidates, totalling 14850 fits\n",
      "Grid search time: 0:15:35.578428\n",
      "Mean cross-validation score of best model: \n",
      "0.8523\n",
      "Best parameters:\n",
      "{'bootstrap': True,\n",
      " 'criterion': 'entropy',\n",
      " 'max_depth': 21,\n",
      " 'max_features': 'sqrt',\n",
      " 'min_samples_leaf': 4,\n",
      " 'min_samples_split': 2,\n",
      " 'n_estimators': 25}\n",
      "{'bootstrap': True,\n",
      " 'ccp_alpha': 0.0,\n",
      " 'class_weight': None,\n",
      " 'criterion': 'entropy',\n",
      " 'max_depth': 21,\n",
      " 'max_features': 'sqrt',\n",
      " 'max_leaf_nodes': None,\n",
      " 'max_samples': None,\n",
      " 'min_impurity_decrease': 0.0,\n",
      " 'min_impurity_split': None,\n",
      " 'min_samples_leaf': 4,\n",
      " 'min_samples_split': 2,\n",
      " 'min_weight_fraction_leaf': 0.0,\n",
      " 'n_estimators': 25,\n",
      " 'n_jobs': None,\n",
      " 'oob_score': False,\n",
      " 'random_state': None,\n",
      " 'verbose': 0,\n",
      " 'warm_start': False}\n",
      "(array([0., 1.]), array([138, 262]))\n",
      "Test recall:\t 0.8015\n",
      "Test accuracy:\t 0.6575\n",
      "Test precision:\t 0.7119\n",
      "Test ROC AUC:\t 0.5928\n",
      "Test F1 score:\t 0.754\n",
      "Test confusion matrix:\t\n",
      "[[ 53  85]\n",
      " [ 52 210]]\n",
      "Elapsed time to compute the importances: 0.052 seconds\n"
     ]
    },
    {
     "data": {
      "image/png": "[encoded data removed]",
      "text/plain": [
       "<Figure size 432x288 with 1 Axes>"
      ]
     },
     "metadata": {
      "needs_background": "light"
     },
     "output_type": "display_data"
    }
   ],
   "source": [
    "perform_random_forest(X_train, y_train, X_test, y_test)"
   ]
  },
  {
   "cell_type": "markdown",
   "id": "fcf8a7f1-d667-4b31-b11b-9921b775bd5d",
   "metadata": {},
   "source": [
    "### Undersampling"
   ]
  },
  {
   "cell_type": "code",
   "execution_count": 19,
   "id": "f4831808-d502-4979-a2eb-5f709dca9778",
   "metadata": {},
   "outputs": [
    {
     "name": "stdout",
     "output_type": "stream",
     "text": [
      "Fitting 5 folds for each of 2970 candidates, totalling 14850 fits\n",
      "Grid search time: 0:12:43.801169\n",
      "Mean cross-validation score of best model: \n",
      "0.7062\n",
      "Best parameters:\n",
      "{'bootstrap': True,\n",
      " 'criterion': 'entropy',\n",
      " 'max_depth': 65,\n",
      " 'max_features': 'sqrt',\n",
      " 'min_samples_leaf': 1,\n",
      " 'min_samples_split': 5,\n",
      " 'n_estimators': 77}\n",
      "{'bootstrap': True,\n",
      " 'ccp_alpha': 0.0,\n",
      " 'class_weight': None,\n",
      " 'criterion': 'entropy',\n",
      " 'max_depth': 65,\n",
      " 'max_features': 'sqrt',\n",
      " 'max_leaf_nodes': None,\n",
      " 'max_samples': None,\n",
      " 'min_impurity_decrease': 0.0,\n",
      " 'min_impurity_split': None,\n",
      " 'min_samples_leaf': 1,\n",
      " 'min_samples_split': 5,\n",
      " 'min_weight_fraction_leaf': 0.0,\n",
      " 'n_estimators': 77,\n",
      " 'n_jobs': None,\n",
      " 'oob_score': False,\n",
      " 'random_state': None,\n",
      " 'verbose': 0,\n",
      " 'warm_start': False}\n",
      "(array([0., 1.]), array([138, 262]))\n",
      "Test recall:\t 0.6069\n",
      "Test accuracy:\t 0.65\n",
      "Test precision:\t 0.8112\n",
      "Test ROC AUC:\t 0.6694\n",
      "Test F1 score:\t 0.6943\n",
      "Test confusion matrix:\t\n",
      "[[101  37]\n",
      " [103 159]]\n",
      "Elapsed time to compute the importances: 0.517 seconds\n"
     ]
    },
    {
     "data": {
      "image/png": "[encoded data removed]",
      "text/plain": [
       "<Figure size 432x288 with 1 Axes>"
      ]
     },
     "metadata": {
      "needs_background": "light"
     },
     "output_type": "display_data"
    }
   ],
   "source": [
    "perform_random_forest(X_train_rus, y_train_rus, X_test, y_test)"
   ]
  },
  {
   "cell_type": "markdown",
   "id": "434be831-c603-4610-9390-b36122112709",
   "metadata": {},
   "source": [
    "### Oversampling"
   ]
  },
  {
   "cell_type": "code",
   "execution_count": 20,
   "id": "eff111a1-f16d-43f9-b8fc-67af75510881",
   "metadata": {},
   "outputs": [
    {
     "name": "stdout",
     "output_type": "stream",
     "text": [
      "Fitting 5 folds for each of 2970 candidates, totalling 14850 fits\n",
      "Grid search time: 0:18:35.771527\n",
      "Mean cross-validation score of best model: \n",
      "0.6211\n",
      "Best parameters:\n",
      "{'bootstrap': True,\n",
      " 'criterion': 'gini',\n",
      " 'max_depth': 21,\n",
      " 'max_features': 'sqrt',\n",
      " 'min_samples_leaf': 1,\n",
      " 'min_samples_split': 5,\n",
      " 'n_estimators': 77}\n",
      "{'bootstrap': True,\n",
      " 'ccp_alpha': 0.0,\n",
      " 'class_weight': None,\n",
      " 'criterion': 'gini',\n",
      " 'max_depth': 21,\n",
      " 'max_features': 'sqrt',\n",
      " 'max_leaf_nodes': None,\n",
      " 'max_samples': None,\n",
      " 'min_impurity_decrease': 0.0,\n",
      " 'min_impurity_split': None,\n",
      " 'min_samples_leaf': 1,\n",
      " 'min_samples_split': 5,\n",
      " 'min_weight_fraction_leaf': 0.0,\n",
      " 'n_estimators': 77,\n",
      " 'n_jobs': None,\n",
      " 'oob_score': False,\n",
      " 'random_state': None,\n",
      " 'verbose': 0,\n",
      " 'warm_start': False}\n",
      "(array([0., 1.]), array([138, 262]))\n",
      "Test recall:\t 0.7099\n",
      "Test accuracy:\t 0.6475\n",
      "Test precision:\t 0.741\n",
      "Test ROC AUC:\t 0.6195\n",
      "Test F1 score:\t 0.7251\n",
      "Test confusion matrix:\t\n",
      "[[ 73  65]\n",
      " [ 76 186]]\n",
      "Elapsed time to compute the importances: 0.648 seconds\n"
     ]
    },
    {
     "data": {
      "image/png": "[encoded data removed]",
      "text/plain": [
       "<Figure size 432x288 with 1 Axes>"
      ]
     },
     "metadata": {
      "needs_background": "light"
     },
     "output_type": "display_data"
    }
   ],
   "source": [
    "perform_random_forest(X_train_ros, y_train_ros, X_test, y_test)"
   ]
  },
  {
   "cell_type": "markdown",
   "id": "39d275a1-63bc-43e1-9142-bca65f5257bb",
   "metadata": {},
   "source": [
    "### SMOTEENN"
   ]
  },
  {
   "cell_type": "code",
   "execution_count": 21,
   "id": "d8f9e2a6-7823-4001-a0f5-38101dcb6a0d",
   "metadata": {},
   "outputs": [
    {
     "name": "stdout",
     "output_type": "stream",
     "text": [
      "Fitting 5 folds for each of 2970 candidates, totalling 14850 fits\n",
      "Grid search time: 0:12:39.591316\n",
      "Mean cross-validation score of best model: \n",
      "0.8475\n",
      "Best parameters:\n",
      "{'bootstrap': True,\n",
      " 'criterion': 'gini',\n",
      " 'max_depth': 43,\n",
      " 'max_features': 'sqrt',\n",
      " 'min_samples_leaf': 1,\n",
      " 'min_samples_split': 2,\n",
      " 'n_estimators': 5}\n",
      "{'bootstrap': True,\n",
      " 'ccp_alpha': 0.0,\n",
      " 'class_weight': None,\n",
      " 'criterion': 'gini',\n",
      " 'max_depth': 43,\n",
      " 'max_features': 'sqrt',\n",
      " 'max_leaf_nodes': None,\n",
      " 'max_samples': None,\n",
      " 'min_impurity_decrease': 0.0,\n",
      " 'min_impurity_split': None,\n",
      " 'min_samples_leaf': 1,\n",
      " 'min_samples_split': 2,\n",
      " 'min_weight_fraction_leaf': 0.0,\n",
      " 'n_estimators': 5,\n",
      " 'n_jobs': None,\n",
      " 'oob_score': False,\n",
      " 'random_state': None,\n",
      " 'verbose': 0,\n",
      " 'warm_start': False}\n",
      "(array([0., 1.]), array([138, 262]))\n",
      "Test recall:\t 0.5229\n",
      "Test accuracy:\t 0.61\n",
      "Test precision:\t 0.8155\n",
      "Test ROC AUC:\t 0.6491\n",
      "Test F1 score:\t 0.6372\n",
      "Test confusion matrix:\t\n",
      "[[107  31]\n",
      " [125 137]]\n",
      "Elapsed time to compute the importances: 0.004 seconds\n"
     ]
    },
    {
     "data": {
      "image/png": "[encoded data removed]",
      "text/plain": [
       "<Figure size 432x288 with 1 Axes>"
      ]
     },
     "metadata": {
      "needs_background": "light"
     },
     "output_type": "display_data"
    }
   ],
   "source": [
    "perform_random_forest(X_train_smote_enn, y_train_smote_enn, X_test, y_test)"
   ]
  },
  {
   "cell_type": "markdown",
   "id": "968c8b98-3bf9-457b-b4e2-02c9c63a4160",
   "metadata": {},
   "source": [
    "## Decision Tree"
   ]
  },
  {
   "cell_type": "markdown",
   "id": "7c3db033-ac79-4307-bcab-84b3dfdcef79",
   "metadata": {},
   "source": [
    "### No balance"
   ]
  },
  {
   "cell_type": "code",
   "execution_count": 22,
   "id": "c46a02eb-47e2-456c-ad6c-d11820393d0f",
   "metadata": {},
   "outputs": [
    {
     "name": "stdout",
     "output_type": "stream",
     "text": [
      "Fitting 5 folds for each of 252 candidates, totalling 1260 fits\n",
      "Grid search time: 0:00:02.452231\n",
      "Mean cross-validation score of best model: \n",
      "0.7883\n",
      "Best parameters:\n",
      "{'criterion': 'entropy',\n",
      " 'max_depth': 26,\n",
      " 'max_features': 'sqrt',\n",
      " 'min_samples_leaf': 4,\n",
      " 'min_samples_split': 10,\n",
      " 'splitter': 'random'}\n",
      "{'ccp_alpha': 0.0,\n",
      " 'class_weight': None,\n",
      " 'criterion': 'entropy',\n",
      " 'max_depth': 26,\n",
      " 'max_features': 'sqrt',\n",
      " 'max_leaf_nodes': None,\n",
      " 'min_impurity_decrease': 0.0,\n",
      " 'min_impurity_split': None,\n",
      " 'min_samples_leaf': 4,\n",
      " 'min_samples_split': 10,\n",
      " 'min_weight_fraction_leaf': 0.0,\n",
      " 'random_state': None,\n",
      " 'splitter': 'random'}\n",
      "(array([0., 1.]), array([138, 262]))\n",
      "Test recall:\t 0.7366\n",
      "Test accuracy:\t 0.635\n",
      "Test precision:\t 0.7148\n",
      "Test ROC AUC:\t 0.5893\n",
      "Test F1 score:\t 0.7256\n",
      "Test confusion matrix:\t\n",
      "[[ 61  77]\n",
      " [ 69 193]]\n"
     ]
    }
   ],
   "source": [
    "perform_decision_tree(X_train, y_train, X_test, y_test)"
   ]
  },
  {
   "cell_type": "markdown",
   "id": "6c19520c-3f63-45e1-a7f1-8acec823e985",
   "metadata": {},
   "source": [
    "### Undersampling"
   ]
  },
  {
   "cell_type": "code",
   "execution_count": 23,
   "id": "9ee807de-330f-463f-80cf-8ca97c5fa4fd",
   "metadata": {},
   "outputs": [
    {
     "name": "stdout",
     "output_type": "stream",
     "text": [
      "Fitting 5 folds for each of 252 candidates, totalling 1260 fits\n",
      "Grid search time: 0:00:01.844531\n",
      "Mean cross-validation score of best model: \n",
      "0.6571\n",
      "Best parameters:\n",
      "{'criterion': 'entropy',\n",
      " 'max_depth': 34,\n",
      " 'max_features': 'sqrt',\n",
      " 'min_samples_leaf': 1,\n",
      " 'min_samples_split': 2,\n",
      " 'splitter': 'best'}\n",
      "{'ccp_alpha': 0.0,\n",
      " 'class_weight': None,\n",
      " 'criterion': 'entropy',\n",
      " 'max_depth': 34,\n",
      " 'max_features': 'sqrt',\n",
      " 'max_leaf_nodes': None,\n",
      " 'min_impurity_decrease': 0.0,\n",
      " 'min_impurity_split': None,\n",
      " 'min_samples_leaf': 1,\n",
      " 'min_samples_split': 2,\n",
      " 'min_weight_fraction_leaf': 0.0,\n",
      " 'random_state': None,\n",
      " 'splitter': 'best'}\n",
      "(array([0., 1.]), array([138, 262]))\n",
      "Test recall:\t 0.5115\n",
      "Test accuracy:\t 0.57\n",
      "Test precision:\t 0.7528\n",
      "Test ROC AUC:\t 0.5963\n",
      "Test F1 score:\t 0.6091\n",
      "Test confusion matrix:\t\n",
      "[[ 94  44]\n",
      " [128 134]]\n"
     ]
    }
   ],
   "source": [
    "perform_decision_tree(X_train_rus, y_train_rus, X_test, y_test)"
   ]
  },
  {
   "cell_type": "markdown",
   "id": "6537df7a-7004-4063-a5f2-74bde5bb1682",
   "metadata": {},
   "source": [
    "### Oversampling"
   ]
  },
  {
   "cell_type": "code",
   "execution_count": 24,
   "id": "4ec261db-103f-47c5-a553-5a32d94d4f82",
   "metadata": {},
   "outputs": [
    {
     "name": "stdout",
     "output_type": "stream",
     "text": [
      "Fitting 5 folds for each of 252 candidates, totalling 1260 fits\n",
      "Grid search time: 0:00:02.808934\n",
      "Mean cross-validation score of best model: \n",
      "0.6153\n",
      "Best parameters:\n",
      "{'criterion': 'entropy',\n",
      " 'max_depth': 34,\n",
      " 'max_features': 'sqrt',\n",
      " 'min_samples_leaf': 1,\n",
      " 'min_samples_split': 2,\n",
      " 'splitter': 'random'}\n",
      "{'ccp_alpha': 0.0,\n",
      " 'class_weight': None,\n",
      " 'criterion': 'entropy',\n",
      " 'max_depth': 34,\n",
      " 'max_features': 'sqrt',\n",
      " 'max_leaf_nodes': None,\n",
      " 'min_impurity_decrease': 0.0,\n",
      " 'min_impurity_split': None,\n",
      " 'min_samples_leaf': 1,\n",
      " 'min_samples_split': 2,\n",
      " 'min_weight_fraction_leaf': 0.0,\n",
      " 'random_state': None,\n",
      " 'splitter': 'random'}\n",
      "(array([0., 1.]), array([138, 262]))\n",
      "Test recall:\t 0.6374\n",
      "Test accuracy:\t 0.615\n",
      "Test precision:\t 0.7389\n",
      "Test ROC AUC:\t 0.6049\n",
      "Test F1 score:\t 0.6844\n",
      "Test confusion matrix:\t\n",
      "[[ 79  59]\n",
      " [ 95 167]]\n"
     ]
    }
   ],
   "source": [
    "perform_decision_tree(X_train_ros, y_train_ros, X_test, y_test)"
   ]
  },
  {
   "cell_type": "markdown",
   "id": "2b0ed88b-5eb8-48fb-b286-96cc466a28a2",
   "metadata": {},
   "source": [
    "### SMOTEENN"
   ]
  },
  {
   "cell_type": "code",
   "execution_count": 25,
   "id": "22edb14a-7573-4976-a1a9-4b8a384819cb",
   "metadata": {},
   "outputs": [
    {
     "name": "stdout",
     "output_type": "stream",
     "text": [
      "Fitting 5 folds for each of 252 candidates, totalling 1260 fits\n",
      "Grid search time: 0:00:02.041513\n",
      "Mean cross-validation score of best model: \n",
      "0.8056\n",
      "Best parameters:\n",
      "{'criterion': 'entropy',\n",
      " 'max_depth': 42,\n",
      " 'max_features': 'sqrt',\n",
      " 'min_samples_leaf': 1,\n",
      " 'min_samples_split': 2,\n",
      " 'splitter': 'best'}\n",
      "{'ccp_alpha': 0.0,\n",
      " 'class_weight': None,\n",
      " 'criterion': 'entropy',\n",
      " 'max_depth': 42,\n",
      " 'max_features': 'sqrt',\n",
      " 'max_leaf_nodes': None,\n",
      " 'min_impurity_decrease': 0.0,\n",
      " 'min_impurity_split': None,\n",
      " 'min_samples_leaf': 1,\n",
      " 'min_samples_split': 2,\n",
      " 'min_weight_fraction_leaf': 0.0,\n",
      " 'random_state': None,\n",
      " 'splitter': 'best'}\n",
      "(array([0., 1.]), array([138, 262]))\n",
      "Test recall:\t 0.5534\n",
      "Test accuracy:\t 0.6\n",
      "Test precision:\t 0.7713\n",
      "Test ROC AUC:\t 0.6209\n",
      "Test F1 score:\t 0.6444\n",
      "Test confusion matrix:\t\n",
      "[[ 95  43]\n",
      " [117 145]]\n"
     ]
    }
   ],
   "source": [
    "perform_decision_tree(X_train_smote_enn, y_train_smote_enn, X_test, y_test)"
   ]
  },
  {
   "cell_type": "markdown",
   "id": "4f46e186-988a-4f2c-b8e1-0583e320ebaf",
   "metadata": {},
   "source": [
    "# Strategy 2 - median"
   ]
  },
  {
   "cell_type": "code",
   "execution_count": 26,
   "id": "b7efa626-7516-4558-8a43-34642249fc37",
   "metadata": {},
   "outputs": [],
   "source": [
    "X_train = data_median.drop(columns=['Que16']).to_numpy()\n",
    "y_train = data_median['Que16'].to_numpy()\n",
    "# balancing data\n",
    "rus = RandomUnderSampler(random_state=0)\n",
    "X_train_rus, y_train_rus = rus.fit_resample(X_train, y_train)\n",
    "ros = RandomOverSampler(random_state=0)\n",
    "X_train_ros, y_train_ros = ros.fit_resample(X_train, y_train)\n",
    "smote_enn = SMOTEENN(random_state=0)\n",
    "X_train_smote_enn, y_train_smote_enn = smote_enn.fit_resample(X_train, y_train)"
   ]
  },
  {
   "cell_type": "markdown",
   "id": "f3ca317f-96ec-488a-a65a-ab4b9768b013",
   "metadata": {},
   "source": [
    "## Logistic Regression"
   ]
  },
  {
   "cell_type": "markdown",
   "id": "b9e5fd7d-6997-46bf-80d9-ae5fd226d664",
   "metadata": {},
   "source": [
    "### No balance"
   ]
  },
  {
   "cell_type": "code",
   "execution_count": 27,
   "id": "68caf9de-6a45-4c53-8b87-b6dacbf5d4cc",
   "metadata": {},
   "outputs": [
    {
     "name": "stdout",
     "output_type": "stream",
     "text": [
      "Mean cross-validation score: \n",
      "0.8046\n",
      "Optimization terminated successfully.\n",
      "         Current function value: 0.548002\n",
      "         Iterations 6\n",
      "                           Logit Regression Results                           \n",
      "==============================================================================\n",
      "Dep. Variable:                  Que16   No. Observations:                 3910\n",
      "Model:                          Logit   Df Residuals:                     3888\n",
      "Method:                           MLE   Df Model:                           21\n",
      "Date:                Fri, 03 Sep 2021   Pseudo R-squ.:                  0.1177\n",
      "Time:                        00:49:03   Log-Likelihood:                -2142.7\n",
      "converged:                       True   LL-Null:                       -2428.5\n",
      "Covariance Type:            nonrobust   LLR p-value:                1.402e-107\n",
      "===============================================================================\n",
      "                  coef    std err          z      P>|z|      [0.025      0.975]\n",
      "-------------------------------------------------------------------------------\n",
      "const          -0.5347      0.128     -4.165      0.000      -0.786      -0.283\n",
      "Que1            0.0058      0.112      0.051      0.959      -0.215       0.226\n",
      "Que2            0.0421      0.082      0.516      0.606      -0.118       0.202\n",
      "Que3            0.2449      0.083      2.933      0.003       0.081       0.408\n",
      "Que4           -0.1211      0.109     -1.112      0.266      -0.335       0.092\n",
      "Que5           -0.0397      0.085     -0.465      0.642      -0.207       0.128\n",
      "Que6            0.1613      0.099      1.634      0.102      -0.032       0.355\n",
      "Que10_a        -0.0191      0.090     -0.213      0.831      -0.195       0.157\n",
      "Que10_b         0.1580      0.139      1.135      0.256      -0.115       0.431\n",
      "Que10_c         0.2724      0.087      3.114      0.002       0.101       0.444\n",
      "Que10_d         0.0529      0.082      0.647      0.518      -0.107       0.213\n",
      "Que10_e        -1.0382      0.326     -3.184      0.001      -1.677      -0.399\n",
      "Que10_f         0.1477      0.081      1.833      0.067      -0.010       0.306\n",
      "Que14          -0.3920      0.111     -3.528      0.000      -0.610      -0.174\n",
      "Que15           1.4500      0.080     18.059      0.000       1.293       1.607\n",
      "Que17           1.3901      0.284      4.887      0.000       0.833       1.948\n",
      "Que18_age       0.1600      0.105      1.526      0.127      -0.045       0.365\n",
      "Que19           0.4695      0.147      3.190      0.001       0.181       0.758\n",
      "Que20           0.1693      0.216      0.783      0.434      -0.255       0.593\n",
      "Que21          -0.1335      0.086     -1.550      0.121      -0.302       0.035\n",
      "Que22           0.1650      0.081      2.031      0.042       0.006       0.324\n",
      "Que_smoking     0.0894      0.088      1.017      0.309      -0.083       0.262\n",
      "===============================================================================\n",
      "(array([0., 1.]), array([138, 262]))\n",
      "Test recall:\t 0.855\n",
      "Test accuracy:\t 0.6725\n",
      "Test precision:\t 0.7066\n",
      "Test ROC AUC:\t 0.5905\n",
      "Test F1 score:\t 0.7737\n",
      "Test confusion matrix:\t\n",
      "[[ 45  93]\n",
      " [ 38 224]]\n"
     ]
    }
   ],
   "source": [
    "perform_logit(X_train, y_train, X_test, y_test, X_cols, y_col)"
   ]
  },
  {
   "cell_type": "markdown",
   "id": "585e0686-9b96-4b65-9435-d60c319e0f72",
   "metadata": {},
   "source": [
    "### Undersampling"
   ]
  },
  {
   "cell_type": "code",
   "execution_count": 28,
   "id": "19e58805-3175-41b6-8e34-3bc169d56b8a",
   "metadata": {},
   "outputs": [
    {
     "name": "stdout",
     "output_type": "stream",
     "text": [
      "Mean cross-validation score: \n",
      "0.6629\n",
      "Optimization terminated successfully.\n",
      "         Current function value: 0.606006\n",
      "         Iterations 6\n",
      "                           Logit Regression Results                           \n",
      "==============================================================================\n",
      "Dep. Variable:                  Que16   No. Observations:                 2444\n",
      "Model:                          Logit   Df Residuals:                     2422\n",
      "Method:                           MLE   Df Model:                           21\n",
      "Date:                Fri, 03 Sep 2021   Pseudo R-squ.:                  0.1257\n",
      "Time:                        00:49:03   Log-Likelihood:                -1481.1\n",
      "converged:                       True   LL-Null:                       -1694.1\n",
      "Covariance Type:            nonrobust   LLR p-value:                 3.904e-77\n",
      "===============================================================================\n",
      "                  coef    std err          z      P>|z|      [0.025      0.975]\n",
      "-------------------------------------------------------------------------------\n",
      "const          -1.2662      0.158     -8.016      0.000      -1.576      -0.957\n",
      "Que1           -0.0773      0.133     -0.582      0.560      -0.338       0.183\n",
      "Que2            0.1196      0.097      1.234      0.217      -0.070       0.310\n",
      "Que3            0.2727      0.101      2.705      0.007       0.075       0.470\n",
      "Que4           -0.0109      0.128     -0.085      0.932      -0.262       0.240\n",
      "Que5           -0.1142      0.101     -1.132      0.258      -0.312       0.084\n",
      "Que6            0.0237      0.118      0.201      0.840      -0.207       0.255\n",
      "Que10_a        -0.2651      0.110     -2.414      0.016      -0.480      -0.050\n",
      "Que10_b         0.1923      0.164      1.172      0.241      -0.129       0.514\n",
      "Que10_c         0.3092      0.105      2.939      0.003       0.103       0.515\n",
      "Que10_d         0.0500      0.098      0.512      0.608      -0.141       0.241\n",
      "Que10_e        -0.8453      0.390     -2.165      0.030      -1.611      -0.080\n",
      "Que10_f         0.0819      0.097      0.848      0.397      -0.107       0.271\n",
      "Que14          -0.4551      0.136     -3.355      0.001      -0.721      -0.189\n",
      "Que15           1.4897      0.094     15.895      0.000       1.306       1.673\n",
      "Que17           1.5112      0.308      4.905      0.000       0.907       2.115\n",
      "Que18_age       0.2232      0.123      1.818      0.069      -0.017       0.464\n",
      "Que19           0.4326      0.172      2.520      0.012       0.096       0.769\n",
      "Que20           0.1438      0.249      0.577      0.564      -0.344       0.632\n",
      "Que21          -0.1687      0.102     -1.647      0.100      -0.369       0.032\n",
      "Que22           0.1752      0.098      1.790      0.074      -0.017       0.367\n",
      "Que_smoking     0.0886      0.105      0.848      0.397      -0.116       0.293\n",
      "===============================================================================\n",
      "(array([0., 1.]), array([138, 262]))\n",
      "Test recall:\t 0.584\n",
      "Test accuracy:\t 0.6425\n",
      "Test precision:\t 0.8182\n",
      "Test ROC AUC:\t 0.6688\n",
      "Test F1 score:\t 0.6815\n",
      "Test confusion matrix:\t\n",
      "[[104  34]\n",
      " [109 153]]\n"
     ]
    }
   ],
   "source": [
    "perform_logit(X_train_rus, y_train_rus, X_test, y_test, X_cols, y_col)"
   ]
  },
  {
   "cell_type": "markdown",
   "id": "bc7f61ca-6758-4acb-be3e-edd37a5d7a69",
   "metadata": {},
   "source": [
    "### Oversampling"
   ]
  },
  {
   "cell_type": "code",
   "execution_count": 29,
   "id": "3003d81a-d5f8-4e4c-ab0e-7e639df492d1",
   "metadata": {},
   "outputs": [
    {
     "name": "stdout",
     "output_type": "stream",
     "text": [
      "Mean cross-validation score: \n",
      "0.5694\n",
      "Optimization terminated successfully.\n",
      "         Current function value: 0.603337\n",
      "         Iterations 6\n",
      "                           Logit Regression Results                           \n",
      "==============================================================================\n",
      "Dep. Variable:                  Que16   No. Observations:                 5376\n",
      "Model:                          Logit   Df Residuals:                     5354\n",
      "Method:                           MLE   Df Model:                           21\n",
      "Date:                Fri, 03 Sep 2021   Pseudo R-squ.:                  0.1296\n",
      "Time:                        00:49:04   Log-Likelihood:                -3243.5\n",
      "converged:                       True   LL-Null:                       -3726.4\n",
      "Covariance Type:            nonrobust   LLR p-value:                5.827e-191\n",
      "===============================================================================\n",
      "                  coef    std err          z      P>|z|      [0.025      0.975]\n",
      "-------------------------------------------------------------------------------\n",
      "const          -1.3105      0.108    -12.190      0.000      -1.521      -1.100\n",
      "Que1           -0.0222      0.089     -0.249      0.803      -0.197       0.153\n",
      "Que2           -0.0199      0.066     -0.304      0.761      -0.149       0.109\n",
      "Que3            0.2371      0.068      3.484      0.000       0.104       0.371\n",
      "Que4           -0.0507      0.089     -0.571      0.568      -0.225       0.124\n",
      "Que5           -0.0941      0.069     -1.369      0.171      -0.229       0.041\n",
      "Que6            0.1672      0.079      2.119      0.034       0.013       0.322\n",
      "Que10_a        -0.0263      0.072     -0.364      0.716      -0.168       0.115\n",
      "Que10_b         0.1216      0.110      1.108      0.268      -0.094       0.337\n",
      "Que10_c         0.3199      0.071      4.486      0.000       0.180       0.460\n",
      "Que10_d         0.0114      0.066      0.174      0.862      -0.117       0.140\n",
      "Que10_e        -0.8843      0.274     -3.232      0.001      -1.421      -0.348\n",
      "Que10_f         0.1846      0.065      2.824      0.005       0.057       0.313\n",
      "Que14          -0.4304      0.091     -4.732      0.000      -0.609      -0.252\n",
      "Que15           1.4947      0.063     23.769      0.000       1.371       1.618\n",
      "Que17           1.5627      0.224      6.967      0.000       1.123       2.002\n",
      "Que18_age       0.0545      0.083      0.654      0.513      -0.109       0.218\n",
      "Que19           0.4378      0.115      3.819      0.000       0.213       0.662\n",
      "Que20           0.1668      0.168      0.991      0.322      -0.163       0.497\n",
      "Que21          -0.1567      0.069     -2.259      0.024      -0.293      -0.021\n",
      "Que22           0.1801      0.066      2.729      0.006       0.051       0.309\n",
      "Que_smoking     0.0653      0.070      0.927      0.354      -0.073       0.203\n",
      "===============================================================================\n",
      "(array([0., 1.]), array([138, 262]))\n",
      "Test recall:\t 0.5878\n",
      "Test accuracy:\t 0.645\n",
      "Test precision:\t 0.8191\n",
      "Test ROC AUC:\t 0.6707\n",
      "Test F1 score:\t 0.6844\n",
      "Test confusion matrix:\t\n",
      "[[104  34]\n",
      " [108 154]]\n"
     ]
    }
   ],
   "source": [
    "perform_logit(X_train_ros, y_train_ros, X_test, y_test, X_cols, y_col)"
   ]
  },
  {
   "cell_type": "markdown",
   "id": "cd32fee4-ab32-4648-a1dc-b609a9f8f11c",
   "metadata": {},
   "source": [
    "### SMOTEENN"
   ]
  },
  {
   "cell_type": "code",
   "execution_count": 30,
   "id": "d78286c0-c367-4686-8e63-ff996b2012b8",
   "metadata": {},
   "outputs": [
    {
     "name": "stdout",
     "output_type": "stream",
     "text": [
      "Mean cross-validation score: \n",
      "0.7205\n",
      "Optimization terminated successfully.\n",
      "         Current function value: 0.426507\n",
      "         Iterations 6\n",
      "                           Logit Regression Results                           \n",
      "==============================================================================\n",
      "Dep. Variable:                  Que16   No. Observations:                 2855\n",
      "Model:                          Logit   Df Residuals:                     2833\n",
      "Method:                           MLE   Df Model:                           21\n",
      "Date:                Fri, 03 Sep 2021   Pseudo R-squ.:                  0.3718\n",
      "Time:                        00:49:04   Log-Likelihood:                -1217.7\n",
      "converged:                       True   LL-Null:                       -1938.2\n",
      "Covariance Type:            nonrobust   LLR p-value:                1.481e-292\n",
      "===============================================================================\n",
      "                  coef    std err          z      P>|z|      [0.025      0.975]\n",
      "-------------------------------------------------------------------------------\n",
      "const          -3.7335      0.221    -16.910      0.000      -4.166      -3.301\n",
      "Que1           -0.0760      0.151     -0.504      0.614      -0.371       0.219\n",
      "Que2            0.0052      0.118      0.044      0.965      -0.226       0.237\n",
      "Que3            0.8965      0.121      7.391      0.000       0.659       1.134\n",
      "Que4           -0.3766      0.151     -2.491      0.013      -0.673      -0.080\n",
      "Que5           -0.2410      0.120     -2.011      0.044      -0.476      -0.006\n",
      "Que6            0.4171      0.132      3.153      0.002       0.158       0.676\n",
      "Que10_a        -0.2208      0.127     -1.736      0.083      -0.470       0.028\n",
      "Que10_b        -0.0485      0.192     -0.253      0.800      -0.424       0.327\n",
      "Que10_c         0.9587      0.136      7.038      0.000       0.692       1.226\n",
      "Que10_d        -0.0528      0.116     -0.454      0.649      -0.281       0.175\n",
      "Que10_e        -1.5889      0.497     -3.194      0.001      -2.564      -0.614\n",
      "Que10_f         0.3961      0.118      3.360      0.001       0.165       0.627\n",
      "Que14          -0.9906      0.170     -5.819      0.000      -1.324      -0.657\n",
      "Que15           2.8325      0.111     25.552      0.000       2.615       3.050\n",
      "Que17           1.7968      0.359      5.008      0.000       1.094       2.500\n",
      "Que18_age       0.4502      0.155      2.898      0.004       0.146       0.755\n",
      "Que19           0.7301      0.191      3.832      0.000       0.357       1.104\n",
      "Que20           1.4924      0.326      4.575      0.000       0.853       2.132\n",
      "Que21          -0.5532      0.122     -4.527      0.000      -0.793      -0.314\n",
      "Que22           0.6190      0.121      5.129      0.000       0.382       0.856\n",
      "Que_smoking     0.0091      0.123      0.074      0.941      -0.233       0.251\n",
      "===============================================================================\n",
      "(array([0., 1.]), array([138, 262]))\n",
      "Test recall:\t 0.5153\n",
      "Test accuracy:\t 0.6125\n",
      "Test precision:\t 0.8282\n",
      "Test ROC AUC:\t 0.6562\n",
      "Test F1 score:\t 0.6353\n",
      "Test confusion matrix:\t\n",
      "[[110  28]\n",
      " [127 135]]\n"
     ]
    }
   ],
   "source": [
    "perform_logit(X_train_smote_enn, y_train_smote_enn, X_test, y_test, X_cols, y_col)"
   ]
  },
  {
   "cell_type": "markdown",
   "id": "2c259d8c-2f30-444d-84c7-a9f2069d0e30",
   "metadata": {},
   "source": [
    "## Random Forest"
   ]
  },
  {
   "cell_type": "markdown",
   "id": "40dd87a6-6067-4111-bebb-31a792d899a4",
   "metadata": {},
   "source": [
    "### No balance"
   ]
  },
  {
   "cell_type": "code",
   "execution_count": 31,
   "id": "268c798b-feb8-4f8b-90fa-9b55dc7a694a",
   "metadata": {},
   "outputs": [
    {
     "name": "stdout",
     "output_type": "stream",
     "text": [
      "Fitting 5 folds for each of 2970 candidates, totalling 14850 fits\n",
      "Grid search time: 0:14:37.241736\n",
      "Mean cross-validation score of best model: \n",
      "0.872\n",
      "Best parameters:\n",
      "{'bootstrap': True,\n",
      " 'criterion': 'gini',\n",
      " 'max_depth': 10,\n",
      " 'max_features': 'sqrt',\n",
      " 'min_samples_leaf': 4,\n",
      " 'min_samples_split': 10,\n",
      " 'n_estimators': 77}\n",
      "{'bootstrap': True,\n",
      " 'ccp_alpha': 0.0,\n",
      " 'class_weight': None,\n",
      " 'criterion': 'gini',\n",
      " 'max_depth': 10,\n",
      " 'max_features': 'sqrt',\n",
      " 'max_leaf_nodes': None,\n",
      " 'max_samples': None,\n",
      " 'min_impurity_decrease': 0.0,\n",
      " 'min_impurity_split': None,\n",
      " 'min_samples_leaf': 4,\n",
      " 'min_samples_split': 10,\n",
      " 'min_weight_fraction_leaf': 0.0,\n",
      " 'n_estimators': 77,\n",
      " 'n_jobs': None,\n",
      " 'oob_score': False,\n",
      " 'random_state': None,\n",
      " 'verbose': 0,\n",
      " 'warm_start': False}\n",
      "(array([0., 1.]), array([138, 262]))\n",
      "Test recall:\t 0.855\n",
      "Test accuracy:\t 0.68\n",
      "Test precision:\t 0.7134\n",
      "Test ROC AUC:\t 0.6014\n",
      "Test F1 score:\t 0.7778\n",
      "Test confusion matrix:\t\n",
      "[[ 48  90]\n",
      " [ 38 224]]\n",
      "Elapsed time to compute the importances: 0.546 seconds\n"
     ]
    },
    {
     "data": {
      "image/png": "[encoded data removed]",
      "text/plain": [
       "<Figure size 432x288 with 1 Axes>"
      ]
     },
     "metadata": {
      "needs_background": "light"
     },
     "output_type": "display_data"
    }
   ],
   "source": [
    "perform_random_forest(X_train, y_train, X_test, y_test)"
   ]
  },
  {
   "cell_type": "markdown",
   "id": "eaddf8f0-9854-4992-a80a-64af6749ffc3",
   "metadata": {},
   "source": [
    "### Undersampling"
   ]
  },
  {
   "cell_type": "code",
   "execution_count": 32,
   "id": "3718a0da-f3b0-4287-be34-9e9ba9fcae34",
   "metadata": {},
   "outputs": [
    {
     "name": "stdout",
     "output_type": "stream",
     "text": [
      "Fitting 5 folds for each of 2970 candidates, totalling 14850 fits\n",
      "Grid search time: 0:11:42.369351\n",
      "Mean cross-validation score of best model: \n",
      "0.7005\n",
      "Best parameters:\n",
      "{'bootstrap': True,\n",
      " 'criterion': 'entropy',\n",
      " 'max_depth': 65,\n",
      " 'max_features': 'sqrt',\n",
      " 'min_samples_leaf': 1,\n",
      " 'min_samples_split': 2,\n",
      " 'n_estimators': 118}\n",
      "{'bootstrap': True,\n",
      " 'ccp_alpha': 0.0,\n",
      " 'class_weight': None,\n",
      " 'criterion': 'entropy',\n",
      " 'max_depth': 65,\n",
      " 'max_features': 'sqrt',\n",
      " 'max_leaf_nodes': None,\n",
      " 'max_samples': None,\n",
      " 'min_impurity_decrease': 0.0,\n",
      " 'min_impurity_split': None,\n",
      " 'min_samples_leaf': 1,\n",
      " 'min_samples_split': 2,\n",
      " 'min_weight_fraction_leaf': 0.0,\n",
      " 'n_estimators': 118,\n",
      " 'n_jobs': None,\n",
      " 'oob_score': False,\n",
      " 'random_state': None,\n",
      " 'verbose': 0,\n",
      " 'warm_start': False}\n",
      "(array([0., 1.]), array([138, 262]))\n",
      "Test recall:\t 0.645\n",
      "Test accuracy:\t 0.6525\n",
      "Test precision:\t 0.786\n",
      "Test ROC AUC:\t 0.6559\n",
      "Test F1 score:\t 0.7086\n",
      "Test confusion matrix:\t\n",
      "[[ 92  46]\n",
      " [ 93 169]]\n",
      "Elapsed time to compute the importances: 1.421 seconds\n"
     ]
    },
    {
     "data": {
      "image/png": "[encoded data removed]",
      "text/plain": [
       "<Figure size 432x288 with 1 Axes>"
      ]
     },
     "metadata": {
      "needs_background": "light"
     },
     "output_type": "display_data"
    }
   ],
   "source": [
    "perform_random_forest(X_train_rus, y_train_rus, X_test, y_test)"
   ]
  },
  {
   "cell_type": "markdown",
   "id": "502bf62a-5ed5-4488-bf2e-684b473ec38a",
   "metadata": {},
   "source": [
    "### Oversampling"
   ]
  },
  {
   "cell_type": "code",
   "execution_count": 33,
   "id": "01a8acda-280c-4821-b832-708981eec1b9",
   "metadata": {},
   "outputs": [
    {
     "name": "stdout",
     "output_type": "stream",
     "text": [
      "Fitting 5 folds for each of 2970 candidates, totalling 14850 fits\n",
      "Grid search time: 0:17:36.446020\n",
      "Mean cross-validation score of best model: \n",
      "0.5948\n",
      "Best parameters:\n",
      "{'bootstrap': True,\n",
      " 'criterion': 'gini',\n",
      " 'max_depth': 87,\n",
      " 'max_features': 'sqrt',\n",
      " 'min_samples_leaf': 1,\n",
      " 'min_samples_split': 2,\n",
      " 'n_estimators': 25}\n",
      "{'bootstrap': True,\n",
      " 'ccp_alpha': 0.0,\n",
      " 'class_weight': None,\n",
      " 'criterion': 'gini',\n",
      " 'max_depth': 87,\n",
      " 'max_features': 'sqrt',\n",
      " 'max_leaf_nodes': None,\n",
      " 'max_samples': None,\n",
      " 'min_impurity_decrease': 0.0,\n",
      " 'min_impurity_split': None,\n",
      " 'min_samples_leaf': 1,\n",
      " 'min_samples_split': 2,\n",
      " 'min_weight_fraction_leaf': 0.0,\n",
      " 'n_estimators': 25,\n",
      " 'n_jobs': None,\n",
      " 'oob_score': False,\n",
      " 'random_state': None,\n",
      " 'verbose': 0,\n",
      " 'warm_start': False}\n",
      "(array([0., 1.]), array([138, 262]))\n",
      "Test recall:\t 0.7366\n",
      "Test accuracy:\t 0.6625\n",
      "Test precision:\t 0.7452\n",
      "Test ROC AUC:\t 0.6292\n",
      "Test F1 score:\t 0.7409\n",
      "Test confusion matrix:\t\n",
      "[[ 72  66]\n",
      " [ 69 193]]\n",
      "Elapsed time to compute the importances: 0.074 seconds\n"
     ]
    },
    {
     "data": {
      "image/png": "[encoded data removed]",
      "text/plain": [
       "<Figure size 432x288 with 1 Axes>"
      ]
     },
     "metadata": {
      "needs_background": "light"
     },
     "output_type": "display_data"
    }
   ],
   "source": [
    "perform_random_forest(X_train_ros, y_train_ros, X_test, y_test)"
   ]
  },
  {
   "cell_type": "markdown",
   "id": "e8dac8cb-7e56-40b8-80b7-cc5a9d8365e8",
   "metadata": {},
   "source": [
    "### SMOTEENN"
   ]
  },
  {
   "cell_type": "code",
   "execution_count": 34,
   "id": "0a3f8e5e-689f-4ca2-919d-2a6568040e30",
   "metadata": {},
   "outputs": [
    {
     "name": "stdout",
     "output_type": "stream",
     "text": [
      "Fitting 5 folds for each of 2970 candidates, totalling 14850 fits\n",
      "Grid search time: 0:12:27.600261\n",
      "Mean cross-validation score of best model: \n",
      "0.8662\n",
      "Best parameters:\n",
      "{'bootstrap': True,\n",
      " 'criterion': 'gini',\n",
      " 'max_depth': 21,\n",
      " 'max_features': 'sqrt',\n",
      " 'min_samples_leaf': 1,\n",
      " 'min_samples_split': 2,\n",
      " 'n_estimators': 77}\n",
      "{'bootstrap': True,\n",
      " 'ccp_alpha': 0.0,\n",
      " 'class_weight': None,\n",
      " 'criterion': 'gini',\n",
      " 'max_depth': 21,\n",
      " 'max_features': 'sqrt',\n",
      " 'max_leaf_nodes': None,\n",
      " 'max_samples': None,\n",
      " 'min_impurity_decrease': 0.0,\n",
      " 'min_impurity_split': None,\n",
      " 'min_samples_leaf': 1,\n",
      " 'min_samples_split': 2,\n",
      " 'min_weight_fraction_leaf': 0.0,\n",
      " 'n_estimators': 77,\n",
      " 'n_jobs': None,\n",
      " 'oob_score': False,\n",
      " 'random_state': None,\n",
      " 'verbose': 0,\n",
      " 'warm_start': False}\n",
      "(array([0., 1.]), array([138, 262]))\n",
      "Test recall:\t 0.6069\n",
      "Test accuracy:\t 0.6575\n",
      "Test precision:\t 0.8238\n",
      "Test ROC AUC:\t 0.6802\n",
      "Test F1 score:\t 0.6989\n",
      "Test confusion matrix:\t\n",
      "[[104  34]\n",
      " [103 159]]\n",
      "Elapsed time to compute the importances: 0.583 seconds\n"
     ]
    },
    {
     "data": {
      "image/png": "[encoded data removed]",
      "text/plain": [
       "<Figure size 432x288 with 1 Axes>"
      ]
     },
     "metadata": {
      "needs_background": "light"
     },
     "output_type": "display_data"
    }
   ],
   "source": [
    "perform_random_forest(X_train_smote_enn, y_train_smote_enn, X_test, y_test)"
   ]
  },
  {
   "cell_type": "markdown",
   "id": "ba111ec5-b2c8-4cc4-b8c7-a611b08c0aff",
   "metadata": {},
   "source": [
    "## Decision Tree"
   ]
  },
  {
   "cell_type": "markdown",
   "id": "e158766e-602a-4336-b6b6-db41985595f3",
   "metadata": {},
   "source": [
    "### No balance"
   ]
  },
  {
   "cell_type": "code",
   "execution_count": 35,
   "id": "ff7be0e4-c066-4905-9867-51b7aa74ac78",
   "metadata": {},
   "outputs": [
    {
     "name": "stdout",
     "output_type": "stream",
     "text": [
      "Fitting 5 folds for each of 252 candidates, totalling 1260 fits\n",
      "Grid search time: 0:00:02.442574\n",
      "Mean cross-validation score of best model: \n",
      "0.814\n",
      "Best parameters:\n",
      "{'criterion': 'entropy',\n",
      " 'max_depth': 10,\n",
      " 'max_features': 'sqrt',\n",
      " 'min_samples_leaf': 4,\n",
      " 'min_samples_split': 10,\n",
      " 'splitter': 'random'}\n",
      "{'ccp_alpha': 0.0,\n",
      " 'class_weight': None,\n",
      " 'criterion': 'entropy',\n",
      " 'max_depth': 10,\n",
      " 'max_features': 'sqrt',\n",
      " 'max_leaf_nodes': None,\n",
      " 'min_impurity_decrease': 0.0,\n",
      " 'min_impurity_split': None,\n",
      " 'min_samples_leaf': 4,\n",
      " 'min_samples_split': 10,\n",
      " 'min_weight_fraction_leaf': 0.0,\n",
      " 'random_state': None,\n",
      " 'splitter': 'random'}\n",
      "(array([0., 1.]), array([138, 262]))\n",
      "Test recall:\t 0.7824\n",
      "Test accuracy:\t 0.6925\n",
      "Test precision:\t 0.7565\n",
      "Test ROC AUC:\t 0.6521\n",
      "Test F1 score:\t 0.7692\n",
      "Test confusion matrix:\t\n",
      "[[ 72  66]\n",
      " [ 57 205]]\n"
     ]
    }
   ],
   "source": [
    "perform_decision_tree(X_train, y_train, X_test, y_test)"
   ]
  },
  {
   "cell_type": "markdown",
   "id": "d04d2650-3ad3-447b-bd30-965b229ee8ce",
   "metadata": {},
   "source": [
    "### Undersampling"
   ]
  },
  {
   "cell_type": "code",
   "execution_count": 36,
   "id": "ffbf0455-3b17-4c9e-88ba-59df4f2910a9",
   "metadata": {},
   "outputs": [
    {
     "name": "stdout",
     "output_type": "stream",
     "text": [
      "Fitting 5 folds for each of 252 candidates, totalling 1260 fits\n",
      "Grid search time: 0:00:01.822555\n",
      "Mean cross-validation score of best model: \n",
      "0.6595\n",
      "Best parameters:\n",
      "{'criterion': 'gini',\n",
      " 'max_depth': None,\n",
      " 'max_features': 'sqrt',\n",
      " 'min_samples_leaf': 1,\n",
      " 'min_samples_split': 2,\n",
      " 'splitter': 'best'}\n",
      "{'ccp_alpha': 0.0,\n",
      " 'class_weight': None,\n",
      " 'criterion': 'gini',\n",
      " 'max_depth': None,\n",
      " 'max_features': 'sqrt',\n",
      " 'max_leaf_nodes': None,\n",
      " 'min_impurity_decrease': 0.0,\n",
      " 'min_impurity_split': None,\n",
      " 'min_samples_leaf': 1,\n",
      " 'min_samples_split': 2,\n",
      " 'min_weight_fraction_leaf': 0.0,\n",
      " 'random_state': None,\n",
      " 'splitter': 'best'}\n",
      "(array([0., 1.]), array([138, 262]))\n",
      "Test recall:\t 0.5763\n",
      "Test accuracy:\t 0.5875\n",
      "Test precision:\t 0.7366\n",
      "Test ROC AUC:\t 0.5925\n",
      "Test F1 score:\t 0.6467\n",
      "Test confusion matrix:\t\n",
      "[[ 84  54]\n",
      " [111 151]]\n"
     ]
    }
   ],
   "source": [
    "perform_decision_tree(X_train_rus, y_train_rus, X_test, y_test)"
   ]
  },
  {
   "cell_type": "markdown",
   "id": "7bf929a2-471e-49ee-8590-a569963f2073",
   "metadata": {},
   "source": [
    "### Oversampling"
   ]
  },
  {
   "cell_type": "code",
   "execution_count": 37,
   "id": "3e9ebaa0-06a7-47af-a941-227624e8a10f",
   "metadata": {},
   "outputs": [
    {
     "name": "stdout",
     "output_type": "stream",
     "text": [
      "Fitting 5 folds for each of 252 candidates, totalling 1260 fits\n",
      "Grid search time: 0:00:02.860071\n",
      "Mean cross-validation score of best model: \n",
      "0.6008\n",
      "Best parameters:\n",
      "{'criterion': 'gini',\n",
      " 'max_depth': 42,\n",
      " 'max_features': 'sqrt',\n",
      " 'min_samples_leaf': 1,\n",
      " 'min_samples_split': 2,\n",
      " 'splitter': 'random'}\n",
      "{'ccp_alpha': 0.0,\n",
      " 'class_weight': None,\n",
      " 'criterion': 'gini',\n",
      " 'max_depth': 42,\n",
      " 'max_features': 'sqrt',\n",
      " 'max_leaf_nodes': None,\n",
      " 'min_impurity_decrease': 0.0,\n",
      " 'min_impurity_split': None,\n",
      " 'min_samples_leaf': 1,\n",
      " 'min_samples_split': 2,\n",
      " 'min_weight_fraction_leaf': 0.0,\n",
      " 'random_state': None,\n",
      " 'splitter': 'random'}\n",
      "(array([0., 1.]), array([138, 262]))\n",
      "Test recall:\t 0.6565\n",
      "Test accuracy:\t 0.63\n",
      "Test precision:\t 0.7478\n",
      "Test ROC AUC:\t 0.6181\n",
      "Test F1 score:\t 0.6992\n",
      "Test confusion matrix:\t\n",
      "[[ 80  58]\n",
      " [ 90 172]]\n"
     ]
    }
   ],
   "source": [
    "perform_decision_tree(X_train_ros, y_train_ros, X_test, y_test)"
   ]
  },
  {
   "cell_type": "markdown",
   "id": "3e696ba4-615c-44e6-a7cc-8552d408d038",
   "metadata": {},
   "source": [
    "### SMOTEENN"
   ]
  },
  {
   "cell_type": "code",
   "execution_count": 38,
   "id": "3bad3ea7-f9e0-4368-8393-e5854656ea64",
   "metadata": {},
   "outputs": [
    {
     "name": "stdout",
     "output_type": "stream",
     "text": [
      "Fitting 5 folds for each of 252 candidates, totalling 1260 fits\n",
      "Grid search time: 0:00:02.006855\n",
      "Mean cross-validation score of best model: \n",
      "0.8375\n",
      "Best parameters:\n",
      "{'criterion': 'entropy',\n",
      " 'max_depth': 26,\n",
      " 'max_features': 'sqrt',\n",
      " 'min_samples_leaf': 1,\n",
      " 'min_samples_split': 2,\n",
      " 'splitter': 'best'}\n",
      "{'ccp_alpha': 0.0,\n",
      " 'class_weight': None,\n",
      " 'criterion': 'entropy',\n",
      " 'max_depth': 26,\n",
      " 'max_features': 'sqrt',\n",
      " 'max_leaf_nodes': None,\n",
      " 'min_impurity_decrease': 0.0,\n",
      " 'min_impurity_split': None,\n",
      " 'min_samples_leaf': 1,\n",
      " 'min_samples_split': 2,\n",
      " 'min_weight_fraction_leaf': 0.0,\n",
      " 'random_state': None,\n",
      " 'splitter': 'best'}\n",
      "(array([0., 1.]), array([138, 262]))\n",
      "Test recall:\t 0.6145\n",
      "Test accuracy:\t 0.655\n",
      "Test precision:\t 0.8131\n",
      "Test ROC AUC:\t 0.6732\n",
      "Test F1 score:\t 0.7\n",
      "Test confusion matrix:\t\n",
      "[[101  37]\n",
      " [101 161]]\n"
     ]
    }
   ],
   "source": [
    "perform_decision_tree(X_train_smote_enn, y_train_smote_enn, X_test, y_test)"
   ]
  },
  {
   "cell_type": "markdown",
   "id": "9783b6c2-f210-4bb1-aa80-48805d2fefd1",
   "metadata": {},
   "source": [
    "# Strategy 3 - mean"
   ]
  },
  {
   "cell_type": "code",
   "execution_count": 39,
   "id": "394dd854-7993-4130-b0f3-6768908b70b1",
   "metadata": {},
   "outputs": [],
   "source": [
    "X_train = data_mean.drop(columns=['Que16']).to_numpy()\n",
    "y_train = data_mean['Que16'].to_numpy()\n",
    "# balancing data\n",
    "rus = RandomUnderSampler(random_state=0)\n",
    "X_train_rus, y_train_rus = rus.fit_resample(X_train, y_train)\n",
    "ros = RandomOverSampler(random_state=0)\n",
    "X_train_ros, y_train_ros = ros.fit_resample(X_train, y_train)\n",
    "smote_enn = SMOTEENN(random_state=0)\n",
    "X_train_smote_enn, y_train_smote_enn = smote_enn.fit_resample(X_train, y_train)"
   ]
  },
  {
   "cell_type": "markdown",
   "id": "c7384f17-de59-4022-89c7-9151256176ea",
   "metadata": {},
   "source": [
    "## Logistic Regression"
   ]
  },
  {
   "cell_type": "markdown",
   "id": "cdd1f622-d4ee-4d45-a8f3-013b36c0a0bb",
   "metadata": {},
   "source": [
    "### No balance"
   ]
  },
  {
   "cell_type": "code",
   "execution_count": 40,
   "id": "6a8b6733-ed68-40b9-9f13-7c0b5f6047e1",
   "metadata": {},
   "outputs": [
    {
     "name": "stdout",
     "output_type": "stream",
     "text": [
      "Mean cross-validation score: \n",
      "0.7827\n",
      "Optimization terminated successfully.\n",
      "         Current function value: 0.543508\n",
      "         Iterations 6\n",
      "                           Logit Regression Results                           \n",
      "==============================================================================\n",
      "Dep. Variable:                  Que16   No. Observations:                 3910\n",
      "Model:                          Logit   Df Residuals:                     3888\n",
      "Method:                           MLE   Df Model:                           21\n",
      "Date:                Fri, 03 Sep 2021   Pseudo R-squ.:                  0.1249\n",
      "Time:                        01:45:42   Log-Likelihood:                -2125.1\n",
      "converged:                       True   LL-Null:                       -2428.5\n",
      "Covariance Type:            nonrobust   LLR p-value:                5.765e-115\n",
      "===============================================================================\n",
      "                  coef    std err          z      P>|z|      [0.025      0.975]\n",
      "-------------------------------------------------------------------------------\n",
      "const          -0.4621      0.125     -3.695      0.000      -0.707      -0.217\n",
      "Que1            0.2231      0.097      2.291      0.022       0.032       0.414\n",
      "Que2            0.0223      0.079      0.282      0.778      -0.133       0.177\n",
      "Que3            0.1863      0.084      2.215      0.027       0.021       0.351\n",
      "Que4           -0.1338      0.109     -1.224      0.221      -0.348       0.080\n",
      "Que5            0.0047      0.085      0.055      0.956      -0.162       0.172\n",
      "Que6            0.1977      0.099      2.003      0.045       0.004       0.391\n",
      "Que10_a         0.0082      0.090      0.091      0.927      -0.167       0.184\n",
      "Que10_b         0.1822      0.139      1.311      0.190      -0.090       0.455\n",
      "Que10_c         0.2554      0.087      2.930      0.003       0.085       0.426\n",
      "Que10_d         0.0965      0.082      1.178      0.239      -0.064       0.257\n",
      "Que10_e        -1.0871      0.327     -3.324      0.001      -1.728      -0.446\n",
      "Que10_f         0.0999      0.081      1.238      0.216      -0.058       0.258\n",
      "Que14          -0.3566      0.111     -3.210      0.001      -0.574      -0.139\n",
      "Que15           1.3638      0.081     16.817      0.000       1.205       1.523\n",
      "Que17           1.4075      0.284      4.957      0.000       0.851       1.964\n",
      "Que18_age       0.1423      0.104      1.367      0.172      -0.062       0.346\n",
      "Que19           0.6641      0.116      5.710      0.000       0.436       0.892\n",
      "Que20           0.1201      0.217      0.555      0.579      -0.304       0.545\n",
      "Que21          -0.1685      0.084     -1.999      0.046      -0.334      -0.003\n",
      "Que22           0.0154      0.079      0.196      0.845      -0.139       0.170\n",
      "Que_smoking     0.0918      0.087      1.051      0.293      -0.079       0.263\n",
      "===============================================================================\n",
      "(array([0., 1.]), array([138, 262]))\n",
      "Test recall:\t 0.8435\n",
      "Test accuracy:\t 0.67\n",
      "Test precision:\t 0.7083\n",
      "Test ROC AUC:\t 0.592\n",
      "Test F1 score:\t 0.77\n",
      "Test confusion matrix:\t\n",
      "[[ 47  91]\n",
      " [ 41 221]]\n"
     ]
    }
   ],
   "source": [
    "perform_logit(X_train, y_train, X_test, y_test, X_cols, y_col)"
   ]
  },
  {
   "cell_type": "markdown",
   "id": "e46eb21d-baa3-45b9-8374-4eb04b91587f",
   "metadata": {},
   "source": [
    "### Undersampling"
   ]
  },
  {
   "cell_type": "code",
   "execution_count": 41,
   "id": "4b108a15-f6d3-4332-9021-04c56d736800",
   "metadata": {},
   "outputs": [
    {
     "name": "stdout",
     "output_type": "stream",
     "text": [
      "Mean cross-validation score: \n",
      "0.6637\n",
      "Optimization terminated successfully.\n",
      "         Current function value: 0.599465\n",
      "         Iterations 6\n",
      "                           Logit Regression Results                           \n",
      "==============================================================================\n",
      "Dep. Variable:                  Que16   No. Observations:                 2444\n",
      "Model:                          Logit   Df Residuals:                     2422\n",
      "Method:                           MLE   Df Model:                           21\n",
      "Date:                Fri, 03 Sep 2021   Pseudo R-squ.:                  0.1352\n",
      "Time:                        01:45:42   Log-Likelihood:                -1465.1\n",
      "converged:                       True   LL-Null:                       -1694.1\n",
      "Covariance Type:            nonrobust   LLR p-value:                 8.837e-84\n",
      "===============================================================================\n",
      "                  coef    std err          z      P>|z|      [0.025      0.975]\n",
      "-------------------------------------------------------------------------------\n",
      "const          -1.1935      0.154     -7.775      0.000      -1.494      -0.893\n",
      "Que1            0.1150      0.115      1.002      0.316      -0.110       0.340\n",
      "Que2            0.0931      0.094      0.990      0.322      -0.091       0.278\n",
      "Que3            0.1997      0.102      1.957      0.050      -0.000       0.400\n",
      "Que4           -0.0380      0.128     -0.296      0.768      -0.290       0.214\n",
      "Que5           -0.0700      0.101     -0.692      0.489      -0.268       0.128\n",
      "Que6            0.0640      0.118      0.541      0.589      -0.168       0.296\n",
      "Que10_a        -0.2367      0.110     -2.155      0.031      -0.452      -0.021\n",
      "Que10_b         0.2196      0.164      1.338      0.181      -0.102       0.541\n",
      "Que10_c         0.2962      0.105      2.816      0.005       0.090       0.502\n",
      "Que10_d         0.1048      0.098      1.070      0.285      -0.087       0.297\n",
      "Que10_e        -0.9038      0.394     -2.294      0.022      -1.676      -0.132\n",
      "Que10_f         0.0272      0.097      0.280      0.780      -0.163       0.217\n",
      "Que14          -0.4236      0.136     -3.115      0.002      -0.690      -0.157\n",
      "Que15           1.4050      0.095     14.826      0.000       1.219       1.591\n",
      "Que17           1.5416      0.307      5.022      0.000       0.940       2.143\n",
      "Que18_age       0.1858      0.122      1.520      0.129      -0.054       0.425\n",
      "Que19           0.7690      0.132      5.816      0.000       0.510       1.028\n",
      "Que20           0.0646      0.249      0.259      0.796      -0.424       0.553\n",
      "Que21          -0.2298      0.101     -2.267      0.023      -0.428      -0.031\n",
      "Que22           0.0569      0.095      0.602      0.547      -0.128       0.242\n",
      "Que_smoking     0.0785      0.104      0.754      0.451      -0.125       0.282\n",
      "===============================================================================\n",
      "(array([0., 1.]), array([138, 262]))\n",
      "Test recall:\t 0.5878\n",
      "Test accuracy:\t 0.6425\n",
      "Test precision:\t 0.8148\n",
      "Test ROC AUC:\t 0.6671\n",
      "Test F1 score:\t 0.6829\n",
      "Test confusion matrix:\t\n",
      "[[103  35]\n",
      " [108 154]]\n"
     ]
    }
   ],
   "source": [
    "perform_logit(X_train_rus, y_train_rus, X_test, y_test, X_cols, y_col)"
   ]
  },
  {
   "cell_type": "markdown",
   "id": "5f474efe-6e4d-454f-a517-c45b7ff8eac3",
   "metadata": {},
   "source": [
    "### Oversampling"
   ]
  },
  {
   "cell_type": "code",
   "execution_count": 42,
   "id": "e55e2a89-3256-4cb1-a930-d332e544a7b9",
   "metadata": {},
   "outputs": [
    {
     "name": "stdout",
     "output_type": "stream",
     "text": [
      "Mean cross-validation score: \n",
      "0.5661\n",
      "Optimization terminated successfully.\n",
      "         Current function value: 0.599159\n",
      "         Iterations 6\n",
      "                           Logit Regression Results                           \n",
      "==============================================================================\n",
      "Dep. Variable:                  Que16   No. Observations:                 5376\n",
      "Model:                          Logit   Df Residuals:                     5354\n",
      "Method:                           MLE   Df Model:                           21\n",
      "Date:                Fri, 03 Sep 2021   Pseudo R-squ.:                  0.1356\n",
      "Time:                        01:45:42   Log-Likelihood:                -3221.1\n",
      "converged:                       True   LL-Null:                       -3726.4\n",
      "Covariance Type:            nonrobust   LLR p-value:                1.575e-200\n",
      "===============================================================================\n",
      "                  coef    std err          z      P>|z|      [0.025      0.975]\n",
      "-------------------------------------------------------------------------------\n",
      "const          -1.2119      0.104    -11.625      0.000      -1.416      -1.008\n",
      "Que1            0.2027      0.076      2.660      0.008       0.053       0.352\n",
      "Que2           -0.0501      0.064     -0.787      0.431      -0.175       0.075\n",
      "Que3            0.1760      0.069      2.561      0.010       0.041       0.311\n",
      "Que4           -0.0641      0.089     -0.720      0.472      -0.239       0.110\n",
      "Que5           -0.0563      0.069     -0.820      0.412      -0.191       0.078\n",
      "Que6            0.1921      0.079      2.437      0.015       0.038       0.347\n",
      "Que10_a         0.0005      0.072      0.007      0.994      -0.141       0.142\n",
      "Que10_b         0.1396      0.109      1.275      0.202      -0.075       0.354\n",
      "Que10_c         0.3040      0.071      4.278      0.000       0.165       0.443\n",
      "Que10_d         0.0534      0.066      0.809      0.419      -0.076       0.183\n",
      "Que10_e        -0.9377      0.274     -3.428      0.001      -1.474      -0.402\n",
      "Que10_f         0.1402      0.066      2.139      0.032       0.012       0.269\n",
      "Que14          -0.4021      0.091     -4.421      0.000      -0.580      -0.224\n",
      "Que15           1.4201      0.064     22.318      0.000       1.295       1.545\n",
      "Que17           1.5900      0.224      7.113      0.000       1.152       2.028\n",
      "Que18_age       0.0143      0.083      0.173      0.863      -0.148       0.176\n",
      "Que19           0.5981      0.088      6.781      0.000       0.425       0.771\n",
      "Que20           0.1271      0.169      0.754      0.451      -0.203       0.457\n",
      "Que21          -0.1890      0.068     -2.788      0.005      -0.322      -0.056\n",
      "Que22           0.0153      0.064      0.242      0.809      -0.109       0.140\n",
      "Que_smoking     0.0627      0.070      0.895      0.371      -0.075       0.200\n",
      "===============================================================================\n",
      "(array([0., 1.]), array([138, 262]))\n",
      "Test recall:\t 0.5916\n",
      "Test accuracy:\t 0.6425\n",
      "Test precision:\t 0.8115\n",
      "Test ROC AUC:\t 0.6654\n",
      "Test F1 score:\t 0.6843\n",
      "Test confusion matrix:\t\n",
      "[[102  36]\n",
      " [107 155]]\n"
     ]
    }
   ],
   "source": [
    "perform_logit(X_train_ros, y_train_ros, X_test, y_test, X_cols, y_col)"
   ]
  },
  {
   "cell_type": "markdown",
   "id": "5015c763-4e56-4b7c-aa05-5788d2905985",
   "metadata": {},
   "source": [
    "### SMOTEENN"
   ]
  },
  {
   "cell_type": "code",
   "execution_count": 43,
   "id": "2d60c374-6f99-42fe-8e4b-c40c20b431e3",
   "metadata": {},
   "outputs": [
    {
     "name": "stdout",
     "output_type": "stream",
     "text": [
      "Mean cross-validation score: \n",
      "0.6791\n",
      "Optimization terminated successfully.\n",
      "         Current function value: 0.408428\n",
      "         Iterations 6\n",
      "                           Logit Regression Results                           \n",
      "==============================================================================\n",
      "Dep. Variable:                  Que16   No. Observations:                 2946\n",
      "Model:                          Logit   Df Residuals:                     2924\n",
      "Method:                           MLE   Df Model:                           21\n",
      "Date:                Fri, 03 Sep 2021   Pseudo R-squ.:                  0.3949\n",
      "Time:                        01:45:42   Log-Likelihood:                -1203.2\n",
      "converged:                       True   LL-Null:                       -1988.5\n",
      "Covariance Type:            nonrobust   LLR p-value:                     0.000\n",
      "===============================================================================\n",
      "                  coef    std err          z      P>|z|      [0.025      0.975]\n",
      "-------------------------------------------------------------------------------\n",
      "const          -3.6300      0.216    -16.824      0.000      -4.053      -3.207\n",
      "Que1            0.3394      0.125      2.712      0.007       0.094       0.585\n",
      "Que2           -0.0666      0.113     -0.589      0.556      -0.288       0.155\n",
      "Que3            0.5118      0.126      4.069      0.000       0.265       0.758\n",
      "Que4           -0.3156      0.150     -2.098      0.036      -0.610      -0.021\n",
      "Que5           -0.0753      0.119     -0.632      0.527      -0.309       0.158\n",
      "Que6            0.5777      0.134      4.323      0.000       0.316       0.840\n",
      "Que10_a        -0.1103      0.126     -0.875      0.382      -0.357       0.137\n",
      "Que10_b        -0.1856      0.191     -0.974      0.330      -0.559       0.188\n",
      "Que10_c         0.7923      0.131      6.051      0.000       0.536       1.049\n",
      "Que10_d         0.1376      0.117      1.175      0.240      -0.092       0.367\n",
      "Que10_e        -1.7014      0.518     -3.287      0.001      -2.716      -0.687\n",
      "Que10_f         0.4297      0.118      3.641      0.000       0.198       0.661\n",
      "Que14          -0.7143      0.178     -4.016      0.000      -1.063      -0.366\n",
      "Que15           2.7945      0.113     24.780      0.000       2.573       3.015\n",
      "Que17           1.7974      0.329      5.460      0.000       1.152       2.443\n",
      "Que18_age       0.6939      0.154      4.509      0.000       0.392       0.995\n",
      "Que19           1.2861      0.140      9.183      0.000       1.012       1.561\n",
      "Que20           1.1837      0.307      3.859      0.000       0.582       1.785\n",
      "Que21          -0.5671      0.118     -4.824      0.000      -0.798      -0.337\n",
      "Que22           0.1525      0.113      1.346      0.178      -0.069       0.374\n",
      "Que_smoking    -0.0098      0.120     -0.081      0.935      -0.246       0.226\n",
      "===============================================================================\n",
      "(array([0., 1.]), array([138, 262]))\n",
      "Test recall:\t 0.4962\n",
      "Test accuracy:\t 0.6125\n",
      "Test precision:\t 0.8497\n",
      "Test ROC AUC:\t 0.6648\n",
      "Test F1 score:\t 0.6265\n",
      "Test confusion matrix:\t\n",
      "[[115  23]\n",
      " [132 130]]\n"
     ]
    }
   ],
   "source": [
    "perform_logit(X_train_smote_enn, y_train_smote_enn, X_test, y_test, X_cols, y_col)"
   ]
  },
  {
   "cell_type": "markdown",
   "id": "05c27f53-3594-45a7-986f-a5f923449f85",
   "metadata": {},
   "source": [
    "## Random Forest"
   ]
  },
  {
   "cell_type": "markdown",
   "id": "9ade1045-4022-4107-b799-41edbb663624",
   "metadata": {},
   "source": [
    "### No balance"
   ]
  },
  {
   "cell_type": "code",
   "execution_count": 44,
   "id": "0ea84081-abf1-427a-8017-b37c499ce6d2",
   "metadata": {},
   "outputs": [
    {
     "name": "stdout",
     "output_type": "stream",
     "text": [
      "Fitting 5 folds for each of 2970 candidates, totalling 14850 fits\n",
      "Grid search time: 0:14:33.461040\n",
      "Mean cross-validation score of best model: \n",
      "0.8586\n",
      "Best parameters:\n",
      "{'bootstrap': True,\n",
      " 'criterion': 'gini',\n",
      " 'max_depth': 65,\n",
      " 'max_features': 'sqrt',\n",
      " 'min_samples_leaf': 4,\n",
      " 'min_samples_split': 5,\n",
      " 'n_estimators': 15}\n",
      "{'bootstrap': True,\n",
      " 'ccp_alpha': 0.0,\n",
      " 'class_weight': None,\n",
      " 'criterion': 'gini',\n",
      " 'max_depth': 65,\n",
      " 'max_features': 'sqrt',\n",
      " 'max_leaf_nodes': None,\n",
      " 'max_samples': None,\n",
      " 'min_impurity_decrease': 0.0,\n",
      " 'min_impurity_split': None,\n",
      " 'min_samples_leaf': 4,\n",
      " 'min_samples_split': 5,\n",
      " 'min_weight_fraction_leaf': 0.0,\n",
      " 'n_estimators': 15,\n",
      " 'n_jobs': None,\n",
      " 'oob_score': False,\n",
      " 'random_state': None,\n",
      " 'verbose': 0,\n",
      " 'warm_start': False}\n",
      "(array([0., 1.]), array([138, 262]))\n",
      "Test recall:\t 0.8511\n",
      "Test accuracy:\t 0.6675\n",
      "Test precision:\t 0.7035\n",
      "Test ROC AUC:\t 0.585\n",
      "Test F1 score:\t 0.7703\n",
      "Test confusion matrix:\t\n",
      "[[ 44  94]\n",
      " [ 39 223]]\n",
      "Elapsed time to compute the importances: 0.025 seconds\n"
     ]
    },
    {
     "data": {
      "image/png": "[encoded data removed]",
      "text/plain": [
       "<Figure size 432x288 with 1 Axes>"
      ]
     },
     "metadata": {
      "needs_background": "light"
     },
     "output_type": "display_data"
    }
   ],
   "source": [
    "perform_random_forest(X_train, y_train, X_test, y_test)"
   ]
  },
  {
   "cell_type": "markdown",
   "id": "771dfa69-fe3e-417f-b056-d8054d481242",
   "metadata": {},
   "source": [
    "### Undersampling"
   ]
  },
  {
   "cell_type": "code",
   "execution_count": 45,
   "id": "9801863f-1ed9-4112-805f-c6d88615e96c",
   "metadata": {},
   "outputs": [
    {
     "name": "stdout",
     "output_type": "stream",
     "text": [
      "Fitting 5 folds for each of 2970 candidates, totalling 14850 fits\n",
      "Grid search time: 0:11:43.148962\n",
      "Mean cross-validation score of best model: \n",
      "0.7087\n",
      "Best parameters:\n",
      "{'bootstrap': True,\n",
      " 'criterion': 'gini',\n",
      " 'max_depth': 43,\n",
      " 'max_features': 'sqrt',\n",
      " 'min_samples_leaf': 1,\n",
      " 'min_samples_split': 2,\n",
      " 'n_estimators': 87}\n",
      "{'bootstrap': True,\n",
      " 'ccp_alpha': 0.0,\n",
      " 'class_weight': None,\n",
      " 'criterion': 'gini',\n",
      " 'max_depth': 43,\n",
      " 'max_features': 'sqrt',\n",
      " 'max_leaf_nodes': None,\n",
      " 'max_samples': None,\n",
      " 'min_impurity_decrease': 0.0,\n",
      " 'min_impurity_split': None,\n",
      " 'min_samples_leaf': 1,\n",
      " 'min_samples_split': 2,\n",
      " 'min_weight_fraction_leaf': 0.0,\n",
      " 'n_estimators': 87,\n",
      " 'n_jobs': None,\n",
      " 'oob_score': False,\n",
      " 'random_state': None,\n",
      " 'verbose': 0,\n",
      " 'warm_start': False}\n",
      "(array([0., 1.]), array([138, 262]))\n",
      "Test recall:\t 0.6031\n",
      "Test accuracy:\t 0.635\n",
      "Test precision:\t 0.79\n",
      "Test ROC AUC:\t 0.6494\n",
      "Test F1 score:\t 0.684\n",
      "Test confusion matrix:\t\n",
      "[[ 96  42]\n",
      " [104 158]]\n",
      "Elapsed time to compute the importances: 0.781 seconds\n"
     ]
    },
    {
     "data": {
      "image/png": "[encoded data removed]",
      "text/plain": [
       "<Figure size 432x288 with 1 Axes>"
      ]
     },
     "metadata": {
      "needs_background": "light"
     },
     "output_type": "display_data"
    }
   ],
   "source": [
    "perform_random_forest(X_train_rus, y_train_rus, X_test, y_test)"
   ]
  },
  {
   "cell_type": "markdown",
   "id": "eee15827-d405-4545-87cb-66d0bfcda305",
   "metadata": {},
   "source": [
    "### Oversampling"
   ]
  },
  {
   "cell_type": "code",
   "execution_count": 46,
   "id": "91729c41-fe30-4e2f-bc84-5bf674f861b2",
   "metadata": {},
   "outputs": [
    {
     "name": "stdout",
     "output_type": "stream",
     "text": [
      "Fitting 5 folds for each of 2970 candidates, totalling 14850 fits\n",
      "Grid search time: 0:17:37.309221\n",
      "Mean cross-validation score of best model: \n",
      "0.6215\n",
      "Best parameters:\n",
      "{'bootstrap': True,\n",
      " 'criterion': 'gini',\n",
      " 'max_depth': 87,\n",
      " 'max_features': 'sqrt',\n",
      " 'min_samples_leaf': 1,\n",
      " 'min_samples_split': 2,\n",
      " 'n_estimators': 15}\n",
      "{'bootstrap': True,\n",
      " 'ccp_alpha': 0.0,\n",
      " 'class_weight': None,\n",
      " 'criterion': 'gini',\n",
      " 'max_depth': 87,\n",
      " 'max_features': 'sqrt',\n",
      " 'max_leaf_nodes': None,\n",
      " 'max_samples': None,\n",
      " 'min_impurity_decrease': 0.0,\n",
      " 'min_impurity_split': None,\n",
      " 'min_samples_leaf': 1,\n",
      " 'min_samples_split': 2,\n",
      " 'min_weight_fraction_leaf': 0.0,\n",
      " 'n_estimators': 15,\n",
      " 'n_jobs': None,\n",
      " 'oob_score': False,\n",
      " 'random_state': None,\n",
      " 'verbose': 0,\n",
      " 'warm_start': False}\n",
      "(array([0., 1.]), array([138, 262]))\n",
      "Test recall:\t 0.7061\n",
      "Test accuracy:\t 0.6275\n",
      "Test precision:\t 0.7198\n",
      "Test ROC AUC:\t 0.5922\n",
      "Test F1 score:\t 0.7129\n",
      "Test confusion matrix:\t\n",
      "[[ 66  72]\n",
      " [ 77 185]]\n",
      "Elapsed time to compute the importances: 0.032 seconds\n"
     ]
    },
    {
     "data": {
      "image/png": "[encoded data removed]",
      "text/plain": [
       "<Figure size 432x288 with 1 Axes>"
      ]
     },
     "metadata": {
      "needs_background": "light"
     },
     "output_type": "display_data"
    }
   ],
   "source": [
    "perform_random_forest(X_train_ros, y_train_ros, X_test, y_test)"
   ]
  },
  {
   "cell_type": "markdown",
   "id": "966fdeb6-9522-462f-8344-b5cf8b7747b6",
   "metadata": {},
   "source": [
    "### SMOTEENN"
   ]
  },
  {
   "cell_type": "code",
   "execution_count": 47,
   "id": "b7438cf4-cf2e-4b29-ba61-aac89a86321e",
   "metadata": {},
   "outputs": [
    {
     "name": "stdout",
     "output_type": "stream",
     "text": [
      "Fitting 5 folds for each of 2970 candidates, totalling 14850 fits\n",
      "Grid search time: 0:12:38.048116\n",
      "Mean cross-validation score of best model: \n",
      "0.8484\n",
      "Best parameters:\n",
      "{'bootstrap': True,\n",
      " 'criterion': 'gini',\n",
      " 'max_depth': 87,\n",
      " 'max_features': 'sqrt',\n",
      " 'min_samples_leaf': 1,\n",
      " 'min_samples_split': 2,\n",
      " 'n_estimators': 87}\n",
      "{'bootstrap': True,\n",
      " 'ccp_alpha': 0.0,\n",
      " 'class_weight': None,\n",
      " 'criterion': 'gini',\n",
      " 'max_depth': 87,\n",
      " 'max_features': 'sqrt',\n",
      " 'max_leaf_nodes': None,\n",
      " 'max_samples': None,\n",
      " 'min_impurity_decrease': 0.0,\n",
      " 'min_impurity_split': None,\n",
      " 'min_samples_leaf': 1,\n",
      " 'min_samples_split': 2,\n",
      " 'min_weight_fraction_leaf': 0.0,\n",
      " 'n_estimators': 87,\n",
      " 'n_jobs': None,\n",
      " 'oob_score': False,\n",
      " 'random_state': None,\n",
      " 'verbose': 0,\n",
      " 'warm_start': False}\n",
      "(array([0., 1.]), array([138, 262]))\n",
      "Test recall:\t 0.584\n",
      "Test accuracy:\t 0.65\n",
      "Test precision:\t 0.8315\n",
      "Test ROC AUC:\t 0.6797\n",
      "Test F1 score:\t 0.6861\n",
      "Test confusion matrix:\t\n",
      "[[107  31]\n",
      " [109 153]]\n",
      "Elapsed time to compute the importances: 0.735 seconds\n"
     ]
    },
    {
     "data": {
      "image/png": "[encoded data removed]",
      "text/plain": [
       "<Figure size 432x288 with 1 Axes>"
      ]
     },
     "metadata": {
      "needs_background": "light"
     },
     "output_type": "display_data"
    }
   ],
   "source": [
    "perform_random_forest(X_train_smote_enn, y_train_smote_enn, X_test, y_test)"
   ]
  },
  {
   "cell_type": "markdown",
   "id": "b2f48575-c85f-46f4-8046-60cd7825fadd",
   "metadata": {},
   "source": [
    "## Decision Tree"
   ]
  },
  {
   "cell_type": "markdown",
   "id": "4cdea0e0-e821-4189-b0ef-67deead620a4",
   "metadata": {},
   "source": [
    "### No balance"
   ]
  },
  {
   "cell_type": "code",
   "execution_count": 48,
   "id": "4cec8aa1-d87d-4a82-8635-9524986bf316",
   "metadata": {},
   "outputs": [
    {
     "name": "stdout",
     "output_type": "stream",
     "text": [
      "Fitting 5 folds for each of 252 candidates, totalling 1260 fits\n",
      "Grid search time: 0:00:02.472345\n",
      "Mean cross-validation score of best model: \n",
      "0.7812\n",
      "Best parameters:\n",
      "{'criterion': 'gini',\n",
      " 'max_depth': 10,\n",
      " 'max_features': 'sqrt',\n",
      " 'min_samples_leaf': 4,\n",
      " 'min_samples_split': 10,\n",
      " 'splitter': 'random'}\n",
      "{'ccp_alpha': 0.0,\n",
      " 'class_weight': None,\n",
      " 'criterion': 'gini',\n",
      " 'max_depth': 10,\n",
      " 'max_features': 'sqrt',\n",
      " 'max_leaf_nodes': None,\n",
      " 'min_impurity_decrease': 0.0,\n",
      " 'min_impurity_split': None,\n",
      " 'min_samples_leaf': 4,\n",
      " 'min_samples_split': 10,\n",
      " 'min_weight_fraction_leaf': 0.0,\n",
      " 'random_state': None,\n",
      " 'splitter': 'random'}\n",
      "(array([0., 1.]), array([138, 262]))\n",
      "Test recall:\t 0.7748\n",
      "Test accuracy:\t 0.66\n",
      "Test precision:\t 0.725\n",
      "Test ROC AUC:\t 0.6084\n",
      "Test F1 score:\t 0.7491\n",
      "Test confusion matrix:\t\n",
      "[[ 61  77]\n",
      " [ 59 203]]\n"
     ]
    }
   ],
   "source": [
    "perform_decision_tree(X_train, y_train, X_test, y_test)"
   ]
  },
  {
   "cell_type": "markdown",
   "id": "c199e85f-6254-4276-826a-9ceab00a76f0",
   "metadata": {},
   "source": [
    "### Undersampling"
   ]
  },
  {
   "cell_type": "code",
   "execution_count": 49,
   "id": "3787e25c-9a39-4b5d-99f7-973af5b945d3",
   "metadata": {},
   "outputs": [
    {
     "name": "stdout",
     "output_type": "stream",
     "text": [
      "Fitting 5 folds for each of 252 candidates, totalling 1260 fits\n",
      "Grid search time: 0:00:01.852514\n",
      "Mean cross-validation score of best model: \n",
      "0.6563\n",
      "Best parameters:\n",
      "{'criterion': 'gini',\n",
      " 'max_depth': 34,\n",
      " 'max_features': 'sqrt',\n",
      " 'min_samples_leaf': 1,\n",
      " 'min_samples_split': 2,\n",
      " 'splitter': 'random'}\n",
      "{'ccp_alpha': 0.0,\n",
      " 'class_weight': None,\n",
      " 'criterion': 'gini',\n",
      " 'max_depth': 34,\n",
      " 'max_features': 'sqrt',\n",
      " 'max_leaf_nodes': None,\n",
      " 'min_impurity_decrease': 0.0,\n",
      " 'min_impurity_split': None,\n",
      " 'min_samples_leaf': 1,\n",
      " 'min_samples_split': 2,\n",
      " 'min_weight_fraction_leaf': 0.0,\n",
      " 'random_state': None,\n",
      " 'splitter': 'random'}\n",
      "(array([0., 1.]), array([138, 262]))\n",
      "Test recall:\t 0.5458\n",
      "Test accuracy:\t 0.5925\n",
      "Test precision:\t 0.7647\n",
      "Test ROC AUC:\t 0.6135\n",
      "Test F1 score:\t 0.637\n",
      "Test confusion matrix:\t\n",
      "[[ 94  44]\n",
      " [119 143]]\n"
     ]
    }
   ],
   "source": [
    "perform_decision_tree(X_train_rus, y_train_rus, X_test, y_test)"
   ]
  },
  {
   "cell_type": "markdown",
   "id": "f37637f9-78b6-4600-b38f-4e2c81e02d9d",
   "metadata": {},
   "source": [
    "### Oversampling"
   ]
  },
  {
   "cell_type": "code",
   "execution_count": 50,
   "id": "447027fb-9421-4dd0-b25a-c32cc173b94f",
   "metadata": {},
   "outputs": [
    {
     "name": "stdout",
     "output_type": "stream",
     "text": [
      "Fitting 5 folds for each of 252 candidates, totalling 1260 fits\n",
      "Grid search time: 0:00:02.832213\n",
      "Mean cross-validation score of best model: \n",
      "0.6041\n",
      "Best parameters:\n",
      "{'criterion': 'entropy',\n",
      " 'max_depth': 10,\n",
      " 'max_features': 'sqrt',\n",
      " 'min_samples_leaf': 1,\n",
      " 'min_samples_split': 2,\n",
      " 'splitter': 'random'}\n",
      "{'ccp_alpha': 0.0,\n",
      " 'class_weight': None,\n",
      " 'criterion': 'entropy',\n",
      " 'max_depth': 10,\n",
      " 'max_features': 'sqrt',\n",
      " 'max_leaf_nodes': None,\n",
      " 'min_impurity_decrease': 0.0,\n",
      " 'min_impurity_split': None,\n",
      " 'min_samples_leaf': 1,\n",
      " 'min_samples_split': 2,\n",
      " 'min_weight_fraction_leaf': 0.0,\n",
      " 'random_state': None,\n",
      " 'splitter': 'random'}\n",
      "(array([0., 1.]), array([138, 262]))\n",
      "Test recall:\t 0.5878\n",
      "Test accuracy:\t 0.6125\n",
      "Test precision:\t 0.7662\n",
      "Test ROC AUC:\t 0.6236\n",
      "Test F1 score:\t 0.6652\n",
      "Test confusion matrix:\t\n",
      "[[ 91  47]\n",
      " [108 154]]\n"
     ]
    }
   ],
   "source": [
    "perform_decision_tree(X_train_ros, y_train_ros, X_test, y_test)"
   ]
  },
  {
   "cell_type": "markdown",
   "id": "13eca072-624a-4c3e-baf3-7057a2a43c56",
   "metadata": {},
   "source": [
    "### SMOTEENN"
   ]
  },
  {
   "cell_type": "code",
   "execution_count": 51,
   "id": "c1a0d673-8aff-47e5-8635-3ce88d698845",
   "metadata": {},
   "outputs": [
    {
     "name": "stdout",
     "output_type": "stream",
     "text": [
      "Fitting 5 folds for each of 252 candidates, totalling 1260 fits\n",
      "Grid search time: 0:00:01.985295\n",
      "Mean cross-validation score of best model: \n",
      "0.819\n",
      "Best parameters:\n",
      "{'criterion': 'gini',\n",
      " 'max_depth': None,\n",
      " 'max_features': 'sqrt',\n",
      " 'min_samples_leaf': 1,\n",
      " 'min_samples_split': 2,\n",
      " 'splitter': 'best'}\n",
      "{'ccp_alpha': 0.0,\n",
      " 'class_weight': None,\n",
      " 'criterion': 'gini',\n",
      " 'max_depth': None,\n",
      " 'max_features': 'sqrt',\n",
      " 'max_leaf_nodes': None,\n",
      " 'min_impurity_decrease': 0.0,\n",
      " 'min_impurity_split': None,\n",
      " 'min_samples_leaf': 1,\n",
      " 'min_samples_split': 2,\n",
      " 'min_weight_fraction_leaf': 0.0,\n",
      " 'random_state': None,\n",
      " 'splitter': 'best'}\n",
      "(array([0., 1.]), array([138, 262]))\n",
      "Test recall:\t 0.626\n",
      "Test accuracy:\t 0.64\n",
      "Test precision:\t 0.781\n",
      "Test ROC AUC:\t 0.6463\n",
      "Test F1 score:\t 0.6949\n",
      "Test confusion matrix:\t\n",
      "[[ 92  46]\n",
      " [ 98 164]]\n"
     ]
    }
   ],
   "source": [
    "perform_decision_tree(X_train_smote_enn, y_train_smote_enn, X_test, y_test)"
   ]
  },
  {
   "cell_type": "markdown",
   "id": "36b7787c-8f63-4f3f-9681-5e2f2940c282",
   "metadata": {},
   "source": [
    "# Strategy 4 - most frequent"
   ]
  },
  {
   "cell_type": "code",
   "execution_count": 52,
   "id": "ef4e7dcc-0a44-47b0-accc-a4381c1f448e",
   "metadata": {},
   "outputs": [],
   "source": [
    "X_train = data_most_frequent.drop(columns=['Que16']).to_numpy()\n",
    "y_train = data_most_frequent['Que16'].to_numpy()\n",
    "# balancing data\n",
    "rus = RandomUnderSampler(random_state=0)\n",
    "X_train_rus, y_train_rus = rus.fit_resample(X_train, y_train)\n",
    "ros = RandomOverSampler(random_state=0)\n",
    "X_train_ros, y_train_ros = ros.fit_resample(X_train, y_train)\n",
    "smote_enn = SMOTEENN(random_state=0)\n",
    "X_train_smote_enn, y_train_smote_enn = smote_enn.fit_resample(X_train, y_train)"
   ]
  },
  {
   "cell_type": "markdown",
   "id": "733c83c7-8a1d-425f-9d89-8d44e5f031c7",
   "metadata": {},
   "source": [
    "## Logistic Regression"
   ]
  },
  {
   "cell_type": "markdown",
   "id": "0bc98938-5a9b-49a5-992e-3048d68deb93",
   "metadata": {},
   "source": [
    "### No balance"
   ]
  },
  {
   "cell_type": "code",
   "execution_count": 53,
   "id": "70d4dfd2-4f94-4469-8917-2cc0c0d07182",
   "metadata": {},
   "outputs": [
    {
     "name": "stdout",
     "output_type": "stream",
     "text": [
      "Mean cross-validation score: \n",
      "0.8496\n",
      "Optimization terminated successfully.\n",
      "         Current function value: 0.574917\n",
      "         Iterations 6\n",
      "                           Logit Regression Results                           \n",
      "==============================================================================\n",
      "Dep. Variable:                  Que16   No. Observations:                 3910\n",
      "Model:                          Logit   Df Residuals:                     3888\n",
      "Method:                           MLE   Df Model:                           21\n",
      "Date:                Fri, 03 Sep 2021   Pseudo R-squ.:                 0.07437\n",
      "Time:                        02:42:27   Log-Likelihood:                -2247.9\n",
      "converged:                       True   LL-Null:                       -2428.5\n",
      "Covariance Type:            nonrobust   LLR p-value:                 9.247e-64\n",
      "===============================================================================\n",
      "                  coef    std err          z      P>|z|      [0.025      0.975]\n",
      "-------------------------------------------------------------------------------\n",
      "const          -0.5723      0.127     -4.511      0.000      -0.821      -0.324\n",
      "Que1            0.0566      0.108      0.523      0.601      -0.156       0.269\n",
      "Que2           -0.0029      0.079     -0.037      0.971      -0.158       0.152\n",
      "Que3            0.3127      0.082      3.836      0.000       0.153       0.472\n",
      "Que4           -0.1251      0.106     -1.184      0.236      -0.332       0.082\n",
      "Que5            0.4205      0.081      5.216      0.000       0.262       0.578\n",
      "Que6            0.3804      0.098      3.871      0.000       0.188       0.573\n",
      "Que10_a        -0.0772      0.088     -0.877      0.380      -0.250       0.095\n",
      "Que10_b         0.1111      0.137      0.812      0.417      -0.157       0.379\n",
      "Que10_c         0.3283      0.086      3.838      0.000       0.161       0.496\n",
      "Que10_d        -0.0838      0.079     -1.054      0.292      -0.240       0.072\n",
      "Que10_e        -0.9321      0.311     -2.995      0.003      -1.542      -0.322\n",
      "Que10_f         0.2558      0.079      3.257      0.001       0.102       0.410\n",
      "Que14          -0.4736      0.108     -4.373      0.000      -0.686      -0.261\n",
      "Que15           0.8446      0.083     10.235      0.000       0.683       1.006\n",
      "Que17           1.4194      0.282      5.040      0.000       0.867       1.971\n",
      "Que18_age       0.1038      0.103      1.011      0.312      -0.097       0.305\n",
      "Que19           0.5202      0.144      3.614      0.000       0.238       0.802\n",
      "Que20           0.2137      0.211      1.013      0.311      -0.200       0.627\n",
      "Que21          -0.1362      0.084     -1.629      0.103      -0.300       0.028\n",
      "Que22           0.2957      0.079      3.754      0.000       0.141       0.450\n",
      "Que_smoking     0.0213      0.086      0.247      0.805      -0.147       0.190\n",
      "===============================================================================\n",
      "(array([0., 1.]), array([138, 262]))\n",
      "Test recall:\t 0.8817\n",
      "Test accuracy:\t 0.675\n",
      "Test precision:\t 0.7\n",
      "Test ROC AUC:\t 0.5821\n",
      "Test F1 score:\t 0.7804\n",
      "Test confusion matrix:\t\n",
      "[[ 39  99]\n",
      " [ 31 231]]\n"
     ]
    }
   ],
   "source": [
    "perform_logit(X_train, y_train, X_test, y_test, X_cols, y_col)"
   ]
  },
  {
   "cell_type": "markdown",
   "id": "1b4a86ba-f3fe-4b4d-aaef-50528ae916a5",
   "metadata": {},
   "source": [
    "### Undersampling"
   ]
  },
  {
   "cell_type": "code",
   "execution_count": 54,
   "id": "b2f3cd48-b4c4-4a9d-afbc-4285edaf5039",
   "metadata": {},
   "outputs": [
    {
     "name": "stdout",
     "output_type": "stream",
     "text": [
      "Mean cross-validation score: \n",
      "0.6285\n",
      "Optimization terminated successfully.\n",
      "         Current function value: 0.640034\n",
      "         Iterations 6\n",
      "                           Logit Regression Results                           \n",
      "==============================================================================\n",
      "Dep. Variable:                  Que16   No. Observations:                 2444\n",
      "Model:                          Logit   Df Residuals:                     2422\n",
      "Method:                           MLE   Df Model:                           21\n",
      "Date:                Fri, 03 Sep 2021   Pseudo R-squ.:                 0.07663\n",
      "Time:                        02:42:27   Log-Likelihood:                -1564.2\n",
      "converged:                       True   LL-Null:                       -1694.1\n",
      "Covariance Type:            nonrobust   LLR p-value:                 4.781e-43\n",
      "===============================================================================\n",
      "                  coef    std err          z      P>|z|      [0.025      0.975]\n",
      "-------------------------------------------------------------------------------\n",
      "const          -1.2919      0.155     -8.343      0.000      -1.595      -0.988\n",
      "Que1           -0.0239      0.128     -0.188      0.851      -0.274       0.226\n",
      "Que2            0.0804      0.094      0.859      0.390      -0.103       0.264\n",
      "Que3            0.3455      0.098      3.538      0.000       0.154       0.537\n",
      "Que4           -0.0375      0.124     -0.303      0.762      -0.280       0.205\n",
      "Que5            0.3649      0.095      3.859      0.000       0.180       0.550\n",
      "Que6            0.2189      0.116      1.884      0.060      -0.009       0.447\n",
      "Que10_a        -0.2741      0.106     -2.578      0.010      -0.482      -0.066\n",
      "Que10_b         0.1563      0.160      0.979      0.327      -0.157       0.469\n",
      "Que10_c         0.3551      0.102      3.472      0.001       0.155       0.555\n",
      "Que10_d        -0.0709      0.094     -0.755      0.450      -0.255       0.113\n",
      "Que10_e        -0.8599      0.377     -2.281      0.023      -1.599      -0.121\n",
      "Que10_f         0.1853      0.093      1.989      0.047       0.003       0.368\n",
      "Que14          -0.5082      0.131     -3.868      0.000      -0.766      -0.251\n",
      "Que15           0.8668      0.095      9.133      0.000       0.681       1.053\n",
      "Que17           1.5023      0.302      4.977      0.000       0.911       2.094\n",
      "Que18_age       0.1719      0.119      1.443      0.149      -0.062       0.405\n",
      "Que19           0.4929      0.167      2.960      0.003       0.166       0.819\n",
      "Que20           0.1854      0.241      0.770      0.441      -0.287       0.657\n",
      "Que21          -0.1477      0.098     -1.501      0.133      -0.341       0.045\n",
      "Que22           0.2870      0.094      3.039      0.002       0.102       0.472\n",
      "Que_smoking     0.0164      0.101      0.162      0.871      -0.182       0.215\n",
      "===============================================================================\n",
      "(array([0., 1.]), array([138, 262]))\n",
      "Test recall:\t 0.5802\n",
      "Test accuracy:\t 0.62\n",
      "Test precision:\t 0.7835\n",
      "Test ROC AUC:\t 0.6379\n",
      "Test F1 score:\t 0.6667\n",
      "Test confusion matrix:\t\n",
      "[[ 96  42]\n",
      " [110 152]]\n"
     ]
    }
   ],
   "source": [
    "perform_logit(X_train_rus, y_train_rus, X_test, y_test, X_cols, y_col)"
   ]
  },
  {
   "cell_type": "markdown",
   "id": "c2a82053-b9db-4364-8a1d-58fb6690096e",
   "metadata": {},
   "source": [
    "### Oversampling"
   ]
  },
  {
   "cell_type": "code",
   "execution_count": 55,
   "id": "bb88eeed-79bc-48ab-b3ae-166f1a438cc4",
   "metadata": {},
   "outputs": [
    {
     "name": "stdout",
     "output_type": "stream",
     "text": [
      "Mean cross-validation score: \n",
      "0.4229\n",
      "Optimization terminated successfully.\n",
      "         Current function value: 0.637117\n",
      "         Iterations 6\n",
      "                           Logit Regression Results                           \n",
      "==============================================================================\n",
      "Dep. Variable:                  Que16   No. Observations:                 5376\n",
      "Model:                          Logit   Df Residuals:                     5354\n",
      "Method:                           MLE   Df Model:                           21\n",
      "Date:                Fri, 03 Sep 2021   Pseudo R-squ.:                 0.08083\n",
      "Time:                        02:42:27   Log-Likelihood:                -3425.1\n",
      "converged:                       True   LL-Null:                       -3726.4\n",
      "Covariance Type:            nonrobust   LLR p-value:                4.922e-114\n",
      "===============================================================================\n",
      "                  coef    std err          z      P>|z|      [0.025      0.975]\n",
      "-------------------------------------------------------------------------------\n",
      "const          -1.3292      0.105    -12.615      0.000      -1.536      -1.123\n",
      "Que1            0.0148      0.086      0.173      0.863      -0.153       0.183\n",
      "Que2           -0.0511      0.063     -0.807      0.420      -0.175       0.073\n",
      "Que3            0.3162      0.066      4.794      0.000       0.187       0.445\n",
      "Que4           -0.0463      0.086     -0.540      0.589      -0.214       0.122\n",
      "Que5            0.3837      0.065      5.927      0.000       0.257       0.511\n",
      "Que6            0.3725      0.078      4.757      0.000       0.219       0.526\n",
      "Que10_a        -0.0890      0.070     -1.272      0.203      -0.226       0.048\n",
      "Que10_b         0.0688      0.107      0.643      0.520      -0.141       0.278\n",
      "Que10_c         0.3716      0.069      5.363      0.000       0.236       0.507\n",
      "Que10_d        -0.1253      0.063     -1.983      0.047      -0.249      -0.001\n",
      "Que10_e        -0.8307      0.261     -3.181      0.001      -1.343      -0.319\n",
      "Que10_f         0.2756      0.063      4.363      0.000       0.152       0.399\n",
      "Que14          -0.4891      0.088     -5.540      0.000      -0.662      -0.316\n",
      "Que15           0.8840      0.064     13.787      0.000       0.758       1.010\n",
      "Que17           1.5998      0.221      7.254      0.000       1.168       2.032\n",
      "Que18_age       0.0115      0.081      0.143      0.887      -0.147       0.170\n",
      "Que19           0.5044      0.111      4.548      0.000       0.287       0.722\n",
      "Que20           0.2007      0.162      1.237      0.216      -0.117       0.519\n",
      "Que21          -0.1513      0.067     -2.266      0.023      -0.282      -0.020\n",
      "Que22           0.2839      0.064      4.462      0.000       0.159       0.409\n",
      "Que_smoking    -0.0033      0.068     -0.048      0.962      -0.137       0.131\n",
      "===============================================================================\n",
      "(array([0., 1.]), array([138, 262]))\n",
      "Test recall:\t 0.584\n",
      "Test accuracy:\t 0.6225\n",
      "Test precision:\t 0.7846\n",
      "Test ROC AUC:\t 0.6398\n",
      "Test F1 score:\t 0.6696\n",
      "Test confusion matrix:\t\n",
      "[[ 96  42]\n",
      " [109 153]]\n"
     ]
    }
   ],
   "source": [
    "perform_logit(X_train_ros, y_train_ros, X_test, y_test, X_cols, y_col)"
   ]
  },
  {
   "cell_type": "markdown",
   "id": "570995c4-4a3f-471b-aff9-97b2157e7062",
   "metadata": {},
   "source": [
    "### SMOTEENN"
   ]
  },
  {
   "cell_type": "code",
   "execution_count": 56,
   "id": "2c03217f-361e-4855-976d-17514b83ac58",
   "metadata": {},
   "outputs": [
    {
     "name": "stdout",
     "output_type": "stream",
     "text": [
      "Mean cross-validation score: \n",
      "0.4038\n",
      "Optimization terminated successfully.\n",
      "         Current function value: 0.482752\n",
      "         Iterations 6\n",
      "                           Logit Regression Results                           \n",
      "==============================================================================\n",
      "Dep. Variable:                  Que16   No. Observations:                 2680\n",
      "Model:                          Logit   Df Residuals:                     2658\n",
      "Method:                           MLE   Df Model:                           21\n",
      "Date:                Fri, 03 Sep 2021   Pseudo R-squ.:                  0.2830\n",
      "Time:                        02:42:28   Log-Likelihood:                -1293.8\n",
      "converged:                       True   LL-Null:                       -1804.5\n",
      "Covariance Type:            nonrobust   LLR p-value:                7.693e-203\n",
      "===============================================================================\n",
      "                  coef    std err          z      P>|z|      [0.025      0.975]\n",
      "-------------------------------------------------------------------------------\n",
      "const          -3.9402      0.220    -17.900      0.000      -4.372      -3.509\n",
      "Que1            0.0737      0.145      0.507      0.612      -0.211       0.358\n",
      "Que2           -0.2420      0.113     -2.149      0.032      -0.463      -0.021\n",
      "Que3            0.9172      0.118      7.749      0.000       0.685       1.149\n",
      "Que4           -0.0633      0.154     -0.411      0.681      -0.366       0.239\n",
      "Que5            0.9540      0.113      8.409      0.000       0.732       1.176\n",
      "Que6            0.9068      0.136      6.658      0.000       0.640       1.174\n",
      "Que10_a        -0.4102      0.122     -3.373      0.001      -0.648      -0.172\n",
      "Que10_b        -0.2519      0.196     -1.282      0.200      -0.637       0.133\n",
      "Que10_c         1.1256      0.130      8.665      0.000       0.871       1.380\n",
      "Que10_d        -0.2976      0.108     -2.750      0.006      -0.510      -0.085\n",
      "Que10_e        -1.6076      0.465     -3.459      0.001      -2.519      -0.697\n",
      "Que10_f         0.7639      0.113      6.764      0.000       0.543       0.985\n",
      "Que14          -1.4371      0.167     -8.586      0.000      -1.765      -1.109\n",
      "Que15           1.6798      0.110     15.273      0.000       1.464       1.895\n",
      "Que17           1.6929      0.346      4.891      0.000       1.015       2.371\n",
      "Que18_age       0.6150      0.142      4.319      0.000       0.336       0.894\n",
      "Que19           1.0508      0.191      5.498      0.000       0.676       1.425\n",
      "Que20           1.5786      0.297      5.314      0.000       0.996       2.161\n",
      "Que21          -0.8503      0.119     -7.118      0.000      -1.084      -0.616\n",
      "Que22           0.8913      0.118      7.538      0.000       0.660       1.123\n",
      "Que_smoking    -0.0342      0.117     -0.294      0.769      -0.263       0.194\n",
      "===============================================================================\n",
      "(array([0., 1.]), array([138, 262]))\n",
      "Test recall:\t 0.4733\n",
      "Test accuracy:\t 0.585\n",
      "Test precision:\t 0.8158\n",
      "Test ROC AUC:\t 0.6352\n",
      "Test F1 score:\t 0.599\n",
      "Test confusion matrix:\t\n",
      "[[110  28]\n",
      " [138 124]]\n"
     ]
    }
   ],
   "source": [
    "perform_logit(X_train_smote_enn, y_train_smote_enn, X_test, y_test, X_cols, y_col)"
   ]
  },
  {
   "cell_type": "markdown",
   "id": "52234724-2880-4ac1-bacb-2e0b75328e2e",
   "metadata": {},
   "source": [
    "## Random Forest"
   ]
  },
  {
   "cell_type": "markdown",
   "id": "aaecf051-be3d-40a5-ad97-c5d13bf67f64",
   "metadata": {},
   "source": [
    "### No balance"
   ]
  },
  {
   "cell_type": "code",
   "execution_count": 57,
   "id": "f3ee7c00-7302-4581-aff2-1119cffa8e27",
   "metadata": {},
   "outputs": [
    {
     "name": "stdout",
     "output_type": "stream",
     "text": [
      "Fitting 5 folds for each of 2970 candidates, totalling 14850 fits\n",
      "Grid search time: 0:12:06.387754\n",
      "Mean cross-validation score of best model: \n",
      "0.8121\n",
      "Best parameters:\n",
      "{'bootstrap': True,\n",
      " 'criterion': 'gini',\n",
      " 'max_depth': 54,\n",
      " 'max_features': 'sqrt',\n",
      " 'min_samples_leaf': 1,\n",
      " 'min_samples_split': 2,\n",
      " 'n_estimators': 15}\n",
      "{'bootstrap': True,\n",
      " 'ccp_alpha': 0.0,\n",
      " 'class_weight': None,\n",
      " 'criterion': 'gini',\n",
      " 'max_depth': 54,\n",
      " 'max_features': 'sqrt',\n",
      " 'max_leaf_nodes': None,\n",
      " 'max_samples': None,\n",
      " 'min_impurity_decrease': 0.0,\n",
      " 'min_impurity_split': None,\n",
      " 'min_samples_leaf': 1,\n",
      " 'min_samples_split': 2,\n",
      " 'min_weight_fraction_leaf': 0.0,\n",
      " 'n_estimators': 15,\n",
      " 'n_jobs': None,\n",
      " 'oob_score': False,\n",
      " 'random_state': None,\n",
      " 'verbose': 0,\n",
      " 'warm_start': False}\n",
      "(array([0., 1.]), array([138, 262]))\n",
      "Test recall:\t 0.5878\n",
      "Test accuracy:\t 0.6\n",
      "Test precision:\t 0.7476\n",
      "Test ROC AUC:\t 0.6055\n",
      "Test F1 score:\t 0.6581\n",
      "Test confusion matrix:\t\n",
      "[[ 86  52]\n",
      " [108 154]]\n",
      "Elapsed time to compute the importances: 0.026 seconds\n"
     ]
    },
    {
     "data": {
      "image/png": "[encoded data removed]",
      "text/plain": [
       "<Figure size 432x288 with 1 Axes>"
      ]
     },
     "metadata": {
      "needs_background": "light"
     },
     "output_type": "display_data"
    }
   ],
   "source": [
    "perform_random_forest(X_train_smote_enn, y_train_smote_enn, X_test, y_test)"
   ]
  },
  {
   "cell_type": "markdown",
   "id": "e9dd608d-77b2-4c5e-9f78-797abb8cde1f",
   "metadata": {},
   "source": [
    "### Undersampling"
   ]
  },
  {
   "cell_type": "code",
   "execution_count": 58,
   "id": "78c8f90c-003c-4688-8a95-5f40cdf6b7d7",
   "metadata": {},
   "outputs": [
    {
     "name": "stdout",
     "output_type": "stream",
     "text": [
      "Fitting 5 folds for each of 2970 candidates, totalling 14850 fits\n",
      "Grid search time: 0:11:42.188777\n",
      "Mean cross-validation score of best model: \n",
      "0.6825\n",
      "Best parameters:\n",
      "{'bootstrap': True,\n",
      " 'criterion': 'entropy',\n",
      " 'max_depth': 32,\n",
      " 'max_features': 'sqrt',\n",
      " 'min_samples_leaf': 1,\n",
      " 'min_samples_split': 2,\n",
      " 'n_estimators': 15}\n",
      "{'bootstrap': True,\n",
      " 'ccp_alpha': 0.0,\n",
      " 'class_weight': None,\n",
      " 'criterion': 'entropy',\n",
      " 'max_depth': 32,\n",
      " 'max_features': 'sqrt',\n",
      " 'max_leaf_nodes': None,\n",
      " 'max_samples': None,\n",
      " 'min_impurity_decrease': 0.0,\n",
      " 'min_impurity_split': None,\n",
      " 'min_samples_leaf': 1,\n",
      " 'min_samples_split': 2,\n",
      " 'min_weight_fraction_leaf': 0.0,\n",
      " 'n_estimators': 15,\n",
      " 'n_jobs': None,\n",
      " 'oob_score': False,\n",
      " 'random_state': None,\n",
      " 'verbose': 0,\n",
      " 'warm_start': False}\n",
      "(array([0., 1.]), array([138, 262]))\n",
      "Test recall:\t 0.6107\n",
      "Test accuracy:\t 0.635\n",
      "Test precision:\t 0.7843\n",
      "Test ROC AUC:\t 0.6459\n",
      "Test F1 score:\t 0.6867\n",
      "Test confusion matrix:\t\n",
      "[[ 94  44]\n",
      " [102 160]]\n",
      "Elapsed time to compute the importances: 0.027 seconds\n"
     ]
    },
    {
     "data": {
      "image/png": "[encoded data removed]",
      "text/plain": [
       "<Figure size 432x288 with 1 Axes>"
      ]
     },
     "metadata": {
      "needs_background": "light"
     },
     "output_type": "display_data"
    }
   ],
   "source": [
    "perform_random_forest(X_train_rus, y_train_rus, X_test, y_test)"
   ]
  },
  {
   "cell_type": "markdown",
   "id": "98275891-207c-47c4-9d1a-7fb440059f5c",
   "metadata": {},
   "source": [
    "### Oversampling"
   ]
  },
  {
   "cell_type": "code",
   "execution_count": 59,
   "id": "91bd31a4-1cf8-4407-84a6-1b8c85efb9e5",
   "metadata": {},
   "outputs": [
    {
     "name": "stdout",
     "output_type": "stream",
     "text": [
      "Fitting 5 folds for each of 2970 candidates, totalling 14850 fits\n",
      "Grid search time: 0:17:36.425929\n",
      "Mean cross-validation score of best model: \n",
      "0.5479\n",
      "Best parameters:\n",
      "{'bootstrap': True,\n",
      " 'criterion': 'gini',\n",
      " 'max_depth': None,\n",
      " 'max_features': 'sqrt',\n",
      " 'min_samples_leaf': 1,\n",
      " 'min_samples_split': 2,\n",
      " 'n_estimators': 25}\n",
      "{'bootstrap': True,\n",
      " 'ccp_alpha': 0.0,\n",
      " 'class_weight': None,\n",
      " 'criterion': 'gini',\n",
      " 'max_depth': None,\n",
      " 'max_features': 'sqrt',\n",
      " 'max_leaf_nodes': None,\n",
      " 'max_samples': None,\n",
      " 'min_impurity_decrease': 0.0,\n",
      " 'min_impurity_split': None,\n",
      " 'min_samples_leaf': 1,\n",
      " 'min_samples_split': 2,\n",
      " 'min_weight_fraction_leaf': 0.0,\n",
      " 'n_estimators': 25,\n",
      " 'n_jobs': None,\n",
      " 'oob_score': False,\n",
      " 'random_state': None,\n",
      " 'verbose': 0,\n",
      " 'warm_start': False}\n",
      "(array([0., 1.]), array([138, 262]))\n",
      "Test recall:\t 0.7634\n",
      "Test accuracy:\t 0.6675\n",
      "Test precision:\t 0.738\n",
      "Test ROC AUC:\t 0.6244\n",
      "Test F1 score:\t 0.7505\n",
      "Test confusion matrix:\t\n",
      "[[ 67  71]\n",
      " [ 62 200]]\n",
      "Elapsed time to compute the importances: 0.074 seconds\n"
     ]
    },
    {
     "data": {
      "image/png": "[encoded data removed]",
      "text/plain": [
       "<Figure size 432x288 with 1 Axes>"
      ]
     },
     "metadata": {
      "needs_background": "light"
     },
     "output_type": "display_data"
    }
   ],
   "source": [
    "perform_random_forest(X_train_ros, y_train_ros, X_test, y_test)"
   ]
  },
  {
   "cell_type": "markdown",
   "id": "fa73defd-d7ce-4ab8-8bc6-b198deaa6182",
   "metadata": {},
   "source": [
    "### SMOTEENN"
   ]
  },
  {
   "cell_type": "code",
   "execution_count": 60,
   "id": "3e627729-7734-4b55-9cce-6cf6c61995a9",
   "metadata": {},
   "outputs": [
    {
     "name": "stdout",
     "output_type": "stream",
     "text": [
      "Fitting 5 folds for each of 2970 candidates, totalling 14850 fits\n",
      "Grid search time: 0:14:36.402173\n",
      "Mean cross-validation score of best model: \n",
      "0.9159\n",
      "Best parameters:\n",
      "{'bootstrap': True,\n",
      " 'criterion': 'entropy',\n",
      " 'max_depth': 10,\n",
      " 'max_features': 'sqrt',\n",
      " 'min_samples_leaf': 4,\n",
      " 'min_samples_split': 2,\n",
      " 'n_estimators': 67}\n",
      "{'bootstrap': True,\n",
      " 'ccp_alpha': 0.0,\n",
      " 'class_weight': None,\n",
      " 'criterion': 'entropy',\n",
      " 'max_depth': 10,\n",
      " 'max_features': 'sqrt',\n",
      " 'max_leaf_nodes': None,\n",
      " 'max_samples': None,\n",
      " 'min_impurity_decrease': 0.0,\n",
      " 'min_impurity_split': None,\n",
      " 'min_samples_leaf': 4,\n",
      " 'min_samples_split': 2,\n",
      " 'min_weight_fraction_leaf': 0.0,\n",
      " 'n_estimators': 67,\n",
      " 'n_jobs': None,\n",
      " 'oob_score': False,\n",
      " 'random_state': None,\n",
      " 'verbose': 0,\n",
      " 'warm_start': False}\n",
      "(array([0., 1.]), array([138, 262]))\n",
      "Test recall:\t 0.916\n",
      "Test accuracy:\t 0.6775\n",
      "Test precision:\t 0.6916\n",
      "Test ROC AUC:\t 0.5703\n",
      "Test F1 score:\t 0.7882\n",
      "Test confusion matrix:\t\n",
      "[[ 31 107]\n",
      " [ 22 240]]\n",
      "Elapsed time to compute the importances: 0.413 seconds\n"
     ]
    },
    {
     "data": {
      "image/png": "[encoded data removed]",
      "text/plain": [
       "<Figure size 432x288 with 1 Axes>"
      ]
     },
     "metadata": {
      "needs_background": "light"
     },
     "output_type": "display_data"
    }
   ],
   "source": [
    "perform_random_forest(X_train, y_train, X_test, y_test)"
   ]
  },
  {
   "cell_type": "markdown",
   "id": "89ce2c50-9232-4b3f-bd5b-0db4fb9563cf",
   "metadata": {},
   "source": [
    "## Decision Tree"
   ]
  },
  {
   "cell_type": "markdown",
   "id": "2f01c4f5-bc08-405b-8121-8c90df9e987d",
   "metadata": {},
   "source": [
    "### No balance"
   ]
  },
  {
   "cell_type": "code",
   "execution_count": 61,
   "id": "e4c269e0-b18c-44ed-95dd-4ab7464d2ab8",
   "metadata": {},
   "outputs": [
    {
     "name": "stdout",
     "output_type": "stream",
     "text": [
      "Fitting 5 folds for each of 252 candidates, totalling 1260 fits\n",
      "Grid search time: 0:00:02.489454\n",
      "Mean cross-validation score of best model: \n",
      "0.8181\n",
      "Best parameters:\n",
      "{'criterion': 'gini',\n",
      " 'max_depth': 10,\n",
      " 'max_features': 'sqrt',\n",
      " 'min_samples_leaf': 4,\n",
      " 'min_samples_split': 2,\n",
      " 'splitter': 'random'}\n",
      "{'ccp_alpha': 0.0,\n",
      " 'class_weight': None,\n",
      " 'criterion': 'gini',\n",
      " 'max_depth': 10,\n",
      " 'max_features': 'sqrt',\n",
      " 'max_leaf_nodes': None,\n",
      " 'min_impurity_decrease': 0.0,\n",
      " 'min_impurity_split': None,\n",
      " 'min_samples_leaf': 4,\n",
      " 'min_samples_split': 2,\n",
      " 'min_weight_fraction_leaf': 0.0,\n",
      " 'random_state': None,\n",
      " 'splitter': 'random'}\n",
      "(array([0., 1.]), array([138, 262]))\n",
      "Test recall:\t 0.8244\n",
      "Test accuracy:\t 0.68\n",
      "Test precision:\t 0.7248\n",
      "Test ROC AUC:\t 0.6151\n",
      "Test F1 score:\t 0.7714\n",
      "Test confusion matrix:\t\n",
      "[[ 56  82]\n",
      " [ 46 216]]\n"
     ]
    }
   ],
   "source": [
    "perform_decision_tree(X_train, y_train, X_test, y_test)"
   ]
  },
  {
   "cell_type": "markdown",
   "id": "e8a0d235-55d1-4b7f-a07e-7a34f5477aad",
   "metadata": {},
   "source": [
    "### Undersampling"
   ]
  },
  {
   "cell_type": "code",
   "execution_count": 62,
   "id": "6701690d-aeb6-484e-b5d8-6fccb5b9a31b",
   "metadata": {},
   "outputs": [
    {
     "name": "stdout",
     "output_type": "stream",
     "text": [
      "Fitting 5 folds for each of 252 candidates, totalling 1260 fits\n",
      "Grid search time: 0:00:01.847560\n",
      "Mean cross-validation score of best model: \n",
      "0.6571\n",
      "Best parameters:\n",
      "{'criterion': 'gini',\n",
      " 'max_depth': 26,\n",
      " 'max_features': 'sqrt',\n",
      " 'min_samples_leaf': 1,\n",
      " 'min_samples_split': 2,\n",
      " 'splitter': 'random'}\n",
      "{'ccp_alpha': 0.0,\n",
      " 'class_weight': None,\n",
      " 'criterion': 'gini',\n",
      " 'max_depth': 26,\n",
      " 'max_features': 'sqrt',\n",
      " 'max_leaf_nodes': None,\n",
      " 'min_impurity_decrease': 0.0,\n",
      " 'min_impurity_split': None,\n",
      " 'min_samples_leaf': 1,\n",
      " 'min_samples_split': 2,\n",
      " 'min_weight_fraction_leaf': 0.0,\n",
      " 'random_state': None,\n",
      " 'splitter': 'random'}\n",
      "(array([0., 1.]), array([138, 262]))\n",
      "Test recall:\t 0.5916\n",
      "Test accuracy:\t 0.5975\n",
      "Test precision:\t 0.7416\n",
      "Test ROC AUC:\t 0.6001\n",
      "Test F1 score:\t 0.6582\n",
      "Test confusion matrix:\t\n",
      "[[ 84  54]\n",
      " [107 155]]\n"
     ]
    }
   ],
   "source": [
    "perform_decision_tree(X_train_rus, y_train_rus, X_test, y_test)"
   ]
  },
  {
   "cell_type": "markdown",
   "id": "85f50ee3-1dd3-40a5-bac2-054255e0730c",
   "metadata": {},
   "source": [
    "### Oversampling"
   ]
  },
  {
   "cell_type": "code",
   "execution_count": 63,
   "id": "b08bc3b7-9f2a-4572-88c2-c6d2868df1fd",
   "metadata": {},
   "outputs": [
    {
     "name": "stdout",
     "output_type": "stream",
     "text": [
      "Fitting 5 folds for each of 252 candidates, totalling 1260 fits\n",
      "Grid search time: 0:00:02.859204\n",
      "Mean cross-validation score of best model: \n",
      "0.5416\n",
      "Best parameters:\n",
      "{'criterion': 'gini',\n",
      " 'max_depth': 10,\n",
      " 'max_features': 'sqrt',\n",
      " 'min_samples_leaf': 1,\n",
      " 'min_samples_split': 10,\n",
      " 'splitter': 'random'}\n",
      "{'ccp_alpha': 0.0,\n",
      " 'class_weight': None,\n",
      " 'criterion': 'gini',\n",
      " 'max_depth': 10,\n",
      " 'max_features': 'sqrt',\n",
      " 'max_leaf_nodes': None,\n",
      " 'min_impurity_decrease': 0.0,\n",
      " 'min_impurity_split': None,\n",
      " 'min_samples_leaf': 1,\n",
      " 'min_samples_split': 10,\n",
      " 'min_weight_fraction_leaf': 0.0,\n",
      " 'random_state': None,\n",
      " 'splitter': 'random'}\n",
      "(array([0., 1.]), array([138, 262]))\n",
      "Test recall:\t 0.6031\n",
      "Test accuracy:\t 0.62\n",
      "Test precision:\t 0.767\n",
      "Test ROC AUC:\t 0.6276\n",
      "Test F1 score:\t 0.6752\n",
      "Test confusion matrix:\t\n",
      "[[ 90  48]\n",
      " [104 158]]\n"
     ]
    }
   ],
   "source": [
    "perform_decision_tree(X_train_ros, y_train_ros, X_test, y_test)"
   ]
  },
  {
   "cell_type": "markdown",
   "id": "111d22e7-e234-49b8-851e-f6c1d93d6641",
   "metadata": {},
   "source": [
    "### SMOTEENN"
   ]
  },
  {
   "cell_type": "code",
   "execution_count": 64,
   "id": "ebf5ff9e-f129-4b27-a335-32c09e35fb02",
   "metadata": {},
   "outputs": [
    {
     "name": "stdout",
     "output_type": "stream",
     "text": [
      "Fitting 5 folds for each of 252 candidates, totalling 1260 fits\n",
      "Grid search time: 0:00:02.000742\n",
      "Mean cross-validation score of best model: \n",
      "0.7925\n",
      "Best parameters:\n",
      "{'criterion': 'gini',\n",
      " 'max_depth': 50,\n",
      " 'max_features': 'sqrt',\n",
      " 'min_samples_leaf': 1,\n",
      " 'min_samples_split': 2,\n",
      " 'splitter': 'best'}\n",
      "{'ccp_alpha': 0.0,\n",
      " 'class_weight': None,\n",
      " 'criterion': 'gini',\n",
      " 'max_depth': 50,\n",
      " 'max_features': 'sqrt',\n",
      " 'max_leaf_nodes': None,\n",
      " 'min_impurity_decrease': 0.0,\n",
      " 'min_impurity_split': None,\n",
      " 'min_samples_leaf': 1,\n",
      " 'min_samples_split': 2,\n",
      " 'min_weight_fraction_leaf': 0.0,\n",
      " 'random_state': None,\n",
      " 'splitter': 'best'}\n",
      "(array([0., 1.]), array([138, 262]))\n",
      "Test recall:\t 0.5344\n",
      "Test accuracy:\t 0.585\n",
      "Test precision:\t 0.7609\n",
      "Test ROC AUC:\t 0.6078\n",
      "Test F1 score:\t 0.6278\n",
      "Test confusion matrix:\t\n",
      "[[ 94  44]\n",
      " [122 140]]\n"
     ]
    }
   ],
   "source": [
    "perform_decision_tree(X_train_smote_enn, y_train_smote_enn, X_test, y_test)"
   ]
  }
 ],
 "metadata": {
  "kernelspec": {
   "display_name": "Python 3",
   "language": "python",
   "name": "python3"
  },
  "language_info": {
   "codemirror_mode": {
    "name": "ipython",
    "version": 3
   },
   "file_extension": ".py",
   "mimetype": "text/x-python",
   "name": "python",
   "nbconvert_exporter": "python",
   "pygments_lexer": "ipython3",
   "version": "3.7.10"
  },
  "toc-autonumbering": false
 },
 "nbformat": 4,
 "nbformat_minor": 5
}
