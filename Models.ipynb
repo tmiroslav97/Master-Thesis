{
 "cells": [
  {
   "cell_type": "markdown",
   "id": "6a10b418-ac80-4187-a54e-f74066bca77a",
   "metadata": {},
   "source": [
    "# Models"
   ]
  },
  {
   "cell_type": "code",
   "execution_count": 1,
   "id": "2d0f059c-90c6-4964-a63d-fd1476a01bac",
   "metadata": {},
   "outputs": [],
   "source": [
    "import numpy as np\n",
    "import pandas as pd\n",
    "from sklearn.model_selection import train_test_split\n",
    "from sklearn.impute import SimpleImputer"
   ]
  },
  {
   "cell_type": "code",
   "execution_count": null,
   "id": "d4b806b0-e1e0-4573-b393-9468b1da5d61",
   "metadata": {},
   "outputs": [],
   "source": [
    "from google.colab import drive\n",
    "drive.mount('/content/drive')"
   ]
  },
  {
   "cell_type": "code",
   "execution_count": 2,
   "id": "5efc22b5-9751-4c97-881a-6fb4b94c8954",
   "metadata": {},
   "outputs": [],
   "source": [
    "# %run /content/drive/MyDrive/DentistDataAnalysis/Experiments/Mappings.ipynb\n",
    "# %run /content/drive/MyDrive/DentistDataAnalysis/Experiments/Helpers.ipynb\n",
    "%run Mappings.ipynb\n",
    "%run Helpers.ipynb"
   ]
  },
  {
   "cell_type": "code",
   "execution_count": 3,
   "id": "5aafc249-ed54-400f-8596-509d384c8e3e",
   "metadata": {},
   "outputs": [],
   "source": [
    "# DIR = '/content/drive/MyDrive/DentistDataAnalysis/Experiments/'\n",
    "DIR = ''"
   ]
  },
  {
   "cell_type": "code",
   "execution_count": 4,
   "id": "74c55e76-b922-4d2d-89ee-7ee2f829bd09",
   "metadata": {},
   "outputs": [],
   "source": [
    "data = pd.read_csv(DIR+'dataset/final_data.csv')"
   ]
  },
  {
   "cell_type": "code",
   "execution_count": 5,
   "id": "05ed30dd-55cb-4a2e-b332-ae75e5845d66",
   "metadata": {},
   "outputs": [],
   "source": [
    "X_cols = ['Que1', 'Que2', 'Que3', 'Que4', 'Que5', 'Que6', 'Que10_a', 'Que10_b', 'Que10_c', 'Que10_d', 'Que10_e', 'Que10_f', 'Que14', 'Que15', 'Que17', 'Que18_age', 'Que19', 'Que20', 'Que21', 'Que22', 'Que_smoking']\n",
    "y_col = ['Que16']"
   ]
  },
  {
   "cell_type": "markdown",
   "id": "cfc10cdd-703f-4f4c-a8fd-fc127da6575f",
   "metadata": {},
   "source": [
    "# Strategy 1 - dropping all missing"
   ]
  },
  {
   "cell_type": "code",
   "execution_count": 6,
   "id": "79170683-1efa-4b7e-9881-e7e5925443b8",
   "metadata": {},
   "outputs": [],
   "source": [
    "data_dropped = data.dropna().reset_index(drop=True)\n",
    "data_dropped = perform_mapping(data_dropped, questions_map_EN)\n",
    "model_data = data_dropped.drop(columns=['Que16'])\n",
    "target_data = data_dropped['Que16']\n",
    "X_train, X_test, y_train, y_test = train_test_split(model_data.values, target_data.values, test_size=0.20, random_state=42)"
   ]
  },
  {
   "cell_type": "markdown",
   "id": "25e44020-3441-4055-992e-761ee3087697",
   "metadata": {},
   "source": [
    "## Logistic Regression"
   ]
  },
  {
   "cell_type": "markdown",
   "id": "54648229-d551-49d8-ba81-922c8052e766",
   "metadata": {},
   "source": [
    "### No balance"
   ]
  },
  {
   "cell_type": "code",
   "execution_count": 7,
   "id": "c3790728-0cdf-4649-af9b-7e88d4d65d9c",
   "metadata": {},
   "outputs": [
    {
     "name": "stdout",
     "output_type": "stream",
     "text": [
      "Optimization terminated successfully.\n",
      "         Current function value: 0.568071\n",
      "         Iterations 7\n",
      "                           Logit Regression Results                           \n",
      "==============================================================================\n",
      "Dep. Variable:                  Que16   No. Observations:                  748\n",
      "Model:                          Logit   Df Residuals:                      727\n",
      "Method:                           MLE   Df Model:                           20\n",
      "Date:                Wed, 18 Aug 2021   Pseudo R-squ.:                  0.1293\n",
      "Time:                        13:28:57   Log-Likelihood:                -424.92\n",
      "converged:                       True   LL-Null:                       -488.02\n",
      "Covariance Type:            nonrobust   LLR p-value:                 2.008e-17\n",
      "===============================================================================\n",
      "                  coef    std err          z      P>|z|      [0.025      0.975]\n",
      "-------------------------------------------------------------------------------\n",
      "Que1            0.4411      0.244      1.808      0.071      -0.037       0.919\n",
      "Que2           -0.3173      0.174     -1.820      0.069      -0.659       0.024\n",
      "Que3            0.0401      0.173      0.231      0.817      -0.300       0.380\n",
      "Que4            0.1109      0.221      0.501      0.616      -0.323       0.544\n",
      "Que5           -0.1199      0.506     -0.237      0.813      -1.113       0.873\n",
      "Que6            0.2174      0.174      1.248      0.212      -0.124       0.559\n",
      "Que10_a        -0.1347      0.188     -0.716      0.474      -0.504       0.234\n",
      "Que10_b         0.3066      0.309      0.992      0.321      -0.299       0.912\n",
      "Que10_c        -0.0855      0.178     -0.480      0.632      -0.435       0.264\n",
      "Que10_d         0.1114      0.181      0.615      0.539      -0.244       0.467\n",
      "Que10_e        -1.8709      0.755     -2.477      0.013      -3.351      -0.391\n",
      "Que10_f        -0.0222      0.168     -0.133      0.894      -0.351       0.306\n",
      "Que14          -0.4782      0.240     -1.996      0.046      -0.948      -0.009\n",
      "Que15           1.1974      0.189      6.342      0.000       0.827       1.567\n",
      "Que17           1.9917      0.770      2.587      0.010       0.483       3.500\n",
      "Que18_age      -0.0424      0.230     -0.185      0.853      -0.493       0.408\n",
      "Que19           0.6227      0.340      1.830      0.067      -0.044       1.290\n",
      "Que20           1.5266      0.647      2.359      0.018       0.258       2.795\n",
      "Que21          -0.1256      0.181     -0.693      0.488      -0.481       0.230\n",
      "Que22           0.1244      0.165      0.753      0.451      -0.199       0.448\n",
      "Que_smoking     0.2056      0.192      1.068      0.286      -0.172       0.583\n",
      "===============================================================================\n",
      "(array([0., 1.]), array([ 71, 117]))\n",
      "Test ROC AUC:  0.6398820272059709\n",
      "Test accuracy:  0.6861702127659575\n",
      "Test precision:  0.7132352941176471\n",
      "Test recall:  0.8290598290598291\n",
      "Test F1 score:  0.766798418972332\n",
      "Test confusion matrix: \n",
      "[[32 39]\n",
      " [20 97]]\n"
     ]
    }
   ],
   "source": [
    "perform_logit(X_train, X_test, y_train, y_test, X_cols, y_col)"
   ]
  },
  {
   "cell_type": "markdown",
   "id": "01bd3b09-8206-4c2f-9f3c-080454c01406",
   "metadata": {},
   "source": [
    "### Undersampling"
   ]
  },
  {
   "cell_type": "code",
   "execution_count": 8,
   "id": "b9ad429c-b967-42f9-a4f9-688786d9564a",
   "metadata": {},
   "outputs": [
    {
     "name": "stdout",
     "output_type": "stream",
     "text": [
      "Optimization terminated successfully.\n",
      "         Current function value: 0.609852\n",
      "         Iterations 6\n",
      "                           Logit Regression Results                           \n",
      "==============================================================================\n",
      "Dep. Variable:                  Que16   No. Observations:                  536\n",
      "Model:                          Logit   Df Residuals:                      515\n",
      "Method:                           MLE   Df Model:                           20\n",
      "Date:                Wed, 18 Aug 2021   Pseudo R-squ.:                  0.1202\n",
      "Time:                        13:28:59   Log-Likelihood:                -326.88\n",
      "converged:                       True   LL-Null:                       -371.53\n",
      "Covariance Type:            nonrobust   LLR p-value:                 9.854e-11\n",
      "===============================================================================\n",
      "                  coef    std err          z      P>|z|      [0.025      0.975]\n",
      "-------------------------------------------------------------------------------\n",
      "Que1            0.6981      0.273      2.553      0.011       0.162       1.234\n",
      "Que2           -0.4400      0.199     -2.207      0.027      -0.831      -0.049\n",
      "Que3           -0.1586      0.196     -0.807      0.419      -0.543       0.226\n",
      "Que4            0.0321      0.251      0.128      0.898      -0.460       0.524\n",
      "Que5           -0.3638      0.624     -0.583      0.560      -1.586       0.859\n",
      "Que6            0.1793      0.203      0.885      0.376      -0.218       0.576\n",
      "Que10_a        -0.1687      0.213     -0.792      0.428      -0.586       0.249\n",
      "Que10_b         0.3810      0.339      1.123      0.262      -0.284       1.046\n",
      "Que10_c        -0.1858      0.201     -0.923      0.356      -0.580       0.209\n",
      "Que10_d         0.0965      0.207      0.467      0.640      -0.308       0.501\n",
      "Que10_e        -2.5798      1.243     -2.075      0.038      -5.017      -0.143\n",
      "Que10_f        -0.0891      0.191     -0.466      0.641      -0.464       0.286\n",
      "Que14          -0.4440      0.273     -1.627      0.104      -0.979       0.091\n",
      "Que15           1.0781      0.212      5.090      0.000       0.663       1.493\n",
      "Que17           1.8182      0.810      2.245      0.025       0.231       3.405\n",
      "Que18_age      -0.2093      0.269     -0.778      0.436      -0.736       0.318\n",
      "Que19           0.8298      0.375      2.210      0.027       0.094       1.566\n",
      "Que20           1.4157      0.697      2.031      0.042       0.049       2.782\n",
      "Que21          -0.3093      0.208     -1.485      0.138      -0.718       0.099\n",
      "Que22           0.0103      0.190      0.054      0.957      -0.362       0.383\n",
      "Que_smoking     0.0954      0.221      0.432      0.666      -0.337       0.528\n",
      "===============================================================================\n",
      "(array([0., 1.]), array([ 71, 117]))\n",
      "Test ROC AUC:  0.6670879980739135\n",
      "Test accuracy:  0.6648936170212766\n",
      "Test precision:  0.77\n",
      "Test recall:  0.6581196581196581\n",
      "Test F1 score:  0.7096774193548387\n",
      "Test confusion matrix: \n",
      "[[48 23]\n",
      " [40 77]]\n"
     ]
    }
   ],
   "source": [
    "perform_logit(X_train, X_test, y_train, y_test, X_cols, y_col, balance='under')"
   ]
  },
  {
   "cell_type": "markdown",
   "id": "079ef4c0-f77b-446c-ae3f-5b75276b6fb0",
   "metadata": {},
   "source": [
    "### Oversampling"
   ]
  },
  {
   "cell_type": "code",
   "execution_count": 9,
   "id": "0d8d8455-2f07-4be6-b441-0aa82ffe0fcf",
   "metadata": {},
   "outputs": [
    {
     "name": "stdout",
     "output_type": "stream",
     "text": [
      "Optimization terminated successfully.\n",
      "         Current function value: 0.609854\n",
      "         Iterations 6\n",
      "                           Logit Regression Results                           \n",
      "==============================================================================\n",
      "Dep. Variable:                  Que16   No. Observations:                  960\n",
      "Model:                          Logit   Df Residuals:                      939\n",
      "Method:                           MLE   Df Model:                           20\n",
      "Date:                Wed, 18 Aug 2021   Pseudo R-squ.:                  0.1202\n",
      "Time:                        13:28:59   Log-Likelihood:                -585.46\n",
      "converged:                       True   LL-Null:                       -665.42\n",
      "Covariance Type:            nonrobust   LLR p-value:                 7.768e-24\n",
      "===============================================================================\n",
      "                  coef    std err          z      P>|z|      [0.025      0.975]\n",
      "-------------------------------------------------------------------------------\n",
      "Que1            0.4833      0.203      2.382      0.017       0.086       0.881\n",
      "Que2           -0.4388      0.149     -2.944      0.003      -0.731      -0.147\n",
      "Que3           -0.0386      0.147     -0.263      0.793      -0.326       0.249\n",
      "Que4            0.0357      0.185      0.193      0.847      -0.327       0.399\n",
      "Que5            0.0470      0.454      0.104      0.918      -0.842       0.936\n",
      "Que6            0.0841      0.148      0.570      0.569      -0.205       0.373\n",
      "Que10_a        -0.1423      0.158     -0.900      0.368      -0.452       0.168\n",
      "Que10_b         0.1129      0.253      0.447      0.655      -0.382       0.608\n",
      "Que10_c        -0.2048      0.152     -1.347      0.178      -0.503       0.093\n",
      "Que10_d         0.0424      0.153      0.277      0.782      -0.258       0.343\n",
      "Que10_e        -1.3676      0.726     -1.884      0.060      -2.791       0.055\n",
      "Que10_f        -0.1398      0.141     -0.992      0.321      -0.416       0.136\n",
      "Que14          -0.5494      0.205     -2.682      0.007      -0.951      -0.148\n",
      "Que15           1.2375      0.159      7.792      0.000       0.926       1.549\n",
      "Que17           1.5810      0.541      2.922      0.003       0.520       2.642\n",
      "Que18_age      -0.1667      0.197     -0.847      0.397      -0.552       0.219\n",
      "Que19           0.8579      0.296      2.902      0.004       0.278       1.437\n",
      "Que20           1.4632      0.514      2.849      0.004       0.457       2.470\n",
      "Que21          -0.2081      0.151     -1.375      0.169      -0.505       0.089\n",
      "Que22          -0.0377      0.142     -0.266      0.790      -0.315       0.240\n",
      "Que_smoking     0.1329      0.162      0.818      0.413      -0.185       0.451\n",
      "===============================================================================\n",
      "(array([0., 1.]), array([ 71, 117]))\n",
      "Test ROC AUC:  0.6781629950644036\n",
      "Test accuracy:  0.6648936170212766\n",
      "Test precision:  0.7934782608695652\n",
      "Test recall:  0.6239316239316239\n",
      "Test F1 score:  0.6985645933014354\n",
      "Test confusion matrix: \n",
      "[[52 19]\n",
      " [44 73]]\n"
     ]
    }
   ],
   "source": [
    "perform_logit(X_train, X_test, y_train, y_test, X_cols, y_col, balance='over')"
   ]
  },
  {
   "cell_type": "markdown",
   "id": "064e793f-c7ad-46d7-997e-3358b75955d0",
   "metadata": {},
   "source": [
    "### SMOTEENN"
   ]
  },
  {
   "cell_type": "code",
   "execution_count": 10,
   "id": "aa4cd6b3-319b-417e-aa99-f72173c41594",
   "metadata": {},
   "outputs": [
    {
     "name": "stdout",
     "output_type": "stream",
     "text": [
      "Optimization terminated successfully.\n",
      "         Current function value: 0.568071\n",
      "         Iterations 7\n",
      "                           Logit Regression Results                           \n",
      "==============================================================================\n",
      "Dep. Variable:                  Que16   No. Observations:                  748\n",
      "Model:                          Logit   Df Residuals:                      727\n",
      "Method:                           MLE   Df Model:                           20\n",
      "Date:                Wed, 18 Aug 2021   Pseudo R-squ.:                  0.1293\n",
      "Time:                        13:29:00   Log-Likelihood:                -424.92\n",
      "converged:                       True   LL-Null:                       -488.02\n",
      "Covariance Type:            nonrobust   LLR p-value:                 2.008e-17\n",
      "===============================================================================\n",
      "                  coef    std err          z      P>|z|      [0.025      0.975]\n",
      "-------------------------------------------------------------------------------\n",
      "Que1            0.4411      0.244      1.808      0.071      -0.037       0.919\n",
      "Que2           -0.3173      0.174     -1.820      0.069      -0.659       0.024\n",
      "Que3            0.0401      0.173      0.231      0.817      -0.300       0.380\n",
      "Que4            0.1109      0.221      0.501      0.616      -0.323       0.544\n",
      "Que5           -0.1199      0.506     -0.237      0.813      -1.113       0.873\n",
      "Que6            0.2174      0.174      1.248      0.212      -0.124       0.559\n",
      "Que10_a        -0.1347      0.188     -0.716      0.474      -0.504       0.234\n",
      "Que10_b         0.3066      0.309      0.992      0.321      -0.299       0.912\n",
      "Que10_c        -0.0855      0.178     -0.480      0.632      -0.435       0.264\n",
      "Que10_d         0.1114      0.181      0.615      0.539      -0.244       0.467\n",
      "Que10_e        -1.8709      0.755     -2.477      0.013      -3.351      -0.391\n",
      "Que10_f        -0.0222      0.168     -0.133      0.894      -0.351       0.306\n",
      "Que14          -0.4782      0.240     -1.996      0.046      -0.948      -0.009\n",
      "Que15           1.1974      0.189      6.342      0.000       0.827       1.567\n",
      "Que17           1.9917      0.770      2.587      0.010       0.483       3.500\n",
      "Que18_age      -0.0424      0.230     -0.185      0.853      -0.493       0.408\n",
      "Que19           0.6227      0.340      1.830      0.067      -0.044       1.290\n",
      "Que20           1.5266      0.647      2.359      0.018       0.258       2.795\n",
      "Que21          -0.1256      0.181     -0.693      0.488      -0.481       0.230\n",
      "Que22           0.1244      0.165      0.753      0.451      -0.199       0.448\n",
      "Que_smoking     0.2056      0.192      1.068      0.286      -0.172       0.583\n",
      "===============================================================================\n",
      "(array([0., 1.]), array([ 71, 117]))\n",
      "Test ROC AUC:  0.6398820272059709\n",
      "Test accuracy:  0.6861702127659575\n",
      "Test precision:  0.7132352941176471\n",
      "Test recall:  0.8290598290598291\n",
      "Test F1 score:  0.766798418972332\n",
      "Test confusion matrix: \n",
      "[[32 39]\n",
      " [20 97]]\n"
     ]
    }
   ],
   "source": [
    "perform_logit(X_train, X_test, y_train, y_test, X_cols, y_col, balance='smoteen')"
   ]
  },
  {
   "cell_type": "markdown",
   "id": "dd430544-89fe-40ca-806c-19eba28a4eff",
   "metadata": {},
   "source": [
    "## Random Forest"
   ]
  },
  {
   "cell_type": "markdown",
   "id": "34fa51a3-bf8f-40ba-8ea0-bb6da1ccca7e",
   "metadata": {},
   "source": [
    "### No balance"
   ]
  },
  {
   "cell_type": "code",
   "execution_count": 11,
   "id": "a669c507-1808-4abb-9cae-4f13dbbdf7d7",
   "metadata": {},
   "outputs": [
    {
     "name": "stdout",
     "output_type": "stream",
     "text": [
      "Fitting 7 folds for each of 100 candidates, totalling 700 fits\n",
      "{'bootstrap': True,\n",
      " 'criterion': 'gini',\n",
      " 'max_depth': 80,\n",
      " 'max_features': 'auto',\n",
      " 'min_samples_leaf': 1,\n",
      " 'min_samples_split': 2,\n",
      " 'n_estimators': 400}\n",
      "(array([0., 1.]), array([ 71, 117]))\n",
      "Test ROC AUC:  0.6383772721800891\n",
      "Test accuracy:  0.6808510638297872\n",
      "Test precision:  0.7142857142857143\n",
      "Test recall:  0.811965811965812\n",
      "Test F1 score:  0.7600000000000001\n",
      "Test confusion matrix: \n",
      "[[33 38]\n",
      " [22 95]]\n"
     ]
    }
   ],
   "source": [
    "perform_random_forest(X_train, X_test, y_train, y_test)"
   ]
  },
  {
   "cell_type": "markdown",
   "id": "fcf8a7f1-d667-4b31-b11b-9921b775bd5d",
   "metadata": {},
   "source": [
    "### Undersampling"
   ]
  },
  {
   "cell_type": "code",
   "execution_count": 12,
   "id": "f4831808-d502-4979-a2eb-5f709dca9778",
   "metadata": {},
   "outputs": [
    {
     "name": "stdout",
     "output_type": "stream",
     "text": [
      "Fitting 7 folds for each of 100 candidates, totalling 700 fits\n",
      "{'bootstrap': False,\n",
      " 'criterion': 'entropy',\n",
      " 'max_depth': 10,\n",
      " 'max_features': 'sqrt',\n",
      " 'min_samples_leaf': 2,\n",
      " 'min_samples_split': 2,\n",
      " 'n_estimators': 300}\n",
      "(array([0., 1.]), array([ 71, 117]))\n",
      "Test ROC AUC:  0.6613097387745275\n",
      "Test accuracy:  0.6542553191489362\n",
      "Test precision:  0.7708333333333334\n",
      "Test recall:  0.6324786324786325\n",
      "Test F1 score:  0.6948356807511736\n",
      "Test confusion matrix: \n",
      "[[49 22]\n",
      " [43 74]]\n"
     ]
    }
   ],
   "source": [
    "perform_random_forest(X_train, X_test, y_train, y_test, balance='under')"
   ]
  },
  {
   "cell_type": "markdown",
   "id": "434be831-c603-4610-9390-b36122112709",
   "metadata": {},
   "source": [
    "### Oversampling"
   ]
  },
  {
   "cell_type": "code",
   "execution_count": 13,
   "id": "eff111a1-f16d-43f9-b8fc-67af75510881",
   "metadata": {},
   "outputs": [
    {
     "name": "stdout",
     "output_type": "stream",
     "text": [
      "Fitting 7 folds for each of 100 candidates, totalling 700 fits\n",
      "{'bootstrap': False,\n",
      " 'criterion': 'gini',\n",
      " 'max_depth': 40,\n",
      " 'max_features': 'auto',\n",
      " 'min_samples_leaf': 1,\n",
      " 'min_samples_split': 5,\n",
      " 'n_estimators': 300}\n",
      "(array([0., 1.]), array([ 71, 117]))\n",
      "Test ROC AUC:  0.6325990128807031\n",
      "Test accuracy:  0.6702127659574468\n",
      "Test precision:  0.7131782945736435\n",
      "Test recall:  0.7863247863247863\n",
      "Test F1 score:  0.7479674796747968\n",
      "Test confusion matrix: \n",
      "[[34 37]\n",
      " [25 92]]\n"
     ]
    }
   ],
   "source": [
    "perform_random_forest(X_train, X_test, y_train, y_test, balance='over')"
   ]
  },
  {
   "cell_type": "markdown",
   "id": "39d275a1-63bc-43e1-9142-bca65f5257bb",
   "metadata": {},
   "source": [
    "### SMOTEENN"
   ]
  },
  {
   "cell_type": "code",
   "execution_count": 14,
   "id": "d8f9e2a6-7823-4001-a0f5-38101dcb6a0d",
   "metadata": {},
   "outputs": [
    {
     "name": "stdout",
     "output_type": "stream",
     "text": [
      "Fitting 7 folds for each of 100 candidates, totalling 700 fits\n",
      "{'bootstrap': True,\n",
      " 'criterion': 'entropy',\n",
      " 'max_depth': 50,\n",
      " 'max_features': 'auto',\n",
      " 'min_samples_leaf': 1,\n",
      " 'min_samples_split': 2,\n",
      " 'n_estimators': 300}\n",
      "(array([0., 1.]), array([ 71, 117]))\n",
      "Test ROC AUC:  0.6567352834958469\n",
      "Test accuracy:  0.6968085106382979\n",
      "Test precision:  0.7272727272727273\n",
      "Test recall:  0.8205128205128205\n",
      "Test F1 score:  0.7710843373493976\n",
      "Test confusion matrix: \n",
      "[[35 36]\n",
      " [21 96]]\n"
     ]
    }
   ],
   "source": [
    "perform_random_forest(X_train, X_test, y_train, y_test, balance='smoteen')"
   ]
  },
  {
   "cell_type": "markdown",
   "id": "968c8b98-3bf9-457b-b4e2-02c9c63a4160",
   "metadata": {},
   "source": [
    "## Decision Tree"
   ]
  },
  {
   "cell_type": "markdown",
   "id": "7c3db033-ac79-4307-bcab-84b3dfdcef79",
   "metadata": {},
   "source": [
    "### No balance"
   ]
  },
  {
   "cell_type": "code",
   "execution_count": 15,
   "id": "c46a02eb-47e2-456c-ad6c-d11820393d0f",
   "metadata": {},
   "outputs": [
    {
     "name": "stdout",
     "output_type": "stream",
     "text": [
      "Fitting 7 folds for each of 100 candidates, totalling 700 fits\n",
      "{'criterion': 'entropy',\n",
      " 'max_depth': 110,\n",
      " 'max_features': 'sqrt',\n",
      " 'min_samples_leaf': 1,\n",
      " 'min_samples_split': 2,\n",
      " 'splitter': 'random'}\n",
      "(array([0., 1.]), array([ 71, 117]))\n",
      "Test ROC AUC:  0.66076802696521\n",
      "Test accuracy:  0.6914893617021277\n",
      "Test precision:  0.736\n",
      "Test recall:  0.7863247863247863\n",
      "Test F1 score:  0.7603305785123966\n",
      "Test confusion matrix: \n",
      "[[38 33]\n",
      " [25 92]]\n"
     ]
    }
   ],
   "source": [
    "perform_decision_tree(X_train, X_test, y_train, y_test)"
   ]
  },
  {
   "cell_type": "markdown",
   "id": "6c19520c-3f63-45e1-a7f1-8acec823e985",
   "metadata": {},
   "source": [
    "### Undersampling"
   ]
  },
  {
   "cell_type": "code",
   "execution_count": 16,
   "id": "9ee807de-330f-463f-80cf-8ca97c5fa4fd",
   "metadata": {},
   "outputs": [
    {
     "name": "stdout",
     "output_type": "stream",
     "text": [
      "Fitting 7 folds for each of 100 candidates, totalling 700 fits\n",
      "{'criterion': 'gini',\n",
      " 'max_depth': 90,\n",
      " 'max_features': 'auto',\n",
      " 'min_samples_leaf': 4,\n",
      " 'min_samples_split': 5,\n",
      " 'splitter': 'best'}\n",
      "(array([0., 1.]), array([ 71, 117]))\n",
      "Test ROC AUC:  0.6165884194053208\n",
      "Test accuracy:  0.574468085106383\n",
      "Test precision:  0.7761194029850746\n",
      "Test recall:  0.4444444444444444\n",
      "Test F1 score:  0.5652173913043478\n",
      "Test confusion matrix: \n",
      "[[56 15]\n",
      " [65 52]]\n"
     ]
    }
   ],
   "source": [
    "perform_decision_tree(X_train, X_test, y_train, y_test, balance='under')"
   ]
  },
  {
   "cell_type": "markdown",
   "id": "6537df7a-7004-4063-a5f2-74bde5bb1682",
   "metadata": {},
   "source": [
    "### Oversampling"
   ]
  },
  {
   "cell_type": "code",
   "execution_count": 17,
   "id": "4ec261db-103f-47c5-a553-5a32d94d4f82",
   "metadata": {},
   "outputs": [
    {
     "name": "stdout",
     "output_type": "stream",
     "text": [
      "Fitting 7 folds for each of 100 candidates, totalling 700 fits\n",
      "{'criterion': 'entropy',\n",
      " 'max_depth': 30,\n",
      " 'max_features': 'sqrt',\n",
      " 'min_samples_leaf': 1,\n",
      " 'min_samples_split': 2,\n",
      " 'splitter': 'best'}\n",
      "(array([0., 1.]), array([ 71, 117]))\n",
      "Test ROC AUC:  0.5317804261466234\n",
      "Test accuracy:  0.5585106382978723\n",
      "Test precision:  0.646551724137931\n",
      "Test recall:  0.6410256410256411\n",
      "Test F1 score:  0.6437768240343348\n",
      "Test confusion matrix: \n",
      "[[30 41]\n",
      " [42 75]]\n"
     ]
    }
   ],
   "source": [
    "perform_decision_tree(X_train, X_test, y_train, y_test, balance='over')"
   ]
  },
  {
   "cell_type": "markdown",
   "id": "2b0ed88b-5eb8-48fb-b286-96cc466a28a2",
   "metadata": {},
   "source": [
    "### SMOTEENN"
   ]
  },
  {
   "cell_type": "code",
   "execution_count": 18,
   "id": "22edb14a-7573-4976-a1a9-4b8a384819cb",
   "metadata": {},
   "outputs": [
    {
     "name": "stdout",
     "output_type": "stream",
     "text": [
      "Fitting 7 folds for each of 100 candidates, totalling 700 fits\n",
      "{'criterion': 'entropy',\n",
      " 'max_depth': 60,\n",
      " 'max_features': 'sqrt',\n",
      " 'min_samples_leaf': 1,\n",
      " 'min_samples_split': 2,\n",
      " 'splitter': 'random'}\n",
      "(array([0., 1.]), array([ 71, 117]))\n",
      "Test ROC AUC:  0.6675695196821958\n",
      "Test accuracy:  0.6861702127659575\n",
      "Test precision:  0.75\n",
      "Test recall:  0.7435897435897436\n",
      "Test F1 score:  0.7467811158798283\n",
      "Test confusion matrix: \n",
      "[[42 29]\n",
      " [30 87]]\n"
     ]
    }
   ],
   "source": [
    "perform_decision_tree(X_train, X_test, y_train, y_test, balance='SMOTEEN')"
   ]
  },
  {
   "cell_type": "markdown",
   "id": "4f46e186-988a-4f2c-b8e1-0583e320ebaf",
   "metadata": {},
   "source": [
    "# Strategy 2 - median"
   ]
  },
  {
   "cell_type": "code",
   "execution_count": 19,
   "id": "b7efa626-7516-4558-8a43-34642249fc37",
   "metadata": {},
   "outputs": [],
   "source": [
    "imputer = SimpleImputer(missing_values=np.nan, strategy='median')\n",
    "data_median = pd.DataFrame(imputer.fit_transform(data))\n",
    "data_median.columns = data.columns\n",
    "data_median.index = data.index\n",
    "data_median = perform_mapping(data_median, questions_map_EN)\n",
    "model_data = data_median.drop(columns=['Que16'])\n",
    "target_data = data_median['Que16']\n",
    "X_train, X_test, y_train, y_test = train_test_split(model_data.values, target_data.values, test_size=0.20, random_state=42)"
   ]
  },
  {
   "cell_type": "markdown",
   "id": "f3ca317f-96ec-488a-a65a-ab4b9768b013",
   "metadata": {},
   "source": [
    "## Logistic Regression"
   ]
  },
  {
   "cell_type": "markdown",
   "id": "b9e5fd7d-6997-46bf-80d9-ae5fd226d664",
   "metadata": {},
   "source": [
    "### No balance"
   ]
  },
  {
   "cell_type": "code",
   "execution_count": 20,
   "id": "68caf9de-6a45-4c53-8b87-b6dacbf5d4cc",
   "metadata": {},
   "outputs": [
    {
     "name": "stdout",
     "output_type": "stream",
     "text": [
      "Optimization terminated successfully.\n",
      "         Current function value: 0.550389\n",
      "         Iterations 6\n",
      "                           Logit Regression Results                           \n",
      "==============================================================================\n",
      "Dep. Variable:                  Que16   No. Observations:                 3448\n",
      "Model:                          Logit   Df Residuals:                     3427\n",
      "Method:                           MLE   Df Model:                           20\n",
      "Date:                Wed, 18 Aug 2021   Pseudo R-squ.:                  0.1143\n",
      "Time:                        13:41:43   Log-Likelihood:                -1897.7\n",
      "converged:                       True   LL-Null:                       -2142.7\n",
      "Covariance Type:            nonrobust   LLR p-value:                 3.800e-91\n",
      "===============================================================================\n",
      "                  coef    std err          z      P>|z|      [0.025      0.975]\n",
      "-------------------------------------------------------------------------------\n",
      "Que1            0.0987      0.119      0.830      0.407      -0.135       0.332\n",
      "Que2           -0.0075      0.084     -0.089      0.929      -0.172       0.157\n",
      "Que3            0.1376      0.082      1.678      0.093      -0.023       0.298\n",
      "Que4           -0.1285      0.113     -1.133      0.257      -0.351       0.094\n",
      "Que5           -0.0670      0.091     -0.732      0.464      -0.246       0.112\n",
      "Que6            0.1428      0.101      1.413      0.158      -0.055       0.341\n",
      "Que10_a        -0.0375      0.094     -0.398      0.691      -0.222       0.147\n",
      "Que10_b         0.0092      0.144      0.064      0.949      -0.272       0.291\n",
      "Que10_c         0.0887      0.085      1.039      0.299      -0.079       0.256\n",
      "Que10_d        -0.0456      0.085     -0.535      0.593      -0.213       0.121\n",
      "Que10_e        -1.0079      0.347     -2.909      0.004      -1.687      -0.329\n",
      "Que10_f         0.0062      0.081      0.076      0.939      -0.152       0.164\n",
      "Que14          -0.4363      0.117     -3.730      0.000      -0.666      -0.207\n",
      "Que15           1.4479      0.086     16.796      0.000       1.279       1.617\n",
      "Que17           1.2953      0.303      4.271      0.000       0.701       1.890\n",
      "Que18_age       0.0040      0.109      0.037      0.970      -0.209       0.217\n",
      "Que19           0.4419      0.156      2.829      0.005       0.136       0.748\n",
      "Que20           0.2188      0.227      0.962      0.336      -0.227       0.665\n",
      "Que21          -0.1200      0.091     -1.312      0.189      -0.299       0.059\n",
      "Que22           0.0117      0.081      0.145      0.885      -0.147       0.171\n",
      "Que_smoking     0.1769      0.094      1.891      0.059      -0.006       0.360\n",
      "===============================================================================\n",
      "(array([0., 1.]), array([281, 581]))\n",
      "Test ROC AUC:  0.539681859109034\n",
      "Test accuracy:  0.6705336426914154\n",
      "Test precision:  0.6936114732724902\n",
      "Test recall:  0.9156626506024096\n",
      "Test F1 score:  0.7893175074183976\n",
      "Test confusion matrix: \n",
      "[[ 46 235]\n",
      " [ 49 532]]\n"
     ]
    }
   ],
   "source": [
    "perform_logit(X_train, X_test, y_train, y_test, X_cols, y_col)"
   ]
  },
  {
   "cell_type": "markdown",
   "id": "585e0686-9b96-4b65-9435-d60c319e0f72",
   "metadata": {},
   "source": [
    "### Undersampling"
   ]
  },
  {
   "cell_type": "code",
   "execution_count": 21,
   "id": "19e58805-3175-41b6-8e34-3bc169d56b8a",
   "metadata": {},
   "outputs": [
    {
     "name": "stdout",
     "output_type": "stream",
     "text": [
      "Optimization terminated successfully.\n",
      "         Current function value: 0.619735\n",
      "         Iterations 6\n",
      "                           Logit Regression Results                           \n",
      "==============================================================================\n",
      "Dep. Variable:                  Que16   No. Observations:                 2158\n",
      "Model:                          Logit   Df Residuals:                     2137\n",
      "Method:                           MLE   Df Model:                           20\n",
      "Date:                Wed, 18 Aug 2021   Pseudo R-squ.:                  0.1059\n",
      "Time:                        13:41:43   Log-Likelihood:                -1337.4\n",
      "converged:                       True   LL-Null:                       -1495.8\n",
      "Covariance Type:            nonrobust   LLR p-value:                 2.891e-55\n",
      "===============================================================================\n",
      "                  coef    std err          z      P>|z|      [0.025      0.975]\n",
      "-------------------------------------------------------------------------------\n",
      "Que1            0.1821      0.140      1.304      0.192      -0.092       0.456\n",
      "Que2           -0.1110      0.099     -1.119      0.263      -0.305       0.083\n",
      "Que3           -0.0795      0.097     -0.823      0.411      -0.269       0.110\n",
      "Que4           -0.1633      0.134     -1.223      0.221      -0.425       0.098\n",
      "Que5           -0.1867      0.107     -1.739      0.082      -0.397       0.024\n",
      "Que6            0.0194      0.118      0.165      0.869      -0.212       0.251\n",
      "Que10_a        -0.1028      0.111     -0.928      0.353      -0.320       0.114\n",
      "Que10_b        -0.0299      0.169     -0.176      0.860      -0.361       0.302\n",
      "Que10_c        -0.1509      0.100     -1.515      0.130      -0.346       0.044\n",
      "Que10_d        -0.0847      0.100     -0.845      0.398      -0.281       0.112\n",
      "Que10_e        -0.8704      0.448     -1.943      0.052      -1.749       0.008\n",
      "Que10_f        -0.0748      0.095     -0.788      0.431      -0.261       0.111\n",
      "Que14          -0.6147      0.144     -4.274      0.000      -0.897      -0.333\n",
      "Que15           1.4414      0.100     14.363      0.000       1.245       1.638\n",
      "Que17           1.3254      0.324      4.091      0.000       0.690       1.960\n",
      "Que18_age      -0.2328      0.131     -1.784      0.074      -0.489       0.023\n",
      "Que19           0.2660      0.183      1.451      0.147      -0.093       0.625\n",
      "Que20           0.2679      0.261      1.026      0.305      -0.244       0.780\n",
      "Que21          -0.2485      0.109     -2.290      0.022      -0.461      -0.036\n",
      "Que22          -0.1367      0.096     -1.424      0.155      -0.325       0.052\n",
      "Que_smoking     0.2146      0.109      1.970      0.049       0.001       0.428\n",
      "===============================================================================\n",
      "(array([0., 1.]), array([281, 581]))\n",
      "Test ROC AUC:  0.6825451271277279\n",
      "Test accuracy:  0.679814385150812\n",
      "Test precision:  0.8183716075156576\n",
      "Test recall:  0.6746987951807228\n",
      "Test F1 score:  0.7396226415094339\n",
      "Test confusion matrix: \n",
      "[[194  87]\n",
      " [189 392]]\n"
     ]
    }
   ],
   "source": [
    "perform_logit(X_train, X_test, y_train, y_test, X_cols, y_col, balance='under')"
   ]
  },
  {
   "cell_type": "markdown",
   "id": "bc7f61ca-6758-4acb-be3e-edd37a5d7a69",
   "metadata": {},
   "source": [
    "### Oversampling"
   ]
  },
  {
   "cell_type": "code",
   "execution_count": 22,
   "id": "3003d81a-d5f8-4e4c-ab0e-7e639df492d1",
   "metadata": {},
   "outputs": [
    {
     "name": "stdout",
     "output_type": "stream",
     "text": [
      "Optimization terminated successfully.\n",
      "         Current function value: 0.616760\n",
      "         Iterations 6\n",
      "                           Logit Regression Results                           \n",
      "==============================================================================\n",
      "Dep. Variable:                  Que16   No. Observations:                 4738\n",
      "Model:                          Logit   Df Residuals:                     4717\n",
      "Method:                           MLE   Df Model:                           20\n",
      "Date:                Wed, 18 Aug 2021   Pseudo R-squ.:                  0.1102\n",
      "Time:                        13:41:43   Log-Likelihood:                -2922.2\n",
      "converged:                       True   LL-Null:                       -3284.1\n",
      "Covariance Type:            nonrobust   LLR p-value:                1.986e-140\n",
      "===============================================================================\n",
      "                  coef    std err          z      P>|z|      [0.025      0.975]\n",
      "-------------------------------------------------------------------------------\n",
      "Que1            0.1886      0.094      1.997      0.046       0.003       0.374\n",
      "Que2           -0.1282      0.067     -1.909      0.056      -0.260       0.003\n",
      "Que3            0.0086      0.065      0.132      0.895      -0.119       0.137\n",
      "Que4           -0.1752      0.090     -1.949      0.051      -0.351       0.001\n",
      "Que5           -0.2130      0.073     -2.932      0.003      -0.355      -0.071\n",
      "Que6            0.1105      0.080      1.375      0.169      -0.047       0.268\n",
      "Que10_a        -0.1415      0.075     -1.879      0.060      -0.289       0.006\n",
      "Que10_b        -0.0391      0.114     -0.342      0.733      -0.263       0.185\n",
      "Que10_c        -0.1453      0.068     -2.150      0.032      -0.278      -0.013\n",
      "Que10_d        -0.1280      0.068     -1.875      0.061      -0.262       0.006\n",
      "Que10_e        -0.7139      0.289     -2.471      0.013      -1.280      -0.148\n",
      "Que10_f        -0.1414      0.064     -2.202      0.028      -0.267      -0.016\n",
      "Que14          -0.5425      0.095     -5.738      0.000      -0.728      -0.357\n",
      "Que15           1.4706      0.068     21.549      0.000       1.337       1.604\n",
      "Que17           1.2925      0.224      5.773      0.000       0.854       1.731\n",
      "Que18_age      -0.0903      0.087     -1.033      0.302      -0.262       0.081\n",
      "Que19           0.4481      0.122      3.662      0.000       0.208       0.688\n",
      "Que20           0.2118      0.177      1.196      0.232      -0.135       0.559\n",
      "Que21          -0.1864      0.073     -2.547      0.011      -0.330      -0.043\n",
      "Que22          -0.2044      0.065     -3.122      0.002      -0.333      -0.076\n",
      "Que_smoking     0.1432      0.074      1.929      0.054      -0.002       0.289\n",
      "===============================================================================\n",
      "(array([0., 1.]), array([281, 581]))\n",
      "Test ROC AUC:  0.6796142373255095\n",
      "Test accuracy:  0.6832946635730859\n",
      "Test precision:  0.8117408906882592\n",
      "Test recall:  0.6901893287435457\n",
      "Test F1 score:  0.7460465116279069\n",
      "Test confusion matrix: \n",
      "[[188  93]\n",
      " [180 401]]\n"
     ]
    }
   ],
   "source": [
    "perform_logit(X_train, X_test, y_train, y_test, X_cols, y_col, balance='over')"
   ]
  },
  {
   "cell_type": "markdown",
   "id": "cd32fee4-ab32-4648-a1dc-b609a9f8f11c",
   "metadata": {},
   "source": [
    "### SMOTEENN"
   ]
  },
  {
   "cell_type": "code",
   "execution_count": 23,
   "id": "d78286c0-c367-4686-8e63-ff996b2012b8",
   "metadata": {},
   "outputs": [
    {
     "name": "stdout",
     "output_type": "stream",
     "text": [
      "Optimization terminated successfully.\n",
      "         Current function value: 0.550389\n",
      "         Iterations 6\n",
      "                           Logit Regression Results                           \n",
      "==============================================================================\n",
      "Dep. Variable:                  Que16   No. Observations:                 3448\n",
      "Model:                          Logit   Df Residuals:                     3427\n",
      "Method:                           MLE   Df Model:                           20\n",
      "Date:                Wed, 18 Aug 2021   Pseudo R-squ.:                  0.1143\n",
      "Time:                        13:41:43   Log-Likelihood:                -1897.7\n",
      "converged:                       True   LL-Null:                       -2142.7\n",
      "Covariance Type:            nonrobust   LLR p-value:                 3.800e-91\n",
      "===============================================================================\n",
      "                  coef    std err          z      P>|z|      [0.025      0.975]\n",
      "-------------------------------------------------------------------------------\n",
      "Que1            0.0987      0.119      0.830      0.407      -0.135       0.332\n",
      "Que2           -0.0075      0.084     -0.089      0.929      -0.172       0.157\n",
      "Que3            0.1376      0.082      1.678      0.093      -0.023       0.298\n",
      "Que4           -0.1285      0.113     -1.133      0.257      -0.351       0.094\n",
      "Que5           -0.0670      0.091     -0.732      0.464      -0.246       0.112\n",
      "Que6            0.1428      0.101      1.413      0.158      -0.055       0.341\n",
      "Que10_a        -0.0375      0.094     -0.398      0.691      -0.222       0.147\n",
      "Que10_b         0.0092      0.144      0.064      0.949      -0.272       0.291\n",
      "Que10_c         0.0887      0.085      1.039      0.299      -0.079       0.256\n",
      "Que10_d        -0.0456      0.085     -0.535      0.593      -0.213       0.121\n",
      "Que10_e        -1.0079      0.347     -2.909      0.004      -1.687      -0.329\n",
      "Que10_f         0.0062      0.081      0.076      0.939      -0.152       0.164\n",
      "Que14          -0.4363      0.117     -3.730      0.000      -0.666      -0.207\n",
      "Que15           1.4479      0.086     16.796      0.000       1.279       1.617\n",
      "Que17           1.2953      0.303      4.271      0.000       0.701       1.890\n",
      "Que18_age       0.0040      0.109      0.037      0.970      -0.209       0.217\n",
      "Que19           0.4419      0.156      2.829      0.005       0.136       0.748\n",
      "Que20           0.2188      0.227      0.962      0.336      -0.227       0.665\n",
      "Que21          -0.1200      0.091     -1.312      0.189      -0.299       0.059\n",
      "Que22           0.0117      0.081      0.145      0.885      -0.147       0.171\n",
      "Que_smoking     0.1769      0.094      1.891      0.059      -0.006       0.360\n",
      "===============================================================================\n",
      "(array([0., 1.]), array([281, 581]))\n",
      "Test ROC AUC:  0.539681859109034\n",
      "Test accuracy:  0.6705336426914154\n",
      "Test precision:  0.6936114732724902\n",
      "Test recall:  0.9156626506024096\n",
      "Test F1 score:  0.7893175074183976\n",
      "Test confusion matrix: \n",
      "[[ 46 235]\n",
      " [ 49 532]]\n"
     ]
    }
   ],
   "source": [
    "perform_logit(X_train, X_test, y_train, y_test, X_cols, y_col, balance='smoteen')"
   ]
  },
  {
   "cell_type": "markdown",
   "id": "2c259d8c-2f30-444d-84c7-a9f2069d0e30",
   "metadata": {},
   "source": [
    "## Random Forest"
   ]
  },
  {
   "cell_type": "markdown",
   "id": "40dd87a6-6067-4111-bebb-31a792d899a4",
   "metadata": {},
   "source": [
    "### No balance"
   ]
  },
  {
   "cell_type": "code",
   "execution_count": 24,
   "id": "268c798b-feb8-4f8b-90fa-9b55dc7a694a",
   "metadata": {},
   "outputs": [
    {
     "name": "stdout",
     "output_type": "stream",
     "text": [
      "Fitting 7 folds for each of 100 candidates, totalling 700 fits\n",
      "{'bootstrap': True,\n",
      " 'criterion': 'entropy',\n",
      " 'max_depth': 50,\n",
      " 'max_features': 'auto',\n",
      " 'min_samples_leaf': 1,\n",
      " 'min_samples_split': 2,\n",
      " 'n_estimators': 900}\n",
      "(array([0., 1.]), array([281, 581]))\n",
      "Test ROC AUC:  0.6385358413828165\n",
      "Test accuracy:  0.7146171693735499\n",
      "Test precision:  0.7534039334341907\n",
      "Test recall:  0.8571428571428571\n",
      "Test F1 score:  0.8019323671497585\n",
      "Test confusion matrix: \n",
      "[[118 163]\n",
      " [ 83 498]]\n"
     ]
    }
   ],
   "source": [
    "perform_random_forest(X_train, X_test, y_train, y_test)"
   ]
  },
  {
   "cell_type": "markdown",
   "id": "eaddf8f0-9854-4992-a80a-64af6749ffc3",
   "metadata": {},
   "source": [
    "### Undersampling"
   ]
  },
  {
   "cell_type": "code",
   "execution_count": 25,
   "id": "3718a0da-f3b0-4287-be34-9e9ba9fcae34",
   "metadata": {},
   "outputs": [
    {
     "name": "stdout",
     "output_type": "stream",
     "text": [
      "Fitting 7 folds for each of 100 candidates, totalling 700 fits\n",
      "{'bootstrap': True,\n",
      " 'criterion': 'gini',\n",
      " 'max_depth': 70,\n",
      " 'max_features': 'auto',\n",
      " 'min_samples_leaf': 4,\n",
      " 'min_samples_split': 2,\n",
      " 'n_estimators': 800}\n",
      "(array([0., 1.]), array([281, 581]))\n",
      "Test ROC AUC:  0.6851268827215318\n",
      "Test accuracy:  0.6832946635730859\n",
      "Test precision:  0.8195020746887967\n",
      "Test recall:  0.6798623063683304\n",
      "Test F1 score:  0.7431796801505174\n",
      "Test confusion matrix: \n",
      "[[194  87]\n",
      " [186 395]]\n"
     ]
    }
   ],
   "source": [
    "perform_random_forest(X_train, X_test, y_train, y_test, balance='under')"
   ]
  },
  {
   "cell_type": "markdown",
   "id": "502bf62a-5ed5-4488-bf2e-684b473ec38a",
   "metadata": {},
   "source": [
    "### Oversampling"
   ]
  },
  {
   "cell_type": "code",
   "execution_count": 26,
   "id": "01a8acda-280c-4821-b832-708981eec1b9",
   "metadata": {},
   "outputs": [
    {
     "name": "stdout",
     "output_type": "stream",
     "text": [
      "Fitting 7 folds for each of 100 candidates, totalling 700 fits\n",
      "{'bootstrap': False,\n",
      " 'criterion': 'entropy',\n",
      " 'max_depth': None,\n",
      " 'max_features': 'auto',\n",
      " 'min_samples_leaf': 1,\n",
      " 'min_samples_split': 2,\n",
      " 'n_estimators': 500}\n",
      "(array([0., 1.]), array([281, 581]))\n",
      "Test ROC AUC:  0.6492824373242845\n",
      "Test accuracy:  0.7018561484918794\n",
      "Test precision:  0.7673267326732673\n",
      "Test recall:  0.8003442340791739\n",
      "Test F1 score:  0.7834877843302442\n",
      "Test confusion matrix: \n",
      "[[140 141]\n",
      " [116 465]]\n"
     ]
    }
   ],
   "source": [
    "perform_random_forest(X_train, X_test, y_train, y_test, balance='over')"
   ]
  },
  {
   "cell_type": "markdown",
   "id": "e8dac8cb-7e56-40b8-80b7-cc5a9d8365e8",
   "metadata": {},
   "source": [
    "### SMOTEENN"
   ]
  },
  {
   "cell_type": "code",
   "execution_count": 27,
   "id": "0a3f8e5e-689f-4ca2-919d-2a6568040e30",
   "metadata": {},
   "outputs": [
    {
     "name": "stdout",
     "output_type": "stream",
     "text": [
      "Fitting 7 folds for each of 100 candidates, totalling 700 fits\n",
      "{'bootstrap': True,\n",
      " 'criterion': 'entropy',\n",
      " 'max_depth': None,\n",
      " 'max_features': 'sqrt',\n",
      " 'min_samples_leaf': 1,\n",
      " 'min_samples_split': 2,\n",
      " 'n_estimators': 800}\n",
      "(array([0., 1.]), array([281, 581]))\n",
      "Test ROC AUC:  0.6376170671501461\n",
      "Test accuracy:  0.7146171693735499\n",
      "Test precision:  0.7526395173453997\n",
      "Test recall:  0.8588640275387264\n",
      "Test F1 score:  0.8022508038585209\n",
      "Test confusion matrix: \n",
      "[[117 164]\n",
      " [ 82 499]]\n"
     ]
    }
   ],
   "source": [
    "perform_random_forest(X_train, X_test, y_train, y_test, balance='smoteen')"
   ]
  },
  {
   "cell_type": "markdown",
   "id": "ba111ec5-b2c8-4cc4-b8c7-a611b08c0aff",
   "metadata": {},
   "source": [
    "## Decision Tree"
   ]
  },
  {
   "cell_type": "markdown",
   "id": "e158766e-602a-4336-b6b6-db41985595f3",
   "metadata": {},
   "source": [
    "### No balance"
   ]
  },
  {
   "cell_type": "code",
   "execution_count": 28,
   "id": "ff7be0e4-c066-4905-9867-51b7aa74ac78",
   "metadata": {},
   "outputs": [
    {
     "name": "stdout",
     "output_type": "stream",
     "text": [
      "Fitting 7 folds for each of 100 candidates, totalling 700 fits\n",
      "{'criterion': 'gini',\n",
      " 'max_depth': None,\n",
      " 'max_features': 'sqrt',\n",
      " 'min_samples_leaf': 4,\n",
      " 'min_samples_split': 2,\n",
      " 'splitter': 'best'}\n",
      "(array([0., 1.]), array([281, 581]))\n",
      "Test ROC AUC:  0.6092177556183045\n",
      "Test accuracy:  0.6763341067285383\n",
      "Test precision:  0.7396825396825397\n",
      "Test recall:  0.802065404475043\n",
      "Test F1 score:  0.7696118909991743\n",
      "Test confusion matrix: \n",
      "[[117 164]\n",
      " [115 466]]\n"
     ]
    }
   ],
   "source": [
    "perform_decision_tree(X_train, X_test, y_train, y_test)"
   ]
  },
  {
   "cell_type": "markdown",
   "id": "d04d2650-3ad3-447b-bd30-965b229ee8ce",
   "metadata": {},
   "source": [
    "### Undersampling"
   ]
  },
  {
   "cell_type": "code",
   "execution_count": 29,
   "id": "ffbf0455-3b17-4c9e-88ba-59df4f2910a9",
   "metadata": {},
   "outputs": [
    {
     "name": "stdout",
     "output_type": "stream",
     "text": [
      "Fitting 7 folds for each of 100 candidates, totalling 700 fits\n",
      "{'criterion': 'gini',\n",
      " 'max_depth': 10,\n",
      " 'max_features': 'sqrt',\n",
      " 'min_samples_leaf': 4,\n",
      " 'min_samples_split': 2,\n",
      " 'splitter': 'best'}\n",
      "(array([0., 1.]), array([281, 581]))\n",
      "Test ROC AUC:  0.6584487415855593\n",
      "Test accuracy:  0.6473317865429234\n",
      "Test precision:  0.8070953436807096\n",
      "Test recall:  0.6265060240963856\n",
      "Test F1 score:  0.7054263565891473\n",
      "Test confusion matrix: \n",
      "[[194  87]\n",
      " [217 364]]\n"
     ]
    }
   ],
   "source": [
    "perform_decision_tree(X_train, X_test, y_train, y_test, balance='under')"
   ]
  },
  {
   "cell_type": "markdown",
   "id": "7bf929a2-471e-49ee-8590-a569963f2073",
   "metadata": {},
   "source": [
    "### Oversampling"
   ]
  },
  {
   "cell_type": "code",
   "execution_count": 30,
   "id": "3e9ebaa0-06a7-47af-a941-227624e8a10f",
   "metadata": {},
   "outputs": [
    {
     "name": "stdout",
     "output_type": "stream",
     "text": [
      "Fitting 7 folds for each of 100 candidates, totalling 700 fits\n",
      "{'criterion': 'gini',\n",
      " 'max_depth': 110,\n",
      " 'max_features': 'auto',\n",
      " 'min_samples_leaf': 1,\n",
      " 'min_samples_split': 2,\n",
      " 'splitter': 'random'}\n",
      "(array([0., 1.]), array([281, 581]))\n",
      "Test ROC AUC:  0.6728796222000355\n",
      "Test accuracy:  0.7076566125290024\n",
      "Test precision:  0.789103690685413\n",
      "Test recall:  0.7728055077452668\n",
      "Test F1 score:  0.7808695652173913\n",
      "Test confusion matrix: \n",
      "[[161 120]\n",
      " [132 449]]\n"
     ]
    }
   ],
   "source": [
    "perform_decision_tree(X_train, X_test, y_train, y_test, balance='over')"
   ]
  },
  {
   "cell_type": "markdown",
   "id": "3e696ba4-615c-44e6-a7cc-8552d408d038",
   "metadata": {},
   "source": [
    "### SMOTEENN"
   ]
  },
  {
   "cell_type": "code",
   "execution_count": 31,
   "id": "3bad3ea7-f9e0-4368-8393-e5854656ea64",
   "metadata": {},
   "outputs": [
    {
     "name": "stdout",
     "output_type": "stream",
     "text": [
      "Fitting 7 folds for each of 100 candidates, totalling 700 fits\n",
      "{'criterion': 'entropy',\n",
      " 'max_depth': 90,\n",
      " 'max_features': 'auto',\n",
      " 'min_samples_leaf': 1,\n",
      " 'min_samples_split': 2,\n",
      " 'splitter': 'best'}\n",
      "(array([0., 1.]), array([281, 581]))\n",
      "Test ROC AUC:  0.6565744421509117\n",
      "Test accuracy:  0.703016241299304\n",
      "Test precision:  0.7740303541315345\n",
      "Test recall:  0.7900172117039587\n",
      "Test F1 score:  0.7819420783645655\n",
      "Test confusion matrix: \n",
      "[[147 134]\n",
      " [122 459]]\n"
     ]
    }
   ],
   "source": [
    "perform_decision_tree(X_train, X_test, y_train, y_test, balance='SMOTEEN')"
   ]
  },
  {
   "cell_type": "markdown",
   "id": "9783b6c2-f210-4bb1-aa80-48805d2fefd1",
   "metadata": {},
   "source": [
    "# Strategy 3 - mean"
   ]
  },
  {
   "cell_type": "code",
   "execution_count": 32,
   "id": "394dd854-7993-4130-b0f3-6768908b70b1",
   "metadata": {},
   "outputs": [],
   "source": [
    "imputer = SimpleImputer(missing_values=np.nan, strategy='mean')\n",
    "data_mean = pd.DataFrame(imputer.fit_transform(data))\n",
    "data_mean.columns = data.columns\n",
    "data_mean.index = data.index\n",
    "# mean values are not integer numbers so rounding to int was necessary\n",
    "data_mean = data_mean.round()\n",
    "data_mean = perform_mapping(data_mean, questions_map_EN)\n",
    "model_data = data_mean.drop(columns=['Que16'])\n",
    "target_data = data_mean['Que16']\n",
    "X_train, X_test, y_train, y_test = train_test_split(model_data.values, target_data.values, test_size=0.20, random_state=42)"
   ]
  },
  {
   "cell_type": "markdown",
   "id": "c7384f17-de59-4022-89c7-9151256176ea",
   "metadata": {},
   "source": [
    "## Logistic Regression"
   ]
  },
  {
   "cell_type": "markdown",
   "id": "cdd1f622-d4ee-4d45-a8f3-013b36c0a0bb",
   "metadata": {},
   "source": [
    "### No balance"
   ]
  },
  {
   "cell_type": "code",
   "execution_count": 33,
   "id": "6a8b6733-ed68-40b9-9f13-7c0b5f6047e1",
   "metadata": {},
   "outputs": [
    {
     "name": "stdout",
     "output_type": "stream",
     "text": [
      "Optimization terminated successfully.\n",
      "         Current function value: 0.545146\n",
      "         Iterations 6\n",
      "                           Logit Regression Results                           \n",
      "==============================================================================\n",
      "Dep. Variable:                  Que16   No. Observations:                 3448\n",
      "Model:                          Logit   Df Residuals:                     3427\n",
      "Method:                           MLE   Df Model:                           20\n",
      "Date:                Wed, 18 Aug 2021   Pseudo R-squ.:                  0.1228\n",
      "Time:                        14:03:30   Log-Likelihood:                -1879.7\n",
      "converged:                       True   LL-Null:                       -2142.7\n",
      "Covariance Type:            nonrobust   LLR p-value:                 1.012e-98\n",
      "===============================================================================\n",
      "                  coef    std err          z      P>|z|      [0.025      0.975]\n",
      "-------------------------------------------------------------------------------\n",
      "Que1            0.2643      0.105      2.508      0.012       0.058       0.471\n",
      "Que2           -0.0023      0.082     -0.028      0.978      -0.164       0.159\n",
      "Que3            0.0833      0.083      1.007      0.314      -0.079       0.245\n",
      "Que4           -0.1431      0.114     -1.254      0.210      -0.367       0.081\n",
      "Que5           -0.0343      0.091     -0.376      0.707      -0.213       0.144\n",
      "Que6            0.1727      0.101      1.706      0.088      -0.026       0.371\n",
      "Que10_a        -0.0272      0.094     -0.289      0.772      -0.212       0.157\n",
      "Que10_b         0.0161      0.144      0.112      0.911      -0.265       0.298\n",
      "Que10_c         0.0747      0.085      0.883      0.377      -0.091       0.241\n",
      "Que10_d        -0.0003      0.085     -0.004      0.997      -0.168       0.167\n",
      "Que10_e        -1.0667      0.346     -3.085      0.002      -1.744      -0.389\n",
      "Que10_f        -0.0419      0.081     -0.519      0.604      -0.200       0.116\n",
      "Que14          -0.3884      0.117     -3.316      0.001      -0.618      -0.159\n",
      "Que15           1.3528      0.087     15.547      0.000       1.182       1.523\n",
      "Que17           1.2917      0.303      4.261      0.000       0.698       1.886\n",
      "Que18_age      -0.0022      0.108     -0.020      0.984      -0.214       0.210\n",
      "Que19           0.6296      0.130      4.848      0.000       0.375       0.884\n",
      "Que20           0.1563      0.227      0.690      0.490      -0.288       0.600\n",
      "Que21           0.0012      0.087      0.014      0.989      -0.170       0.173\n",
      "Que22          -0.0927      0.080     -1.155      0.248      -0.250       0.065\n",
      "Que_smoking     0.1616      0.093      1.741      0.082      -0.020       0.344\n",
      "===============================================================================\n",
      "(array([0., 1.]), array([281, 581]))\n",
      "Test ROC AUC:  0.5631626659153136\n",
      "Test accuracy:  0.6786542923433875\n",
      "Test precision:  0.7065217391304348\n",
      "Test recall:  0.8950086058519794\n",
      "Test F1 score:  0.7896735003796508\n",
      "Test confusion matrix: \n",
      "[[ 65 216]\n",
      " [ 61 520]]\n"
     ]
    }
   ],
   "source": [
    "perform_logit(X_train, X_test, y_train, y_test, X_cols, y_col)"
   ]
  },
  {
   "cell_type": "markdown",
   "id": "e46eb21d-baa3-45b9-8374-4eb04b91587f",
   "metadata": {},
   "source": [
    "### Undersampling"
   ]
  },
  {
   "cell_type": "code",
   "execution_count": 34,
   "id": "4b108a15-f6d3-4332-9021-04c56d736800",
   "metadata": {},
   "outputs": [
    {
     "name": "stdout",
     "output_type": "stream",
     "text": [
      "Optimization terminated successfully.\n",
      "         Current function value: 0.614073\n",
      "         Iterations 6\n",
      "                           Logit Regression Results                           \n",
      "==============================================================================\n",
      "Dep. Variable:                  Que16   No. Observations:                 2158\n",
      "Model:                          Logit   Df Residuals:                     2137\n",
      "Method:                           MLE   Df Model:                           20\n",
      "Date:                Wed, 18 Aug 2021   Pseudo R-squ.:                  0.1141\n",
      "Time:                        14:03:30   Log-Likelihood:                -1325.2\n",
      "converged:                       True   LL-Null:                       -1495.8\n",
      "Covariance Type:            nonrobust   LLR p-value:                 2.774e-60\n",
      "===============================================================================\n",
      "                  coef    std err          z      P>|z|      [0.025      0.975]\n",
      "-------------------------------------------------------------------------------\n",
      "Que1            0.2976      0.122      2.432      0.015       0.058       0.537\n",
      "Que2           -0.0948      0.097     -0.973      0.331      -0.286       0.096\n",
      "Que3           -0.1326      0.098     -1.357      0.175      -0.324       0.059\n",
      "Que4           -0.1664      0.135     -1.236      0.217      -0.430       0.098\n",
      "Que5           -0.1591      0.107     -1.491      0.136      -0.368       0.050\n",
      "Que6            0.0338      0.118      0.286      0.775      -0.198       0.265\n",
      "Que10_a        -0.0810      0.111     -0.731      0.465      -0.298       0.136\n",
      "Que10_b        -0.0347      0.169     -0.205      0.837      -0.367       0.297\n",
      "Que10_c        -0.1611      0.099     -1.629      0.103      -0.355       0.033\n",
      "Que10_d        -0.0408      0.101     -0.404      0.686      -0.238       0.157\n",
      "Que10_e        -0.9590      0.447     -2.147      0.032      -1.834      -0.084\n",
      "Que10_f        -0.1125      0.095     -1.184      0.236      -0.299       0.074\n",
      "Que14          -0.5652      0.144     -3.918      0.000      -0.848      -0.282\n",
      "Que15           1.3644      0.101     13.510      0.000       1.166       1.562\n",
      "Que17           1.3071      0.324      4.039      0.000       0.673       1.941\n",
      "Que18_age      -0.2525      0.130     -1.941      0.052      -0.508       0.002\n",
      "Que19           0.5033      0.148      3.395      0.001       0.213       0.794\n",
      "Que20           0.2238      0.260      0.860      0.390      -0.286       0.734\n",
      "Que21          -0.1158      0.104     -1.117      0.264      -0.319       0.087\n",
      "Que22          -0.2613      0.094     -2.771      0.006      -0.446      -0.077\n",
      "Que_smoking     0.2008      0.108      1.853      0.064      -0.012       0.413\n",
      "===============================================================================\n",
      "(array([0., 1.]), array([281, 581]))\n",
      "Test ROC AUC:  0.6762300855685068\n",
      "Test accuracy:  0.6774941995359629\n",
      "Test precision:  0.811088295687885\n",
      "Test recall:  0.6798623063683304\n",
      "Test F1 score:  0.7397003745318353\n",
      "Test confusion matrix: \n",
      "[[189  92]\n",
      " [186 395]]\n"
     ]
    }
   ],
   "source": [
    "perform_logit(X_train, X_test, y_train, y_test, X_cols, y_col, balance='under')"
   ]
  },
  {
   "cell_type": "markdown",
   "id": "5f474efe-6e4d-454f-a517-c45b7ff8eac3",
   "metadata": {},
   "source": [
    "### Oversampling"
   ]
  },
  {
   "cell_type": "code",
   "execution_count": 35,
   "id": "e55e2a89-3256-4cb1-a930-d332e544a7b9",
   "metadata": {},
   "outputs": [
    {
     "name": "stdout",
     "output_type": "stream",
     "text": [
      "Optimization terminated successfully.\n",
      "         Current function value: 0.609498\n",
      "         Iterations 6\n",
      "                           Logit Regression Results                           \n",
      "==============================================================================\n",
      "Dep. Variable:                  Que16   No. Observations:                 4738\n",
      "Model:                          Logit   Df Residuals:                     4717\n",
      "Method:                           MLE   Df Model:                           20\n",
      "Date:                Wed, 18 Aug 2021   Pseudo R-squ.:                  0.1207\n",
      "Time:                        14:03:30   Log-Likelihood:                -2887.8\n",
      "converged:                       True   LL-Null:                       -3284.1\n",
      "Covariance Type:            nonrobust   LLR p-value:                5.109e-155\n",
      "===============================================================================\n",
      "                  coef    std err          z      P>|z|      [0.025      0.975]\n",
      "-------------------------------------------------------------------------------\n",
      "Que1            0.3320      0.083      3.997      0.000       0.169       0.495\n",
      "Que2           -0.1092      0.066     -1.656      0.098      -0.238       0.020\n",
      "Que3           -0.0614      0.066     -0.928      0.353      -0.191       0.068\n",
      "Que4           -0.1826      0.091     -2.016      0.044      -0.360      -0.005\n",
      "Que5           -0.1687      0.073     -2.325      0.020      -0.311      -0.026\n",
      "Que6            0.1453      0.081      1.800      0.072      -0.013       0.304\n",
      "Que10_a        -0.1210      0.075     -1.609      0.108      -0.268       0.026\n",
      "Que10_b        -0.0336      0.115     -0.294      0.769      -0.258       0.191\n",
      "Que10_c        -0.1715      0.067     -2.558      0.011      -0.303      -0.040\n",
      "Que10_d        -0.0844      0.069     -1.232      0.218      -0.219       0.050\n",
      "Que10_e        -0.7473      0.289     -2.581      0.010      -1.315      -0.180\n",
      "Que10_f        -0.1982      0.064     -3.079      0.002      -0.324      -0.072\n",
      "Que14          -0.4889      0.095     -5.156      0.000      -0.675      -0.303\n",
      "Que15           1.3649      0.069     19.789      0.000       1.230       1.500\n",
      "Que17           1.3080      0.224      5.845      0.000       0.869       1.747\n",
      "Que18_age      -0.1012      0.087     -1.163      0.245      -0.272       0.069\n",
      "Que19           0.6303      0.099      6.352      0.000       0.436       0.825\n",
      "Que20           0.1664      0.177      0.942      0.346      -0.180       0.512\n",
      "Que21          -0.0973      0.070     -1.391      0.164      -0.234       0.040\n",
      "Que22          -0.2782      0.064     -4.329      0.000      -0.404      -0.152\n",
      "Que_smoking     0.1341      0.074      1.815      0.070      -0.011       0.279\n",
      "===============================================================================\n",
      "(array([0., 1.]), array([281, 581]))\n",
      "Test ROC AUC:  0.6724386105683537\n",
      "Test accuracy:  0.679814385150812\n",
      "Test precision:  0.8043912175648703\n",
      "Test recall:  0.693631669535284\n",
      "Test F1 score:  0.744916820702403\n",
      "Test confusion matrix: \n",
      "[[183  98]\n",
      " [178 403]]\n"
     ]
    }
   ],
   "source": [
    "perform_logit(X_train, X_test, y_train, y_test, X_cols, y_col, balance='over')"
   ]
  },
  {
   "cell_type": "markdown",
   "id": "5015c763-4e56-4b7c-aa05-5788d2905985",
   "metadata": {},
   "source": [
    "### SMOTEENN"
   ]
  },
  {
   "cell_type": "code",
   "execution_count": 36,
   "id": "2d60c374-6f99-42fe-8e4b-c40c20b431e3",
   "metadata": {},
   "outputs": [
    {
     "name": "stdout",
     "output_type": "stream",
     "text": [
      "Optimization terminated successfully.\n",
      "         Current function value: 0.545146\n",
      "         Iterations 6\n",
      "                           Logit Regression Results                           \n",
      "==============================================================================\n",
      "Dep. Variable:                  Que16   No. Observations:                 3448\n",
      "Model:                          Logit   Df Residuals:                     3427\n",
      "Method:                           MLE   Df Model:                           20\n",
      "Date:                Wed, 18 Aug 2021   Pseudo R-squ.:                  0.1228\n",
      "Time:                        14:03:30   Log-Likelihood:                -1879.7\n",
      "converged:                       True   LL-Null:                       -2142.7\n",
      "Covariance Type:            nonrobust   LLR p-value:                 1.012e-98\n",
      "===============================================================================\n",
      "                  coef    std err          z      P>|z|      [0.025      0.975]\n",
      "-------------------------------------------------------------------------------\n",
      "Que1            0.2643      0.105      2.508      0.012       0.058       0.471\n",
      "Que2           -0.0023      0.082     -0.028      0.978      -0.164       0.159\n",
      "Que3            0.0833      0.083      1.007      0.314      -0.079       0.245\n",
      "Que4           -0.1431      0.114     -1.254      0.210      -0.367       0.081\n",
      "Que5           -0.0343      0.091     -0.376      0.707      -0.213       0.144\n",
      "Que6            0.1727      0.101      1.706      0.088      -0.026       0.371\n",
      "Que10_a        -0.0272      0.094     -0.289      0.772      -0.212       0.157\n",
      "Que10_b         0.0161      0.144      0.112      0.911      -0.265       0.298\n",
      "Que10_c         0.0747      0.085      0.883      0.377      -0.091       0.241\n",
      "Que10_d        -0.0003      0.085     -0.004      0.997      -0.168       0.167\n",
      "Que10_e        -1.0667      0.346     -3.085      0.002      -1.744      -0.389\n",
      "Que10_f        -0.0419      0.081     -0.519      0.604      -0.200       0.116\n",
      "Que14          -0.3884      0.117     -3.316      0.001      -0.618      -0.159\n",
      "Que15           1.3528      0.087     15.547      0.000       1.182       1.523\n",
      "Que17           1.2917      0.303      4.261      0.000       0.698       1.886\n",
      "Que18_age      -0.0022      0.108     -0.020      0.984      -0.214       0.210\n",
      "Que19           0.6296      0.130      4.848      0.000       0.375       0.884\n",
      "Que20           0.1563      0.227      0.690      0.490      -0.288       0.600\n",
      "Que21           0.0012      0.087      0.014      0.989      -0.170       0.173\n",
      "Que22          -0.0927      0.080     -1.155      0.248      -0.250       0.065\n",
      "Que_smoking     0.1616      0.093      1.741      0.082      -0.020       0.344\n",
      "===============================================================================\n",
      "(array([0., 1.]), array([281, 581]))\n",
      "Test ROC AUC:  0.5631626659153136\n",
      "Test accuracy:  0.6786542923433875\n",
      "Test precision:  0.7065217391304348\n",
      "Test recall:  0.8950086058519794\n",
      "Test F1 score:  0.7896735003796508\n",
      "Test confusion matrix: \n",
      "[[ 65 216]\n",
      " [ 61 520]]\n"
     ]
    }
   ],
   "source": [
    "perform_logit(X_train, X_test, y_train, y_test, X_cols, y_col, balance='smoteen')"
   ]
  },
  {
   "cell_type": "markdown",
   "id": "05c27f53-3594-45a7-986f-a5f923449f85",
   "metadata": {},
   "source": [
    "## Random Forest"
   ]
  },
  {
   "cell_type": "markdown",
   "id": "9ade1045-4022-4107-b799-41edbb663624",
   "metadata": {},
   "source": [
    "### No balance"
   ]
  },
  {
   "cell_type": "code",
   "execution_count": 37,
   "id": "0ea84081-abf1-427a-8017-b37c499ce6d2",
   "metadata": {},
   "outputs": [
    {
     "name": "stdout",
     "output_type": "stream",
     "text": [
      "Fitting 7 folds for each of 100 candidates, totalling 700 fits\n",
      "{'bootstrap': True,\n",
      " 'criterion': 'entropy',\n",
      " 'max_depth': 50,\n",
      " 'max_features': 'auto',\n",
      " 'min_samples_leaf': 1,\n",
      " 'min_samples_split': 2,\n",
      " 'n_estimators': 300}\n",
      "(array([0., 1.]), array([281, 581]))\n",
      "Test ROC AUC:  0.6507586012581081\n",
      "Test accuracy:  0.7273781902552204\n",
      "Test precision:  0.7597597597597597\n",
      "Test recall:  0.8709122203098106\n",
      "Test F1 score:  0.8115477145148355\n",
      "Test confusion matrix: \n",
      "[[121 160]\n",
      " [ 75 506]]\n"
     ]
    }
   ],
   "source": [
    "perform_random_forest(X_train, X_test, y_train, y_test)"
   ]
  },
  {
   "cell_type": "markdown",
   "id": "771dfa69-fe3e-417f-b056-d8054d481242",
   "metadata": {},
   "source": [
    "### Undersampling"
   ]
  },
  {
   "cell_type": "code",
   "execution_count": 38,
   "id": "9801863f-1ed9-4112-805f-c6d88615e96c",
   "metadata": {},
   "outputs": [
    {
     "name": "stdout",
     "output_type": "stream",
     "text": [
      "Fitting 7 folds for each of 100 candidates, totalling 700 fits\n",
      "{'bootstrap': True,\n",
      " 'criterion': 'entropy',\n",
      " 'max_depth': None,\n",
      " 'max_features': 'auto',\n",
      " 'min_samples_leaf': 4,\n",
      " 'min_samples_split': 2,\n",
      " 'n_estimators': 500}\n",
      "(array([0., 1.]), array([281, 581]))\n",
      "Test ROC AUC:  0.6867898640826653\n",
      "Test accuracy:  0.6867749419953596\n",
      "Test precision:  0.8193018480492813\n",
      "Test recall:  0.6867469879518072\n",
      "Test F1 score:  0.747191011235955\n",
      "Test confusion matrix: \n",
      "[[193  88]\n",
      " [182 399]]\n"
     ]
    }
   ],
   "source": [
    "perform_random_forest(X_train, X_test, y_train, y_test, balance='under')"
   ]
  },
  {
   "cell_type": "markdown",
   "id": "eee15827-d405-4545-87cb-66d0bfcda305",
   "metadata": {},
   "source": [
    "### Oversampling"
   ]
  },
  {
   "cell_type": "code",
   "execution_count": 39,
   "id": "91729c41-fe30-4e2f-bc84-5bf674f861b2",
   "metadata": {},
   "outputs": [
    {
     "name": "stdout",
     "output_type": "stream",
     "text": [
      "Fitting 7 folds for each of 100 candidates, totalling 700 fits\n",
      "{'bootstrap': False,\n",
      " 'criterion': 'entropy',\n",
      " 'max_depth': None,\n",
      " 'max_features': 'auto',\n",
      " 'min_samples_leaf': 1,\n",
      " 'min_samples_split': 2,\n",
      " 'n_estimators': 500}\n",
      "(array([0., 1.]), array([281, 581]))\n",
      "Test ROC AUC:  0.6686226349219961\n",
      "Test accuracy:  0.7192575406032483\n",
      "Test precision:  0.7792421746293245\n",
      "Test recall:  0.8141135972461274\n",
      "Test F1 score:  0.7962962962962963\n",
      "Test confusion matrix: \n",
      "[[147 134]\n",
      " [108 473]]\n"
     ]
    }
   ],
   "source": [
    "perform_random_forest(X_train, X_test, y_train, y_test, balance='over')"
   ]
  },
  {
   "cell_type": "markdown",
   "id": "966fdeb6-9522-462f-8344-b5cf8b7747b6",
   "metadata": {},
   "source": [
    "### SMOTEENN"
   ]
  },
  {
   "cell_type": "code",
   "execution_count": 40,
   "id": "b7438cf4-cf2e-4b29-ba61-aac89a86321e",
   "metadata": {},
   "outputs": [
    {
     "name": "stdout",
     "output_type": "stream",
     "text": [
      "Fitting 7 folds for each of 100 candidates, totalling 700 fits\n",
      "{'bootstrap': True,\n",
      " 'criterion': 'gini',\n",
      " 'max_depth': 80,\n",
      " 'max_features': 'auto',\n",
      " 'min_samples_leaf': 1,\n",
      " 'min_samples_split': 2,\n",
      " 'n_estimators': 400}\n",
      "(array([0., 1.]), array([281, 581]))\n",
      "Test ROC AUC:  0.6535149239561193\n",
      "Test accuracy:  0.7273781902552204\n",
      "Test precision:  0.7621212121212121\n",
      "Test recall:  0.8657487091222031\n",
      "Test F1 score:  0.8106365834004835\n",
      "Test confusion matrix: \n",
      "[[124 157]\n",
      " [ 78 503]]\n"
     ]
    }
   ],
   "source": [
    "perform_random_forest(X_train, X_test, y_train, y_test, balance='smoteen')"
   ]
  },
  {
   "cell_type": "markdown",
   "id": "b2f48575-c85f-46f4-8046-60cd7825fadd",
   "metadata": {},
   "source": [
    "## Decision Tree"
   ]
  },
  {
   "cell_type": "markdown",
   "id": "4cdea0e0-e821-4189-b0ef-67deead620a4",
   "metadata": {},
   "source": [
    "### No balance"
   ]
  },
  {
   "cell_type": "code",
   "execution_count": 41,
   "id": "4cec8aa1-d87d-4a82-8635-9524986bf316",
   "metadata": {},
   "outputs": [
    {
     "name": "stdout",
     "output_type": "stream",
     "text": [
      "Fitting 7 folds for each of 100 candidates, totalling 700 fits\n",
      "{'criterion': 'entropy',\n",
      " 'max_depth': 30,\n",
      " 'max_features': 'sqrt',\n",
      " 'min_samples_leaf': 1,\n",
      " 'min_samples_split': 2,\n",
      " 'splitter': 'best'}\n",
      "(array([0., 1.]), array([281, 581]))\n",
      "Test ROC AUC:  0.6647852212102094\n",
      "Test accuracy:  0.7041763341067285\n",
      "Test precision:  0.7820069204152249\n",
      "Test recall:  0.7779690189328744\n",
      "Test F1 score:  0.7799827437446074\n",
      "Test confusion matrix: \n",
      "[[155 126]\n",
      " [129 452]]\n"
     ]
    }
   ],
   "source": [
    "perform_decision_tree(X_train, X_test, y_train, y_test)"
   ]
  },
  {
   "cell_type": "markdown",
   "id": "c199e85f-6254-4276-826a-9ceab00a76f0",
   "metadata": {},
   "source": [
    "### Undersampling"
   ]
  },
  {
   "cell_type": "code",
   "execution_count": 42,
   "id": "3787e25c-9a39-4b5d-99f7-973af5b945d3",
   "metadata": {},
   "outputs": [
    {
     "name": "stdout",
     "output_type": "stream",
     "text": [
      "Fitting 7 folds for each of 100 candidates, totalling 700 fits\n",
      "{'criterion': 'entropy',\n",
      " 'max_depth': None,\n",
      " 'max_features': 'auto',\n",
      " 'min_samples_leaf': 4,\n",
      " 'min_samples_split': 5,\n",
      " 'splitter': 'best'}\n",
      "(array([0., 1.]), array([281, 581]))\n",
      "Test ROC AUC:  0.6360612761161576\n",
      "Test accuracy:  0.6357308584686775\n",
      "Test precision:  0.7834394904458599\n",
      "Test recall:  0.6351118760757315\n",
      "Test F1 score:  0.7015209125475286\n",
      "Test confusion matrix: \n",
      "[[179 102]\n",
      " [212 369]]\n"
     ]
    }
   ],
   "source": [
    "perform_decision_tree(X_train, X_test, y_train, y_test, balance='under')"
   ]
  },
  {
   "cell_type": "markdown",
   "id": "f37637f9-78b6-4600-b38f-4e2c81e02d9d",
   "metadata": {},
   "source": [
    "### Oversampling"
   ]
  },
  {
   "cell_type": "code",
   "execution_count": 43,
   "id": "447027fb-9421-4dd0-b25a-c32cc173b94f",
   "metadata": {},
   "outputs": [
    {
     "name": "stdout",
     "output_type": "stream",
     "text": [
      "Fitting 7 folds for each of 100 candidates, totalling 700 fits\n",
      "{'criterion': 'gini',\n",
      " 'max_depth': 110,\n",
      " 'max_features': 'auto',\n",
      " 'min_samples_leaf': 1,\n",
      " 'min_samples_split': 2,\n",
      " 'splitter': 'random'}\n",
      "(array([0., 1.]), array([281, 581]))\n",
      "Test ROC AUC:  0.64791040113683\n",
      "Test accuracy:  0.6925754060324826\n",
      "Test precision:  0.7696245733788396\n",
      "Test recall:  0.7762478485370051\n",
      "Test F1 score:  0.7729220222793488\n",
      "Test confusion matrix: \n",
      "[[146 135]\n",
      " [130 451]]\n"
     ]
    }
   ],
   "source": [
    "perform_decision_tree(X_train, X_test, y_train, y_test, balance='over')"
   ]
  },
  {
   "cell_type": "markdown",
   "id": "13eca072-624a-4c3e-baf3-7057a2a43c56",
   "metadata": {},
   "source": [
    "### SMOTEENN"
   ]
  },
  {
   "cell_type": "code",
   "execution_count": 44,
   "id": "c1a0d673-8aff-47e5-8635-3ce88d698845",
   "metadata": {},
   "outputs": [
    {
     "name": "stdout",
     "output_type": "stream",
     "text": [
      "Fitting 7 folds for each of 100 candidates, totalling 700 fits\n",
      "{'criterion': 'entropy',\n",
      " 'max_depth': 110,\n",
      " 'max_features': 'sqrt',\n",
      " 'min_samples_leaf': 1,\n",
      " 'min_samples_split': 2,\n",
      " 'splitter': 'random'}\n",
      "(array([0., 1.]), array([281, 581]))\n",
      "Test ROC AUC:  0.6599004048731786\n",
      "Test accuracy:  0.7099767981438515\n",
      "Test precision:  0.7744610281923715\n",
      "Test recall:  0.8037865748709122\n",
      "Test F1 score:  0.7888513513513513\n",
      "Test confusion matrix: \n",
      "[[145 136]\n",
      " [114 467]]\n"
     ]
    }
   ],
   "source": [
    "perform_decision_tree(X_train, X_test, y_train, y_test, balance='SMOTEEN')"
   ]
  },
  {
   "cell_type": "markdown",
   "id": "36b7787c-8f63-4f3f-9681-5e2f2940c282",
   "metadata": {},
   "source": [
    "# Strategy 4 - most frequent"
   ]
  },
  {
   "cell_type": "code",
   "execution_count": 45,
   "id": "ef4e7dcc-0a44-47b0-accc-a4381c1f448e",
   "metadata": {},
   "outputs": [],
   "source": [
    "imputer = SimpleImputer(missing_values=np.nan, strategy='most_frequent')\n",
    "data_most_frequent = pd.DataFrame(imputer.fit_transform(data))\n",
    "data_most_frequent.columns = data.columns\n",
    "data_most_frequent.index = data.index\n",
    "# mean values are not integer numbers so rounding to int was necessary\n",
    "data_most_frequent = perform_mapping(data_most_frequent, questions_map_EN)\n",
    "model_data = data_most_frequent.drop(columns=['Que16'])\n",
    "target_data = data_most_frequent['Que16']\n",
    "X_train, X_test, y_train, y_test = train_test_split(model_data.values, target_data.values, test_size=0.20, random_state=42)"
   ]
  },
  {
   "cell_type": "markdown",
   "id": "733c83c7-8a1d-425f-9d89-8d44e5f031c7",
   "metadata": {},
   "source": [
    "## Logistic Regression"
   ]
  },
  {
   "cell_type": "markdown",
   "id": "0bc98938-5a9b-49a5-992e-3048d68deb93",
   "metadata": {},
   "source": [
    "### No balance"
   ]
  },
  {
   "cell_type": "code",
   "execution_count": 46,
   "id": "70d4dfd2-4f94-4469-8917-2cc0c0d07182",
   "metadata": {},
   "outputs": [
    {
     "name": "stdout",
     "output_type": "stream",
     "text": [
      "Optimization terminated successfully.\n",
      "         Current function value: 0.574586\n",
      "         Iterations 6\n",
      "                           Logit Regression Results                           \n",
      "==============================================================================\n",
      "Dep. Variable:                  Que16   No. Observations:                 3448\n",
      "Model:                          Logit   Df Residuals:                     3427\n",
      "Method:                           MLE   Df Model:                           20\n",
      "Date:                Wed, 18 Aug 2021   Pseudo R-squ.:                 0.07538\n",
      "Time:                        14:24:50   Log-Likelihood:                -1981.2\n",
      "converged:                       True   LL-Null:                       -2142.7\n",
      "Covariance Type:            nonrobust   LLR p-value:                 1.564e-56\n",
      "===============================================================================\n",
      "                  coef    std err          z      P>|z|      [0.025      0.975]\n",
      "-------------------------------------------------------------------------------\n",
      "Que1            0.1369      0.115      1.189      0.234      -0.089       0.363\n",
      "Que2           -0.0607      0.082     -0.740      0.459      -0.221       0.100\n",
      "Que3            0.1916      0.081      2.365      0.018       0.033       0.350\n",
      "Que4           -0.1393      0.110     -1.263      0.207      -0.355       0.077\n",
      "Que5            0.3988      0.085      4.678      0.000       0.232       0.566\n",
      "Que6            0.3443      0.100      3.426      0.001       0.147       0.541\n",
      "Que10_a        -0.1125      0.093     -1.215      0.224      -0.294       0.069\n",
      "Que10_b        -0.0027      0.141     -0.019      0.985      -0.279       0.274\n",
      "Que10_c         0.1373      0.084      1.632      0.103      -0.028       0.302\n",
      "Que10_d        -0.1583      0.083     -1.907      0.057      -0.321       0.004\n",
      "Que10_e        -0.9015      0.331     -2.725      0.006      -1.550      -0.253\n",
      "Que10_f         0.0936      0.079      1.188      0.235      -0.061       0.248\n",
      "Que14          -0.5208      0.114     -4.569      0.000      -0.744      -0.297\n",
      "Que15           0.9212      0.089     10.374      0.000       0.747       1.095\n",
      "Que17           1.3467      0.301      4.469      0.000       0.756       1.937\n",
      "Que18_age      -0.0525      0.106     -0.493      0.622      -0.261       0.156\n",
      "Que19           0.4867      0.153      3.173      0.002       0.186       0.787\n",
      "Que20           0.2094      0.222      0.945      0.345      -0.225       0.644\n",
      "Que21          -0.1301      0.089     -1.464      0.143      -0.304       0.044\n",
      "Que22           0.1058      0.079      1.332      0.183      -0.050       0.262\n",
      "Que_smoking     0.1105      0.092      1.204      0.229      -0.069       0.290\n",
      "===============================================================================\n",
      "(array([0., 1.]), array([281, 581]))\n",
      "Test ROC AUC:  0.5250396604210437\n",
      "Test accuracy:  0.6693735498839907\n",
      "Test precision:  0.6859296482412061\n",
      "Test recall:  0.9397590361445783\n",
      "Test F1 score:  0.7930283224400871\n",
      "Test confusion matrix: \n",
      "[[ 31 250]\n",
      " [ 35 546]]\n"
     ]
    }
   ],
   "source": [
    "perform_logit(X_train, X_test, y_train, y_test, X_cols, y_col)"
   ]
  },
  {
   "cell_type": "markdown",
   "id": "1b4a86ba-f3fe-4b4d-aaef-50528ae916a5",
   "metadata": {},
   "source": [
    "### Undersampling"
   ]
  },
  {
   "cell_type": "code",
   "execution_count": 47,
   "id": "b2f3cd48-b4c4-4a9d-afbc-4285edaf5039",
   "metadata": {},
   "outputs": [
    {
     "name": "stdout",
     "output_type": "stream",
     "text": [
      "Optimization terminated successfully.\n",
      "         Current function value: 0.647708\n",
      "         Iterations 6\n",
      "                           Logit Regression Results                           \n",
      "==============================================================================\n",
      "Dep. Variable:                  Que16   No. Observations:                 2158\n",
      "Model:                          Logit   Df Residuals:                     2137\n",
      "Method:                           MLE   Df Model:                           20\n",
      "Date:                Wed, 18 Aug 2021   Pseudo R-squ.:                 0.06556\n",
      "Time:                        14:24:50   Log-Likelihood:                -1397.8\n",
      "converged:                       True   LL-Null:                       -1495.8\n",
      "Covariance Type:            nonrobust   LLR p-value:                 6.585e-31\n",
      "===============================================================================\n",
      "                  coef    std err          z      P>|z|      [0.025      0.975]\n",
      "-------------------------------------------------------------------------------\n",
      "Que1            0.1861      0.135      1.379      0.168      -0.078       0.451\n",
      "Que2           -0.1732      0.096     -1.802      0.071      -0.362       0.015\n",
      "Que3            0.0013      0.095      0.014      0.989      -0.184       0.187\n",
      "Que4           -0.1715      0.130     -1.321      0.186      -0.426       0.083\n",
      "Que5            0.2620      0.100      2.631      0.009       0.067       0.457\n",
      "Que6            0.1886      0.117      1.616      0.106      -0.040       0.417\n",
      "Que10_a        -0.1641      0.108     -1.521      0.128      -0.375       0.047\n",
      "Que10_b        -0.0340      0.165     -0.205      0.837      -0.358       0.290\n",
      "Que10_c        -0.0966      0.097     -0.993      0.321      -0.287       0.094\n",
      "Que10_d        -0.1935      0.097     -1.992      0.046      -0.384      -0.003\n",
      "Que10_e        -0.7604      0.425     -1.790      0.073      -1.593       0.072\n",
      "Que10_f         0.0035      0.092      0.037      0.970      -0.178       0.184\n",
      "Que14          -0.6763      0.140     -4.836      0.000      -0.950      -0.402\n",
      "Que15           0.9555      0.101      9.444      0.000       0.757       1.154\n",
      "Que17           1.4088      0.322      4.380      0.000       0.778       2.039\n",
      "Que18_age      -0.2525      0.127     -1.986      0.047      -0.502      -0.003\n",
      "Que19           0.3180      0.179      1.772      0.076      -0.034       0.670\n",
      "Que20           0.2474      0.253      0.978      0.328      -0.248       0.743\n",
      "Que21          -0.2578      0.105     -2.458      0.014      -0.463      -0.052\n",
      "Que22          -0.0591      0.094     -0.631      0.528      -0.243       0.124\n",
      "Que_smoking     0.1366      0.106      1.286      0.199      -0.072       0.345\n",
      "===============================================================================\n",
      "(array([0., 1.]), array([281, 581]))\n",
      "Test ROC AUC:  0.6208494374039115\n",
      "Test accuracy:  0.6276102088167054\n",
      "Test precision:  0.768595041322314\n",
      "Test recall:  0.6402753872633391\n",
      "Test F1 score:  0.6985915492957747\n",
      "Test confusion matrix: \n",
      "[[169 112]\n",
      " [209 372]]\n"
     ]
    }
   ],
   "source": [
    "perform_logit(X_train, X_test, y_train, y_test, X_cols, y_col, balance='under')"
   ]
  },
  {
   "cell_type": "markdown",
   "id": "c2a82053-b9db-4364-8a1d-58fb6690096e",
   "metadata": {},
   "source": [
    "### Oversampling"
   ]
  },
  {
   "cell_type": "code",
   "execution_count": 48,
   "id": "bb88eeed-79bc-48ab-b3ae-166f1a438cc4",
   "metadata": {},
   "outputs": [
    {
     "name": "stdout",
     "output_type": "stream",
     "text": [
      "Optimization terminated successfully.\n",
      "         Current function value: 0.648641\n",
      "         Iterations 6\n",
      "                           Logit Regression Results                           \n",
      "==============================================================================\n",
      "Dep. Variable:                  Que16   No. Observations:                 4738\n",
      "Model:                          Logit   Df Residuals:                     4717\n",
      "Method:                           MLE   Df Model:                           20\n",
      "Date:                Wed, 18 Aug 2021   Pseudo R-squ.:                 0.06421\n",
      "Time:                        14:24:50   Log-Likelihood:                -3073.3\n",
      "converged:                       True   LL-Null:                       -3284.1\n",
      "Covariance Type:            nonrobust   LLR p-value:                 6.240e-77\n",
      "===============================================================================\n",
      "                  coef    std err          z      P>|z|      [0.025      0.975]\n",
      "-------------------------------------------------------------------------------\n",
      "Que1            0.2137      0.091      2.353      0.019       0.036       0.392\n",
      "Que2           -0.1699      0.065     -2.613      0.009      -0.297      -0.042\n",
      "Que3            0.0797      0.064      1.249      0.212      -0.045       0.205\n",
      "Que4           -0.1835      0.087     -2.109      0.035      -0.354      -0.013\n",
      "Que5            0.2671      0.067      3.975      0.000       0.135       0.399\n",
      "Que6            0.2869      0.079      3.612      0.000       0.131       0.443\n",
      "Que10_a        -0.2202      0.073     -3.016      0.003      -0.363      -0.077\n",
      "Que10_b        -0.0340      0.112     -0.305      0.761      -0.253       0.185\n",
      "Que10_c        -0.0889      0.066     -1.348      0.178      -0.218       0.040\n",
      "Que10_d        -0.2304      0.066     -3.500      0.000      -0.359      -0.101\n",
      "Que10_e        -0.6908      0.274     -2.521      0.012      -1.228      -0.154\n",
      "Que10_f        -0.0556      0.062     -0.894      0.372      -0.178       0.066\n",
      "Que14          -0.6079      0.091     -6.651      0.000      -0.787      -0.429\n",
      "Que15           0.9062      0.069     13.134      0.000       0.771       1.041\n",
      "Que17           1.3319      0.222      6.009      0.000       0.897       1.766\n",
      "Que18_age      -0.1346      0.085     -1.585      0.113      -0.301       0.032\n",
      "Que19           0.5065      0.119      4.243      0.000       0.273       0.740\n",
      "Que20           0.2039      0.171      1.190      0.234      -0.132       0.540\n",
      "Que21          -0.1888      0.070     -2.680      0.007      -0.327      -0.051\n",
      "Que22          -0.1142      0.064     -1.797      0.072      -0.239       0.010\n",
      "Que_smoking     0.0755      0.072      1.049      0.294      -0.066       0.217\n",
      "===============================================================================\n",
      "(array([0., 1.]), array([281, 581]))\n",
      "Test ROC AUC:  0.6081611652507335\n",
      "Test accuracy:  0.6241299303944315\n",
      "Test precision:  0.7554671968190855\n",
      "Test recall:  0.6540447504302926\n",
      "Test F1 score:  0.7011070110701106\n",
      "Test confusion matrix: \n",
      "[[158 123]\n",
      " [201 380]]\n"
     ]
    }
   ],
   "source": [
    "perform_logit(X_train, X_test, y_train, y_test, X_cols, y_col, balance='over')"
   ]
  },
  {
   "cell_type": "markdown",
   "id": "570995c4-4a3f-471b-aff9-97b2157e7062",
   "metadata": {},
   "source": [
    "### SMOTEENN"
   ]
  },
  {
   "cell_type": "code",
   "execution_count": 49,
   "id": "2c03217f-361e-4855-976d-17514b83ac58",
   "metadata": {},
   "outputs": [
    {
     "name": "stdout",
     "output_type": "stream",
     "text": [
      "Optimization terminated successfully.\n",
      "         Current function value: 0.574586\n",
      "         Iterations 6\n",
      "                           Logit Regression Results                           \n",
      "==============================================================================\n",
      "Dep. Variable:                  Que16   No. Observations:                 3448\n",
      "Model:                          Logit   Df Residuals:                     3427\n",
      "Method:                           MLE   Df Model:                           20\n",
      "Date:                Wed, 18 Aug 2021   Pseudo R-squ.:                 0.07538\n",
      "Time:                        14:24:50   Log-Likelihood:                -1981.2\n",
      "converged:                       True   LL-Null:                       -2142.7\n",
      "Covariance Type:            nonrobust   LLR p-value:                 1.564e-56\n",
      "===============================================================================\n",
      "                  coef    std err          z      P>|z|      [0.025      0.975]\n",
      "-------------------------------------------------------------------------------\n",
      "Que1            0.1369      0.115      1.189      0.234      -0.089       0.363\n",
      "Que2           -0.0607      0.082     -0.740      0.459      -0.221       0.100\n",
      "Que3            0.1916      0.081      2.365      0.018       0.033       0.350\n",
      "Que4           -0.1393      0.110     -1.263      0.207      -0.355       0.077\n",
      "Que5            0.3988      0.085      4.678      0.000       0.232       0.566\n",
      "Que6            0.3443      0.100      3.426      0.001       0.147       0.541\n",
      "Que10_a        -0.1125      0.093     -1.215      0.224      -0.294       0.069\n",
      "Que10_b        -0.0027      0.141     -0.019      0.985      -0.279       0.274\n",
      "Que10_c         0.1373      0.084      1.632      0.103      -0.028       0.302\n",
      "Que10_d        -0.1583      0.083     -1.907      0.057      -0.321       0.004\n",
      "Que10_e        -0.9015      0.331     -2.725      0.006      -1.550      -0.253\n",
      "Que10_f         0.0936      0.079      1.188      0.235      -0.061       0.248\n",
      "Que14          -0.5208      0.114     -4.569      0.000      -0.744      -0.297\n",
      "Que15           0.9212      0.089     10.374      0.000       0.747       1.095\n",
      "Que17           1.3467      0.301      4.469      0.000       0.756       1.937\n",
      "Que18_age      -0.0525      0.106     -0.493      0.622      -0.261       0.156\n",
      "Que19           0.4867      0.153      3.173      0.002       0.186       0.787\n",
      "Que20           0.2094      0.222      0.945      0.345      -0.225       0.644\n",
      "Que21          -0.1301      0.089     -1.464      0.143      -0.304       0.044\n",
      "Que22           0.1058      0.079      1.332      0.183      -0.050       0.262\n",
      "Que_smoking     0.1105      0.092      1.204      0.229      -0.069       0.290\n",
      "===============================================================================\n",
      "(array([0., 1.]), array([281, 581]))\n",
      "Test ROC AUC:  0.5250396604210437\n",
      "Test accuracy:  0.6693735498839907\n",
      "Test precision:  0.6859296482412061\n",
      "Test recall:  0.9397590361445783\n",
      "Test F1 score:  0.7930283224400871\n",
      "Test confusion matrix: \n",
      "[[ 31 250]\n",
      " [ 35 546]]\n"
     ]
    }
   ],
   "source": [
    "perform_logit(X_train, X_test, y_train, y_test, X_cols, y_col, balance='smoteen')"
   ]
  },
  {
   "cell_type": "markdown",
   "id": "52234724-2880-4ac1-bacb-2e0b75328e2e",
   "metadata": {},
   "source": [
    "## Random Forest"
   ]
  },
  {
   "cell_type": "markdown",
   "id": "aaecf051-be3d-40a5-ad97-c5d13bf67f64",
   "metadata": {},
   "source": [
    "### No balance"
   ]
  },
  {
   "cell_type": "code",
   "execution_count": 50,
   "id": "f3ee7c00-7302-4581-aff2-1119cffa8e27",
   "metadata": {},
   "outputs": [
    {
     "name": "stdout",
     "output_type": "stream",
     "text": [
      "Fitting 7 folds for each of 100 candidates, totalling 700 fits\n",
      "{'bootstrap': True,\n",
      " 'criterion': 'entropy',\n",
      " 'max_depth': 50,\n",
      " 'max_features': 'auto',\n",
      " 'min_samples_leaf': 1,\n",
      " 'min_samples_split': 2,\n",
      " 'n_estimators': 300}\n",
      "(array([0., 1.]), array([281, 581]))\n",
      "Test ROC AUC:  0.6252779292053828\n",
      "Test accuracy:  0.7041763341067285\n",
      "Test precision:  0.7454819277108434\n",
      "Test recall:  0.8519793459552496\n",
      "Test F1 score:  0.7951807228915664\n",
      "Test confusion matrix: \n",
      "[[112 169]\n",
      " [ 86 495]]\n"
     ]
    }
   ],
   "source": [
    "perform_random_forest(X_train, X_test, y_train, y_test)"
   ]
  },
  {
   "cell_type": "markdown",
   "id": "e9dd608d-77b2-4c5e-9f78-797abb8cde1f",
   "metadata": {},
   "source": [
    "### Undersampling"
   ]
  },
  {
   "cell_type": "code",
   "execution_count": 51,
   "id": "78c8f90c-003c-4688-8a95-5f40cdf6b7d7",
   "metadata": {},
   "outputs": [
    {
     "name": "stdout",
     "output_type": "stream",
     "text": [
      "Fitting 7 folds for each of 100 candidates, totalling 700 fits\n",
      "{'bootstrap': True,\n",
      " 'criterion': 'gini',\n",
      " 'max_depth': 50,\n",
      " 'max_features': 'auto',\n",
      " 'min_samples_leaf': 1,\n",
      " 'min_samples_split': 5,\n",
      " 'n_estimators': 700}\n",
      "(array([0., 1.]), array([281, 581]))\n",
      "Test ROC AUC:  0.6610764358909965\n",
      "Test accuracy:  0.6682134570765661\n",
      "Test precision:  0.7967806841046278\n",
      "Test recall:  0.6815834767641996\n",
      "Test F1 score:  0.7346938775510204\n",
      "Test confusion matrix: \n",
      "[[180 101]\n",
      " [185 396]]\n"
     ]
    }
   ],
   "source": [
    "perform_random_forest(X_train, X_test, y_train, y_test, balance='under')"
   ]
  },
  {
   "cell_type": "markdown",
   "id": "98275891-207c-47c4-9d1a-7fb440059f5c",
   "metadata": {},
   "source": [
    "### Oversampling"
   ]
  },
  {
   "cell_type": "code",
   "execution_count": 52,
   "id": "91bd31a4-1cf8-4407-84a6-1b8c85efb9e5",
   "metadata": {},
   "outputs": [
    {
     "name": "stdout",
     "output_type": "stream",
     "text": [
      "Fitting 7 folds for each of 100 candidates, totalling 700 fits\n",
      "{'bootstrap': False,\n",
      " 'criterion': 'entropy',\n",
      " 'max_depth': 90,\n",
      " 'max_features': 'auto',\n",
      " 'min_samples_leaf': 1,\n",
      " 'min_samples_split': 2,\n",
      " 'n_estimators': 300}\n",
      "(array([0., 1.]), array([281, 581]))\n",
      "Test ROC AUC:  0.6385480917059188\n",
      "Test accuracy:  0.6960556844547564\n",
      "Test precision:  0.759349593495935\n",
      "Test recall:  0.8037865748709122\n",
      "Test F1 score:  0.7809364548494984\n",
      "Test confusion matrix: \n",
      "[[133 148]\n",
      " [114 467]]\n"
     ]
    }
   ],
   "source": [
    "perform_random_forest(X_train, X_test, y_train, y_test, balance='over')"
   ]
  },
  {
   "cell_type": "markdown",
   "id": "fa73defd-d7ce-4ab8-8bc6-b198deaa6182",
   "metadata": {},
   "source": [
    "### SMOTEENN"
   ]
  },
  {
   "cell_type": "code",
   "execution_count": 53,
   "id": "3e627729-7734-4b55-9cce-6cf6c61995a9",
   "metadata": {},
   "outputs": [
    {
     "name": "stdout",
     "output_type": "stream",
     "text": [
      "Fitting 7 folds for each of 100 candidates, totalling 700 fits\n",
      "{'bootstrap': True,\n",
      " 'criterion': 'gini',\n",
      " 'max_depth': 80,\n",
      " 'max_features': 'auto',\n",
      " 'min_samples_leaf': 1,\n",
      " 'min_samples_split': 2,\n",
      " 'n_estimators': 400}\n",
      "(array([0., 1.]), array([281, 581]))\n",
      "Test ROC AUC:  0.6260803253685816\n",
      "Test accuracy:  0.7064965197215777\n",
      "Test precision:  0.7455089820359282\n",
      "Test recall:  0.8571428571428571\n",
      "Test F1 score:  0.7974379503602882\n",
      "Test confusion matrix: \n",
      "[[111 170]\n",
      " [ 83 498]]\n"
     ]
    }
   ],
   "source": [
    "perform_random_forest(X_train, X_test, y_train, y_test, balance='smoteen')"
   ]
  },
  {
   "cell_type": "markdown",
   "id": "89ce2c50-9232-4b3f-bd5b-0db4fb9563cf",
   "metadata": {},
   "source": [
    "## Decision Tree"
   ]
  },
  {
   "cell_type": "markdown",
   "id": "2f01c4f5-bc08-405b-8121-8c90df9e987d",
   "metadata": {},
   "source": [
    "### No balance"
   ]
  },
  {
   "cell_type": "code",
   "execution_count": 54,
   "id": "e4c269e0-b18c-44ed-95dd-4ab7464d2ab8",
   "metadata": {},
   "outputs": [
    {
     "name": "stdout",
     "output_type": "stream",
     "text": [
      "Fitting 7 folds for each of 100 candidates, totalling 700 fits\n",
      "{'criterion': 'gini',\n",
      " 'max_depth': 60,\n",
      " 'max_features': 'sqrt',\n",
      " 'min_samples_leaf': 1,\n",
      " 'min_samples_split': 2,\n",
      " 'splitter': 'best'}\n",
      "(array([0., 1.]), array([281, 581]))\n",
      "Test ROC AUC:  0.6568071982898549\n",
      "Test accuracy:  0.6983758700696056\n",
      "Test precision:  0.7762478485370051\n",
      "Test recall:  0.7762478485370051\n",
      "Test F1 score:  0.7762478485370051\n",
      "Test confusion matrix: \n",
      "[[151 130]\n",
      " [130 451]]\n"
     ]
    }
   ],
   "source": [
    "perform_decision_tree(X_train, X_test, y_train, y_test)"
   ]
  },
  {
   "cell_type": "markdown",
   "id": "e8a0d235-55d1-4b7f-a07e-7a34f5477aad",
   "metadata": {},
   "source": [
    "### Undersampling"
   ]
  },
  {
   "cell_type": "code",
   "execution_count": 55,
   "id": "6701690d-aeb6-484e-b5d8-6fccb5b9a31b",
   "metadata": {},
   "outputs": [
    {
     "name": "stdout",
     "output_type": "stream",
     "text": [
      "Fitting 7 folds for each of 100 candidates, totalling 700 fits\n",
      "{'criterion': 'gini',\n",
      " 'max_depth': 10,\n",
      " 'max_features': 'sqrt',\n",
      " 'min_samples_leaf': 4,\n",
      " 'min_samples_split': 2,\n",
      " 'splitter': 'best'}\n",
      "(array([0., 1.]), array([281, 581]))\n",
      "Test ROC AUC:  0.5918345471361808\n",
      "Test accuracy:  0.5649651972157773\n",
      "Test precision:  0.7627551020408163\n",
      "Test recall:  0.5146299483648882\n",
      "Test F1 score:  0.6145940390544707\n",
      "Test confusion matrix: \n",
      "[[188  93]\n",
      " [282 299]]\n"
     ]
    }
   ],
   "source": [
    "perform_decision_tree(X_train, X_test, y_train, y_test, balance='under')"
   ]
  },
  {
   "cell_type": "markdown",
   "id": "85f50ee3-1dd3-40a5-bac2-054255e0730c",
   "metadata": {},
   "source": [
    "### Oversampling"
   ]
  },
  {
   "cell_type": "code",
   "execution_count": 56,
   "id": "b08bc3b7-9f2a-4572-88c2-c6d2868df1fd",
   "metadata": {},
   "outputs": [
    {
     "name": "stdout",
     "output_type": "stream",
     "text": [
      "Fitting 7 folds for each of 100 candidates, totalling 700 fits\n",
      "{'criterion': 'entropy',\n",
      " 'max_depth': 60,\n",
      " 'max_features': 'sqrt',\n",
      " 'min_samples_leaf': 1,\n",
      " 'min_samples_split': 2,\n",
      " 'splitter': 'random'}\n",
      "(array([0., 1.]), array([281, 581]))\n",
      "Test ROC AUC:  0.6290939048517405\n",
      "Test accuracy:  0.6647331786542924\n",
      "Test precision:  0.7616487455197133\n",
      "Test recall:  0.7314974182444062\n",
      "Test F1 score:  0.7462686567164178\n",
      "Test confusion matrix: \n",
      "[[148 133]\n",
      " [156 425]]\n"
     ]
    }
   ],
   "source": [
    "perform_decision_tree(X_train, X_test, y_train, y_test, balance='over')"
   ]
  },
  {
   "cell_type": "markdown",
   "id": "111d22e7-e234-49b8-851e-f6c1d93d6641",
   "metadata": {},
   "source": [
    "### SMOTEENN"
   ]
  },
  {
   "cell_type": "code",
   "execution_count": 57,
   "id": "ebf5ff9e-f129-4b27-a335-32c09e35fb02",
   "metadata": {},
   "outputs": [
    {
     "name": "stdout",
     "output_type": "stream",
     "text": [
      "Fitting 7 folds for each of 100 candidates, totalling 700 fits\n",
      "{'criterion': 'entropy',\n",
      " 'max_depth': 20,\n",
      " 'max_features': 'sqrt',\n",
      " 'min_samples_leaf': 4,\n",
      " 'min_samples_split': 5,\n",
      " 'splitter': 'best'}\n",
      "(array([0., 1.]), array([281, 581]))\n",
      "Test ROC AUC:  0.573572377971469\n",
      "Test accuracy:  0.654292343387471\n",
      "Test precision:  0.7166921898928025\n",
      "Test recall:  0.8055077452667814\n",
      "Test F1 score:  0.7585089141004863\n",
      "Test confusion matrix: \n",
      "[[ 96 185]\n",
      " [113 468]]\n"
     ]
    }
   ],
   "source": [
    "perform_decision_tree(X_train, X_test, y_train, y_test, balance='SMOTEEN')"
   ]
  }
 ],
 "metadata": {
  "kernelspec": {
   "display_name": "Python 3",
   "language": "python",
   "name": "python3"
  },
  "language_info": {
   "codemirror_mode": {
    "name": "ipython",
    "version": 3
   },
   "file_extension": ".py",
   "mimetype": "text/x-python",
   "name": "python",
   "nbconvert_exporter": "python",
   "pygments_lexer": "ipython3",
   "version": "3.7.10"
  },
  "toc-autonumbering": false
 },
 "nbformat": 4,
 "nbformat_minor": 5
}
