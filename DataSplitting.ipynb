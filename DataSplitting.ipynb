{
 "cells": [
  {
   "cell_type": "markdown",
   "id": "fed59083-22e6-47fe-8299-7222605fe17e",
   "metadata": {},
   "source": [
    "# Data splitting"
   ]
  },
  {
   "cell_type": "code",
   "execution_count": 1,
   "id": "1629477b-327f-4b62-9682-91f1d60f644c",
   "metadata": {},
   "outputs": [],
   "source": [
    "import time\n",
    "import datetime\n",
    "import numpy as np\n",
    "import pandas as pd\n",
    "from sklearn.model_selection import train_test_split"
   ]
  },
  {
   "cell_type": "code",
   "execution_count": 2,
   "id": "00c7a486-b936-414f-881f-8e18f6b15dce",
   "metadata": {},
   "outputs": [],
   "source": [
    "# DIR = '/content/drive/MyDrive/DentistDataAnalysis/Experiments/'\n",
    "DIR = ''"
   ]
  },
  {
   "cell_type": "code",
   "execution_count": 3,
   "id": "5e616892-d945-43e6-bf39-c1bd6609021a",
   "metadata": {},
   "outputs": [],
   "source": [
    "data = pd.read_csv(DIR+'dataset/final_data.csv')"
   ]
  },
  {
   "cell_type": "code",
   "execution_count": 4,
   "id": "b9aa0268-e28f-40d3-9e60-3cd772f96071",
   "metadata": {},
   "outputs": [],
   "source": [
    "X_cols = ['Que1', 'Que2', 'Que3', 'Que4', 'Que5', 'Que6', 'Que10_a', 'Que10_b', 'Que10_c', 'Que10_d', 'Que10_e', 'Que10_f', 'Que14', 'Que15', 'Que17', 'Que18_age', 'Que19', 'Que20', 'Que21', 'Que22', 'Que_smoking']\n",
    "y_col = ['Que16']"
   ]
  },
  {
   "cell_type": "code",
   "execution_count": 5,
   "id": "33968b6a-858b-4d6c-9484-994cb1a85db2",
   "metadata": {},
   "outputs": [],
   "source": [
    "data_dropped = data.dropna()\n",
    "data_train, data_test = train_test_split(data_dropped, test_size=400, random_state=42)\n",
    "index_to_remove = data_test.index.to_numpy()\n",
    "data_train = data.drop(index_to_remove).reset_index(drop=True)\n",
    "data_test = data_test.reset_index(drop=True)\n",
    "data_train.to_csv(DIR+'dataset/train_test/train_data.csv', index=False)\n",
    "data_test.to_csv(DIR+'dataset/train_test/test_data.csv', index=False)\n",
    "data_test.to_csv(DIR+'dataset/train_val_test/test_data.csv', index=False)"
   ]
  },
  {
   "cell_type": "code",
   "execution_count": 6,
   "id": "977d5084-addb-45c0-9dcb-18876186e915",
   "metadata": {},
   "outputs": [],
   "source": [
    "data_dropped = data_train.dropna()\n",
    "data_train_val, data_val = train_test_split(data_dropped, test_size=200, random_state=42)\n",
    "index_to_remove = data_val.index.to_numpy()\n",
    "data_train = data_train.drop(index_to_remove).reset_index(drop=True)\n",
    "data_val = data_val.reset_index(drop=True)\n",
    "data_train.to_csv(DIR+'dataset/train_val_test/train_data.csv', index=False)\n",
    "data_val.to_csv(DIR+'dataset/train_val_test/val_data.csv', index=False)"
   ]
  }
 ],
 "metadata": {
  "kernelspec": {
   "display_name": "Python 3",
   "language": "python",
   "name": "python3"
  },
  "language_info": {
   "codemirror_mode": {
    "name": "ipython",
    "version": 3
   },
   "file_extension": ".py",
   "mimetype": "text/x-python",
   "name": "python",
   "nbconvert_exporter": "python",
   "pygments_lexer": "ipython3",
   "version": "3.7.10"
  }
 },
 "nbformat": 4,
 "nbformat_minor": 5
}
